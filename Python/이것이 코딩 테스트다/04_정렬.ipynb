{
 "cells": [
  {
   "cell_type": "markdown",
   "metadata": {},
   "source": [
    "#정렬\n",
    "## 예제\n",
    "### 선택정렬"
   ]
  },
  {
   "cell_type": "code",
   "execution_count": 5,
   "metadata": {},
   "outputs": [
    {
     "data": {
      "text/plain": [
       "[0, 1, 2, 3, 4, 5, 6, 7, 8, 9]"
      ]
     },
     "execution_count": 5,
     "metadata": {},
     "output_type": "execute_result"
    }
   ],
   "source": [
    "arr =[7,5,9,0,3,1,6,2,4,8]\n",
    "\n",
    "for i in range(len(arr)):\n",
    "    min_index = i\n",
    "    for j in range(i+1,len(arr)):\n",
    "        if arr[min_index]>arr[j]:\n",
    "            min_index = j \n",
    "    \n",
    "    arr[i],arr[min_index] = arr[min_index],arr[i]\n",
    "arr"
   ]
  },
  {
   "cell_type": "markdown",
   "metadata": {},
   "source": [
    "## 삽입정렬"
   ]
  },
  {
   "cell_type": "code",
   "execution_count": 7,
   "metadata": {},
   "outputs": [
    {
     "data": {
      "text/plain": [
       "[0, 1, 2, 3, 4, 5, 6, 7, 8, 9]"
      ]
     },
     "execution_count": 7,
     "metadata": {},
     "output_type": "execute_result"
    }
   ],
   "source": [
    "arr =[7,5,9,0,3,1,6,2,4,8]\n",
    "\n",
    "for i in range(1,len(arr)):\n",
    "    for j in range(i,0,-1):\n",
    "        if arr[j]<arr[j-1]:\n",
    "            arr[j-1],arr[j] = arr[j],arr[j-1]\n",
    "        else:\n",
    "            break\n",
    "\n",
    "arr"
   ]
  },
  {
   "cell_type": "markdown",
   "metadata": {},
   "source": [
    "### 퀵정렬"
   ]
  },
  {
   "cell_type": "code",
   "execution_count": 11,
   "metadata": {},
   "outputs": [
    {
     "data": {
      "text/plain": [
       "[0, 1, 2, 3, 4, 5, 6, 7, 8, 9]"
      ]
     },
     "execution_count": 11,
     "metadata": {},
     "output_type": "execute_result"
    }
   ],
   "source": [
    "arr =[7,5,9,0,3,1,6,2,4,8]\n",
    "\n",
    "def quick_sort(arr,start,end):\n",
    "    if start >= end:\n",
    "        return\n",
    "    pivot = start\n",
    "    left = start +1\n",
    "    right = end\n",
    "    while left <=right:\n",
    "        while left<= end and arr[left]<=arr[pivot]:\n",
    "            left += 1\n",
    "        while right > start and arr[right]>=arr[pivot]:\n",
    "            right -=1\n",
    "        if left>right:\n",
    "            arr[right],arr[pivot] = arr[pivot],arr[right]\n",
    "        else:\n",
    "            arr[left],arr[right] = arr[right],arr[left]\n",
    "    quick_sort(arr,start,right-1)\n",
    "    quick_sort(arr,right+1,end)\n",
    "\n",
    "quick_sort(arr,0,len(arr)-1)\n",
    "\n",
    "arr"
   ]
  },
  {
   "cell_type": "code",
   "execution_count": 19,
   "metadata": {},
   "outputs": [
    {
     "data": {
      "text/plain": [
       "[0, 1, 2, 3, 4, 5, 6, 7, 8, 9]"
      ]
     },
     "execution_count": 19,
     "metadata": {},
     "output_type": "execute_result"
    }
   ],
   "source": [
    "arr =[7,5,9,0,3,1,6,2,4,8]\n",
    "\n",
    "def quick_sort(arr):\n",
    "    if len(arr)<=1:\n",
    "        return arr\n",
    "    \n",
    "    pivot = arr[0]\n",
    "    tail = arr[1:]\n",
    "\n",
    "    left_side = [x for x in tail if x<=pivot]\n",
    "    right_side = [x for x in tail if x>pivot]\n",
    "\n",
    "    return quick_sort(left_side) +[pivot] + quick_sort(right_side)\n",
    "\n",
    "quick_sort(arr)\n"
   ]
  },
  {
   "cell_type": "markdown",
   "metadata": {},
   "source": [
    "## 실전문제\n",
    "### 위에서 아래로"
   ]
  },
  {
   "cell_type": "code",
   "execution_count": 20,
   "metadata": {},
   "outputs": [
    {
     "data": {
      "text/plain": [
       "[27, 15, 12]"
      ]
     },
     "execution_count": 20,
     "metadata": {},
     "output_type": "execute_result"
    }
   ],
   "source": [
    "a = [15,27,12]\n",
    "\n",
    "sorted(a,reverse = True)"
   ]
  },
  {
   "cell_type": "markdown",
   "metadata": {},
   "source": [
    "## 성적이 낮은순서로 학생 출력하기\n",
    "- 풀이시간 20분 \n",
    "- 소요시간 00분"
   ]
  },
  {
   "cell_type": "code",
   "execution_count": 32,
   "metadata": {},
   "outputs": [
    {
     "name": "stdout",
     "output_type": "stream",
     "text": [
      "이순식 홍길동 "
     ]
    }
   ],
   "source": [
    "score = [['홍길동',93],['이순신',79]]\n",
    "\n",
    "score = sorted(score, key= lambda x : x[1])\n",
    "\n",
    "for i in score:\n",
    "    print(i[0], end = ' ')"
   ]
  },
  {
   "cell_type": "markdown",
   "metadata": {},
   "source": [
    "## 두 배열의 원소 교체\n",
    "- 풀이시간 20분 \n",
    "- 소요시간 00분"
   ]
  },
  {
   "cell_type": "code",
   "execution_count": 34,
   "metadata": {},
   "outputs": [
    {
     "data": {
      "text/plain": [
       "26"
      ]
     },
     "execution_count": 34,
     "metadata": {},
     "output_type": "execute_result"
    }
   ],
   "source": [
    "n,k = 5,3\n",
    "a = [1,2,5,4,3]\n",
    "b = [5,5,6,6,5]\n",
    "\n",
    "a.sort()\n",
    "b.sort(reverse=True)\n",
    "\n",
    "for i in range(k):\n",
    "    a[i] = b[i]\n",
    "\n",
    "sum(a)"
   ]
  },
  {
   "cell_type": "markdown",
   "metadata": {},
   "source": [
    "## 기출문제\n",
    "### 안테나\n",
    "- 풀이시간 20분\n",
    "- 소요시간 00분"
   ]
  },
  {
   "cell_type": "code",
   "execution_count": 39,
   "metadata": {},
   "outputs": [
    {
     "data": {
      "text/plain": [
       "5"
      ]
     },
     "execution_count": 39,
     "metadata": {},
     "output_type": "execute_result"
    }
   ],
   "source": [
    "n =4 \n",
    "home = [5,1,7,9]\n",
    "\n",
    "distance = [] \n",
    "for i in home:\n",
    "    result = 0\n",
    "    for j in home:\n",
    "        result += abs(i-j)\n",
    "    distance.append([i,result])\n",
    "\n",
    "distance.sort(key = lambda x : x[1])\n",
    "distance[0][0]"
   ]
  },
  {
   "cell_type": "markdown",
   "metadata": {},
   "source": [
    "## 실패율\n",
    "- 풀이시간 20분\n",
    "- 소요시간 10분"
   ]
  },
  {
   "cell_type": "code",
   "execution_count": 42,
   "metadata": {},
   "outputs": [
    {
     "data": {
      "text/plain": [
       "4"
      ]
     },
     "execution_count": 42,
     "metadata": {},
     "output_type": "execute_result"
    }
   ],
   "source": [
    "def solution(N, stages):\n",
    "    answer = []\n",
    "    total_user = len(stages)\n",
    "    for i in range(1,N+1):\n",
    "        uncompleted = stages.count(i)\n",
    "\n",
    "        if uncompleted <= 0:\n",
    "            fail = 0 \n",
    "        else:\n",
    "            fail = uncompleted/total_user\n",
    "\n",
    "        total_user -= uncompleted\n",
    "        answer.append([fail,i])\n",
    "\n",
    "    answer.sort(key = lambda x : x[0], reverse = True)\n",
    "    answer = [x[1] for x in answer ]\n",
    "\n",
    "    return answer"
   ]
  },
  {
   "cell_type": "markdown",
   "metadata": {},
   "source": [
    "## 카드 정렬하기\n",
    "- 풀이시간 30분\n",
    "- 소요시간 00분"
   ]
  },
  {
   "cell_type": "code",
   "execution_count": 68,
   "metadata": {},
   "outputs": [
    {
     "data": {
      "text/plain": [
       "220"
      ]
     },
     "execution_count": 68,
     "metadata": {},
     "output_type": "execute_result"
    }
   ],
   "source": [
    "n = 4\n",
    "\n",
    "cards = [10, 20, 40, 50]\n",
    "\n",
    "result = 10\n",
    "answer = []\n",
    "for i in range(1,n):\n",
    "    result = result + cards[i]\n",
    "    answer.append(result)\n",
    "sum(answer)"
   ]
  },
  {
   "cell_type": "code",
   "execution_count": 82,
   "metadata": {},
   "outputs": [
    {
     "data": {
      "text/plain": [
       "220"
      ]
     },
     "execution_count": 82,
     "metadata": {},
     "output_type": "execute_result"
    }
   ],
   "source": [
    "import heapq as hq \n",
    "\n",
    "n=4 \n",
    "cards = [10,20,40,50]\n",
    "\n",
    "hq.heapify(cards)\n",
    "\n",
    "answer = 0\n",
    "while len(cards) !=1:\n",
    "    one = hq.heappop(cards)\n",
    "    two = hq.heappop(cards)\n",
    "    result = one + two\n",
    "    hq.heappush(cards,result)\n",
    "    answer += result\n",
    "answer\n"
   ]
  }
 ],
 "metadata": {
  "kernelspec": {
   "display_name": "base",
   "language": "python",
   "name": "python3"
  },
  "language_info": {
   "codemirror_mode": {
    "name": "ipython",
    "version": 3
   },
   "file_extension": ".py",
   "mimetype": "text/x-python",
   "name": "python",
   "nbconvert_exporter": "python",
   "pygments_lexer": "ipython3",
   "version": "3.1.0"
  }
 },
 "nbformat": 4,
 "nbformat_minor": 2
}
