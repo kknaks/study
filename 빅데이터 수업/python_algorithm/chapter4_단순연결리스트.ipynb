{
 "cells": [
  {
   "attachments": {},
   "cell_type": "markdown",
   "metadata": {},
   "source": [
    "## 1. 단순연결리스트 개념 \n",
    "개념 : 데이터와 노드 개념으로 구성\n",
    "\n",
    "a --> b --> c --> d\n",
    "\n",
    "노드에서 연결된 링크값의 수정을 통해 원하는 순서 변경 가능 -> 오버헤드 방지\n"
   ]
  },
  {
   "attachments": {},
   "cell_type": "markdown",
   "metadata": {},
   "source": [
    "## 2. 단순연결 리스트의 구현"
   ]
  },
  {
   "cell_type": "code",
   "execution_count": 1,
   "metadata": {},
   "outputs": [],
   "source": [
    "#1. 노드 생성과 연결\n",
    "class Node():\n",
    "    def __init__(self):\n",
    "        self.data = None\n",
    "        self.link = None"
   ]
  },
  {
   "cell_type": "code",
   "execution_count": 11,
   "metadata": {},
   "outputs": [],
   "source": [
    "#2. 연결리스트생성\n",
    "node1 = Node()\n",
    "node1.data = '다현'\n",
    "\n",
    "node2 = Node()\n",
    "node2.data = '정연'\n",
    "node1.link = node2\n",
    "\n",
    "node3 = Node()\n",
    "node3.data = '쯔위'\n",
    "node2.link = node3\n",
    "\n",
    "node4 = Node()\n",
    "node4.data = '시나'\n",
    "node3.link = node4\n",
    "\n",
    "node5 = Node()\n",
    "node5.data = '지효'\n",
    "node4.link = node5\n"
   ]
  },
  {
   "cell_type": "code",
   "execution_count": 12,
   "metadata": {},
   "outputs": [
    {
     "name": "stdout",
     "output_type": "stream",
     "text": [
      "다현,정연,쯔위,시나,지효,"
     ]
    }
   ],
   "source": [
    "print(node1.data, end = ',' )\n",
    "print(node1.link.data, end = ',' )\n",
    "print(node1.link.link.data, end = ',' )\n",
    "print(node1.link.link.link.data, end = ',' )\n",
    "print(node1.link.link.link.link.data, end = ',' )"
   ]
  },
  {
   "cell_type": "code",
   "execution_count": 13,
   "metadata": {},
   "outputs": [
    {
     "name": "stdout",
     "output_type": "stream",
     "text": [
      "다현 정연 쯔위 시나 지효 "
     ]
    }
   ],
   "source": [
    "current = node1\n",
    "print(current.data, end =' ')\n",
    "while current.link !=None :\n",
    "    current = current.link \n",
    "    print(current.data, end = ' ')\n"
   ]
  },
  {
   "cell_type": "code",
   "execution_count": 16,
   "metadata": {},
   "outputs": [],
   "source": [
    "#3. 노드삽입\n",
    "newNode = Node()\n",
    "newNode.data = '재남'\n",
    "newNode.link = node2.link\n",
    "node2.link = newNode"
   ]
  },
  {
   "cell_type": "code",
   "execution_count": 17,
   "metadata": {},
   "outputs": [
    {
     "name": "stdout",
     "output_type": "stream",
     "text": [
      "다현 정연 재남 쯔위 시나 지효 "
     ]
    }
   ],
   "source": [
    "current = node1\n",
    "print(current.data, end =' ')\n",
    "while current.link !=None :\n",
    "    current = current.link \n",
    "    print(current.data, end = ' ')\n"
   ]
  },
  {
   "cell_type": "code",
   "execution_count": 18,
   "metadata": {},
   "outputs": [],
   "source": [
    "#4. 노드 삭제\n",
    "node2.link = newNode.link\n",
    "del(newNode)"
   ]
  },
  {
   "cell_type": "code",
   "execution_count": 19,
   "metadata": {},
   "outputs": [
    {
     "name": "stdout",
     "output_type": "stream",
     "text": [
      "다현 정연 쯔위 시나 지효 "
     ]
    }
   ],
   "source": [
    "current = node1\n",
    "print(current.data, end =' ')\n",
    "while current.link !=None :\n",
    "    current = current.link \n",
    "    print(current.data, end = ' ')\n"
   ]
  },
  {
   "attachments": {},
   "cell_type": "markdown",
   "metadata": {},
   "source": [
    "## 3.  단순 연결 리스트의 일반 구현\n"
   ]
  },
  {
   "attachments": {},
   "cell_type": "markdown",
   "metadata": {},
   "source": [
    "1) 연결리스트 생성"
   ]
  },
  {
   "cell_type": "code",
   "execution_count": 31,
   "metadata": {},
   "outputs": [
    {
     "name": "stdout",
     "output_type": "stream",
     "text": [
      "다현 정연 쯔위 사나 지호 \n"
     ]
    }
   ],
   "source": [
    "## 클래스와 함수 선언\n",
    "class Node():\n",
    "    def __init__(self):\n",
    "        self.data = None\n",
    "        self.link = None\n",
    "\n",
    "def printNodes(start):\n",
    "    current = start\n",
    "    if current == None:\n",
    "        return\n",
    "    print(current.data, end =' ')\n",
    "\n",
    "    while current.link != None:\n",
    "        current = current.link\n",
    "        print(current.data, end =' ')\n",
    "    print()\n",
    "\n",
    "##전역변수 선언 부분\n",
    "memory =  []\n",
    "head, current, pre = None,None,None\n",
    "dataArray = ['다현','정연','쯔위','사나','지호']\n",
    "\n",
    "##매인 코드 선언 부분\n",
    "if __name__ == '__main__':\n",
    "\n",
    "    node = Node()  #첫번째 노드\n",
    "    node.data = dataArray[0]\n",
    "    head = node\n",
    "    memory.append(node)\n",
    "\n",
    "    for data in dataArray[1:]:\n",
    "        pre = node \n",
    "        node = Node()\n",
    "        node.data = data\n",
    "        pre.link = node\n",
    "        memory.append(node)\n",
    "\n",
    "    printNodes(head)"
   ]
  },
  {
   "attachments": {},
   "cell_type": "markdown",
   "metadata": {},
   "source": [
    "2) 리스트 추가 생성"
   ]
  },
  {
   "cell_type": "code",
   "execution_count": 41,
   "metadata": {},
   "outputs": [
    {
     "name": "stdout",
     "output_type": "stream",
     "text": [
      "다현 정연 쯔위 사나 지호 \n",
      "화사 다현 정연 쯔위 사나 지호 \n",
      "화사 다현 정연 쯔위 솔라 사나 지호 \n",
      "화사 다현 정연 쯔위 솔라 사나 지호 문별 \n"
     ]
    }
   ],
   "source": [
    "## 클래스와 함수 선언\n",
    "class Node():\n",
    "    def __init__(self):\n",
    "        self.data = None\n",
    "        self.link = None\n",
    "\n",
    "def printNodes(start):\n",
    "    current = start\n",
    "    if current == None:\n",
    "        return\n",
    "    print(current.data, end =' ')\n",
    "\n",
    "    while current.link != None:\n",
    "        current = current.link\n",
    "        print(current.data, end =' ')\n",
    "    print()\n",
    "\n",
    "## \n",
    "def insertNode(findData, insertData):\n",
    "    global memory, head, current, pre\n",
    "\n",
    "    if head.data == findData:\n",
    "        node = Node()\n",
    "        node.data = insertData\n",
    "        node.link = head\n",
    "        head = node\n",
    "        return\n",
    "    \n",
    "    current = head\n",
    "    while current.link != None:\n",
    "        pre = current\n",
    "        current = current.link\n",
    "        if current.data == findData:\n",
    "            node = Node()\n",
    "            node.data = insertData\n",
    "            node.link = current\n",
    "            pre.link = node\n",
    "            return\n",
    "        \n",
    "    node = Node()\n",
    "    node.data = insertData\n",
    "    current.link = node\n",
    "\n",
    "##전역변수 선언 부분\n",
    "memory =  []\n",
    "head, current, pre = None,None,None\n",
    "dataArray = ['다현','정연','쯔위','사나','지호']\n",
    "\n",
    "##매인 코드 선언 부분\n",
    "if __name__ == '__main__':\n",
    "\n",
    "    node = Node()  #첫번째 노드\n",
    "    node.data = dataArray[0]\n",
    "    head = node\n",
    "    memory.append(node)\n",
    "\n",
    "    for data in dataArray[1:]:\n",
    "        pre = node \n",
    "        node = Node()\n",
    "        node.data = data\n",
    "        pre.link = node\n",
    "        memory.append(node)\n",
    "\n",
    "    printNodes(head)\n",
    "\n",
    "    insertNode('다현','화사')\n",
    "    printNodes(head)\n",
    "\n",
    "    insertNode('사나','솔라')\n",
    "    printNodes(head)\n",
    "\n",
    "    insertNode('재남','문별')\n",
    "    printNodes(head)\n",
    "\n"
   ]
  },
  {
   "attachments": {},
   "cell_type": "markdown",
   "metadata": {},
   "source": [
    "3) 리스트 삭제 생성"
   ]
  },
  {
   "cell_type": "code",
   "execution_count": 44,
   "metadata": {},
   "outputs": [
    {
     "name": "stdout",
     "output_type": "stream",
     "text": [
      "다현 정연 쯔위 사나 지호 \n",
      "화사 다현 정연 쯔위 사나 지호 \n",
      "화사 다현 정연 쯔위 솔라 사나 지호 \n",
      "화사 다현 정연 쯔위 솔라 사나 지호 문별 \n",
      "화사 정연 쯔위 솔라 사나 지호 문별 \n",
      "정연 쯔위 솔라 사나 지호 문별 \n",
      "정연 쯔위 솔라 사나 지호 \n"
     ]
    }
   ],
   "source": [
    "## 클래스와 함수 선언\n",
    "class Node():\n",
    "    def __init__(self):\n",
    "        self.data = None\n",
    "        self.link = None\n",
    "\n",
    "def printNodes(start):\n",
    "    current = start\n",
    "    if current == None:\n",
    "        return\n",
    "    print(current.data, end =' ')\n",
    "\n",
    "    while current.link != None:\n",
    "        current = current.link\n",
    "        print(current.data, end =' ')\n",
    "    print()\n",
    "\n",
    "## 리스트 생성 함수\n",
    "def insertNode(findData, insertData):\n",
    "    global memory, head, current, pre\n",
    "\n",
    "    if head.data == findData:  ## 첫번째 추가\n",
    "        node = Node()\n",
    "        node.data = insertData\n",
    "        node.link = head\n",
    "        head = node\n",
    "        return\n",
    "    \n",
    "    current = head\n",
    "    while current.link != None:  ##중간 추가\n",
    "        pre = current\n",
    "        current = current.link\n",
    "        if current.data == findData:\n",
    "            node = Node()\n",
    "            node.data = insertData\n",
    "            node.link = current\n",
    "            pre.link = node\n",
    "            return\n",
    "        \n",
    "    node = Node()     #마지막 추가\n",
    "    node.data = insertData\n",
    "    current.link = node\n",
    "\n",
    "## 리스트 삭제함수\n",
    "def deleteNode(deleteData):\n",
    "    global memory, head, current, pre\n",
    "\n",
    "    if head.data == deleteData:\n",
    "        current = head\n",
    "        head = head.link\n",
    "        del(current)\n",
    "        return\n",
    "    \n",
    "    current = head\n",
    "    while current.link != None:\n",
    "        pre = current \n",
    "        current = current.link\n",
    "        if current.data == deleteData:\n",
    "            pre.link =current.link\n",
    "            del(current)\n",
    "            return\n",
    "\n",
    "\n",
    "##전역변수 선언 부분\n",
    "memory =  []\n",
    "head, current, pre = None,None,None\n",
    "dataArray = ['다현','정연','쯔위','사나','지호']\n",
    "\n",
    "##매인 코드 선언 부분\n",
    "if __name__ == '__main__':\n",
    "\n",
    "    node = Node()  #첫번째 노드\n",
    "    node.data = dataArray[0]\n",
    "    head = node\n",
    "    memory.append(node)\n",
    "\n",
    "    for data in dataArray[1:]:\n",
    "        pre = node \n",
    "        node = Node()\n",
    "        node.data = data\n",
    "        pre.link = node\n",
    "        memory.append(node)\n",
    "\n",
    "    printNodes(head)\n",
    "\n",
    "    insertNode('다현','화사')\n",
    "    printNodes(head)\n",
    "\n",
    "    insertNode('사나','솔라')\n",
    "    printNodes(head)\n",
    "\n",
    "    insertNode('재남','문별')\n",
    "    printNodes(head)\n",
    "\n",
    "    deleteNode(\"다현\")\n",
    "    printNodes(head)\n",
    "\n",
    "    deleteNode(\"화사\")\n",
    "    printNodes(head)\n",
    "\n",
    "    deleteNode(\"문별\")\n",
    "    printNodes(head)\n",
    "\n",
    "\n",
    "\n"
   ]
  },
  {
   "attachments": {},
   "cell_type": "markdown",
   "metadata": {},
   "source": [
    "## 4.단순연결 리스트의 응용"
   ]
  },
  {
   "cell_type": "code",
   "execution_count": null,
   "metadata": {},
   "outputs": [],
   "source": [
    "##전역변수 선언부분\n",
    "\n",
    "memory = []\n",
    "head, current, pre = None,None,None\n",
    "dataArray = [['지민','010-1111-1111'],['정국','010-2222-2222'],['뷔','010-3333-3333'],['슈가','010-4444-4444'],['진','010-5555-5555']]"
   ]
  }
 ],
 "metadata": {
  "kernelspec": {
   "display_name": "base",
   "language": "python",
   "name": "python3"
  },
  "language_info": {
   "codemirror_mode": {
    "name": "ipython",
    "version": 3
   },
   "file_extension": ".py",
   "mimetype": "text/x-python",
   "name": "python",
   "nbconvert_exporter": "python",
   "pygments_lexer": "ipython3",
   "version": "3.10.9"
  },
  "orig_nbformat": 4
 },
 "nbformat": 4,
 "nbformat_minor": 2
}
