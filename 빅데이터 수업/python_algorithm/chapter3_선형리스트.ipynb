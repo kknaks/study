{
 "cells": [
  {
   "cell_type": "code",
   "execution_count": 2,
   "metadata": {},
   "outputs": [],
   "source": [
    "katok = ['a','b','c','d','e']\n",
    "katok.append(None)\n",
    "katok"
   ]
  },
  {
   "cell_type": "code",
   "execution_count": 4,
   "metadata": {},
   "outputs": [],
   "source": [
    "katok[5] = \"f\""
   ]
  },
  {
   "cell_type": "code",
   "execution_count": 23,
   "metadata": {},
   "outputs": [
    {
     "data": {
      "text/plain": [
       "['a', 'b', 'c', 'd', 'e']"
      ]
     },
     "execution_count": 23,
     "metadata": {},
     "output_type": "execute_result"
    }
   ],
   "source": [
    "katok = []\n",
    "\n",
    "def add_data(friend):\n",
    "    katok.append(None)\n",
    "    KLen = len(katok)\n",
    "    katok[KLen - 1] = friend\n",
    "\n",
    "add_data('a')\n",
    "add_data('b')\n",
    "add_data('c')\n",
    "add_data('d')\n",
    "add_data('e')\n",
    "\n",
    "katok"
   ]
  },
  {
   "cell_type": "code",
   "execution_count": 21,
   "metadata": {},
   "outputs": [
    {
     "data": {
      "text/plain": [
       "['a', 'b', 'c', 'd', 'e', None]"
      ]
     },
     "execution_count": 21,
     "metadata": {},
     "output_type": "execute_result"
    }
   ],
   "source": [
    "katok.append(None)\n",
    "katok"
   ]
  },
  {
   "cell_type": "code",
   "execution_count": 22,
   "metadata": {},
   "outputs": [
    {
     "data": {
      "text/plain": [
       "['a', 'b', 'c', 'd', None, 'e']"
      ]
     },
     "execution_count": 22,
     "metadata": {},
     "output_type": "execute_result"
    }
   ],
   "source": [
    "katok[5] = katok[4]\n",
    "katok[4] = None\n",
    "katok"
   ]
  },
  {
   "cell_type": "code",
   "execution_count": 46,
   "metadata": {},
   "outputs": [
    {
     "data": {
      "text/plain": [
       "['a', 'b', 'c', 'd', 'e', 'CC']"
      ]
     },
     "execution_count": 46,
     "metadata": {},
     "output_type": "execute_result"
    }
   ],
   "source": [
    "# n번째 위치에 변수 삽입\n",
    "katok = ['a', 'b', 'c', 'd', 'e']\n",
    "\n",
    "def insert_data(position,friend):\n",
    "    katok.append(None)\n",
    "    klen = len(katok)-1\n",
    "    \n",
    "    if position<0 or position>len(katok):\n",
    "        print(\"Error\")\n",
    "        return\n",
    "\n",
    "    for i in range(klen,position-1,-1):\n",
    "        katok[i] = katok[i-1]\n",
    "        katok[i-1] = None\n",
    "    katok[position-1] = friend\n",
    "    return katok\n",
    "\n",
    "insert_data(6,\"CC\")"
   ]
  },
  {
   "cell_type": "code",
   "execution_count": 76,
   "metadata": {},
   "outputs": [
    {
     "name": "stdout",
     "output_type": "stream",
     "text": [
      "Error\n"
     ]
    }
   ],
   "source": [
    "#n번째 위치에 변수 삭제\n",
    "katok = ['a', 'b', 'c', 'd', 'e']\n",
    "\n",
    "def delete_data(position):\n",
    "    if position<0 or position>len(katok):\n",
    "        print(\"Error\")\n",
    "        return\n",
    "\n",
    "    katok[position-1] = None\n",
    "    klen = len(katok) \n",
    "\n",
    "    for i in range(position,klen):\n",
    "        katok[i-1] = katok[i]\n",
    "        katok[i] = None\n",
    "    del(katok[klen-1])\n",
    "    return katok\n",
    "\n",
    "delete_data(6)"
   ]
  },
  {
   "cell_type": "code",
   "execution_count": 83,
   "metadata": {},
   "outputs": [
    {
     "name": "stdout",
     "output_type": "stream",
     "text": [
      "choose number from 1 to 4\n",
      "choose number from 1 to 4\n",
      "choose number from 1 to 4\n",
      "[]\n"
     ]
    }
   ],
   "source": [
    "##함수 선언 부부\n",
    "def add_data(friend):\n",
    "    katok.append(None)\n",
    "    KLen = len(katok)\n",
    "    katok[KLen - 1] = friend\n",
    "\n",
    "def insert_data(position,friend):\n",
    "    katok.append(None)\n",
    "    klen = len(katok)-1\n",
    "    \n",
    "    if position<0 or position>len(katok):\n",
    "        print(\"Error\")\n",
    "        return\n",
    "\n",
    "    for i in range(klen,position-1,-1):\n",
    "        katok[i] = katok[i-1]\n",
    "        katok[i-1] = None\n",
    "    katok[position-1] = friend\n",
    "    return katok\n",
    "\n",
    "def delete_data(position):\n",
    "    if position<0 or position>len(katok):\n",
    "        print(\"Error\")\n",
    "        return\n",
    "\n",
    "    katok[position-1] = None\n",
    "    klen = len(katok) \n",
    "\n",
    "    for i in range(position,klen):\n",
    "        katok[i-1] = katok[i]\n",
    "        katok[i] = None\n",
    "    del(katok[klen-1])\n",
    "    return katok\n",
    "\n",
    "##전역변수 선언부분 \n",
    "katok = [] \n",
    "select = -1\n",
    "\n",
    "#메인 코드 부분\n",
    "if __name__ == \"__main__\":\n",
    "    while(select !=4):\n",
    "        select = int(input(\"choose number (1:add, 2:insurt, 3:delete, 4:end)--->>>\"))\n",
    "\n",
    "        if (select == 1):\n",
    "            data = input(\"add data -->> \")\n",
    "            add_data(data)\n",
    "            print(katok)\n",
    "\n",
    "        if (select == 2):\n",
    "            pos = int(input(\"choose position-->> \"))\n",
    "            data = input(\"add data -->> \")\n",
    "            insert_data(pos,data)\n",
    "            print(katok)\n",
    "\n",
    "        if (select == 3):\n",
    "            pos = int(input(\"choose position-->> \"))\n",
    "            delete_data(pos)\n",
    "            print(katok)\n",
    "\n",
    "        elif (select == 4):\n",
    "            print(katok)\n",
    "            exit\n",
    "\n",
    "        else:\n",
    "            print(\"choose number from 1 to 4\")\n"
   ]
  }
 ],
 "metadata": {
  "kernelspec": {
   "display_name": "base",
   "language": "python",
   "name": "python3"
  },
  "language_info": {
   "codemirror_mode": {
    "name": "ipython",
    "version": 3
   },
   "file_extension": ".py",
   "mimetype": "text/x-python",
   "name": "python",
   "nbconvert_exporter": "python",
   "pygments_lexer": "ipython3",
   "version": "3.10.9"
  },
  "orig_nbformat": 4
 },
 "nbformat": 4,
 "nbformat_minor": 2
}
