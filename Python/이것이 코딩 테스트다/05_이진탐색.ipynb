{
 "cells": [
  {
   "cell_type": "markdown",
   "metadata": {},
   "source": [
    "# 이진탐색\n",
    "## 실전문제\n",
    "### 부품찾기\n",
    "- 풀이시간 30분\n",
    "- 소요시간 00분"
   ]
  },
  {
   "cell_type": "code",
   "execution_count": 5,
   "metadata": {},
   "outputs": [
    {
     "name": "stdout",
     "output_type": "stream",
     "text": [
      "no\n",
      "yes\n",
      "yes\n"
     ]
    }
   ],
   "source": [
    "import heapq as hq\n",
    "\n",
    "n = 5\n",
    "num = [8,3,7,9,2]\n",
    "\n",
    "m = 3\n",
    "request = [5,7,9]\n",
    "\n",
    "hq.heapify(num)\n",
    "\n",
    "for x in request:\n",
    "    if x in num:\n",
    "        print('yes')\n",
    "    else:\n",
    "        print('no')"
   ]
  },
  {
   "cell_type": "code",
   "execution_count": 6,
   "metadata": {},
   "outputs": [
    {
     "name": "stdout",
     "output_type": "stream",
     "text": [
      "no\n",
      "yes\n",
      "yes\n"
     ]
    }
   ],
   "source": [
    "#이진탐색\n",
    "def binary_search(arr, target , start, end):\n",
    "    while start<=end:\n",
    "        mid = (start + end)//2\n",
    "\n",
    "        if arr[mid] ==target:\n",
    "            return mid\n",
    "\n",
    "        elif arr[mid]>target:\n",
    "            end = mid -1\n",
    "\n",
    "        else :\n",
    "            start = mid + 1\n",
    "    return None\n",
    "\n",
    "arr = [8,3,7,9,2]\n",
    "arr.sort()\n",
    "\n",
    "for i in request:\n",
    "    result = binary_search(arr, i , 0, len(arr)-1)\n",
    "    if result != None:\n",
    "        print('yes')\n",
    "    else:\n",
    "        print('no')\n"
   ]
  },
  {
   "cell_type": "code",
   "execution_count": 7,
   "metadata": {},
   "outputs": [
    {
     "name": "stdout",
     "output_type": "stream",
     "text": [
      "no\n",
      "yes\n",
      "yes\n"
     ]
    }
   ],
   "source": [
    "#계수정렬\n",
    "arr = [0]*10001\n",
    "for i in num:\n",
    "    arr[i] = 1\n",
    "\n",
    "for j in request:\n",
    "    if arr[j] == 1:\n",
    "        print('yes')\n",
    "    else:\n",
    "        print('no')\n"
   ]
  },
  {
   "cell_type": "markdown",
   "metadata": {},
   "source": [
    "##  떡볶이 떡 만들기 \n",
    "- 풀이시간 40분\n",
    "- 소요시간 00분"
   ]
  },
  {
   "cell_type": "code",
   "execution_count": null,
   "metadata": {},
   "outputs": [],
   "source": [
    "[4,5,5,6,8]\n",
    "[19, 15, 10, 17, 26]"
   ]
  },
  {
   "cell_type": "code",
   "execution_count": 34,
   "metadata": {},
   "outputs": [
    {
     "data": {
      "text/plain": [
       "20"
      ]
     },
     "execution_count": 34,
     "metadata": {},
     "output_type": "execute_result"
    }
   ],
   "source": [
    "(19+22)//2"
   ]
  },
  {
   "cell_type": "code",
   "execution_count": 52,
   "metadata": {},
   "outputs": [
    {
     "name": "stdout",
     "output_type": "stream",
     "text": [
      "0 9 19\n",
      "10 14 19\n",
      "15 17 19\n",
      "15 15 16\n",
      "16 16 16\n"
     ]
    },
    {
     "data": {
      "text/plain": [
       "15"
      ]
     },
     "execution_count": 52,
     "metadata": {},
     "output_type": "execute_result"
    }
   ],
   "source": [
    "n, m = 5, 6 \n",
    "dduk = [19, 15, 10, 17]\n",
    "\n",
    "start = 0 \n",
    "end = max(dduk)\n",
    "\n",
    "answer = 0 \n",
    "while start <= end:\n",
    "    mid = (end+start)//2\n",
    "    print(start,mid,end)\n",
    "    result = 0 \n",
    "    for i in dduk:\n",
    "        slice = i - mid\n",
    "        if slice >0:\n",
    "            result += slice\n",
    "\n",
    "    if result < m:\n",
    "        end = mid -1 \n",
    "    else:\n",
    "        answer = mid\n",
    "        start = mid +1\n",
    "answer"
   ]
  },
  {
   "cell_type": "markdown",
   "metadata": {},
   "source": [
    "## 기출문제\n",
    "### 정렬된 배열에서 특정 수의 개수 구하기\n",
    "- 풀이시간 30분 \n",
    "- 소요시간 00분"
   ]
  },
  {
   "cell_type": "code",
   "execution_count": 54,
   "metadata": {},
   "outputs": [
    {
     "data": {
      "text/plain": [
       "4"
      ]
     },
     "execution_count": 54,
     "metadata": {},
     "output_type": "execute_result"
    }
   ],
   "source": [
    "n,x = 7,2\n",
    "arr = [1,1,2,2,2,2,3]\n",
    "\n",
    "answer = arr.count(x)\n",
    "if answer == 0:\n",
    "    answer = -1 \n",
    "answer"
   ]
  },
  {
   "cell_type": "code",
   "execution_count": 146,
   "metadata": {},
   "outputs": [
    {
     "data": {
      "text/plain": [
       "4"
      ]
     },
     "execution_count": 146,
     "metadata": {},
     "output_type": "execute_result"
    }
   ],
   "source": [
    "n,x = 7,2\n",
    "arr = [1,1,2,2,2,2,3]\n",
    "\n",
    "target =x \n",
    "n = len(arr)\n",
    "start = 0\n",
    "end = len(arr)-1\n",
    "\n",
    "def first(arr,target, start, end):\n",
    "    if start > end:\n",
    "        return None\n",
    "    mid = (start+end)//2\n",
    "    if (mid == 0 or target>arr[mid-1]) and arr[mid] == target:\n",
    "        return mid\n",
    "    elif arr[mid]<target:\n",
    "        return first(arr,target,mid+1,end)\n",
    "    else:\n",
    "        return first(arr,target,start,mid-1)\n",
    "\n",
    "\n",
    "def last(arr,target, start, end):\n",
    "    if start > end:\n",
    "        return None\n",
    "    mid = (start+end)//2\n",
    "    if (mid == n-1 or target<arr[mid+1]) and arr[mid] == target:\n",
    "        return mid\n",
    "    elif arr[mid]>target:\n",
    "        return last(arr,target,start,mid-1)\n",
    "    else:\n",
    "        return last(arr,target, mid+1,end)\n",
    "\n",
    "a = first(arr,target,start,end)\n",
    "\n",
    "if a == None:\n",
    "    count = 0 \n",
    "b = last(arr,target,start,end)\n",
    "\n",
    "count = b-a+1\n",
    "if count == 0:\n",
    "    count = -1\n",
    "count"
   ]
  },
  {
   "cell_type": "code",
   "execution_count": 152,
   "metadata": {},
   "outputs": [
    {
     "data": {
      "text/plain": [
       "7"
      ]
     },
     "execution_count": 152,
     "metadata": {},
     "output_type": "execute_result"
    }
   ],
   "source": [
    "#파이썬 이진트리 라이브러리\n",
    "from bisect import bisect_left,bisect_right\n",
    "\n",
    "def count(arr,left_value,right_value):\n",
    "    right_idx = bisect_right(arr,right_value)\n",
    "    left_idx = bisect_left(arr,left_value)\n",
    "    return right_idx - left_idx\n",
    "\n",
    "count = count(arr,x,x)\n",
    "bisect_right(arr,3)\n"
   ]
  },
  {
   "cell_type": "markdown",
   "metadata": {},
   "source": [
    "## 고정점 찾기\n",
    "- 풀이시간 20분\n",
    "- 소요시간 00분\n"
   ]
  },
  {
   "cell_type": "code",
   "execution_count": 185,
   "metadata": {},
   "outputs": [
    {
     "data": {
      "text/plain": [
       "[-97, -85, -74, -68, -64, -62, -44, 5, 82, 93]"
      ]
     },
     "execution_count": 185,
     "metadata": {},
     "output_type": "execute_result"
    }
   ],
   "source": [
    "import random\n",
    "arr = random.sample(range(-10**2,10**2),10)\n",
    "for idx, i in enumerate(arr):\n",
    "    if idx == i:\n",
    "        count = i\n",
    "        break\n",
    "if count != 1:\n",
    "    count = -1\n",
    "count\n",
    "arr.sort()\n",
    "arr"
   ]
  },
  {
   "cell_type": "code",
   "execution_count": 186,
   "metadata": {},
   "outputs": [
    {
     "data": {
      "text/plain": [
       "4"
      ]
     },
     "execution_count": 186,
     "metadata": {},
     "output_type": "execute_result"
    }
   ],
   "source": [
    "arr = [-97, -85, -74, -68, 4, 6, 7, 10, 82, 93]\n",
    "\n",
    "start = 0 \n",
    "end = len(arr)-1 #end = 9\n",
    "mid = (start+end)//2 #mid = 4\n",
    "\n",
    "def binary_search(arr,start,mid):\n",
    "    if start > end:\n",
    "        return -1 \n",
    "    if arr[mid] == mid:\n",
    "        return mid\n",
    "    elif arr[mid] < mid:\n",
    "        return binary_search(arr,mid + 1,end)\n",
    "    else:\n",
    "        return binary_search(arr,start,mid - 1)\n",
    "\n",
    "binary_search(arr,start,mid)"
   ]
  },
  {
   "cell_type": "markdown",
   "metadata": {},
   "source": [
    "## 공유기설치\n",
    "- 풀이시간 50분\n",
    "- 소요시간 00분"
   ]
  },
  {
   "cell_type": "code",
   "execution_count": 1,
   "metadata": {},
   "outputs": [
    {
     "data": {
      "text/plain": [
       "[3, 2, 4, 1, 0]"
      ]
     },
     "execution_count": 1,
     "metadata": {},
     "output_type": "execute_result"
    }
   ],
   "source": [
    "def first(arr,target,start,end,s,m):\n",
    "    if start > end:\n",
    "        return None\n",
    "    mid = (start+end)//2\n",
    "    if (mid == 0 or target>arr[mid-1][s:m]) and arr[mid][s:m] == target:\n",
    "        return mid\n",
    "    elif arr[mid][s:m]<target:\n",
    "        return first(arr,target,mid+1,end,s,m)\n",
    "    else:\n",
    "        return first(arr,target,start,mid-1,s,m)\n",
    "\n",
    "def last(arr,target, start, end,s,m):\n",
    "    if start > end:\n",
    "        return None\n",
    "    mid = (start+end)//2\n",
    "    if (mid == len(arr)-1 or target<arr[mid+1][s:m]) and arr[mid][s:m] == target:\n",
    "        return mid\n",
    "    elif arr[mid][s:m]>target:\n",
    "        return last(arr,target,start,mid-1,s,m)\n",
    "    else:\n",
    "        return last(arr,target, mid+1,end,s,m)\n",
    "    \n",
    "def word_sort(word):\n",
    "    global words\n",
    "    if word[0] != '?':\n",
    "        words.sort()\n",
    "        s = 0 \n",
    "        for idx,i in enumerate(word):\n",
    "            if i =='?':\n",
    "                return s,idx\n",
    "    else:\n",
    "        words.sort(key = lambda x : x[-1])\n",
    "        word = word[-1::-1]\n",
    "        s = len(word)\n",
    "        for idx, i in enumerate(word):\n",
    "            if i == '?':\n",
    "                return len(word)-idx,s\n",
    "            \n",
    "def solution(words, queries):\n",
    "    answer = []\n",
    "    for word in queries:\n",
    "        s, m = word_sort(word)\n",
    "        target = word[s:m]\n",
    "        a = first(words,target,0,len(word),s,m)\n",
    "        b = last(words,target,0,len(word),s,m)\n",
    "        if a == None:\n",
    "            result = 0 \n",
    "        else:\n",
    "            c = [k for k in words[a:b+1] if len(k) == len(word)]\n",
    "            result = len(c)\n",
    "        answer.append(result)\n",
    "    return answer\n",
    "\n",
    "words =[\"frodo\", \"front\", \"frost\", \"frozen\", \"frame\", \"kakao\"]\n",
    "queries = [\"fro??\", \"????o\", \"fr???\", \"fro???\", \"pro?\"]\n",
    "\n",
    "solution(words, queries)"
   ]
  },
  {
   "cell_type": "code",
   "execution_count": 6,
   "metadata": {},
   "outputs": [],
   "source": [
    "from bisect import bisect_right, bisect_left\n",
    "\n",
    "def count_by_range(a,left_value,right_value):\n",
    "    right_idx = bisect_right(a,right_value)\n",
    "    left_idx = bisect_left(a,left_value)\n",
    "    return right_idx - left_idx\n",
    "\n",
    "def solution(words,queries):\n",
    "    arr = [[]for _ in range(10001)]\n",
    "    re_arr = [[]for _ in range(10001)]\n",
    "    answer = []\n",
    "\n",
    "    for word in words:\n",
    "        arr[len(word)].append(word)\n",
    "        re_arr[len(word)].append(word[::-1])\n",
    "\n",
    "    for i in range(10001):\n",
    "        arr[i].sort()\n",
    "        re_arr[i].sort()\n",
    "    \n",
    "    for q in queries:\n",
    "        if q[0] != '?':\n",
    "            res = count_by_range(arr[len(q)],q.replace(\"?\",\"a\"),q.replace('?','z'))\n",
    "        else :\n",
    "            res = count_by_range(re_arr[len(q)],q[::-1].replace(\"?\",\"a\"),q[::-1].replace('?','z'))\n",
    "        answer.append(res)\n",
    "    \n",
    "    return answer \n",
    "        "
   ]
  },
  {
   "cell_type": "code",
   "execution_count": 10,
   "metadata": {},
   "outputs": [
    {
     "data": {
      "text/plain": [
       "5"
      ]
     },
     "execution_count": 10,
     "metadata": {},
     "output_type": "execute_result"
    }
   ],
   "source": [
    "words =[\"front\", \"frost\", \"froze\", \"frome\", \"froao\"]\n",
    "bisect_right(words,'frozz')"
   ]
  }
 ],
 "metadata": {
  "kernelspec": {
   "display_name": "base",
   "language": "python",
   "name": "python3"
  },
  "language_info": {
   "codemirror_mode": {
    "name": "ipython",
    "version": 3
   },
   "file_extension": ".py",
   "mimetype": "text/x-python",
   "name": "python",
   "nbconvert_exporter": "python",
   "pygments_lexer": "ipython3",
   "version": "3.1.0"
  }
 },
 "nbformat": 4,
 "nbformat_minor": 2
}
