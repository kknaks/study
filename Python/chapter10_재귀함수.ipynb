{
 "cells": [
  {
   "cell_type": "code",
   "execution_count": 1,
   "metadata": {},
   "outputs": [
    {
     "data": {
      "text/plain": [
       "55"
      ]
     },
     "execution_count": 1,
     "metadata": {},
     "output_type": "execute_result"
    }
   ],
   "source": [
    "def addNum(num):\n",
    "    if num<=1:\n",
    "        return 1\n",
    "    return num + addNum(num-1)\n",
    "\n",
    "addNum(10)"
   ]
  },
  {
   "cell_type": "code",
   "execution_count": 1,
   "metadata": {},
   "outputs": [
    {
     "name": "stdout",
     "output_type": "stream",
     "text": [
      "15\n",
      "14\n",
      "13\n",
      "12\n",
      "11\n",
      "10\n",
      "9\n",
      "8\n",
      "7\n",
      "6\n",
      "110\n"
     ]
    }
   ],
   "source": [
    "def addNumber(num):\n",
    "    if num <= a:\n",
    "        return a\n",
    "    print(num)\n",
    "    return num+addNumber(num-1)\n",
    "\n",
    "num1 = int(input(\"num1 : \"))\n",
    "num2 = int(input(\"num2 : \"))\n",
    "\n",
    "a = min(num1,num2)\n",
    "b = max(num1,num2)\n",
    "\n",
    "print(addNumber(b))"
   ]
  },
  {
   "cell_type": "code",
   "execution_count": 12,
   "metadata": {},
   "outputs": [
    {
     "name": "stdout",
     "output_type": "stream",
     "text": [
      "2 x 1 = 2\n",
      "2 x 2 = 4\n",
      "2 x 3 = 6\n",
      "2 x 4 = 8\n",
      "2 x 5 = 10\n",
      "2 x 6 = 12\n",
      "2 x 7 = 14\n",
      "2 x 8 = 16\n",
      "2 x 9 = 18\n"
     ]
    }
   ],
   "source": [
    "def gugudan(dan,num):\n",
    "    print(\"%d x %d = %d\" % (dan, num, dan*num))\n",
    "    if num<9:\n",
    "        gugudan(dan,num+1)\n",
    "      \n",
    "for i in range(2,3):\n",
    "    gugudan(i,1)\n"
   ]
  },
  {
   "cell_type": "code",
   "execution_count": 9,
   "metadata": {},
   "outputs": [
    {
     "name": "stdout",
     "output_type": "stream",
     "text": [
      "2 1 2\n",
      "2 2 4\n",
      "2 3 6\n",
      "2 4 8\n",
      "2 5 10\n",
      "2 6 12\n",
      "2 7 14\n",
      "2 8 16\n",
      "2 9 18\n"
     ]
    }
   ],
   "source": [
    "def gugu(dan, num):\n",
    "    print(dan,num,dan*num)\n",
    "    if num<9:\n",
    "        gugu(dan,num+1)\n",
    "\n",
    "for dan in range(2,3) :\n",
    "\tgugu(dan, 1)"
   ]
  },
  {
   "cell_type": "code",
   "execution_count": 40,
   "metadata": {},
   "outputs": [
    {
     "name": "stdout",
     "output_type": "stream",
     "text": [
      "[114, 101, 51, 179, 127, 84, 99, 95, 1, 166] 10\n"
     ]
    },
    {
     "data": {
      "text/plain": [
       "1017"
      ]
     },
     "execution_count": 40,
     "metadata": {},
     "output_type": "execute_result"
    }
   ],
   "source": [
    "import random\n",
    "\n",
    "arry = [114, 101, 51, 179, 127, 84, 99, 95, 1, 166]\n",
    "num = 0\n",
    "print(arry, len(arry))\n",
    "\n",
    "def arrysum(num, arry):\n",
    "    if num >= len(arry)-1:\n",
    "        return arry[num]\n",
    "    return arry[num] + arrysum(num+1, arry)\n",
    "\n",
    "arrysum(num, arry)"
   ]
  },
  {
   "cell_type": "code",
   "execution_count": 60,
   "metadata": {},
   "outputs": [
    {
     "data": {
      "text/plain": [
       "[0, 1, 1, 2, 3, 5, 8, 13, 21, 34, 55, 89, 144, 233, 377]"
      ]
     },
     "execution_count": 60,
     "metadata": {},
     "output_type": "execute_result"
    }
   ],
   "source": [
    "#피보나치수열\n",
    "pina = [0,1]\n",
    "def pibo(c,n):\n",
    "    if c <= len(pina):\n",
    "        return pina\n",
    "    n3 = pina[n]+pina[n+1]\n",
    "    pina.append(n3)\n",
    "    return pibo(c, n+1)\n",
    "\n",
    "pibo(15,0)\n",
    "\n"
   ]
  },
  {
   "cell_type": "code",
   "execution_count": 62,
   "metadata": {},
   "outputs": [],
   "source": [
    "from tkinter import *\n",
    "\n",
    "window =Tk()\n",
    "canvas = Canvas(window, height=1000, width =1000, bg='white')\n",
    "canvas.pack()\n",
    "\n",
    "cx = 1000//2\n",
    "cy = 1000//2\n",
    "r=400\n",
    "\n",
    "canvas.create_oval(cx-r, cy-r, cx+r, cy+r, width =2, outline='blue')\n",
    "\n",
    "window.mainloop()"
   ]
  },
  {
   "cell_type": "code",
   "execution_count": 65,
   "metadata": {},
   "outputs": [],
   "source": [
    "from tkinter import *\n",
    "import random\n",
    "\n",
    "## 함수 선언 부분 ##\n",
    "def drawCircle(x, y, r) :\n",
    "\tcanvas.create_oval(x-r, y-r, x+r, y+r, width=2, outline=random.choice(colors))\n",
    "\tif r >= 5 :\n",
    "\t\tdrawCircle(x+r//2, y, r//2)\n",
    "\t\tdrawCircle(x-r//2, y, r//2)\n",
    "\t\tdrawCircle(x, y+r//2, r//2)\n",
    "\t\tdrawCircle(x, y-r//2, r//2)\n",
    "\n",
    "## 전역 변수 선언 부분 ##\n",
    "colors = [\"red\", \"green\", \"blue\", \"black\", \"orange\", \"indigo\", \"violet\"]\n",
    "wSize = 1000\n",
    "radius = 400\n",
    "\n",
    "## 메인 코드 부분 ##\n",
    "window = Tk()\n",
    "window.title(\"원 모양의 프랙탈\")\n",
    "canvas = Canvas(window, height=wSize, width=wSize, bg='white')\n",
    "\n",
    "drawCircle(wSize//2, wSize//2, radius)\n",
    "\n",
    "canvas.pack()\n",
    "window.mainloop()\n"
   ]
  },
  {
   "cell_type": "code",
   "execution_count": 12,
   "metadata": {},
   "outputs": [
    {
     "name": "stdout",
     "output_type": "stream",
     "text": [
      "1 ----- 0 0\n",
      "2 ----- 1 4\n",
      "3 ----- 2 5\n",
      "4 ----- 3 7\n",
      "5 ----- 4 8\n",
      "5 ----- 4 6\n",
      "4 ----- 3 3\n",
      "5 ----- 4 4\n",
      "타켓만족\n",
      "5 ----- 4 2\n",
      "3 ----- 2 3\n",
      "4 ----- 3 5\n",
      "5 ----- 4 6\n",
      "5 ----- 4 4\n",
      "타켓만족\n",
      "4 ----- 3 1\n",
      "5 ----- 4 2\n",
      "5 ----- 4 0\n",
      "2 ----- 1 -4\n",
      "3 ----- 2 -3\n",
      "4 ----- 3 -1\n",
      "5 ----- 4 0\n",
      "5 ----- 4 -2\n",
      "4 ----- 3 -5\n",
      "5 ----- 4 -4\n",
      "5 ----- 4 -6\n",
      "3 ----- 2 -5\n",
      "4 ----- 3 -3\n",
      "5 ----- 4 -2\n",
      "5 ----- 4 -4\n",
      "4 ----- 3 -7\n",
      "5 ----- 4 -6\n",
      "5 ----- 4 -8\n"
     ]
    },
    {
     "data": {
      "text/plain": [
       "2"
      ]
     },
     "execution_count": 12,
     "metadata": {},
     "output_type": "execute_result"
    }
   ],
   "source": [
    "numbers = [4,1,2,1]\n",
    "target =4 \n",
    "def solution(numbers, target):\n",
    "\n",
    "    def calc(n,idx, sum):\n",
    "        nonlocal answer\n",
    "        print(n,'-----',idx,sum)\n",
    "\n",
    "        if idx == len(numbers):\n",
    "            if sum == target:\n",
    "                answer += 1\n",
    "                print('타켓만족')\n",
    "            return\n",
    "        calc(n+1,idx+1, sum + numbers[idx])\n",
    "        calc(n+1,idx+1, sum - numbers[idx])\n",
    "\n",
    "    answer = 0\n",
    "    calc(1,0, 0)\n",
    "\n",
    "    return answer\n",
    "\n",
    "solution(numbers, target)"
   ]
  }
 ],
 "metadata": {
  "kernelspec": {
   "display_name": "base",
   "language": "python",
   "name": "python3"
  },
  "language_info": {
   "codemirror_mode": {
    "name": "ipython",
    "version": 3
   },
   "file_extension": ".py",
   "mimetype": "text/x-python",
   "name": "python",
   "nbconvert_exporter": "python",
   "pygments_lexer": "ipython3",
   "version": "3.10.9"
  }
 },
 "nbformat": 4,
 "nbformat_minor": 2
}
