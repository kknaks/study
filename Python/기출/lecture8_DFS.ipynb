{
 "cells": [
  {
   "cell_type": "code",
   "execution_count": 60,
   "metadata": {},
   "outputs": [
    {
     "data": {
      "text/plain": [
       "['ICN', 'ATL', 'ICN', 'SFO', 'ATL', 'SFO']"
      ]
     },
     "execution_count": 60,
     "metadata": {},
     "output_type": "execute_result"
    }
   ],
   "source": [
    "tickets = [[\"ICN\", \"SFO\"], [\"ICN\", \"ATL\"], [\"SFO\", \"ATL\"], [\"ATL\", \"ICN\"], [\"ATL\",\"SFO\"]]\n",
    "\n",
    "def soluton(tickets):\n",
    "    cities = set()\n",
    "    ICN = set(['ICN'])\n",
    "    for i in tickets:\n",
    "        cities.add(i[0])\n",
    "        cities.add(i[1])\n",
    "\n",
    "    cities = cities - ICN\n",
    "    cities = sorted(list(cities))\n",
    "    cities = ['ICN'] + cities\n",
    "\n",
    "    arr = [[0 for k in range(len(cities))] for j in range(len(cities))]\n",
    "    for de, ar in tickets:\n",
    "        arr[cities.index(de)][cities.index(ar)] = 1\n",
    "\n",
    "    visited = []\n",
    "    stack = []\n",
    "    current = 0 \n",
    "    visited.append(current)\n",
    "    stack.append(current)\n",
    "\n",
    "    while len(visited) != len(tickets)+1:\n",
    "        temp = arr\n",
    "        for i in range(len(cities)):\n",
    "            if arr[current][i] != 0:\n",
    "                visited.append(i)\n",
    "                stack.append(i)\n",
    "                arr[current][i] = 0 \n",
    "                current = i\n",
    "                break\n",
    "        if sum(arr[current]) == 0:\n",
    "            current = stack.pop()\n",
    "            arr[current] = temp[current]\n",
    "    \n",
    "    answer = []   \n",
    "    for i in visited:\n",
    "        answer.append(cities[i])\n",
    "\n",
    "    return answer \n",
    "\n",
    "soluton(tickets)"
   ]
  },
  {
   "cell_type": "code",
   "execution_count": 71,
   "metadata": {},
   "outputs": [
    {
     "name": "stdout",
     "output_type": "stream",
     "text": [
      "{'ICN': ['a', 'SFO']}\n",
      "{'ICN': ['a', 'SFO', 'ATL']}\n",
      "{'ICN': ['a', 'SFO', 'ATL'], 'SFO': ['a', 'ATL']}\n",
      "{'ICN': ['a', 'SFO', 'ATL'], 'SFO': ['a', 'ATL'], 'ATL': ['a', 'ICN']}\n",
      "{'ICN': ['a', 'SFO', 'ATL'], 'SFO': ['a', 'ATL'], 'ATL': ['a', 'ICN', 'SFO']}\n"
     ]
    }
   ],
   "source": [
    "routes = {}\n",
    "\n",
    "for t in tickets:\n",
    "    routes[t[0]] = routes.get(t[0],['a'])+[t[1]]\n",
    "    print(routes)"
   ]
  },
  {
   "cell_type": "code",
   "execution_count": 183,
   "metadata": {},
   "outputs": [],
   "source": [
    "computers = [[1, 1, 0], [1, 1, 0], [0, 0, 1]]\n",
    "n =3 \n"
   ]
  },
  {
   "cell_type": "code",
   "execution_count": 203,
   "metadata": {},
   "outputs": [
    {
     "data": {
      "text/plain": [
       "[[1, 0, 1, 0, 0, 0],\n",
       " [0, 1, 0, 1, 0, 0],\n",
       " [1, 0, 1, 0, 0, 0],\n",
       " [0, 1, 0, 1, 0, 0],\n",
       " [0, 0, 0, 0, 1, 1],\n",
       " [0, 0, 0, 0, 1, 1]]"
      ]
     },
     "execution_count": 203,
     "metadata": {},
     "output_type": "execute_result"
    }
   ],
   "source": [
    "computers = [[1,0,1,0,0,0],[0,1,0,1,0,0],[1,0,1,0,0,0],[0,1,0,1,0,0],[0,0,0,0,1,1],[0,0,0,0,1,1]]\n",
    "n = 6\n",
    "computers"
   ]
  },
  {
   "cell_type": "code",
   "execution_count": 205,
   "metadata": {},
   "outputs": [],
   "source": [
    "n, computers = 4, [[1, 1, 0, 0], [1, 1, 0, 0], [0, 0, 1, 1], [0, 0, 1, 1]]"
   ]
  },
  {
   "cell_type": "code",
   "execution_count": 2,
   "metadata": {},
   "outputs": [
    {
     "data": {
      "text/plain": [
       "[[1, 1, 1, 0, 0, 1],\n",
       " [1, 1, 0, 1, 0, 0],\n",
       " [1, 0, 1, 0, 0, 0],\n",
       " [0, 1, 0, 1, 0, 0],\n",
       " [0, 0, 0, 0, 1, 1],\n",
       " [1, 0, 0, 0, 1, 1]]"
      ]
     },
     "execution_count": 2,
     "metadata": {},
     "output_type": "execute_result"
    }
   ],
   "source": [
    "computers = [[1,1,1,0,0,1],[1,1,0,1,0,0],[1,0,1,0,0,0],[0,1,0,1,0,0],[0,0,0,0,1,1],[1,0,0,0,1,1]]\n",
    "n = 6\n",
    "computers"
   ]
  },
  {
   "cell_type": "code",
   "execution_count": null,
   "metadata": {},
   "outputs": [],
   "source": [
    "#com =[0,1,2,3,4,5]\n",
    "#network = [0]\n",
    "#queue =[2,5]\n",
    "#current = 1, j = 0\n",
    "#current = 1, j = 1\n",
    "#link = 1,2,5\n",
    "#"
   ]
  },
  {
   "cell_type": "code",
   "execution_count": 5,
   "metadata": {},
   "outputs": [
    {
     "name": "stdout",
     "output_type": "stream",
     "text": [
      "[0, 1, 2, 5, 3, 4]\n"
     ]
    },
    {
     "data": {
      "text/plain": [
       "1"
      ]
     },
     "execution_count": 5,
     "metadata": {},
     "output_type": "execute_result"
    }
   ],
   "source": [
    "\n",
    "def solution(n, computers):\n",
    "    answer = 0\n",
    "    com = [k for k in range(n)]\n",
    "    while com:\n",
    "        queue = []\n",
    "        network = []\n",
    "        queue.append(com[0])\n",
    "\n",
    "        while queue:\n",
    "            current = queue.pop(0)\n",
    "            network.append(current)\n",
    "\n",
    "            for j in range(n):\n",
    "                link = computers[current][j]\n",
    "                if current == j:\n",
    "                    pass\n",
    "                elif link == 1 and j not in network:\n",
    "                    queue.append(j)\n",
    "        print(network)            \n",
    "        com = list(set(com)-set(network))\n",
    "        answer+=1\n",
    "    return answer\n",
    "\n",
    "\n",
    "def solution(n, computers):\n",
    "    answer = 0\n",
    "    return answer"
   ]
  },
  {
   "cell_type": "code",
   "execution_count": 161,
   "metadata": {},
   "outputs": [
    {
     "name": "stdout",
     "output_type": "stream",
     "text": [
      "[0, 1]\n",
      "[0]\n",
      "[]\n",
      "[]\n"
     ]
    },
    {
     "data": {
      "text/plain": [
       "2"
      ]
     },
     "execution_count": 161,
     "metadata": {},
     "output_type": "execute_result"
    }
   ],
   "source": [
    "def solution(n,computers):\n",
    "    total = []\n",
    "    com = [k for k in range(n)]\n",
    "    while com:\n",
    "        visit = [] #연결성\n",
    "        network = [] #스텍\n",
    "        current = com[0]\n",
    "        visit.append(current)\n",
    "        network.append(current)\n",
    "\n",
    "        while network:\n",
    "            nex = None\n",
    "            for i in range(1,len(com)-1):\n",
    "                if current < n-1 :\n",
    "                    link = computers[current][current + i]\n",
    "                    if link == 1:\n",
    "                        if current+i in visit:\n",
    "                            pass\n",
    "                        else :\n",
    "                            nex = current + i\n",
    "                            break\n",
    "            if nex != None:\n",
    "                current = nex\n",
    "                visit.append(current)\n",
    "                network.append(current)\n",
    "            else:\n",
    "                current = network.pop()\n",
    "            print(network)\n",
    "        total.append(visit)\n",
    "        com = list(set(com) - set(visit))\n",
    "    return len(total)\n",
    "solution(n,computers)"
   ]
  },
  {
   "cell_type": "code",
   "execution_count": 189,
   "metadata": {},
   "outputs": [],
   "source": [
    "computers = [[1, 1, 0], [1, 1, 1], [0, 1, 1]]\n",
    "n =3 "
   ]
  },
  {
   "cell_type": "code",
   "execution_count": 199,
   "metadata": {},
   "outputs": [
    {
     "name": "stdout",
     "output_type": "stream",
     "text": [
      "0 1\n",
      "1 0\n",
      "1 2\n",
      "2 1\n"
     ]
    }
   ],
   "source": [
    "com = {}\n",
    "for idx,i in enumerate(computers):\n",
    "    com[idx] = com.get(idx,[])+i\n",
    "\n",
    "for i in range(n):\n",
    "    for j in range(n):\n",
    "        if com[i][j] == 1 and i != j:\n",
    "            print(i,j)"
   ]
  },
  {
   "cell_type": "code",
   "execution_count": 86,
   "metadata": {},
   "outputs": [],
   "source": [
    "maps = [[1,0,1,1,1],[1,0,1,0,1],[1,0,1,1,1],[1,1,1,0,1],[0,0,0,0,1]]\n"
   ]
  },
  {
   "cell_type": "code",
   "execution_count": 95,
   "metadata": {},
   "outputs": [
    {
     "data": {
      "text/plain": [
       "11"
      ]
     },
     "execution_count": 95,
     "metadata": {},
     "output_type": "execute_result"
    }
   ],
   "source": [
    "maps = [[1,0,1,1,1],[1,0,1,0,1],[1,0,1,1,1],[1,1,1,0,1],[0,0,0,0,1]]\n",
    "def solution(maps):\n",
    "    m = len(maps)\n",
    "    n = len(maps[0])\n",
    "    moving = [(-1,0),(1,0),(0,-1),(0,1)]\n",
    "    queue = [(0,0)]\n",
    "\n",
    "    while queue:\n",
    "        x,y = queue.pop(0)\n",
    "        for i in range(4):\n",
    "            nx = x + moving[i][0]\n",
    "            ny = y + moving[i][1]\n",
    "            if (nx <0 or nx>=m) or (ny <0 or ny>=n) :\n",
    "                continue\n",
    "            elif maps[nx][ny] == 0:\n",
    "                continue\n",
    "            elif maps[nx][ny] == 1:\n",
    "                maps[nx][ny] = maps[x][y] + 1\n",
    "                queue.append((nx,ny))\n",
    "    answer = maps[m-1][n-1]\n",
    "\n",
    "    return -1 if answer==1 else answer\n",
    "solution(maps)"
   ]
  },
  {
   "cell_type": "code",
   "execution_count": 71,
   "metadata": {},
   "outputs": [
    {
     "data": {
      "text/plain": [
       "0"
      ]
     },
     "execution_count": 71,
     "metadata": {},
     "output_type": "execute_result"
    }
   ],
   "source": [
    "from collections import deque\n",
    "def solution(maps):\n",
    "    answer = 0\n",
    "\n",
    "    # 상하좌우\n",
    "    dx = [-1, 1, 0, 0]\n",
    "    dy = [0, 0, -1, 1]\n",
    "\n",
    "    def bfs(x, y):\n",
    "        queue = deque()\n",
    "        queue.append((x, y))\n",
    "\n",
    "        # queue가 빌 때까지 반복\n",
    "        while queue:\n",
    "            x, y = queue.popleft()\n",
    "            # 상하좌우 칸 확인하기\n",
    "            for i in range(4):\n",
    "                nx = x + dx[i]\n",
    "                ny = y + dy[i]\n",
    "                # 맵을 벗어나면 무시하기\n",
    "                if nx < 0 or nx >= len(maps) or ny < 0 or ny >= len(maps[0]): continue\n",
    "                # 벽이면 무시하기\n",
    "                if maps[nx][ny] == 0:  continue\n",
    "\n",
    "                # 처음 지나가는 길이면 거리계산하고 다시 상하좌우 확인하기\n",
    "                if maps[nx][ny] == 1:\n",
    "                    maps[nx][ny] = maps[x][y] + 1\n",
    "                    queue.append((nx, ny))    # 재귀\n",
    "\n",
    "        # 상대 팀 진영(제일 오른쪽 아래 칸)까지의 거리 반환\n",
    "        return maps[len(maps)-1][len(maps[0])-1]\n",
    "\n",
    "    answer = bfs(0, 0)\n",
    "    return -1 if answer == 1 else answer    # 상대 팀 진영에 도착할 수 없을 때 -1"
   ]
  },
  {
   "cell_type": "markdown",
   "metadata": {},
   "source": [
    "if \"cog\" in [\"hot\",\"dot\",\"dog\",\"lot\",\"log\",\"cog\"]:"
   ]
  },
  {
   "cell_type": "code",
   "execution_count": 100,
   "metadata": {},
   "outputs": [
    {
     "name": "stdout",
     "output_type": "stream",
     "text": [
      "True\n"
     ]
    }
   ],
   "source": [
    "if \"eog\" not in [\"hot\",\"dot\",\"dog\",\"lot\",\"log\",\"cog\"]:\n",
    "    return 0"
   ]
  },
  {
   "cell_type": "code",
   "execution_count": 184,
   "metadata": {},
   "outputs": [
    {
     "name": "stdout",
     "output_type": "stream",
     "text": [
      "hit ------ ['hot'] ----- ['hot'] ----- 0 ----- 1\n",
      "hot ------ ['dot', 'lot'] ----- ['hot', 'dot', 'lot'] ----- 1 ----- 2\n",
      "dot ------ ['lot', 'dog'] ----- ['hot', 'dot', 'lot', 'dog'] ----- 2 ----- 3\n",
      "lot ------ ['dog', 'log'] ----- ['hot', 'dot', 'lot', 'dog', 'log'] ----- 1 ----- 4\n",
      "dog ------ ['log', 'cog'] ----- ['hot', 'dot', 'lot', 'dog', 'log', 'cog'] ----- 3 ----- 5\n"
     ]
    },
    {
     "data": {
      "text/plain": [
       "5"
      ]
     },
     "execution_count": 184,
     "metadata": {},
     "output_type": "execute_result"
    }
   ],
   "source": [
    "begin =\"hit\"\n",
    "target =\"cog\"\n",
    "words = [\"hot\", \"dot\", \"lot\", \"log\", \"cog\", \"dog\"]\n",
    "\n",
    "answer =0     \n",
    "queue = [begin]\n",
    "check = []\n",
    "\n",
    "while queue:                                            \n",
    "    t = queue.pop(0)                                    #t = lot\n",
    "    for i in words:                                     #words = [\"hot\", \"dot\", \"lot\", \"log\", \"cog\", \"dog\"]\n",
    "        cha_len = 0                                     # i = dot\n",
    "        for j in t:                                     # t = hot\n",
    "            if j in i:                                  # j = h,o,t\n",
    "                cha_len +=1\n",
    "                \n",
    "        if cha_len == len(t)-1 and i not in check:                      \n",
    "            queue.append(i)\n",
    "            check.append(i)                         \n",
    "    answer +=1                 \n",
    "    print(t,\"------\",queue,\"-----\",check,\"-----\",cha_len,\"-----\",answer)\n",
    "\n",
    "    if target in check:\n",
    "        answer\n",
    "        break\n",
    "    \n",
    "answer "
   ]
  },
  {
   "cell_type": "code",
   "execution_count": 212,
   "metadata": {},
   "outputs": [],
   "source": [
    "begin =\"hit\"\n",
    "target =\"cog\"\n",
    "words = [\"hot\", \"dot\", \"lot\", \"log\", \"cog\", \"dog\"]\n",
    "\n",
    "stack =[]\n",
    "idx= []\n",
    "current = 0 \n",
    "stack.append(begin)\n",
    "\n",
    "while idx:\n",
    "    next_w = None\n",
    "    t = stack[current]\n",
    "    for idn, i in enumerate(words,start = 1):\n",
    "        count = 0 \n",
    "        for j in t:\n",
    "            if j in i:\n",
    "                count+=1                     \n",
    "        if count == len(begin) -1:\n",
    "            if idn in idx:\n",
    "                pass\n",
    "            else:\n",
    "                next_w = idn\n",
    "                print(next_w) \n",
    "            break         \n",
    "    if next_w != None:\n",
    "        current = next_w\n",
    "        stack.append(words[current])\n",
    "        idx.append(current)\n",
    "        print(idx)\n",
    "    else:\n",
    "        current = idx.pop()"
   ]
  },
  {
   "cell_type": "markdown",
   "metadata": {},
   "source": []
  },
  {
   "cell_type": "code",
   "execution_count": null,
   "metadata": {},
   "outputs": [],
   "source": [
    "def solution(tickets):\n",
    "    routes = {}\n",
    "    for t in tickets:\n",
    "        routes[t[0]] = routes.get(t[0],[]) + [t[1]]\n",
    "    for s in routes:\n",
    "        routes.get(s).sort(reverse = True)\n",
    "    \n",
    "    stack = ['ICN']\n",
    "    path = []\n",
    "    while len(stack)>0:\n",
    "        top = stack[-1]\n",
    "        if top not in routes or routes[top] == []:\n",
    "            path.append(stack.pop())\n",
    "        else:\n",
    "            stack.append(routes[top].pop())     \n",
    "    return path[::-1]"
   ]
  }
 ],
 "metadata": {
  "kernelspec": {
   "display_name": "base",
   "language": "python",
   "name": "python3"
  },
  "language_info": {
   "codemirror_mode": {
    "name": "ipython",
    "version": 3
   },
   "file_extension": ".py",
   "mimetype": "text/x-python",
   "name": "python",
   "nbconvert_exporter": "python",
   "pygments_lexer": "ipython3",
   "version": "3.10.9"
  }
 },
 "nbformat": 4,
 "nbformat_minor": 2
}
