{
 "cells": [
  {
   "cell_type": "markdown",
   "metadata": {},
   "source": [
    "# DP\n",
    "## 실전문제\n",
    "### 1만들기\n"
   ]
  },
  {
   "cell_type": "code",
   "execution_count": 1,
   "metadata": {},
   "outputs": [],
   "source": [
    "x = 26"
   ]
  },
  {
   "cell_type": "code",
   "execution_count": 10,
   "metadata": {},
   "outputs": [
    {
     "data": {
      "text/plain": [
       "3"
      ]
     },
     "execution_count": 10,
     "metadata": {},
     "output_type": "execute_result"
    }
   ],
   "source": [
    "d = [0] * (x+1)\n",
    "\n",
    "for i in range(2,x+1):\n",
    "    d[i] = d[i-1]+1\n",
    "\n",
    "    if i%2 ==0:\n",
    "        d[i] = min(d[i],d[i//2]+1)\n",
    "    if i % 3 == 0:\n",
    "        d[i] = min(d[i],d[i//3]+1)\n",
    "    if i % 5 == 0 :\n",
    "        d[i] = min(d[i],d[i//5]+1)\n",
    "d[x]"
   ]
  },
  {
   "cell_type": "markdown",
   "metadata": {},
   "source": [
    "### 개미전사"
   ]
  },
  {
   "cell_type": "code",
   "execution_count": 17,
   "metadata": {},
   "outputs": [
    {
     "data": {
      "text/plain": [
       "8"
      ]
     },
     "execution_count": 17,
     "metadata": {},
     "output_type": "execute_result"
    }
   ],
   "source": [
    "n = 4\n",
    "arr = [1,3,1,5]\n",
    "\n",
    "d = [0] * n\n",
    "d[0] = arr[0]\n",
    "d[1] = arr[1]\n",
    "\n",
    "for idx in range(2,len(arr)):\n",
    "    d[idx] = max(d[idx-2]+arr[idx],d[idx-1])\n",
    "d[-1]"
   ]
  },
  {
   "cell_type": "markdown",
   "metadata": {},
   "source": [
    "### 바닥공사\n"
   ]
  },
  {
   "cell_type": "code",
   "execution_count": 21,
   "metadata": {},
   "outputs": [
    {
     "data": {
      "text/plain": [
       "2"
      ]
     },
     "execution_count": 21,
     "metadata": {},
     "output_type": "execute_result"
    }
   ],
   "source": [
    "n = 3\n",
    "\n",
    "d = [0]*n\n",
    "d[0] = 1 \n",
    "d[2] = 3\n",
    "\n",
    "for idx in range(2,n):\n",
    "    d[idx] = d[idx-2]*2 + d[idx-1]\n",
    "\n",
    "d[n-1]%79696"
   ]
  },
  {
   "cell_type": "markdown",
   "metadata": {},
   "source": [
    "### 효율적인 화폐구성"
   ]
  },
  {
   "cell_type": "code",
   "execution_count": 32,
   "metadata": {},
   "outputs": [
    {
     "data": {
      "text/plain": [
       "-1"
      ]
     },
     "execution_count": 32,
     "metadata": {},
     "output_type": "execute_result"
    }
   ],
   "source": [
    "n,m = 3,4\n",
    "arr= [3,5,7]\n",
    "\n",
    "d = [100001]*(m+1)\n",
    "\n",
    "d[0] = 0\n",
    "for i in range(n):\n",
    "    for j in range(arr[i],m+1):\n",
    "        d[j] = min(d[j],d[j-arr[i]]+1)\n",
    "\n",
    "if d[m] == 100001:\n",
    "    answer = -1\n",
    "else :\n",
    "    answer = d[m]\n",
    "answer"
   ]
  },
  {
   "cell_type": "markdown",
   "metadata": {},
   "source": [
    "## 기출문제\n",
    "### 금광\n"
   ]
  },
  {
   "cell_type": "code",
   "execution_count": 62,
   "metadata": {},
   "outputs": [
    {
     "data": {
      "text/plain": [
       "19"
      ]
     },
     "execution_count": 62,
     "metadata": {},
     "output_type": "execute_result"
    }
   ],
   "source": [
    "n,m = map(int,input().split())\n",
    "mine = list(map(int, input().split()))\n",
    "\n",
    "dp = []\n",
    "index = 0 \n",
    "for i in range(n):\n",
    "    dp.append(mine[index:index+m])\n",
    "    index += m\n",
    "\n",
    "for i in range(1,m):\n",
    "    for j in range(n):\n",
    "        if j == 0 :\n",
    "            dp[j][i] = dp[j][i] + max(dp[j][i-1],dp[j+1][i-1])\n",
    "        elif j == n-1:\n",
    "            dp[j][i] = dp[j][i] +max(dp[j-1][i-1],dp[j][i-1])\n",
    "        else :\n",
    "            dp[j][i] = dp[j][i] +max(dp[j-1][i-1],dp[j][i-1],dp[j+1][i-1])\n",
    "\n",
    "answer = []\n",
    "for i in range(3):\n",
    "    answer.append(dp[i][m-1])\n",
    "\n",
    "max(answer)\n"
   ]
  },
  {
   "cell_type": "code",
   "execution_count": 63,
   "metadata": {},
   "outputs": [
    {
     "data": {
      "text/plain": [
       "19"
      ]
     },
     "execution_count": 63,
     "metadata": {},
     "output_type": "execute_result"
    }
   ],
   "source": [
    "n,m =3,4\n",
    "mine = [[1, 3, 3, 2], [2, 1, 4, 1], [0, 6, 4, 7]]\n",
    "\n",
    "for i in range(1,m):\n",
    "    for j in range(n):\n",
    "        if j == 0: \n",
    "            left_up = 0 \n",
    "        else : \n",
    "            left_up = mine[j-1][i-1]\n",
    "        \n",
    "        if j == n-1 :\n",
    "            left_down = 0\n",
    "        else : \n",
    "            left_down = mine[j+1][i-1]\n",
    "        \n",
    "        left = mine[j][i-1]\n",
    "        mine[j][i] = mine[j][i]+max(left_up,left,left_down)\n",
    "answer = []\n",
    "for i in range(3):\n",
    "    answer.append(arr[i][m-1])\n",
    "\n",
    "max(answer)"
   ]
  },
  {
   "cell_type": "markdown",
   "metadata": {},
   "source": [
    "### 정수삼각형\n",
    "- 풀이시간 30분\n",
    "- 소요시간 00분"
   ]
  },
  {
   "cell_type": "code",
   "execution_count": 107,
   "metadata": {},
   "outputs": [
    {
     "data": {
      "text/plain": [
       "30"
      ]
     },
     "execution_count": 107,
     "metadata": {},
     "output_type": "execute_result"
    }
   ],
   "source": [
    "n = 5 \n",
    "tri = [[7],[3,8],[8,1,0],[2,7,4,4],[4,5,2,6,5]]\n",
    "\n",
    "arr = [[0] * (i+1) for i in range(len(tri))]\n",
    "arr[0] = tri[0]\n",
    "\n",
    "for i in range(1,n):\n",
    "    for j in range(len(tri[i])):\n",
    "        if j == 0 :\n",
    "            arr[i][j] = arr[i-1][j]+tri[i][j]\n",
    "        elif j<len(tri[i])-1:\n",
    "            arr[i][j] = max(arr[i-1][j-1],arr[i-1][j])+tri[i][j]\n",
    "        else:\n",
    "            arr[i][j] = arr[i-1][j-1]+tri[i][j]\n",
    "\n",
    "max(arr[-1])"
   ]
  },
  {
   "cell_type": "code",
   "execution_count": 111,
   "metadata": {},
   "outputs": [
    {
     "data": {
      "text/plain": [
       "30"
      ]
     },
     "execution_count": 111,
     "metadata": {},
     "output_type": "execute_result"
    }
   ],
   "source": [
    "n = 5 \n",
    "tri = [[7],[3,8],[8,1,0],[2,7,4,4],[4,5,2,6,5]]\n",
    "\n",
    "for i in range(1,n):\n",
    "    for j in range(i+1):\n",
    "        if j == 0 :\n",
    "            up_left = 0 \n",
    "        else : \n",
    "            up_left = tri[i-1][j-1]\n",
    "\n",
    "        if i == j :\n",
    "            up_right = 0 \n",
    "        else :\n",
    "            up_right = tri[i-1][j]\n",
    "\n",
    "        tri[i][j] = max(up_left,up_right) + tri[i][j]\n",
    "\n",
    "max(tri[n-1])"
   ]
  },
  {
   "cell_type": "markdown",
   "metadata": {},
   "source": [
    "### 퇴사\n",
    "- 풀이시간 30분\n",
    "- 소요시간 00분"
   ]
  },
  {
   "cell_type": "code",
   "execution_count": 120,
   "metadata": {},
   "outputs": [
    {
     "data": {
      "text/plain": [
       "45"
      ]
     },
     "execution_count": 120,
     "metadata": {},
     "output_type": "execute_result"
    }
   ],
   "source": [
    "n = 7 \n",
    "t = [3,5,1,1,2,4,2]\n",
    "p = [10,20,10,20,15,40,200]\n",
    "dp = [0]*n\n",
    "max_value = 0\n",
    "\n",
    "for i in range(n-1,-1,-1):\n",
    "    end_time = i + t[i]\n",
    "    if end_time <= n:\n",
    "        dp[i] = max(p[i]+dp[end_time],max_value)\n",
    "        max_value = dp[i]\n",
    "    else:\n",
    "        dp[i] = max_value\n",
    "\n",
    "max(dp)"
   ]
  },
  {
   "cell_type": "markdown",
   "metadata": {},
   "source": [
    "### 병사배치"
   ]
  },
  {
   "cell_type": "code",
   "execution_count": 134,
   "metadata": {},
   "outputs": [
    {
     "data": {
      "text/plain": [
       "2"
      ]
     },
     "execution_count": 134,
     "metadata": {},
     "output_type": "execute_result"
    }
   ],
   "source": [
    "arr = [15,11,7,6,8,5,2,4]\n",
    "n = len(arr)\n",
    "\n",
    "dp = [1]*n\n",
    "arr.reverse()\n",
    "\n",
    "for i in range(1,n):\n",
    "    for j in range(i):\n",
    "        if arr[i]>arr[j]:\n",
    "            dp[i] = max(dp[i],dp[j]+1)\n",
    "n - max(dp)"
   ]
  },
  {
   "cell_type": "markdown",
   "metadata": {},
   "source": [
    "### 못생긴 수"
   ]
  },
  {
   "cell_type": "code",
   "execution_count": 136,
   "metadata": {},
   "outputs": [
    {
     "data": {
      "text/plain": [
       "24"
      ]
     },
     "execution_count": 136,
     "metadata": {},
     "output_type": "execute_result"
    }
   ],
   "source": [
    "n = 15\n",
    "\n",
    "i2 = i3 = i5 = 0\n",
    "dp = [0] * n \n",
    "dp[0] = 1 \n",
    "\n",
    "n2, n3, n5 = 4, 3, 5\n",
    "for i in range(1,n):\n",
    "    dp[i] = min(n2,n3,n5)\n",
    "    if dp[i] == n2:\n",
    "        i2+=1\n",
    "        n2 = dp[i2] * 2\n",
    "    if dp[i] == n3:\n",
    "        i3+=1\n",
    "        n3 = dp[i3] * 3\n",
    "    if dp[i] == n5:\n",
    "        i5+=1\n",
    "        n5 = dp[i5] * 5\n",
    "dp[-1]\n",
    "    "
   ]
  },
  {
   "cell_type": "code",
   "execution_count": 155,
   "metadata": {},
   "outputs": [
    {
     "data": {
      "text/plain": [
       "-1"
      ]
     },
     "execution_count": 155,
     "metadata": {},
     "output_type": "execute_result"
    }
   ],
   "source": [
    "a = 'cat'\n",
    "b = 'cut'\n",
    "\n",
    "c = []\n",
    "for i in range(len(a)):\n",
    "    for j in range(i,len(b)):\n",
    "        if a[i] == b[j]:\n",
    "            c.append(a[i])\n",
    "len(c) - len(b)"
   ]
  },
  {
   "cell_type": "code",
   "execution_count": 1,
   "metadata": {},
   "outputs": [],
   "source": [
    "a = 'sunday'\n",
    "b = 'saturday'\n"
   ]
  }
 ],
 "metadata": {
  "kernelspec": {
   "display_name": "base",
   "language": "python",
   "name": "python3"
  },
  "language_info": {
   "codemirror_mode": {
    "name": "ipython",
    "version": 3
   },
   "file_extension": ".py",
   "mimetype": "text/x-python",
   "name": "python",
   "nbconvert_exporter": "python",
   "pygments_lexer": "ipython3",
   "version": "3.1.0"
  }
 },
 "nbformat": 4,
 "nbformat_minor": 2
}
