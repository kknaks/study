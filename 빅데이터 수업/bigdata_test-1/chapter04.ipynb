{
 "cells": [
  {
   "attachments": {},
   "cell_type": "markdown",
   "metadata": {},
   "source": [
    "# Pr. 1주어진 학승용 데이터를 활용하여 해당 자동차 모델이 미국에서 만든것인지 예측모형을 만든후 이를 평가용 데이터에 적용하여 얻은 국가예측값을 다음과 같은 형식의 csv파일로 생성하시오"
   ]
  },
  {
   "attachments": {},
   "cell_type": "markdown",
   "metadata": {},
   "source": [
    "## (2)사전준비"
   ]
  },
  {
   "cell_type": "code",
   "execution_count": 1,
   "metadata": {},
   "outputs": [],
   "source": [
    "# 출력을 원하실 경우 print() 함수 활용\n",
    "# 예시) print(df.head())\n",
    "\n",
    "# getcwd(), chdir() 등 작업 폴더 설정 불필요\n",
    "# 파일 경로 상 내부 드라이브 경로(C: 등) 접근 불가\n",
    "\n",
    "# 데이터 파일 읽기 예제\n",
    "import pandas as pd\n",
    "X_test = pd.read_csv(\"./yemoonsaBigdata/datasets/Part2/mpg_X_test.csv\")\n",
    "X_train = pd.read_csv(\"./yemoonsaBigdata/datasets/Part2/mpg_X_train.csv\")\n",
    "y_train = pd.read_csv(\"./yemoonsaBigdata/datasets/Part2/mpg_y_train.csv\")\n",
    "\n",
    "# 사용자 코딩\n",
    "\n",
    "# 답안 제출 참고\n",
    "# 아래 코드 예측변수와 수험번호를 개인별로 변경하여 활용\n",
    "# pd.DataFrame({'gender': pred}).to_csv('003000000.csv', index=False)"
   ]
  },
  {
   "cell_type": "code",
   "execution_count": 2,
   "metadata": {},
   "outputs": [],
   "source": [
    "import pandas as pd \n",
    "import numpy as np"
   ]
  },
  {
   "attachments": {},
   "cell_type": "markdown",
   "metadata": {},
   "source": [
    "## (3)데이터 전처리"
   ]
  },
  {
   "cell_type": "code",
   "execution_count": 4,
   "metadata": {},
   "outputs": [
    {
     "name": "stdout",
     "output_type": "stream",
     "text": [
      "<class 'pandas.core.frame.DataFrame'>\n",
      "RangeIndex: 278 entries, 0 to 277\n",
      "Data columns (total 8 columns):\n",
      " #   Column        Non-Null Count  Dtype  \n",
      "---  ------        --------------  -----  \n",
      " 0   name          278 non-null    object \n",
      " 1   mpg           278 non-null    float64\n",
      " 2   cylinders     278 non-null    int64  \n",
      " 3   displacement  278 non-null    float64\n",
      " 4   horsepower    274 non-null    float64\n",
      " 5   weight        278 non-null    int64  \n",
      " 6   acceleration  278 non-null    float64\n",
      " 7   model_year    278 non-null    int64  \n",
      "dtypes: float64(4), int64(3), object(1)\n",
      "memory usage: 17.5+ KB\n"
     ]
    }
   ],
   "source": [
    "X_train.info()"
   ]
  },
  {
   "cell_type": "code",
   "execution_count": 5,
   "metadata": {},
   "outputs": [
    {
     "data": {
      "text/html": [
       "<div>\n",
       "<style scoped>\n",
       "    .dataframe tbody tr th:only-of-type {\n",
       "        vertical-align: middle;\n",
       "    }\n",
       "\n",
       "    .dataframe tbody tr th {\n",
       "        vertical-align: top;\n",
       "    }\n",
       "\n",
       "    .dataframe thead th {\n",
       "        text-align: right;\n",
       "    }\n",
       "</style>\n",
       "<table border=\"1\" class=\"dataframe\">\n",
       "  <thead>\n",
       "    <tr style=\"text-align: right;\">\n",
       "      <th></th>\n",
       "      <th>name</th>\n",
       "      <th>mpg</th>\n",
       "      <th>cylinders</th>\n",
       "      <th>displacement</th>\n",
       "      <th>horsepower</th>\n",
       "      <th>weight</th>\n",
       "      <th>acceleration</th>\n",
       "      <th>model_year</th>\n",
       "    </tr>\n",
       "  </thead>\n",
       "  <tbody>\n",
       "    <tr>\n",
       "      <th>0</th>\n",
       "      <td>pontiac j2000 se hatchback</td>\n",
       "      <td>31.0</td>\n",
       "      <td>4</td>\n",
       "      <td>112.0</td>\n",
       "      <td>85.0</td>\n",
       "      <td>2575</td>\n",
       "      <td>16.2</td>\n",
       "      <td>82</td>\n",
       "    </tr>\n",
       "    <tr>\n",
       "      <th>1</th>\n",
       "      <td>pontiac safari (sw)</td>\n",
       "      <td>13.0</td>\n",
       "      <td>8</td>\n",
       "      <td>400.0</td>\n",
       "      <td>175.0</td>\n",
       "      <td>5140</td>\n",
       "      <td>12.0</td>\n",
       "      <td>71</td>\n",
       "    </tr>\n",
       "    <tr>\n",
       "      <th>2</th>\n",
       "      <td>mazda glc custom l</td>\n",
       "      <td>37.0</td>\n",
       "      <td>4</td>\n",
       "      <td>91.0</td>\n",
       "      <td>68.0</td>\n",
       "      <td>2025</td>\n",
       "      <td>18.2</td>\n",
       "      <td>82</td>\n",
       "    </tr>\n",
       "    <tr>\n",
       "      <th>3</th>\n",
       "      <td>oldsmobile vista cruiser</td>\n",
       "      <td>12.0</td>\n",
       "      <td>8</td>\n",
       "      <td>350.0</td>\n",
       "      <td>180.0</td>\n",
       "      <td>4499</td>\n",
       "      <td>12.5</td>\n",
       "      <td>73</td>\n",
       "    </tr>\n",
       "    <tr>\n",
       "      <th>4</th>\n",
       "      <td>peugeot 504</td>\n",
       "      <td>19.0</td>\n",
       "      <td>4</td>\n",
       "      <td>120.0</td>\n",
       "      <td>88.0</td>\n",
       "      <td>3270</td>\n",
       "      <td>21.9</td>\n",
       "      <td>76</td>\n",
       "    </tr>\n",
       "    <tr>\n",
       "      <th>...</th>\n",
       "      <td>...</td>\n",
       "      <td>...</td>\n",
       "      <td>...</td>\n",
       "      <td>...</td>\n",
       "      <td>...</td>\n",
       "      <td>...</td>\n",
       "      <td>...</td>\n",
       "      <td>...</td>\n",
       "    </tr>\n",
       "    <tr>\n",
       "      <th>273</th>\n",
       "      <td>honda civic cvcc</td>\n",
       "      <td>36.1</td>\n",
       "      <td>4</td>\n",
       "      <td>91.0</td>\n",
       "      <td>60.0</td>\n",
       "      <td>1800</td>\n",
       "      <td>16.4</td>\n",
       "      <td>78</td>\n",
       "    </tr>\n",
       "    <tr>\n",
       "      <th>274</th>\n",
       "      <td>subaru dl</td>\n",
       "      <td>30.0</td>\n",
       "      <td>4</td>\n",
       "      <td>97.0</td>\n",
       "      <td>67.0</td>\n",
       "      <td>1985</td>\n",
       "      <td>16.4</td>\n",
       "      <td>77</td>\n",
       "    </tr>\n",
       "    <tr>\n",
       "      <th>275</th>\n",
       "      <td>dodge colt m/m</td>\n",
       "      <td>33.5</td>\n",
       "      <td>4</td>\n",
       "      <td>98.0</td>\n",
       "      <td>83.0</td>\n",
       "      <td>2075</td>\n",
       "      <td>15.9</td>\n",
       "      <td>77</td>\n",
       "    </tr>\n",
       "    <tr>\n",
       "      <th>276</th>\n",
       "      <td>ford pinto</td>\n",
       "      <td>18.0</td>\n",
       "      <td>6</td>\n",
       "      <td>171.0</td>\n",
       "      <td>97.0</td>\n",
       "      <td>2984</td>\n",
       "      <td>14.5</td>\n",
       "      <td>75</td>\n",
       "    </tr>\n",
       "    <tr>\n",
       "      <th>277</th>\n",
       "      <td>amc ambassador sst</td>\n",
       "      <td>17.0</td>\n",
       "      <td>8</td>\n",
       "      <td>304.0</td>\n",
       "      <td>150.0</td>\n",
       "      <td>3672</td>\n",
       "      <td>11.5</td>\n",
       "      <td>72</td>\n",
       "    </tr>\n",
       "  </tbody>\n",
       "</table>\n",
       "<p>278 rows × 8 columns</p>\n",
       "</div>"
      ],
      "text/plain": [
       "                           name   mpg  cylinders  displacement  horsepower  \\\n",
       "0    pontiac j2000 se hatchback  31.0          4         112.0        85.0   \n",
       "1           pontiac safari (sw)  13.0          8         400.0       175.0   \n",
       "2            mazda glc custom l  37.0          4          91.0        68.0   \n",
       "3      oldsmobile vista cruiser  12.0          8         350.0       180.0   \n",
       "4                   peugeot 504  19.0          4         120.0        88.0   \n",
       "..                          ...   ...        ...           ...         ...   \n",
       "273            honda civic cvcc  36.1          4          91.0        60.0   \n",
       "274                   subaru dl  30.0          4          97.0        67.0   \n",
       "275              dodge colt m/m  33.5          4          98.0        83.0   \n",
       "276                  ford pinto  18.0          6         171.0        97.0   \n",
       "277          amc ambassador sst  17.0          8         304.0       150.0   \n",
       "\n",
       "     weight  acceleration  model_year  \n",
       "0      2575          16.2          82  \n",
       "1      5140          12.0          71  \n",
       "2      2025          18.2          82  \n",
       "3      4499          12.5          73  \n",
       "4      3270          21.9          76  \n",
       "..      ...           ...         ...  \n",
       "273    1800          16.4          78  \n",
       "274    1985          16.4          77  \n",
       "275    2075          15.9          77  \n",
       "276    2984          14.5          75  \n",
       "277    3672          11.5          72  \n",
       "\n",
       "[278 rows x 8 columns]"
      ]
     },
     "execution_count": 5,
     "metadata": {},
     "output_type": "execute_result"
    }
   ],
   "source": [
    "X_train"
   ]
  },
  {
   "cell_type": "code",
   "execution_count": 10,
   "metadata": {},
   "outputs": [],
   "source": [
    "#결측치 채우기\n",
    "from sklearn.impute import SimpleImputer\n",
    "\n",
    "imputer = SimpleImputer(missing_values= np.nan, strategy='mean')\n",
    "X_train[['horsepower']] = imputer.fit_transform(X_train[['horsepower']])\n",
    "X_test[['horsepower']] = imputer.fit_transform(X_test[['horsepower']])"
   ]
  },
  {
   "cell_type": "code",
   "execution_count": 9,
   "metadata": {},
   "outputs": [
    {
     "data": {
      "text/html": [
       "<div>\n",
       "<style scoped>\n",
       "    .dataframe tbody tr th:only-of-type {\n",
       "        vertical-align: middle;\n",
       "    }\n",
       "\n",
       "    .dataframe tbody tr th {\n",
       "        vertical-align: top;\n",
       "    }\n",
       "\n",
       "    .dataframe thead th {\n",
       "        text-align: right;\n",
       "    }\n",
       "</style>\n",
       "<table border=\"1\" class=\"dataframe\">\n",
       "  <thead>\n",
       "    <tr style=\"text-align: right;\">\n",
       "      <th></th>\n",
       "      <th>mpg</th>\n",
       "      <th>cylinders</th>\n",
       "      <th>displacement</th>\n",
       "      <th>horsepower</th>\n",
       "      <th>weight</th>\n",
       "      <th>acceleration</th>\n",
       "      <th>model_year</th>\n",
       "    </tr>\n",
       "  </thead>\n",
       "  <tbody>\n",
       "    <tr>\n",
       "      <th>count</th>\n",
       "      <td>278.000000</td>\n",
       "      <td>278.000000</td>\n",
       "      <td>278.000000</td>\n",
       "      <td>278.000000</td>\n",
       "      <td>278.000000</td>\n",
       "      <td>278.000000</td>\n",
       "      <td>278.000000</td>\n",
       "    </tr>\n",
       "    <tr>\n",
       "      <th>mean</th>\n",
       "      <td>23.732734</td>\n",
       "      <td>5.374101</td>\n",
       "      <td>189.994604</td>\n",
       "      <td>103.383212</td>\n",
       "      <td>2948.464029</td>\n",
       "      <td>15.580216</td>\n",
       "      <td>76.057554</td>\n",
       "    </tr>\n",
       "    <tr>\n",
       "      <th>std</th>\n",
       "      <td>7.647295</td>\n",
       "      <td>1.677084</td>\n",
       "      <td>105.471423</td>\n",
       "      <td>38.695458</td>\n",
       "      <td>862.949746</td>\n",
       "      <td>2.745907</td>\n",
       "      <td>3.605591</td>\n",
       "    </tr>\n",
       "    <tr>\n",
       "      <th>min</th>\n",
       "      <td>10.000000</td>\n",
       "      <td>3.000000</td>\n",
       "      <td>68.000000</td>\n",
       "      <td>46.000000</td>\n",
       "      <td>1613.000000</td>\n",
       "      <td>8.000000</td>\n",
       "      <td>70.000000</td>\n",
       "    </tr>\n",
       "    <tr>\n",
       "      <th>25%</th>\n",
       "      <td>18.000000</td>\n",
       "      <td>4.000000</td>\n",
       "      <td>98.000000</td>\n",
       "      <td>75.000000</td>\n",
       "      <td>2206.250000</td>\n",
       "      <td>14.000000</td>\n",
       "      <td>73.000000</td>\n",
       "    </tr>\n",
       "    <tr>\n",
       "      <th>50%</th>\n",
       "      <td>23.000000</td>\n",
       "      <td>4.000000</td>\n",
       "      <td>140.500000</td>\n",
       "      <td>90.500000</td>\n",
       "      <td>2737.500000</td>\n",
       "      <td>15.500000</td>\n",
       "      <td>76.000000</td>\n",
       "    </tr>\n",
       "    <tr>\n",
       "      <th>75%</th>\n",
       "      <td>29.000000</td>\n",
       "      <td>6.000000</td>\n",
       "      <td>258.000000</td>\n",
       "      <td>118.750000</td>\n",
       "      <td>3560.000000</td>\n",
       "      <td>17.000000</td>\n",
       "      <td>79.000000</td>\n",
       "    </tr>\n",
       "    <tr>\n",
       "      <th>max</th>\n",
       "      <td>46.600000</td>\n",
       "      <td>8.000000</td>\n",
       "      <td>455.000000</td>\n",
       "      <td>230.000000</td>\n",
       "      <td>5140.000000</td>\n",
       "      <td>24.800000</td>\n",
       "      <td>82.000000</td>\n",
       "    </tr>\n",
       "  </tbody>\n",
       "</table>\n",
       "</div>"
      ],
      "text/plain": [
       "              mpg   cylinders  displacement  horsepower       weight  \\\n",
       "count  278.000000  278.000000    278.000000  278.000000   278.000000   \n",
       "mean    23.732734    5.374101    189.994604  103.383212  2948.464029   \n",
       "std      7.647295    1.677084    105.471423   38.695458   862.949746   \n",
       "min     10.000000    3.000000     68.000000   46.000000  1613.000000   \n",
       "25%     18.000000    4.000000     98.000000   75.000000  2206.250000   \n",
       "50%     23.000000    4.000000    140.500000   90.500000  2737.500000   \n",
       "75%     29.000000    6.000000    258.000000  118.750000  3560.000000   \n",
       "max     46.600000    8.000000    455.000000  230.000000  5140.000000   \n",
       "\n",
       "       acceleration  model_year  \n",
       "count    278.000000  278.000000  \n",
       "mean      15.580216   76.057554  \n",
       "std        2.745907    3.605591  \n",
       "min        8.000000   70.000000  \n",
       "25%       14.000000   73.000000  \n",
       "50%       15.500000   76.000000  \n",
       "75%       17.000000   79.000000  \n",
       "max       24.800000   82.000000  "
      ]
     },
     "execution_count": 9,
     "metadata": {},
     "output_type": "execute_result"
    }
   ],
   "source": [
    "#통계치 확인\n",
    "X_train.describe()"
   ]
  },
  {
   "cell_type": "code",
   "execution_count": 17,
   "metadata": {},
   "outputs": [],
   "source": [
    "COL_DEL = ['name']\n",
    "COL_NUM = ['mpg', 'cylinders', 'displacement', 'horsepower', 'weight', 'acceleration', 'model_year'] \n",
    "COL_CAT = []\n",
    "COL_Y = ['isUSA']\n",
    "\n",
    "X_train = X_train.iloc[:,1:]\n",
    "X_test = X_test.iloc[:,1:]"
   ]
  },
  {
   "attachments": {},
   "cell_type": "markdown",
   "metadata": {},
   "source": [
    "## (4)데이터 모형구축\n"
   ]
  },
  {
   "cell_type": "code",
   "execution_count": 40,
   "metadata": {},
   "outputs": [],
   "source": [
    "#데이터 분할\n",
    "from sklearn.model_selection import train_test_split\n",
    "\n",
    "X_tr, X_val, y_tr, y_val = train_test_split(X_train, y_train, test_size= 0.3)"
   ]
  },
  {
   "cell_type": "code",
   "execution_count": 41,
   "metadata": {},
   "outputs": [],
   "source": [
    "#스케일링\n",
    "from sklearn.preprocessing import StandardScaler\n",
    "\n",
    "scaler = StandardScaler()\n",
    "scaler.fit(X_train[COL_NUM])\n",
    "X_tr[COL_NUM] = scaler.transform(X_tr[COL_NUM])\n",
    "X_val[COL_NUM] = scaler.transform(X_val[COL_NUM])\n",
    "X_test[COL_NUM] = scaler.transform(X_test[COL_NUM])"
   ]
  },
  {
   "cell_type": "code",
   "execution_count": 42,
   "metadata": {},
   "outputs": [
    {
     "data": {
      "text/html": [
       "<style>#sk-container-id-6 {color: black;background-color: white;}#sk-container-id-6 pre{padding: 0;}#sk-container-id-6 div.sk-toggleable {background-color: white;}#sk-container-id-6 label.sk-toggleable__label {cursor: pointer;display: block;width: 100%;margin-bottom: 0;padding: 0.3em;box-sizing: border-box;text-align: center;}#sk-container-id-6 label.sk-toggleable__label-arrow:before {content: \"▸\";float: left;margin-right: 0.25em;color: #696969;}#sk-container-id-6 label.sk-toggleable__label-arrow:hover:before {color: black;}#sk-container-id-6 div.sk-estimator:hover label.sk-toggleable__label-arrow:before {color: black;}#sk-container-id-6 div.sk-toggleable__content {max-height: 0;max-width: 0;overflow: hidden;text-align: left;background-color: #f0f8ff;}#sk-container-id-6 div.sk-toggleable__content pre {margin: 0.2em;color: black;border-radius: 0.25em;background-color: #f0f8ff;}#sk-container-id-6 input.sk-toggleable__control:checked~div.sk-toggleable__content {max-height: 200px;max-width: 100%;overflow: auto;}#sk-container-id-6 input.sk-toggleable__control:checked~label.sk-toggleable__label-arrow:before {content: \"▾\";}#sk-container-id-6 div.sk-estimator input.sk-toggleable__control:checked~label.sk-toggleable__label {background-color: #d4ebff;}#sk-container-id-6 div.sk-label input.sk-toggleable__control:checked~label.sk-toggleable__label {background-color: #d4ebff;}#sk-container-id-6 input.sk-hidden--visually {border: 0;clip: rect(1px 1px 1px 1px);clip: rect(1px, 1px, 1px, 1px);height: 1px;margin: -1px;overflow: hidden;padding: 0;position: absolute;width: 1px;}#sk-container-id-6 div.sk-estimator {font-family: monospace;background-color: #f0f8ff;border: 1px dotted black;border-radius: 0.25em;box-sizing: border-box;margin-bottom: 0.5em;}#sk-container-id-6 div.sk-estimator:hover {background-color: #d4ebff;}#sk-container-id-6 div.sk-parallel-item::after {content: \"\";width: 100%;border-bottom: 1px solid gray;flex-grow: 1;}#sk-container-id-6 div.sk-label:hover label.sk-toggleable__label {background-color: #d4ebff;}#sk-container-id-6 div.sk-serial::before {content: \"\";position: absolute;border-left: 1px solid gray;box-sizing: border-box;top: 0;bottom: 0;left: 50%;z-index: 0;}#sk-container-id-6 div.sk-serial {display: flex;flex-direction: column;align-items: center;background-color: white;padding-right: 0.2em;padding-left: 0.2em;position: relative;}#sk-container-id-6 div.sk-item {position: relative;z-index: 1;}#sk-container-id-6 div.sk-parallel {display: flex;align-items: stretch;justify-content: center;background-color: white;position: relative;}#sk-container-id-6 div.sk-item::before, #sk-container-id-6 div.sk-parallel-item::before {content: \"\";position: absolute;border-left: 1px solid gray;box-sizing: border-box;top: 0;bottom: 0;left: 50%;z-index: -1;}#sk-container-id-6 div.sk-parallel-item {display: flex;flex-direction: column;z-index: 1;position: relative;background-color: white;}#sk-container-id-6 div.sk-parallel-item:first-child::after {align-self: flex-end;width: 50%;}#sk-container-id-6 div.sk-parallel-item:last-child::after {align-self: flex-start;width: 50%;}#sk-container-id-6 div.sk-parallel-item:only-child::after {width: 0;}#sk-container-id-6 div.sk-dashed-wrapped {border: 1px dashed gray;margin: 0 0.4em 0.5em 0.4em;box-sizing: border-box;padding-bottom: 0.4em;background-color: white;}#sk-container-id-6 div.sk-label label {font-family: monospace;font-weight: bold;display: inline-block;line-height: 1.2em;}#sk-container-id-6 div.sk-label-container {text-align: center;}#sk-container-id-6 div.sk-container {/* jupyter's `normalize.less` sets `[hidden] { display: none; }` but bootstrap.min.css set `[hidden] { display: none !important; }` so we also need the `!important` here to be able to override the default hidden behavior on the sphinx rendered scikit-learn.org. See: https://github.com/scikit-learn/scikit-learn/issues/21755 */display: inline-block !important;position: relative;}#sk-container-id-6 div.sk-text-repr-fallback {display: none;}</style><div id=\"sk-container-id-6\" class=\"sk-top-container\"><div class=\"sk-text-repr-fallback\"><pre>KNeighborsClassifier(metric=&#x27;euclidean&#x27;)</pre><b>In a Jupyter environment, please rerun this cell to show the HTML representation or trust the notebook. <br />On GitHub, the HTML representation is unable to render, please try loading this page with nbviewer.org.</b></div><div class=\"sk-container\" hidden><div class=\"sk-item\"><div class=\"sk-estimator sk-toggleable\"><input class=\"sk-toggleable__control sk-hidden--visually\" id=\"sk-estimator-id-6\" type=\"checkbox\" checked><label for=\"sk-estimator-id-6\" class=\"sk-toggleable__label sk-toggleable__label-arrow\">KNeighborsClassifier</label><div class=\"sk-toggleable__content\"><pre>KNeighborsClassifier(metric=&#x27;euclidean&#x27;)</pre></div></div></div></div></div>"
      ],
      "text/plain": [
       "KNeighborsClassifier(metric='euclidean')"
      ]
     },
     "execution_count": 42,
     "metadata": {},
     "output_type": "execute_result"
    }
   ],
   "source": [
    "#KNN모델 적용\n",
    "from sklearn.neighbors import KNeighborsClassifier\n",
    "modelKNN = KNeighborsClassifier(n_neighbors=5, metric='euclidean')\n",
    "modelKNN.fit(X_tr, y_tr.values.ravel())\n"
   ]
  },
  {
   "cell_type": "code",
   "execution_count": 43,
   "metadata": {},
   "outputs": [
    {
     "data": {
      "text/html": [
       "<style>#sk-container-id-7 {color: black;background-color: white;}#sk-container-id-7 pre{padding: 0;}#sk-container-id-7 div.sk-toggleable {background-color: white;}#sk-container-id-7 label.sk-toggleable__label {cursor: pointer;display: block;width: 100%;margin-bottom: 0;padding: 0.3em;box-sizing: border-box;text-align: center;}#sk-container-id-7 label.sk-toggleable__label-arrow:before {content: \"▸\";float: left;margin-right: 0.25em;color: #696969;}#sk-container-id-7 label.sk-toggleable__label-arrow:hover:before {color: black;}#sk-container-id-7 div.sk-estimator:hover label.sk-toggleable__label-arrow:before {color: black;}#sk-container-id-7 div.sk-toggleable__content {max-height: 0;max-width: 0;overflow: hidden;text-align: left;background-color: #f0f8ff;}#sk-container-id-7 div.sk-toggleable__content pre {margin: 0.2em;color: black;border-radius: 0.25em;background-color: #f0f8ff;}#sk-container-id-7 input.sk-toggleable__control:checked~div.sk-toggleable__content {max-height: 200px;max-width: 100%;overflow: auto;}#sk-container-id-7 input.sk-toggleable__control:checked~label.sk-toggleable__label-arrow:before {content: \"▾\";}#sk-container-id-7 div.sk-estimator input.sk-toggleable__control:checked~label.sk-toggleable__label {background-color: #d4ebff;}#sk-container-id-7 div.sk-label input.sk-toggleable__control:checked~label.sk-toggleable__label {background-color: #d4ebff;}#sk-container-id-7 input.sk-hidden--visually {border: 0;clip: rect(1px 1px 1px 1px);clip: rect(1px, 1px, 1px, 1px);height: 1px;margin: -1px;overflow: hidden;padding: 0;position: absolute;width: 1px;}#sk-container-id-7 div.sk-estimator {font-family: monospace;background-color: #f0f8ff;border: 1px dotted black;border-radius: 0.25em;box-sizing: border-box;margin-bottom: 0.5em;}#sk-container-id-7 div.sk-estimator:hover {background-color: #d4ebff;}#sk-container-id-7 div.sk-parallel-item::after {content: \"\";width: 100%;border-bottom: 1px solid gray;flex-grow: 1;}#sk-container-id-7 div.sk-label:hover label.sk-toggleable__label {background-color: #d4ebff;}#sk-container-id-7 div.sk-serial::before {content: \"\";position: absolute;border-left: 1px solid gray;box-sizing: border-box;top: 0;bottom: 0;left: 50%;z-index: 0;}#sk-container-id-7 div.sk-serial {display: flex;flex-direction: column;align-items: center;background-color: white;padding-right: 0.2em;padding-left: 0.2em;position: relative;}#sk-container-id-7 div.sk-item {position: relative;z-index: 1;}#sk-container-id-7 div.sk-parallel {display: flex;align-items: stretch;justify-content: center;background-color: white;position: relative;}#sk-container-id-7 div.sk-item::before, #sk-container-id-7 div.sk-parallel-item::before {content: \"\";position: absolute;border-left: 1px solid gray;box-sizing: border-box;top: 0;bottom: 0;left: 50%;z-index: -1;}#sk-container-id-7 div.sk-parallel-item {display: flex;flex-direction: column;z-index: 1;position: relative;background-color: white;}#sk-container-id-7 div.sk-parallel-item:first-child::after {align-self: flex-end;width: 50%;}#sk-container-id-7 div.sk-parallel-item:last-child::after {align-self: flex-start;width: 50%;}#sk-container-id-7 div.sk-parallel-item:only-child::after {width: 0;}#sk-container-id-7 div.sk-dashed-wrapped {border: 1px dashed gray;margin: 0 0.4em 0.5em 0.4em;box-sizing: border-box;padding-bottom: 0.4em;background-color: white;}#sk-container-id-7 div.sk-label label {font-family: monospace;font-weight: bold;display: inline-block;line-height: 1.2em;}#sk-container-id-7 div.sk-label-container {text-align: center;}#sk-container-id-7 div.sk-container {/* jupyter's `normalize.less` sets `[hidden] { display: none; }` but bootstrap.min.css set `[hidden] { display: none !important; }` so we also need the `!important` here to be able to override the default hidden behavior on the sphinx rendered scikit-learn.org. See: https://github.com/scikit-learn/scikit-learn/issues/21755 */display: inline-block !important;position: relative;}#sk-container-id-7 div.sk-text-repr-fallback {display: none;}</style><div id=\"sk-container-id-7\" class=\"sk-top-container\"><div class=\"sk-text-repr-fallback\"><pre>DecisionTreeClassifier(max_depth=10)</pre><b>In a Jupyter environment, please rerun this cell to show the HTML representation or trust the notebook. <br />On GitHub, the HTML representation is unable to render, please try loading this page with nbviewer.org.</b></div><div class=\"sk-container\" hidden><div class=\"sk-item\"><div class=\"sk-estimator sk-toggleable\"><input class=\"sk-toggleable__control sk-hidden--visually\" id=\"sk-estimator-id-7\" type=\"checkbox\" checked><label for=\"sk-estimator-id-7\" class=\"sk-toggleable__label sk-toggleable__label-arrow\">DecisionTreeClassifier</label><div class=\"sk-toggleable__content\"><pre>DecisionTreeClassifier(max_depth=10)</pre></div></div></div></div></div>"
      ],
      "text/plain": [
       "DecisionTreeClassifier(max_depth=10)"
      ]
     },
     "execution_count": 43,
     "metadata": {},
     "output_type": "execute_result"
    }
   ],
   "source": [
    "#의사결정나무 적용\n",
    "from sklearn.tree import DecisionTreeClassifier\n",
    "modelDT = DecisionTreeClassifier(max_depth= 10)\n",
    "modelDT.fit(X_tr, y_tr)\n"
   ]
  },
  {
   "attachments": {},
   "cell_type": "markdown",
   "metadata": {},
   "source": [
    "## (5)데이터 모형 평가"
   ]
  },
  {
   "cell_type": "code",
   "execution_count": 44,
   "metadata": {},
   "outputs": [],
   "source": [
    "y_val_pred = modelKNN.predict(X_val)\n",
    "\n",
    "y_val_pred_probalKNN = modelKNN.predict_proba(X_val)\n",
    "y_val_pred_probalDT = modelDT.predict_proba(X_val)"
   ]
  },
  {
   "cell_type": "code",
   "execution_count": 45,
   "metadata": {},
   "outputs": [
    {
     "name": "stdout",
     "output_type": "stream",
     "text": [
      "0.8789772727272727 0.8431818181818181\n"
     ]
    }
   ],
   "source": [
    "from sklearn.metrics import roc_auc_score\n",
    "\n",
    "scoreKNN = roc_auc_score(y_val, y_val_pred_probalKNN[:,1])\n",
    "scoreDT = roc_auc_score(y_val, y_val_pred_probalDT[:,1])\n",
    "\n",
    "print(scoreKNN, scoreDT)"
   ]
  },
  {
   "cell_type": "code",
   "execution_count": 56,
   "metadata": {},
   "outputs": [
    {
     "name": "stdout",
     "output_type": "stream",
     "text": [
      "2개 이웃일때 점수 0.8451704545454546\n",
      "3개 이웃일때 점수 0.8730113636363637\n",
      "4개 이웃일때 점수 0.8823863636363637\n",
      "5개 이웃일때 점수 0.8789772727272727\n",
      "6개 이웃일때 점수 0.8911931818181819\n",
      "7개 이웃일때 점수 0.8963068181818183\n",
      "8개 이웃일때 점수 0.8963068181818182\n",
      "9개 이웃일때 점수 0.8889204545454547\n"
     ]
    }
   ],
   "source": [
    "best_model = None\n",
    "best_score = 0 \n",
    "\n",
    "for i in range(2,10):\n",
    "    model = KNeighborsClassifier(n_neighbors= i, metric='euclidean')\n",
    "    model.fit(X_tr, y_tr.values.ravel())\n",
    "    y_val_pred_proba = model.predict_proba(X_val)\n",
    "    score = roc_auc_score(y_val, y_val_pred_proba[:,1])\n",
    "    print(f'{i}개 이웃일때 점수 {score}')\n",
    "    if best_score <= score :\n",
    "        best_model = model\n",
    "\n"
   ]
  },
  {
   "cell_type": "code",
   "execution_count": 58,
   "metadata": {},
   "outputs": [
    {
     "data": {
      "text/plain": [
       "array([[0.44444444, 0.55555556],\n",
       "       [0.44444444, 0.55555556],\n",
       "       [0.33333333, 0.66666667],\n",
       "       [0.44444444, 0.55555556],\n",
       "       [0.44444444, 0.55555556],\n",
       "       [0.44444444, 0.55555556],\n",
       "       [0.44444444, 0.55555556],\n",
       "       [0.44444444, 0.55555556],\n",
       "       [0.44444444, 0.55555556],\n",
       "       [0.44444444, 0.55555556],\n",
       "       [0.44444444, 0.55555556],\n",
       "       [0.44444444, 0.55555556],\n",
       "       [0.33333333, 0.66666667],\n",
       "       [0.44444444, 0.55555556],\n",
       "       [0.44444444, 0.55555556],\n",
       "       [0.44444444, 0.55555556],\n",
       "       [0.33333333, 0.66666667],\n",
       "       [0.33333333, 0.66666667],\n",
       "       [0.44444444, 0.55555556],\n",
       "       [0.33333333, 0.66666667],\n",
       "       [0.33333333, 0.66666667],\n",
       "       [0.44444444, 0.55555556],\n",
       "       [0.33333333, 0.66666667],\n",
       "       [0.33333333, 0.66666667],\n",
       "       [0.33333333, 0.66666667],\n",
       "       [0.44444444, 0.55555556],\n",
       "       [0.44444444, 0.55555556],\n",
       "       [0.33333333, 0.66666667],\n",
       "       [0.33333333, 0.66666667],\n",
       "       [0.44444444, 0.55555556],\n",
       "       [0.44444444, 0.55555556],\n",
       "       [0.44444444, 0.55555556],\n",
       "       [0.44444444, 0.55555556],\n",
       "       [0.44444444, 0.55555556],\n",
       "       [0.44444444, 0.55555556],\n",
       "       [0.44444444, 0.55555556],\n",
       "       [0.44444444, 0.55555556],\n",
       "       [0.44444444, 0.55555556],\n",
       "       [0.44444444, 0.55555556],\n",
       "       [0.44444444, 0.55555556],\n",
       "       [0.33333333, 0.66666667],\n",
       "       [0.44444444, 0.55555556],\n",
       "       [0.44444444, 0.55555556],\n",
       "       [0.44444444, 0.55555556],\n",
       "       [0.44444444, 0.55555556],\n",
       "       [0.44444444, 0.55555556],\n",
       "       [0.44444444, 0.55555556],\n",
       "       [0.33333333, 0.66666667],\n",
       "       [0.44444444, 0.55555556],\n",
       "       [0.44444444, 0.55555556],\n",
       "       [0.44444444, 0.55555556],\n",
       "       [0.44444444, 0.55555556],\n",
       "       [0.44444444, 0.55555556],\n",
       "       [0.44444444, 0.55555556],\n",
       "       [0.33333333, 0.66666667],\n",
       "       [0.33333333, 0.66666667],\n",
       "       [0.44444444, 0.55555556],\n",
       "       [0.44444444, 0.55555556],\n",
       "       [0.44444444, 0.55555556],\n",
       "       [0.44444444, 0.55555556],\n",
       "       [0.44444444, 0.55555556],\n",
       "       [0.44444444, 0.55555556],\n",
       "       [0.33333333, 0.66666667],\n",
       "       [0.44444444, 0.55555556],\n",
       "       [0.44444444, 0.55555556],\n",
       "       [0.44444444, 0.55555556],\n",
       "       [0.33333333, 0.66666667],\n",
       "       [0.44444444, 0.55555556],\n",
       "       [0.44444444, 0.55555556],\n",
       "       [0.44444444, 0.55555556],\n",
       "       [0.44444444, 0.55555556],\n",
       "       [0.33333333, 0.66666667],\n",
       "       [0.44444444, 0.55555556],\n",
       "       [0.44444444, 0.55555556],\n",
       "       [0.33333333, 0.66666667],\n",
       "       [0.44444444, 0.55555556],\n",
       "       [0.33333333, 0.66666667],\n",
       "       [0.44444444, 0.55555556],\n",
       "       [0.44444444, 0.55555556],\n",
       "       [0.33333333, 0.66666667],\n",
       "       [0.44444444, 0.55555556],\n",
       "       [0.33333333, 0.66666667],\n",
       "       [0.44444444, 0.55555556],\n",
       "       [0.33333333, 0.66666667],\n",
       "       [0.33333333, 0.66666667],\n",
       "       [0.44444444, 0.55555556],\n",
       "       [0.44444444, 0.55555556],\n",
       "       [0.44444444, 0.55555556],\n",
       "       [0.44444444, 0.55555556],\n",
       "       [0.33333333, 0.66666667],\n",
       "       [0.44444444, 0.55555556],\n",
       "       [0.33333333, 0.66666667],\n",
       "       [0.33333333, 0.66666667],\n",
       "       [0.33333333, 0.66666667],\n",
       "       [0.44444444, 0.55555556],\n",
       "       [0.44444444, 0.55555556],\n",
       "       [0.44444444, 0.55555556],\n",
       "       [0.44444444, 0.55555556],\n",
       "       [0.33333333, 0.66666667],\n",
       "       [0.44444444, 0.55555556],\n",
       "       [0.44444444, 0.55555556],\n",
       "       [0.33333333, 0.66666667],\n",
       "       [0.33333333, 0.66666667],\n",
       "       [0.33333333, 0.66666667],\n",
       "       [0.44444444, 0.55555556],\n",
       "       [0.44444444, 0.55555556],\n",
       "       [0.44444444, 0.55555556],\n",
       "       [0.44444444, 0.55555556],\n",
       "       [0.44444444, 0.55555556],\n",
       "       [0.33333333, 0.66666667],\n",
       "       [0.44444444, 0.55555556],\n",
       "       [0.44444444, 0.55555556],\n",
       "       [0.44444444, 0.55555556],\n",
       "       [0.33333333, 0.66666667],\n",
       "       [0.33333333, 0.66666667],\n",
       "       [0.44444444, 0.55555556],\n",
       "       [0.44444444, 0.55555556],\n",
       "       [0.44444444, 0.55555556],\n",
       "       [0.33333333, 0.66666667],\n",
       "       [0.44444444, 0.55555556]])"
      ]
     },
     "execution_count": 58,
     "metadata": {},
     "output_type": "execute_result"
    }
   ],
   "source": [
    "best_model.predict_proba(X_test)"
   ]
  },
  {
   "cell_type": "code",
   "execution_count": 60,
   "metadata": {},
   "outputs": [],
   "source": [
    "pred = best_model.predict_proba(X_test)[:,1]"
   ]
  },
  {
   "cell_type": "code",
   "execution_count": 63,
   "metadata": {},
   "outputs": [
    {
     "data": {
      "text/html": [
       "<div>\n",
       "<style scoped>\n",
       "    .dataframe tbody tr th:only-of-type {\n",
       "        vertical-align: middle;\n",
       "    }\n",
       "\n",
       "    .dataframe tbody tr th {\n",
       "        vertical-align: top;\n",
       "    }\n",
       "\n",
       "    .dataframe thead th {\n",
       "        text-align: right;\n",
       "    }\n",
       "</style>\n",
       "<table border=\"1\" class=\"dataframe\">\n",
       "  <thead>\n",
       "    <tr style=\"text-align: right;\">\n",
       "      <th></th>\n",
       "      <th>isUSA</th>\n",
       "    </tr>\n",
       "  </thead>\n",
       "  <tbody>\n",
       "    <tr>\n",
       "      <th>0</th>\n",
       "      <td>0.555556</td>\n",
       "    </tr>\n",
       "    <tr>\n",
       "      <th>1</th>\n",
       "      <td>0.555556</td>\n",
       "    </tr>\n",
       "    <tr>\n",
       "      <th>2</th>\n",
       "      <td>0.666667</td>\n",
       "    </tr>\n",
       "    <tr>\n",
       "      <th>3</th>\n",
       "      <td>0.555556</td>\n",
       "    </tr>\n",
       "    <tr>\n",
       "      <th>4</th>\n",
       "      <td>0.555556</td>\n",
       "    </tr>\n",
       "    <tr>\n",
       "      <th>...</th>\n",
       "      <td>...</td>\n",
       "    </tr>\n",
       "    <tr>\n",
       "      <th>115</th>\n",
       "      <td>0.555556</td>\n",
       "    </tr>\n",
       "    <tr>\n",
       "      <th>116</th>\n",
       "      <td>0.555556</td>\n",
       "    </tr>\n",
       "    <tr>\n",
       "      <th>117</th>\n",
       "      <td>0.555556</td>\n",
       "    </tr>\n",
       "    <tr>\n",
       "      <th>118</th>\n",
       "      <td>0.666667</td>\n",
       "    </tr>\n",
       "    <tr>\n",
       "      <th>119</th>\n",
       "      <td>0.555556</td>\n",
       "    </tr>\n",
       "  </tbody>\n",
       "</table>\n",
       "<p>120 rows × 1 columns</p>\n",
       "</div>"
      ],
      "text/plain": [
       "        isUSA\n",
       "0    0.555556\n",
       "1    0.555556\n",
       "2    0.666667\n",
       "3    0.555556\n",
       "4    0.555556\n",
       "..        ...\n",
       "115  0.555556\n",
       "116  0.555556\n",
       "117  0.555556\n",
       "118  0.666667\n",
       "119  0.555556\n",
       "\n",
       "[120 rows x 1 columns]"
      ]
     },
     "execution_count": 63,
     "metadata": {},
     "output_type": "execute_result"
    }
   ],
   "source": [
    "pd.DataFrame({'isUSA' : pred})"
   ]
  },
  {
   "attachments": {},
   "cell_type": "markdown",
   "metadata": {},
   "source": [
    "# Pr2. 주어진 데이터를 활용하여 해당 펭귄의 무게를 예측하는 회귀모형을 만든 후 이를 평가용 데이터에 적용하여 얻은 무게 예측값을 csv파일로 생성하시오"
   ]
  },
  {
   "attachments": {},
   "cell_type": "markdown",
   "metadata": {},
   "source": [
    "## (1)문제 입력"
   ]
  },
  {
   "cell_type": "code",
   "execution_count": 162,
   "metadata": {},
   "outputs": [],
   "source": [
    "# 출력을 원하실 경우 print() 함수 활용\n",
    "# 예시) print(df.head())\n",
    "\n",
    "# getcwd(), chdir() 등 작업 폴더 설정 불필요\n",
    "# 파일 경로 상 내부 드라이브 경로(C: 등) 접근 불가\n",
    "\n",
    "# 데이터 파일 읽기 예제\n",
    "import pandas as pd\n",
    "X_test = pd.read_csv(\"./yemoonsaBigdata/datasets/Part2/penguin_X_test.csv\")\n",
    "X_train = pd.read_csv(\"./yemoonsaBigdata/datasets/Part2/penguin_X_train.csv\")\n",
    "y_train = pd.read_csv(\"./yemoonsaBigdata/datasets/Part2/penguin_y_train.csv\")\n",
    "\n",
    "# 사용자 코딩\n",
    "\n",
    "# 답안 제출 참고\n",
    "# 아래 코드 예측변수와 수험번호를 개인별로 변경하여 활용\n",
    "# pd.DataFrame({'cust_id': X_test.cust_id, 'gender': pred}).to_csv('003000000.csv', index=False)"
   ]
  },
  {
   "attachments": {},
   "cell_type": "markdown",
   "metadata": {},
   "source": [
    "## (2)사전준비"
   ]
  },
  {
   "cell_type": "code",
   "execution_count": 163,
   "metadata": {},
   "outputs": [],
   "source": [
    "import pandas as pd \n",
    "import numpy as np\n",
    "import warnings\n",
    "\n",
    "warnings.filterwarnings('ignore')"
   ]
  },
  {
   "attachments": {},
   "cell_type": "markdown",
   "metadata": {},
   "source": [
    "## (3)데이터전처리"
   ]
  },
  {
   "cell_type": "code",
   "execution_count": 164,
   "metadata": {},
   "outputs": [
    {
     "name": "stdout",
     "output_type": "stream",
     "text": [
      "<class 'pandas.core.frame.DataFrame'>\n",
      "RangeIndex: 240 entries, 0 to 239\n",
      "Data columns (total 6 columns):\n",
      " #   Column             Non-Null Count  Dtype  \n",
      "---  ------             --------------  -----  \n",
      " 0   species            240 non-null    object \n",
      " 1   island             240 non-null    object \n",
      " 2   sex                232 non-null    object \n",
      " 3   bill_length_mm     238 non-null    float64\n",
      " 4   bill_depth_mm      238 non-null    float64\n",
      " 5   flipper_length_mm  238 non-null    float64\n",
      "dtypes: float64(3), object(3)\n",
      "memory usage: 11.4+ KB\n"
     ]
    }
   ],
   "source": [
    "#결측치 확인\n",
    "X_train.info()"
   ]
  },
  {
   "cell_type": "code",
   "execution_count": 165,
   "metadata": {},
   "outputs": [
    {
     "data": {
      "text/html": [
       "<div>\n",
       "<style scoped>\n",
       "    .dataframe tbody tr th:only-of-type {\n",
       "        vertical-align: middle;\n",
       "    }\n",
       "\n",
       "    .dataframe tbody tr th {\n",
       "        vertical-align: top;\n",
       "    }\n",
       "\n",
       "    .dataframe thead th {\n",
       "        text-align: right;\n",
       "    }\n",
       "</style>\n",
       "<table border=\"1\" class=\"dataframe\">\n",
       "  <thead>\n",
       "    <tr style=\"text-align: right;\">\n",
       "      <th></th>\n",
       "      <th>species</th>\n",
       "      <th>island</th>\n",
       "      <th>sex</th>\n",
       "      <th>bill_length_mm</th>\n",
       "      <th>bill_depth_mm</th>\n",
       "      <th>flipper_length_mm</th>\n",
       "      <th>body_mass_g</th>\n",
       "    </tr>\n",
       "  </thead>\n",
       "  <tbody>\n",
       "    <tr>\n",
       "      <th>0</th>\n",
       "      <td>Adelie</td>\n",
       "      <td>Torgersen</td>\n",
       "      <td>NaN</td>\n",
       "      <td>42.0</td>\n",
       "      <td>20.2</td>\n",
       "      <td>190.0</td>\n",
       "      <td>4250.0</td>\n",
       "    </tr>\n",
       "    <tr>\n",
       "      <th>6</th>\n",
       "      <td>Gentoo</td>\n",
       "      <td>Biscoe</td>\n",
       "      <td>NaN</td>\n",
       "      <td>44.5</td>\n",
       "      <td>14.3</td>\n",
       "      <td>216.0</td>\n",
       "      <td>4100.0</td>\n",
       "    </tr>\n",
       "    <tr>\n",
       "      <th>43</th>\n",
       "      <td>Gentoo</td>\n",
       "      <td>Biscoe</td>\n",
       "      <td>NaN</td>\n",
       "      <td>NaN</td>\n",
       "      <td>NaN</td>\n",
       "      <td>NaN</td>\n",
       "      <td>NaN</td>\n",
       "    </tr>\n",
       "    <tr>\n",
       "      <th>66</th>\n",
       "      <td>Adelie</td>\n",
       "      <td>Torgersen</td>\n",
       "      <td>NaN</td>\n",
       "      <td>37.8</td>\n",
       "      <td>17.3</td>\n",
       "      <td>180.0</td>\n",
       "      <td>3700.0</td>\n",
       "    </tr>\n",
       "    <tr>\n",
       "      <th>88</th>\n",
       "      <td>Gentoo</td>\n",
       "      <td>Biscoe</td>\n",
       "      <td>NaN</td>\n",
       "      <td>47.3</td>\n",
       "      <td>13.8</td>\n",
       "      <td>216.0</td>\n",
       "      <td>4725.0</td>\n",
       "    </tr>\n",
       "    <tr>\n",
       "      <th>89</th>\n",
       "      <td>Adelie</td>\n",
       "      <td>Torgersen</td>\n",
       "      <td>NaN</td>\n",
       "      <td>37.8</td>\n",
       "      <td>17.1</td>\n",
       "      <td>186.0</td>\n",
       "      <td>3300.0</td>\n",
       "    </tr>\n",
       "    <tr>\n",
       "      <th>110</th>\n",
       "      <td>Gentoo</td>\n",
       "      <td>Biscoe</td>\n",
       "      <td>NaN</td>\n",
       "      <td>44.5</td>\n",
       "      <td>15.7</td>\n",
       "      <td>217.0</td>\n",
       "      <td>4875.0</td>\n",
       "    </tr>\n",
       "    <tr>\n",
       "      <th>229</th>\n",
       "      <td>Adelie</td>\n",
       "      <td>Torgersen</td>\n",
       "      <td>NaN</td>\n",
       "      <td>NaN</td>\n",
       "      <td>NaN</td>\n",
       "      <td>NaN</td>\n",
       "      <td>NaN</td>\n",
       "    </tr>\n",
       "  </tbody>\n",
       "</table>\n",
       "</div>"
      ],
      "text/plain": [
       "    species     island  sex  bill_length_mm  bill_depth_mm  flipper_length_mm  \\\n",
       "0    Adelie  Torgersen  NaN            42.0           20.2              190.0   \n",
       "6    Gentoo     Biscoe  NaN            44.5           14.3              216.0   \n",
       "43   Gentoo     Biscoe  NaN             NaN            NaN                NaN   \n",
       "66   Adelie  Torgersen  NaN            37.8           17.3              180.0   \n",
       "88   Gentoo     Biscoe  NaN            47.3           13.8              216.0   \n",
       "89   Adelie  Torgersen  NaN            37.8           17.1              186.0   \n",
       "110  Gentoo     Biscoe  NaN            44.5           15.7              217.0   \n",
       "229  Adelie  Torgersen  NaN             NaN            NaN                NaN   \n",
       "\n",
       "     body_mass_g  \n",
       "0         4250.0  \n",
       "6         4100.0  \n",
       "43           NaN  \n",
       "66        3700.0  \n",
       "88        4725.0  \n",
       "89        3300.0  \n",
       "110       4875.0  \n",
       "229          NaN  "
      ]
     },
     "execution_count": 165,
     "metadata": {},
     "output_type": "execute_result"
    }
   ],
   "source": [
    "#결측치 확인2\n",
    "train = pd.concat([X_train,y_train],axis=1)\n",
    "train.loc[(train.sex.isna() | train.bill_length_mm.isna())]"
   ]
  },
  {
   "cell_type": "code",
   "execution_count": 166,
   "metadata": {},
   "outputs": [
    {
     "data": {
      "text/html": [
       "<div>\n",
       "<style scoped>\n",
       "    .dataframe tbody tr th:only-of-type {\n",
       "        vertical-align: middle;\n",
       "    }\n",
       "\n",
       "    .dataframe tbody tr th {\n",
       "        vertical-align: top;\n",
       "    }\n",
       "\n",
       "    .dataframe thead th {\n",
       "        text-align: right;\n",
       "    }\n",
       "</style>\n",
       "<table border=\"1\" class=\"dataframe\">\n",
       "  <thead>\n",
       "    <tr style=\"text-align: right;\">\n",
       "      <th></th>\n",
       "      <th>species</th>\n",
       "      <th>island</th>\n",
       "      <th>sex</th>\n",
       "      <th>bill_length_mm</th>\n",
       "      <th>bill_depth_mm</th>\n",
       "      <th>flipper_length_mm</th>\n",
       "      <th>body_mass_g</th>\n",
       "    </tr>\n",
       "  </thead>\n",
       "  <tbody>\n",
       "    <tr>\n",
       "      <th>0</th>\n",
       "      <td>Gentoo</td>\n",
       "      <td>Biscoe</td>\n",
       "      <td>FEMALE</td>\n",
       "      <td>43.5</td>\n",
       "      <td>15.2</td>\n",
       "      <td>213.0</td>\n",
       "      <td>4650.0</td>\n",
       "    </tr>\n",
       "    <tr>\n",
       "      <th>1</th>\n",
       "      <td>Adelie</td>\n",
       "      <td>Torgersen</td>\n",
       "      <td>MALE</td>\n",
       "      <td>42.8</td>\n",
       "      <td>18.5</td>\n",
       "      <td>195.0</td>\n",
       "      <td>4250.0</td>\n",
       "    </tr>\n",
       "    <tr>\n",
       "      <th>2</th>\n",
       "      <td>Chinstrap</td>\n",
       "      <td>Dream</td>\n",
       "      <td>MALE</td>\n",
       "      <td>53.5</td>\n",
       "      <td>19.9</td>\n",
       "      <td>205.0</td>\n",
       "      <td>4500.0</td>\n",
       "    </tr>\n",
       "    <tr>\n",
       "      <th>3</th>\n",
       "      <td>Gentoo</td>\n",
       "      <td>Biscoe</td>\n",
       "      <td>MALE</td>\n",
       "      <td>50.2</td>\n",
       "      <td>14.3</td>\n",
       "      <td>218.0</td>\n",
       "      <td>5700.0</td>\n",
       "    </tr>\n",
       "    <tr>\n",
       "      <th>4</th>\n",
       "      <td>Adelie</td>\n",
       "      <td>Dream</td>\n",
       "      <td>FEMALE</td>\n",
       "      <td>36.5</td>\n",
       "      <td>18.0</td>\n",
       "      <td>182.0</td>\n",
       "      <td>3150.0</td>\n",
       "    </tr>\n",
       "    <tr>\n",
       "      <th>...</th>\n",
       "      <td>...</td>\n",
       "      <td>...</td>\n",
       "      <td>...</td>\n",
       "      <td>...</td>\n",
       "      <td>...</td>\n",
       "      <td>...</td>\n",
       "      <td>...</td>\n",
       "    </tr>\n",
       "    <tr>\n",
       "      <th>227</th>\n",
       "      <td>Chinstrap</td>\n",
       "      <td>Dream</td>\n",
       "      <td>FEMALE</td>\n",
       "      <td>46.6</td>\n",
       "      <td>17.8</td>\n",
       "      <td>193.0</td>\n",
       "      <td>3800.0</td>\n",
       "    </tr>\n",
       "    <tr>\n",
       "      <th>228</th>\n",
       "      <td>Gentoo</td>\n",
       "      <td>Biscoe</td>\n",
       "      <td>MALE</td>\n",
       "      <td>49.8</td>\n",
       "      <td>15.9</td>\n",
       "      <td>229.0</td>\n",
       "      <td>5950.0</td>\n",
       "    </tr>\n",
       "    <tr>\n",
       "      <th>229</th>\n",
       "      <td>Adelie</td>\n",
       "      <td>Torgersen</td>\n",
       "      <td>FEMALE</td>\n",
       "      <td>34.6</td>\n",
       "      <td>17.2</td>\n",
       "      <td>189.0</td>\n",
       "      <td>3200.0</td>\n",
       "    </tr>\n",
       "    <tr>\n",
       "      <th>230</th>\n",
       "      <td>Chinstrap</td>\n",
       "      <td>Dream</td>\n",
       "      <td>FEMALE</td>\n",
       "      <td>45.9</td>\n",
       "      <td>17.1</td>\n",
       "      <td>190.0</td>\n",
       "      <td>3575.0</td>\n",
       "    </tr>\n",
       "    <tr>\n",
       "      <th>231</th>\n",
       "      <td>Gentoo</td>\n",
       "      <td>Biscoe</td>\n",
       "      <td>FEMALE</td>\n",
       "      <td>41.7</td>\n",
       "      <td>14.7</td>\n",
       "      <td>210.0</td>\n",
       "      <td>4700.0</td>\n",
       "    </tr>\n",
       "  </tbody>\n",
       "</table>\n",
       "<p>232 rows × 7 columns</p>\n",
       "</div>"
      ],
      "text/plain": [
       "       species     island     sex  bill_length_mm  bill_depth_mm  \\\n",
       "0       Gentoo     Biscoe  FEMALE            43.5           15.2   \n",
       "1       Adelie  Torgersen    MALE            42.8           18.5   \n",
       "2    Chinstrap      Dream    MALE            53.5           19.9   \n",
       "3       Gentoo     Biscoe    MALE            50.2           14.3   \n",
       "4       Adelie      Dream  FEMALE            36.5           18.0   \n",
       "..         ...        ...     ...             ...            ...   \n",
       "227  Chinstrap      Dream  FEMALE            46.6           17.8   \n",
       "228     Gentoo     Biscoe    MALE            49.8           15.9   \n",
       "229     Adelie  Torgersen  FEMALE            34.6           17.2   \n",
       "230  Chinstrap      Dream  FEMALE            45.9           17.1   \n",
       "231     Gentoo     Biscoe  FEMALE            41.7           14.7   \n",
       "\n",
       "     flipper_length_mm  body_mass_g  \n",
       "0                213.0       4650.0  \n",
       "1                195.0       4250.0  \n",
       "2                205.0       4500.0  \n",
       "3                218.0       5700.0  \n",
       "4                182.0       3150.0  \n",
       "..                 ...          ...  \n",
       "227              193.0       3800.0  \n",
       "228              229.0       5950.0  \n",
       "229              189.0       3200.0  \n",
       "230              190.0       3575.0  \n",
       "231              210.0       4700.0  \n",
       "\n",
       "[232 rows x 7 columns]"
      ]
     },
     "execution_count": 166,
     "metadata": {},
     "output_type": "execute_result"
    }
   ],
   "source": [
    "#결측치 처리 - 제거 \n",
    "train = train.dropna()\n",
    "train.reset_index(drop=True, inplace=True)\n",
    "train"
   ]
  },
  {
   "cell_type": "code",
   "execution_count": 154,
   "metadata": {},
   "outputs": [
    {
     "data": {
      "text/plain": [
       "Index(['species', 'island', 'sex', 'bill_length_mm', 'bill_depth_mm',\n",
       "       'flipper_length_mm', 'body_mass_g'],\n",
       "      dtype='object')"
      ]
     },
     "execution_count": 154,
     "metadata": {},
     "output_type": "execute_result"
    }
   ],
   "source": [
    "train.columns"
   ]
  },
  {
   "cell_type": "code",
   "execution_count": 167,
   "metadata": {},
   "outputs": [],
   "source": [
    "#변수 분리\n",
    "X_train = train[['species', 'island', 'sex', 'bill_length_mm', 'bill_depth_mm','flipper_length_mm']]\n",
    "y_train = train['body_mass_g']"
   ]
  },
  {
   "cell_type": "code",
   "execution_count": 168,
   "metadata": {},
   "outputs": [
    {
     "data": {
      "text/html": [
       "<div>\n",
       "<style scoped>\n",
       "    .dataframe tbody tr th:only-of-type {\n",
       "        vertical-align: middle;\n",
       "    }\n",
       "\n",
       "    .dataframe tbody tr th {\n",
       "        vertical-align: top;\n",
       "    }\n",
       "\n",
       "    .dataframe thead th {\n",
       "        text-align: right;\n",
       "    }\n",
       "</style>\n",
       "<table border=\"1\" class=\"dataframe\">\n",
       "  <thead>\n",
       "    <tr style=\"text-align: right;\">\n",
       "      <th></th>\n",
       "      <th>bill_length_mm</th>\n",
       "      <th>bill_depth_mm</th>\n",
       "      <th>flipper_length_mm</th>\n",
       "    </tr>\n",
       "  </thead>\n",
       "  <tbody>\n",
       "    <tr>\n",
       "      <th>count</th>\n",
       "      <td>232.000000</td>\n",
       "      <td>232.000000</td>\n",
       "      <td>232.000000</td>\n",
       "    </tr>\n",
       "    <tr>\n",
       "      <th>mean</th>\n",
       "      <td>43.990948</td>\n",
       "      <td>17.226293</td>\n",
       "      <td>200.681034</td>\n",
       "    </tr>\n",
       "    <tr>\n",
       "      <th>std</th>\n",
       "      <td>5.509760</td>\n",
       "      <td>1.964677</td>\n",
       "      <td>14.064231</td>\n",
       "    </tr>\n",
       "    <tr>\n",
       "      <th>min</th>\n",
       "      <td>32.100000</td>\n",
       "      <td>13.200000</td>\n",
       "      <td>172.000000</td>\n",
       "    </tr>\n",
       "    <tr>\n",
       "      <th>25%</th>\n",
       "      <td>39.200000</td>\n",
       "      <td>15.700000</td>\n",
       "      <td>190.000000</td>\n",
       "    </tr>\n",
       "    <tr>\n",
       "      <th>50%</th>\n",
       "      <td>44.950000</td>\n",
       "      <td>17.350000</td>\n",
       "      <td>197.000000</td>\n",
       "    </tr>\n",
       "    <tr>\n",
       "      <th>75%</th>\n",
       "      <td>48.775000</td>\n",
       "      <td>18.725000</td>\n",
       "      <td>212.250000</td>\n",
       "    </tr>\n",
       "    <tr>\n",
       "      <th>max</th>\n",
       "      <td>58.000000</td>\n",
       "      <td>21.500000</td>\n",
       "      <td>231.000000</td>\n",
       "    </tr>\n",
       "  </tbody>\n",
       "</table>\n",
       "</div>"
      ],
      "text/plain": [
       "       bill_length_mm  bill_depth_mm  flipper_length_mm\n",
       "count      232.000000     232.000000         232.000000\n",
       "mean        43.990948      17.226293         200.681034\n",
       "std          5.509760       1.964677          14.064231\n",
       "min         32.100000      13.200000         172.000000\n",
       "25%         39.200000      15.700000         190.000000\n",
       "50%         44.950000      17.350000         197.000000\n",
       "75%         48.775000      18.725000         212.250000\n",
       "max         58.000000      21.500000         231.000000"
      ]
     },
     "execution_count": 168,
     "metadata": {},
     "output_type": "execute_result"
    }
   ],
   "source": [
    "X_train.describe()"
   ]
  },
  {
   "cell_type": "code",
   "execution_count": 169,
   "metadata": {},
   "outputs": [],
   "source": [
    "COL_DEL = []\n",
    "COL_NUM = ['bill_length_mm', 'bill_depth_mm', 'flipper_length_mm']\n",
    "COL_CAT = ['species','island', 'sex']\n",
    "COL_Y = ['body_mass_g']"
   ]
  },
  {
   "cell_type": "code",
   "execution_count": 170,
   "metadata": {},
   "outputs": [],
   "source": [
    "X = pd.concat([X_train, X_test])\n",
    "\n",
    "from sklearn.preprocessing import OneHotEncoder\n",
    "ohe = OneHotEncoder(handle_unknown = 'ignore')\n",
    "ohe.fit(X[COL_CAT])\n",
    "\n",
    "X_train_res = ohe.transform(X_train[COL_CAT])\n",
    "X_test_res = ohe.transform(X_test[COL_CAT])"
   ]
  },
  {
   "cell_type": "code",
   "execution_count": 171,
   "metadata": {},
   "outputs": [
    {
     "name": "stdout",
     "output_type": "stream",
     "text": [
      "  (0, 2)\t1.0\n",
      "  (0, 3)\t1.0\n",
      "  (0, 6)\t1.0\n",
      "  (1, 0)\t1.0\n",
      "  (1, 5)\t1.0\n",
      "  (1, 7)\t1.0\n",
      "  (2, 1)\t1.0\n",
      "  (2, 4)\t1.0\n",
      "  (2, 7)\t1.0\n",
      "  (3, 2)\t1.0\n",
      "  (3, 3)\t1.0\n",
      "  (3, 7)\t1.0\n",
      "  (4, 0)\t1.0\n",
      "  (4, 4)\t1.0\n",
      "  (4, 6)\t1.0\n",
      "  (5, 2)\t1.0\n",
      "  (5, 3)\t1.0\n",
      "  (5, 7)\t1.0\n",
      "  (6, 2)\t1.0\n",
      "  (6, 3)\t1.0\n",
      "  (6, 6)\t1.0\n",
      "  (7, 0)\t1.0\n",
      "  (7, 5)\t1.0\n",
      "  (7, 6)\t1.0\n",
      "  (8, 2)\t1.0\n",
      "  :\t:\n",
      "  (223, 6)\t1.0\n",
      "  (224, 2)\t1.0\n",
      "  (224, 3)\t1.0\n",
      "  (224, 7)\t1.0\n",
      "  (225, 0)\t1.0\n",
      "  (225, 4)\t1.0\n",
      "  (225, 7)\t1.0\n",
      "  (226, 1)\t1.0\n",
      "  (226, 4)\t1.0\n",
      "  (226, 7)\t1.0\n",
      "  (227, 1)\t1.0\n",
      "  (227, 4)\t1.0\n",
      "  (227, 6)\t1.0\n",
      "  (228, 2)\t1.0\n",
      "  (228, 3)\t1.0\n",
      "  (228, 7)\t1.0\n",
      "  (229, 0)\t1.0\n",
      "  (229, 5)\t1.0\n",
      "  (229, 6)\t1.0\n",
      "  (230, 1)\t1.0\n",
      "  (230, 4)\t1.0\n",
      "  (230, 6)\t1.0\n",
      "  (231, 2)\t1.0\n",
      "  (231, 3)\t1.0\n",
      "  (231, 6)\t1.0\n"
     ]
    }
   ],
   "source": [
    "print(X_train_res)"
   ]
  },
  {
   "cell_type": "code",
   "execution_count": 172,
   "metadata": {},
   "outputs": [
    {
     "name": "stdout",
     "output_type": "stream",
     "text": [
      "     species_Adelie  species_Chinstrap  species_Gentoo  island_Biscoe  \\\n",
      "0               0.0                0.0             1.0            1.0   \n",
      "1               1.0                0.0             0.0            0.0   \n",
      "2               0.0                1.0             0.0            0.0   \n",
      "3               0.0                0.0             1.0            1.0   \n",
      "4               1.0                0.0             0.0            0.0   \n",
      "..              ...                ...             ...            ...   \n",
      "227             0.0                1.0             0.0            0.0   \n",
      "228             0.0                0.0             1.0            1.0   \n",
      "229             1.0                0.0             0.0            0.0   \n",
      "230             0.0                1.0             0.0            0.0   \n",
      "231             0.0                0.0             1.0            1.0   \n",
      "\n",
      "     island_Dream  island_Torgersen  sex_FEMALE  sex_MALE  \n",
      "0             0.0               0.0         1.0       0.0  \n",
      "1             0.0               1.0         0.0       1.0  \n",
      "2             1.0               0.0         0.0       1.0  \n",
      "3             0.0               0.0         0.0       1.0  \n",
      "4             1.0               0.0         1.0       0.0  \n",
      "..            ...               ...         ...       ...  \n",
      "227           1.0               0.0         1.0       0.0  \n",
      "228           0.0               0.0         0.0       1.0  \n",
      "229           0.0               1.0         1.0       0.0  \n",
      "230           1.0               0.0         1.0       0.0  \n",
      "231           0.0               0.0         1.0       0.0  \n",
      "\n",
      "[232 rows x 8 columns]\n"
     ]
    }
   ],
   "source": [
    "X_train_ohe = pd.DataFrame(X_train_res.todense(), columns = ohe.get_feature_names_out())\n",
    "X_test_ohe = pd.DataFrame(X_test_res.todense(), columns = ohe.get_feature_names_out())\n",
    "print(X_train_ohe)\n",
    "\n",
    "X_train_fin = pd.concat([X_train[COL_NUM], X_train_ohe], axis=1)\n",
    "X_test_fin = pd.concat([X_test[COL_NUM], X_test_ohe], axis=1)"
   ]
  },
  {
   "cell_type": "code",
   "execution_count": 173,
   "metadata": {},
   "outputs": [
    {
     "data": {
      "text/html": [
       "<div>\n",
       "<style scoped>\n",
       "    .dataframe tbody tr th:only-of-type {\n",
       "        vertical-align: middle;\n",
       "    }\n",
       "\n",
       "    .dataframe tbody tr th {\n",
       "        vertical-align: top;\n",
       "    }\n",
       "\n",
       "    .dataframe thead th {\n",
       "        text-align: right;\n",
       "    }\n",
       "</style>\n",
       "<table border=\"1\" class=\"dataframe\">\n",
       "  <thead>\n",
       "    <tr style=\"text-align: right;\">\n",
       "      <th></th>\n",
       "      <th>bill_length_mm</th>\n",
       "      <th>bill_depth_mm</th>\n",
       "      <th>flipper_length_mm</th>\n",
       "      <th>species_Adelie</th>\n",
       "      <th>species_Chinstrap</th>\n",
       "      <th>species_Gentoo</th>\n",
       "      <th>island_Biscoe</th>\n",
       "      <th>island_Dream</th>\n",
       "      <th>island_Torgersen</th>\n",
       "      <th>sex_FEMALE</th>\n",
       "      <th>sex_MALE</th>\n",
       "    </tr>\n",
       "  </thead>\n",
       "  <tbody>\n",
       "    <tr>\n",
       "      <th>0</th>\n",
       "      <td>43.5</td>\n",
       "      <td>15.2</td>\n",
       "      <td>213.0</td>\n",
       "      <td>0.0</td>\n",
       "      <td>0.0</td>\n",
       "      <td>1.0</td>\n",
       "      <td>1.0</td>\n",
       "      <td>0.0</td>\n",
       "      <td>0.0</td>\n",
       "      <td>1.0</td>\n",
       "      <td>0.0</td>\n",
       "    </tr>\n",
       "    <tr>\n",
       "      <th>1</th>\n",
       "      <td>42.8</td>\n",
       "      <td>18.5</td>\n",
       "      <td>195.0</td>\n",
       "      <td>1.0</td>\n",
       "      <td>0.0</td>\n",
       "      <td>0.0</td>\n",
       "      <td>0.0</td>\n",
       "      <td>0.0</td>\n",
       "      <td>1.0</td>\n",
       "      <td>0.0</td>\n",
       "      <td>1.0</td>\n",
       "    </tr>\n",
       "    <tr>\n",
       "      <th>2</th>\n",
       "      <td>53.5</td>\n",
       "      <td>19.9</td>\n",
       "      <td>205.0</td>\n",
       "      <td>0.0</td>\n",
       "      <td>1.0</td>\n",
       "      <td>0.0</td>\n",
       "      <td>0.0</td>\n",
       "      <td>1.0</td>\n",
       "      <td>0.0</td>\n",
       "      <td>0.0</td>\n",
       "      <td>1.0</td>\n",
       "    </tr>\n",
       "    <tr>\n",
       "      <th>3</th>\n",
       "      <td>50.2</td>\n",
       "      <td>14.3</td>\n",
       "      <td>218.0</td>\n",
       "      <td>0.0</td>\n",
       "      <td>0.0</td>\n",
       "      <td>1.0</td>\n",
       "      <td>1.0</td>\n",
       "      <td>0.0</td>\n",
       "      <td>0.0</td>\n",
       "      <td>0.0</td>\n",
       "      <td>1.0</td>\n",
       "    </tr>\n",
       "    <tr>\n",
       "      <th>4</th>\n",
       "      <td>36.5</td>\n",
       "      <td>18.0</td>\n",
       "      <td>182.0</td>\n",
       "      <td>1.0</td>\n",
       "      <td>0.0</td>\n",
       "      <td>0.0</td>\n",
       "      <td>0.0</td>\n",
       "      <td>1.0</td>\n",
       "      <td>0.0</td>\n",
       "      <td>1.0</td>\n",
       "      <td>0.0</td>\n",
       "    </tr>\n",
       "    <tr>\n",
       "      <th>...</th>\n",
       "      <td>...</td>\n",
       "      <td>...</td>\n",
       "      <td>...</td>\n",
       "      <td>...</td>\n",
       "      <td>...</td>\n",
       "      <td>...</td>\n",
       "      <td>...</td>\n",
       "      <td>...</td>\n",
       "      <td>...</td>\n",
       "      <td>...</td>\n",
       "      <td>...</td>\n",
       "    </tr>\n",
       "    <tr>\n",
       "      <th>227</th>\n",
       "      <td>46.6</td>\n",
       "      <td>17.8</td>\n",
       "      <td>193.0</td>\n",
       "      <td>0.0</td>\n",
       "      <td>1.0</td>\n",
       "      <td>0.0</td>\n",
       "      <td>0.0</td>\n",
       "      <td>1.0</td>\n",
       "      <td>0.0</td>\n",
       "      <td>1.0</td>\n",
       "      <td>0.0</td>\n",
       "    </tr>\n",
       "    <tr>\n",
       "      <th>228</th>\n",
       "      <td>49.8</td>\n",
       "      <td>15.9</td>\n",
       "      <td>229.0</td>\n",
       "      <td>0.0</td>\n",
       "      <td>0.0</td>\n",
       "      <td>1.0</td>\n",
       "      <td>1.0</td>\n",
       "      <td>0.0</td>\n",
       "      <td>0.0</td>\n",
       "      <td>0.0</td>\n",
       "      <td>1.0</td>\n",
       "    </tr>\n",
       "    <tr>\n",
       "      <th>229</th>\n",
       "      <td>34.6</td>\n",
       "      <td>17.2</td>\n",
       "      <td>189.0</td>\n",
       "      <td>1.0</td>\n",
       "      <td>0.0</td>\n",
       "      <td>0.0</td>\n",
       "      <td>0.0</td>\n",
       "      <td>0.0</td>\n",
       "      <td>1.0</td>\n",
       "      <td>1.0</td>\n",
       "      <td>0.0</td>\n",
       "    </tr>\n",
       "    <tr>\n",
       "      <th>230</th>\n",
       "      <td>45.9</td>\n",
       "      <td>17.1</td>\n",
       "      <td>190.0</td>\n",
       "      <td>0.0</td>\n",
       "      <td>1.0</td>\n",
       "      <td>0.0</td>\n",
       "      <td>0.0</td>\n",
       "      <td>1.0</td>\n",
       "      <td>0.0</td>\n",
       "      <td>1.0</td>\n",
       "      <td>0.0</td>\n",
       "    </tr>\n",
       "    <tr>\n",
       "      <th>231</th>\n",
       "      <td>41.7</td>\n",
       "      <td>14.7</td>\n",
       "      <td>210.0</td>\n",
       "      <td>0.0</td>\n",
       "      <td>0.0</td>\n",
       "      <td>1.0</td>\n",
       "      <td>1.0</td>\n",
       "      <td>0.0</td>\n",
       "      <td>0.0</td>\n",
       "      <td>1.0</td>\n",
       "      <td>0.0</td>\n",
       "    </tr>\n",
       "  </tbody>\n",
       "</table>\n",
       "<p>232 rows × 11 columns</p>\n",
       "</div>"
      ],
      "text/plain": [
       "     bill_length_mm  bill_depth_mm  flipper_length_mm  species_Adelie  \\\n",
       "0              43.5           15.2              213.0             0.0   \n",
       "1              42.8           18.5              195.0             1.0   \n",
       "2              53.5           19.9              205.0             0.0   \n",
       "3              50.2           14.3              218.0             0.0   \n",
       "4              36.5           18.0              182.0             1.0   \n",
       "..              ...            ...                ...             ...   \n",
       "227            46.6           17.8              193.0             0.0   \n",
       "228            49.8           15.9              229.0             0.0   \n",
       "229            34.6           17.2              189.0             1.0   \n",
       "230            45.9           17.1              190.0             0.0   \n",
       "231            41.7           14.7              210.0             0.0   \n",
       "\n",
       "     species_Chinstrap  species_Gentoo  island_Biscoe  island_Dream  \\\n",
       "0                  0.0             1.0            1.0           0.0   \n",
       "1                  0.0             0.0            0.0           0.0   \n",
       "2                  1.0             0.0            0.0           1.0   \n",
       "3                  0.0             1.0            1.0           0.0   \n",
       "4                  0.0             0.0            0.0           1.0   \n",
       "..                 ...             ...            ...           ...   \n",
       "227                1.0             0.0            0.0           1.0   \n",
       "228                0.0             1.0            1.0           0.0   \n",
       "229                0.0             0.0            0.0           0.0   \n",
       "230                1.0             0.0            0.0           1.0   \n",
       "231                0.0             1.0            1.0           0.0   \n",
       "\n",
       "     island_Torgersen  sex_FEMALE  sex_MALE  \n",
       "0                 0.0         1.0       0.0  \n",
       "1                 1.0         0.0       1.0  \n",
       "2                 0.0         0.0       1.0  \n",
       "3                 0.0         0.0       1.0  \n",
       "4                 0.0         1.0       0.0  \n",
       "..                ...         ...       ...  \n",
       "227               0.0         1.0       0.0  \n",
       "228               0.0         0.0       1.0  \n",
       "229               1.0         1.0       0.0  \n",
       "230               0.0         1.0       0.0  \n",
       "231               0.0         1.0       0.0  \n",
       "\n",
       "[232 rows x 11 columns]"
      ]
     },
     "execution_count": 173,
     "metadata": {},
     "output_type": "execute_result"
    }
   ],
   "source": [
    "X_train_fin"
   ]
  },
  {
   "attachments": {},
   "cell_type": "markdown",
   "metadata": {},
   "source": [
    "## (4)데이터 모형 구축"
   ]
  },
  {
   "cell_type": "code",
   "execution_count": 191,
   "metadata": {},
   "outputs": [],
   "source": [
    "from sklearn.model_selection import train_test_split\n",
    "X_tr, X_val, y_tr, y_val = train_test_split(X_train_fin, y_train, test_size=0.3)"
   ]
  },
  {
   "cell_type": "code",
   "execution_count": 192,
   "metadata": {},
   "outputs": [],
   "source": [
    "from sklearn.preprocessing import MinMaxScaler\n",
    "\n",
    "scaler = MinMaxScaler()\n",
    "scaler.fit(X_tr[COL_NUM])\n",
    "X_tr[COL_NUM]=scaler.transform(X_tr[COL_NUM])\n",
    "X_val[COL_NUM]=scaler.transform(X_val[COL_NUM])\n",
    "X_test_fin[COL_NUM]=scaler.transform(X_test_fin[COL_NUM])"
   ]
  },
  {
   "cell_type": "code",
   "execution_count": 185,
   "metadata": {},
   "outputs": [
    {
     "data": {
      "text/plain": [
       "array([5296.57307064, 4139.82435223, 4752.98108359, 4724.58465148,\n",
       "       4842.87722474, 3428.10199424, 4123.9845245 , 3931.3331265 ,\n",
       "       4037.97220433, 4015.52142997, 4145.95155978, 4637.02712974,\n",
       "       3313.88165939, 4783.97818012, 4293.77125244, 5710.02498629,\n",
       "       4248.45950417, 3951.14277012, 3345.43414192, 3450.12913316,\n",
       "       4096.53333538, 4238.22066837, 3468.5299134 , 4258.98476942,\n",
       "       4995.9502119 , 3354.17138765, 4776.69984453, 3486.8347726 ,\n",
       "       3921.8681153 , 4107.50415829, 3292.07172002, 4252.68219982,\n",
       "       5588.87928404, 3538.8849574 , 4706.30588697, 5534.6478978 ,\n",
       "       5455.66135552, 5567.83242435, 3883.27839963, 4051.25092024,\n",
       "       4295.65500662, 4269.50636386, 3947.30899589, 3938.853641  ,\n",
       "       3533.56090759, 3477.64686102, 3568.90239345, 3332.4129816 ,\n",
       "       3359.53173132, 4742.48515147, 4051.03429025, 5278.33392493,\n",
       "       5428.57337631, 5458.91435429, 4760.49185818, 3945.62168355,\n",
       "       3444.34654733, 4142.7336412 , 3282.55095896, 4269.30948657,\n",
       "       5397.96034053, 5349.41518672, 5601.72384835, 3531.99953085,\n",
       "       3485.8651249 , 4280.84587086, 5287.75384315, 4766.90122944,\n",
       "       4136.27885492, 3276.69122666])"
      ]
     },
     "execution_count": 185,
     "metadata": {},
     "output_type": "execute_result"
    }
   ],
   "source": [
    "from sklearn.linear_model import LinearRegression\n",
    "\n",
    "modelLR = LinearRegression()\n",
    "modelLR.fit(X_tr, y_tr)\n",
    "\n",
    "y_val_pred = modelLR.predict(X_val)\n",
    "y_val_pred"
   ]
  },
  {
   "cell_type": "code",
   "execution_count": 193,
   "metadata": {},
   "outputs": [
    {
     "name": "stdout",
     "output_type": "stream",
     "text": [
      "[3093.32153481 2984.16779045 4089.4272671  3774.11692536 4787.58877756\n",
      " 3710.43219794 3255.28928373 3451.80523205 5550.06886029 5309.61727496\n",
      " 4006.44976507 4806.85200094 3082.38871464 5756.83808347 3338.26926485\n",
      " 4652.38332738 4089.17345481 3221.71111193 4034.97352095 4273.57483611\n",
      " 3853.82692915 4003.77985118 3399.04282845 3449.29500282 3421.52383517\n",
      " 3258.88562302 4951.42757357 4606.73581216 3307.44487166 3809.78613471\n",
      " 4267.52603299 4551.47907531 5337.13951416 3370.46518981 3526.76974673\n",
      " 3492.34163365 5422.70869553 3508.79776526 3360.24784643 5311.96218646\n",
      " 4239.83037665 3231.00907436 3653.21224968 4280.91886649 5201.82868297\n",
      " 5197.36260527 5221.28362133 2963.53185446 3848.22722816 4703.73245503\n",
      " 3316.49192177 3624.3483377  3470.87772109 4326.99602576 4909.15147239\n",
      " 5788.75477954 5588.71367133 4026.30447776 3286.43965909 5079.27285612\n",
      " 5161.0419288  4925.0450116  4360.4226123  3589.49549195 3885.35553501\n",
      " 3904.42488283 3896.83557029 5391.83754907 4106.29548429 4027.11525228]\n"
     ]
    }
   ],
   "source": [
    "from sklearn.linear_model import LinearRegression\n",
    "\n",
    "modelLR = LinearRegression()\n",
    "modelLR.fit(X_tr, y_tr)\n",
    "\n",
    "y_val_pred = modelLR.predict(X_val)\n",
    "print(y_val_pred)"
   ]
  },
  {
   "cell_type": "code",
   "execution_count": 197,
   "metadata": {},
   "outputs": [
    {
     "name": "stdout",
     "output_type": "stream",
     "text": [
      "2979.0908192152183\n",
      "species_Chinstrap    -519.388950\n",
      "sex_FEMALE           -156.715755\n",
      "island_Dream          -83.598148\n",
      "species_Adelie        -62.624171\n",
      "island_Torgersen       11.989862\n",
      "island_Biscoe          71.608286\n",
      "sex_MALE              156.715755\n",
      "bill_depth_mm         459.333130\n",
      "species_Gentoo        582.013121\n",
      "bill_length_mm        962.864641\n",
      "flipper_length_mm    1093.822743\n",
      "dtype: float64\n"
     ]
    }
   ],
   "source": [
    "print(modelLR.intercept_)\n",
    "\n",
    "coef = pd.Series(data=modelLR.coef_, index= X_train_fin.columns)\n",
    "print(coef.sort_values())"
   ]
  },
  {
   "cell_type": "code",
   "execution_count": 202,
   "metadata": {},
   "outputs": [
    {
     "name": "stdout",
     "output_type": "stream",
     "text": [
      "mse :117999.467, rmse : 343.511\n"
     ]
    }
   ],
   "source": [
    "from sklearn.metrics import mean_squared_error, r2_score\n",
    "\n",
    "mse = mean_squared_error(y_val, y_val_pred)\n",
    "rmse =mean_squared_error(y_val, y_val_pred, squared=False)\n",
    "\n",
    "print(f'mse :{mse:.3f}, rmse : {rmse:.3f}')"
   ]
  },
  {
   "cell_type": "code",
   "execution_count": 203,
   "metadata": {},
   "outputs": [
    {
     "name": "stdout",
     "output_type": "stream",
     "text": [
      "[265590.30343015 295053.29161145 261881.83970887 254431.13795015\n",
      " 279908.11909062 265168.54964692 252703.49994364 259280.11616384\n",
      " 268388.9314306  260256.59761536 249191.12551921 302276.63313351\n",
      " 260202.65112602 274604.98222284 247206.67151113 277586.88279728\n",
      " 291672.72842969 273651.74065762 266176.53051317 249983.17050506\n",
      " 291335.08082598 268719.05196494 320475.50846464 283700.85474873\n",
      " 294796.21193585 302463.67939674 303159.44623667 271249.78828714\n",
      " 263899.60742049 264583.10241265 268786.54684232 253294.13709275\n",
      " 267136.86232946 279534.37163238 247535.81891855 257009.1025705\n",
      " 243496.43246731 249413.6131291  265156.77672415 298093.99648481\n",
      " 255633.8121353  306595.14580691 295269.65213232 285905.08022897\n",
      " 314725.26380849 251390.08800858 287870.31767685 246567.23612419\n",
      " 297285.97192833 268115.37340209 283157.80760227 284270.5000151\n",
      " 266958.42418473 244824.45669542 245536.25490091 283424.19495752\n",
      " 292451.09162255 279863.42932747 266098.91497808 258105.86721609\n",
      " 241727.89305854 291231.14730624 257687.49025049 292482.87133917\n",
      " 273919.92364452 264649.54544909 300962.94920627 255269.96545531\n",
      " 285762.37866068 277964.03652968 260223.20822823 248814.33813611\n",
      " 283908.97246697 241711.81909845 293571.85755344 279041.8859822\n",
      " 298087.22184543 245625.63442721 255796.88670403 287637.20137761\n",
      " 256494.86364703 313254.0236593  264930.30368864 290204.81112271\n",
      " 283019.12105039 251898.54491124 310914.34861674 272300.77798346\n",
      " 257724.61331871 286083.70790594 262264.97526896 276814.38929978\n",
      " 275016.27921169 282341.44789146 299522.3221934  265979.16271987\n",
      " 289658.3577021  263044.53667066 287819.06604415 294625.74566735\n",
      " 263101.31496828]\n"
     ]
    }
   ],
   "source": [
    "y_pred = modelLR.predict(X_test_fin)\n",
    "print(y_pred)"
   ]
  },
  {
   "attachments": {},
   "cell_type": "markdown",
   "metadata": {},
   "source": [
    "# Pr3.주어진 학습데이터를 활용하여 해당 사람이 연소득이 5만달러를 넘는지 안 넘는지 예측 모형을 만든 후, 이를 평가용 데이터에 적용하여 얻은 연소득 5만 달러 초과 여부를 다음과 같은 형식의 csv파일로 생성하시오."
   ]
  },
  {
   "attachments": {},
   "cell_type": "markdown",
   "metadata": {},
   "source": [
    "## (1)문제입력"
   ]
  },
  {
   "cell_type": "code",
   "execution_count": 205,
   "metadata": {},
   "outputs": [],
   "source": [
    "X_test = pd.read_csv(\"./yemoonsaBigdata/datasets/Part2/census_X_test.csv\")\n",
    "X_train = pd.read_csv(\"./yemoonsaBigdata/datasets/Part2/census_X_train.csv\")\n",
    "y_train = pd.read_csv(\"./yemoonsaBigdata/datasets/Part2/census_y_train.csv\")"
   ]
  },
  {
   "attachments": {},
   "cell_type": "markdown",
   "metadata": {},
   "source": [
    "## (2)사전준비"
   ]
  },
  {
   "cell_type": "code",
   "execution_count": 206,
   "metadata": {},
   "outputs": [],
   "source": [
    "import pandas as pd\n",
    "import numpy as np"
   ]
  },
  {
   "attachments": {},
   "cell_type": "markdown",
   "metadata": {},
   "source": [
    "## (3)데이터전처리"
   ]
  },
  {
   "cell_type": "code",
   "execution_count": 207,
   "metadata": {},
   "outputs": [
    {
     "name": "stdout",
     "output_type": "stream",
     "text": [
      "<class 'pandas.core.frame.DataFrame'>\n",
      "RangeIndex: 30162 entries, 0 to 30161\n",
      "Data columns (total 12 columns):\n",
      " #   Column          Non-Null Count  Dtype \n",
      "---  ------          --------------  ----- \n",
      " 0   age             30162 non-null  int64 \n",
      " 1   workclass       30162 non-null  object\n",
      " 2   education_num   30162 non-null  int64 \n",
      " 3   marital_status  30162 non-null  object\n",
      " 4   occupation      30162 non-null  object\n",
      " 5   relationship    30162 non-null  object\n",
      " 6   race            30162 non-null  object\n",
      " 7   sex             30162 non-null  object\n",
      " 8   capital_gain    30162 non-null  int64 \n",
      " 9   capital_loss    30162 non-null  int64 \n",
      " 10  hours_per_week  30162 non-null  int64 \n",
      " 11  native_country  30162 non-null  object\n",
      "dtypes: int64(5), object(7)\n",
      "memory usage: 2.8+ MB\n"
     ]
    }
   ],
   "source": [
    "X_train.info()"
   ]
  },
  {
   "cell_type": "code",
   "execution_count": 211,
   "metadata": {},
   "outputs": [
    {
     "data": {
      "text/html": [
       "<div>\n",
       "<style scoped>\n",
       "    .dataframe tbody tr th:only-of-type {\n",
       "        vertical-align: middle;\n",
       "    }\n",
       "\n",
       "    .dataframe tbody tr th {\n",
       "        vertical-align: top;\n",
       "    }\n",
       "\n",
       "    .dataframe thead th {\n",
       "        text-align: right;\n",
       "    }\n",
       "</style>\n",
       "<table border=\"1\" class=\"dataframe\">\n",
       "  <thead>\n",
       "    <tr style=\"text-align: right;\">\n",
       "      <th></th>\n",
       "      <th>age</th>\n",
       "      <th>education_num</th>\n",
       "      <th>capital_gain</th>\n",
       "      <th>capital_loss</th>\n",
       "      <th>hours_per_week</th>\n",
       "    </tr>\n",
       "  </thead>\n",
       "  <tbody>\n",
       "    <tr>\n",
       "      <th>count</th>\n",
       "      <td>30162.000000</td>\n",
       "      <td>30162.000000</td>\n",
       "      <td>30162.000000</td>\n",
       "      <td>30162.000000</td>\n",
       "      <td>30162.000000</td>\n",
       "    </tr>\n",
       "    <tr>\n",
       "      <th>mean</th>\n",
       "      <td>38.437902</td>\n",
       "      <td>10.121312</td>\n",
       "      <td>1092.007858</td>\n",
       "      <td>88.372489</td>\n",
       "      <td>40.931238</td>\n",
       "    </tr>\n",
       "    <tr>\n",
       "      <th>std</th>\n",
       "      <td>13.134665</td>\n",
       "      <td>2.549995</td>\n",
       "      <td>7406.346497</td>\n",
       "      <td>404.298370</td>\n",
       "      <td>11.979984</td>\n",
       "    </tr>\n",
       "    <tr>\n",
       "      <th>min</th>\n",
       "      <td>17.000000</td>\n",
       "      <td>1.000000</td>\n",
       "      <td>0.000000</td>\n",
       "      <td>0.000000</td>\n",
       "      <td>1.000000</td>\n",
       "    </tr>\n",
       "    <tr>\n",
       "      <th>25%</th>\n",
       "      <td>28.000000</td>\n",
       "      <td>9.000000</td>\n",
       "      <td>0.000000</td>\n",
       "      <td>0.000000</td>\n",
       "      <td>40.000000</td>\n",
       "    </tr>\n",
       "    <tr>\n",
       "      <th>50%</th>\n",
       "      <td>37.000000</td>\n",
       "      <td>10.000000</td>\n",
       "      <td>0.000000</td>\n",
       "      <td>0.000000</td>\n",
       "      <td>40.000000</td>\n",
       "    </tr>\n",
       "    <tr>\n",
       "      <th>75%</th>\n",
       "      <td>47.000000</td>\n",
       "      <td>13.000000</td>\n",
       "      <td>0.000000</td>\n",
       "      <td>0.000000</td>\n",
       "      <td>45.000000</td>\n",
       "    </tr>\n",
       "    <tr>\n",
       "      <th>max</th>\n",
       "      <td>90.000000</td>\n",
       "      <td>16.000000</td>\n",
       "      <td>99999.000000</td>\n",
       "      <td>4356.000000</td>\n",
       "      <td>99.000000</td>\n",
       "    </tr>\n",
       "  </tbody>\n",
       "</table>\n",
       "</div>"
      ],
      "text/plain": [
       "                age  education_num  capital_gain  capital_loss  hours_per_week\n",
       "count  30162.000000   30162.000000  30162.000000  30162.000000    30162.000000\n",
       "mean      38.437902      10.121312   1092.007858     88.372489       40.931238\n",
       "std       13.134665       2.549995   7406.346497    404.298370       11.979984\n",
       "min       17.000000       1.000000      0.000000      0.000000        1.000000\n",
       "25%       28.000000       9.000000      0.000000      0.000000       40.000000\n",
       "50%       37.000000      10.000000      0.000000      0.000000       40.000000\n",
       "75%       47.000000      13.000000      0.000000      0.000000       45.000000\n",
       "max       90.000000      16.000000  99999.000000   4356.000000       99.000000"
      ]
     },
     "execution_count": 211,
     "metadata": {},
     "output_type": "execute_result"
    }
   ],
   "source": [
    "X_train.describe()"
   ]
  },
  {
   "cell_type": "code",
   "execution_count": 216,
   "metadata": {},
   "outputs": [
    {
     "data": {
      "text/plain": [
       "0.75        0.0\n",
       "0.80        0.0\n",
       "0.85        0.0\n",
       "0.90        0.0\n",
       "0.95     5013.0\n",
       "1.00    99999.0\n",
       "Name: capital_gain, dtype: float64"
      ]
     },
     "execution_count": 216,
     "metadata": {},
     "output_type": "execute_result"
    }
   ],
   "source": [
    "X_train['capital_gain'].quantile([q/20 for q in range(15,21)])"
   ]
  },
  {
   "cell_type": "code",
   "execution_count": 217,
   "metadata": {},
   "outputs": [
    {
     "data": {
      "text/plain": [
       "0.75       0.0\n",
       "0.80       0.0\n",
       "0.85       0.0\n",
       "0.90       0.0\n",
       "0.95       0.0\n",
       "1.00    4356.0\n",
       "Name: capital_loss, dtype: float64"
      ]
     },
     "execution_count": 217,
     "metadata": {},
     "output_type": "execute_result"
    }
   ],
   "source": [
    "X_train['capital_loss'].quantile([q/20 for q in range(15,21)])"
   ]
  },
  {
   "cell_type": "code",
   "execution_count": 220,
   "metadata": {},
   "outputs": [],
   "source": [
    "X_train['capital_gain_yn'] = np.where(X_train['capital_gain']>0,1,0)\n",
    "X_train['capital_loss_yn'] = np.where(X_train['capital_loss']>0,1,0)\n",
    "\n",
    "X_test['capital_gain_yn'] = np.where(X_test['capital_gain']>0,1,0)\n",
    "X_test['capital_loss_yn'] = np.where(X_test['capital_loss']>0,1,0)\n"
   ]
  },
  {
   "cell_type": "code",
   "execution_count": 223,
   "metadata": {},
   "outputs": [
    {
     "data": {
      "text/plain": [
       "Index(['age', 'workclass', 'education_num', 'marital_status', 'occupation',\n",
       "       'relationship', 'race', 'sex', 'capital_gain', 'capital_loss',\n",
       "       'hours_per_week', 'native_country', 'capital_gain_yn',\n",
       "       'capital_loss_yn'],\n",
       "      dtype='object')"
      ]
     },
     "execution_count": 223,
     "metadata": {},
     "output_type": "execute_result"
    }
   ],
   "source": [
    "X_test.columns"
   ]
  },
  {
   "cell_type": "code",
   "execution_count": 224,
   "metadata": {},
   "outputs": [
    {
     "data": {
      "text/html": [
       "<div>\n",
       "<style scoped>\n",
       "    .dataframe tbody tr th:only-of-type {\n",
       "        vertical-align: middle;\n",
       "    }\n",
       "\n",
       "    .dataframe tbody tr th {\n",
       "        vertical-align: top;\n",
       "    }\n",
       "\n",
       "    .dataframe thead th {\n",
       "        text-align: right;\n",
       "    }\n",
       "</style>\n",
       "<table border=\"1\" class=\"dataframe\">\n",
       "  <thead>\n",
       "    <tr style=\"text-align: right;\">\n",
       "      <th></th>\n",
       "      <th>age</th>\n",
       "      <th>workclass</th>\n",
       "      <th>education_num</th>\n",
       "      <th>marital_status</th>\n",
       "      <th>occupation</th>\n",
       "      <th>relationship</th>\n",
       "      <th>race</th>\n",
       "      <th>sex</th>\n",
       "      <th>capital_gain</th>\n",
       "      <th>capital_loss</th>\n",
       "      <th>hours_per_week</th>\n",
       "      <th>native_country</th>\n",
       "      <th>capital_gain_yn</th>\n",
       "      <th>capital_loss_yn</th>\n",
       "    </tr>\n",
       "  </thead>\n",
       "  <tbody>\n",
       "    <tr>\n",
       "      <th>0</th>\n",
       "      <td>25</td>\n",
       "      <td>Private</td>\n",
       "      <td>7</td>\n",
       "      <td>Never-married</td>\n",
       "      <td>Machine-op-inspct</td>\n",
       "      <td>Own-child</td>\n",
       "      <td>Black</td>\n",
       "      <td>Male</td>\n",
       "      <td>0</td>\n",
       "      <td>0</td>\n",
       "      <td>40</td>\n",
       "      <td>United-States</td>\n",
       "      <td>0</td>\n",
       "      <td>0</td>\n",
       "    </tr>\n",
       "    <tr>\n",
       "      <th>1</th>\n",
       "      <td>38</td>\n",
       "      <td>Private</td>\n",
       "      <td>9</td>\n",
       "      <td>Married-civ-spouse</td>\n",
       "      <td>Farming-fishing</td>\n",
       "      <td>Husband</td>\n",
       "      <td>White</td>\n",
       "      <td>Male</td>\n",
       "      <td>0</td>\n",
       "      <td>0</td>\n",
       "      <td>50</td>\n",
       "      <td>United-States</td>\n",
       "      <td>0</td>\n",
       "      <td>0</td>\n",
       "    </tr>\n",
       "    <tr>\n",
       "      <th>2</th>\n",
       "      <td>28</td>\n",
       "      <td>Local-gov</td>\n",
       "      <td>12</td>\n",
       "      <td>Married-civ-spouse</td>\n",
       "      <td>Protective-serv</td>\n",
       "      <td>Husband</td>\n",
       "      <td>White</td>\n",
       "      <td>Male</td>\n",
       "      <td>0</td>\n",
       "      <td>0</td>\n",
       "      <td>40</td>\n",
       "      <td>United-States</td>\n",
       "      <td>0</td>\n",
       "      <td>0</td>\n",
       "    </tr>\n",
       "    <tr>\n",
       "      <th>3</th>\n",
       "      <td>44</td>\n",
       "      <td>Private</td>\n",
       "      <td>10</td>\n",
       "      <td>Married-civ-spouse</td>\n",
       "      <td>Machine-op-inspct</td>\n",
       "      <td>Husband</td>\n",
       "      <td>Black</td>\n",
       "      <td>Male</td>\n",
       "      <td>7688</td>\n",
       "      <td>0</td>\n",
       "      <td>40</td>\n",
       "      <td>United-States</td>\n",
       "      <td>1</td>\n",
       "      <td>0</td>\n",
       "    </tr>\n",
       "    <tr>\n",
       "      <th>4</th>\n",
       "      <td>34</td>\n",
       "      <td>Private</td>\n",
       "      <td>6</td>\n",
       "      <td>Never-married</td>\n",
       "      <td>Other-service</td>\n",
       "      <td>Not-in-family</td>\n",
       "      <td>White</td>\n",
       "      <td>Male</td>\n",
       "      <td>0</td>\n",
       "      <td>0</td>\n",
       "      <td>30</td>\n",
       "      <td>United-States</td>\n",
       "      <td>0</td>\n",
       "      <td>0</td>\n",
       "    </tr>\n",
       "    <tr>\n",
       "      <th>...</th>\n",
       "      <td>...</td>\n",
       "      <td>...</td>\n",
       "      <td>...</td>\n",
       "      <td>...</td>\n",
       "      <td>...</td>\n",
       "      <td>...</td>\n",
       "      <td>...</td>\n",
       "      <td>...</td>\n",
       "      <td>...</td>\n",
       "      <td>...</td>\n",
       "      <td>...</td>\n",
       "      <td>...</td>\n",
       "      <td>...</td>\n",
       "      <td>...</td>\n",
       "    </tr>\n",
       "    <tr>\n",
       "      <th>15055</th>\n",
       "      <td>33</td>\n",
       "      <td>Private</td>\n",
       "      <td>13</td>\n",
       "      <td>Never-married</td>\n",
       "      <td>Prof-specialty</td>\n",
       "      <td>Own-child</td>\n",
       "      <td>White</td>\n",
       "      <td>Male</td>\n",
       "      <td>0</td>\n",
       "      <td>0</td>\n",
       "      <td>40</td>\n",
       "      <td>United-States</td>\n",
       "      <td>0</td>\n",
       "      <td>0</td>\n",
       "    </tr>\n",
       "    <tr>\n",
       "      <th>15056</th>\n",
       "      <td>39</td>\n",
       "      <td>Private</td>\n",
       "      <td>13</td>\n",
       "      <td>Divorced</td>\n",
       "      <td>Prof-specialty</td>\n",
       "      <td>Not-in-family</td>\n",
       "      <td>White</td>\n",
       "      <td>Female</td>\n",
       "      <td>0</td>\n",
       "      <td>0</td>\n",
       "      <td>36</td>\n",
       "      <td>United-States</td>\n",
       "      <td>0</td>\n",
       "      <td>0</td>\n",
       "    </tr>\n",
       "    <tr>\n",
       "      <th>15057</th>\n",
       "      <td>38</td>\n",
       "      <td>Private</td>\n",
       "      <td>13</td>\n",
       "      <td>Married-civ-spouse</td>\n",
       "      <td>Prof-specialty</td>\n",
       "      <td>Husband</td>\n",
       "      <td>White</td>\n",
       "      <td>Male</td>\n",
       "      <td>0</td>\n",
       "      <td>0</td>\n",
       "      <td>50</td>\n",
       "      <td>United-States</td>\n",
       "      <td>0</td>\n",
       "      <td>0</td>\n",
       "    </tr>\n",
       "    <tr>\n",
       "      <th>15058</th>\n",
       "      <td>44</td>\n",
       "      <td>Private</td>\n",
       "      <td>13</td>\n",
       "      <td>Divorced</td>\n",
       "      <td>Adm-clerical</td>\n",
       "      <td>Own-child</td>\n",
       "      <td>Asian-Pac-Islander</td>\n",
       "      <td>Male</td>\n",
       "      <td>5455</td>\n",
       "      <td>0</td>\n",
       "      <td>40</td>\n",
       "      <td>United-States</td>\n",
       "      <td>1</td>\n",
       "      <td>0</td>\n",
       "    </tr>\n",
       "    <tr>\n",
       "      <th>15059</th>\n",
       "      <td>35</td>\n",
       "      <td>Self-emp-inc</td>\n",
       "      <td>13</td>\n",
       "      <td>Married-civ-spouse</td>\n",
       "      <td>Exec-managerial</td>\n",
       "      <td>Husband</td>\n",
       "      <td>White</td>\n",
       "      <td>Male</td>\n",
       "      <td>0</td>\n",
       "      <td>0</td>\n",
       "      <td>60</td>\n",
       "      <td>United-States</td>\n",
       "      <td>0</td>\n",
       "      <td>0</td>\n",
       "    </tr>\n",
       "  </tbody>\n",
       "</table>\n",
       "<p>15060 rows × 14 columns</p>\n",
       "</div>"
      ],
      "text/plain": [
       "       age     workclass  education_num      marital_status  \\\n",
       "0       25       Private              7       Never-married   \n",
       "1       38       Private              9  Married-civ-spouse   \n",
       "2       28     Local-gov             12  Married-civ-spouse   \n",
       "3       44       Private             10  Married-civ-spouse   \n",
       "4       34       Private              6       Never-married   \n",
       "...    ...           ...            ...                 ...   \n",
       "15055   33       Private             13       Never-married   \n",
       "15056   39       Private             13            Divorced   \n",
       "15057   38       Private             13  Married-civ-spouse   \n",
       "15058   44       Private             13            Divorced   \n",
       "15059   35  Self-emp-inc             13  Married-civ-spouse   \n",
       "\n",
       "              occupation   relationship                race     sex  \\\n",
       "0      Machine-op-inspct      Own-child               Black    Male   \n",
       "1        Farming-fishing        Husband               White    Male   \n",
       "2        Protective-serv        Husband               White    Male   \n",
       "3      Machine-op-inspct        Husband               Black    Male   \n",
       "4          Other-service  Not-in-family               White    Male   \n",
       "...                  ...            ...                 ...     ...   \n",
       "15055     Prof-specialty      Own-child               White    Male   \n",
       "15056     Prof-specialty  Not-in-family               White  Female   \n",
       "15057     Prof-specialty        Husband               White    Male   \n",
       "15058       Adm-clerical      Own-child  Asian-Pac-Islander    Male   \n",
       "15059    Exec-managerial        Husband               White    Male   \n",
       "\n",
       "       capital_gain  capital_loss  hours_per_week native_country  \\\n",
       "0                 0             0              40  United-States   \n",
       "1                 0             0              50  United-States   \n",
       "2                 0             0              40  United-States   \n",
       "3              7688             0              40  United-States   \n",
       "4                 0             0              30  United-States   \n",
       "...             ...           ...             ...            ...   \n",
       "15055             0             0              40  United-States   \n",
       "15056             0             0              36  United-States   \n",
       "15057             0             0              50  United-States   \n",
       "15058          5455             0              40  United-States   \n",
       "15059             0             0              60  United-States   \n",
       "\n",
       "       capital_gain_yn  capital_loss_yn  \n",
       "0                    0                0  \n",
       "1                    0                0  \n",
       "2                    0                0  \n",
       "3                    1                0  \n",
       "4                    0                0  \n",
       "...                ...              ...  \n",
       "15055                0                0  \n",
       "15056                0                0  \n",
       "15057                0                0  \n",
       "15058                1                0  \n",
       "15059                0                0  \n",
       "\n",
       "[15060 rows x 14 columns]"
      ]
     },
     "execution_count": 224,
     "metadata": {},
     "output_type": "execute_result"
    }
   ],
   "source": [
    "X_test"
   ]
  },
  {
   "cell_type": "code",
   "execution_count": 225,
   "metadata": {},
   "outputs": [],
   "source": [
    "COL_DEL = [] \n",
    "COL_NUM = ['age', 'education_num', 'hours_per_week', 'capital_gain', 'capital_loss']\n",
    "COL_CAT = ['workclass', 'marital_status', 'occupation', 'relationship', 'race', 'sex', 'native_country', 'capital_gain_yn', 'capital_loss_yn']\n",
    "COL_Y = ['target']\n",
    "\n",
    "X_train = X_train.drop(COL_DEL, axis=1)\n",
    "X_test = X_test.drop(COL_DEL, axis=1)"
   ]
  },
  {
   "cell_type": "code",
   "execution_count": 233,
   "metadata": {},
   "outputs": [
    {
     "name": "stdout",
     "output_type": "stream",
     "text": [
      "age\n",
      "          count      mean        std   min   25%   50%   75%   max\n",
      "target                                                            \n",
      "0       22654.0  36.60806  13.464631  17.0  26.0  34.0  45.0  90.0\n",
      "1        7508.0  43.95911  10.269633  19.0  36.0  43.0  51.0  90.0\n",
      "education_num\n",
      "          count       mean       std  min   25%   50%   75%   max\n",
      "target                                                           \n",
      "0       22654.0   9.629116  2.413596  1.0   9.0   9.0  10.0  16.0\n",
      "1        7508.0  11.606420  2.368423  2.0  10.0  12.0  13.0  16.0\n",
      "hours_per_week\n",
      "          count       mean        std  min   25%   50%   75%   max\n",
      "target                                                            \n",
      "0       22654.0  39.348592  11.950774  1.0  38.0  40.0  40.0  99.0\n",
      "1        7508.0  45.706580  10.736987  1.0  40.0  40.0  50.0  99.0\n",
      "capital_gain\n",
      "          count         mean           std  min  25%  50%  75%      max\n",
      "target                                                                 \n",
      "0       22654.0   148.893838    936.392280  0.0  0.0  0.0  0.0  41310.0\n",
      "1        7508.0  3937.679808  14386.060019  0.0  0.0  0.0  0.0  99999.0\n",
      "capital_loss\n",
      "          count        mean         std  min  25%  50%  75%     max\n",
      "target                                                             \n",
      "0       22654.0   53.448000  310.270263  0.0  0.0  0.0  0.0  4356.0\n",
      "1        7508.0  193.750666  592.825590  0.0  0.0  0.0  0.0  3683.0\n"
     ]
    }
   ],
   "source": [
    "train_df = pd.concat([X_train, y_train], axis=1)\n",
    "\n",
    "for _col in COL_NUM:\n",
    "    print(_col)\n",
    "    print(train_df.groupby(COL_Y)[_col].describe())"
   ]
  },
  {
   "cell_type": "code",
   "execution_count": 237,
   "metadata": {},
   "outputs": [
    {
     "name": "stdout",
     "output_type": "stream",
     "text": [
      "          workclass    target\n",
      "3      Self-emp-inc  0.558659\n",
      "0       Federal-gov  0.387063\n",
      "1         Local-gov  0.294630\n",
      "4  Self-emp-not-inc  0.285714\n",
      "5         State-gov  0.268960\n",
      "2           Private  0.218792\n",
      "6       Without-pay  0.000000\n",
      "          marital_status    target\n",
      "1      Married-AF-spouse  0.476190\n",
      "2     Married-civ-spouse  0.454959\n",
      "0               Divorced  0.107262\n",
      "6                Widowed  0.096735\n",
      "3  Married-spouse-absent  0.083784\n",
      "5              Separated  0.070288\n",
      "4          Never-married  0.048324\n",
      "           occupation    target\n",
      "3     Exec-managerial  0.485220\n",
      "9      Prof-specialty  0.448489\n",
      "10    Protective-serv  0.326087\n",
      "12       Tech-support  0.304825\n",
      "11              Sales  0.270647\n",
      "2        Craft-repair  0.225310\n",
      "13   Transport-moving  0.202926\n",
      "0        Adm-clerical  0.133835\n",
      "6   Machine-op-inspct  0.124619\n",
      "4     Farming-fishing  0.116279\n",
      "1        Armed-Forces  0.111111\n",
      "5   Handlers-cleaners  0.061481\n",
      "7       Other-service  0.041096\n",
      "8     Priv-house-serv  0.006993\n",
      "     relationship    target\n",
      "5            Wife  0.493599\n",
      "0         Husband  0.455669\n",
      "1   Not-in-family  0.106523\n",
      "4       Unmarried  0.066314\n",
      "2  Other-relative  0.039370\n",
      "3       Own-child  0.014330\n",
      "                 race    target\n",
      "1  Asian-Pac-Islander  0.277095\n",
      "4               White  0.263718\n",
      "2               Black  0.129925\n",
      "0  Amer-Indian-Eskimo  0.118881\n",
      "3               Other  0.090909\n",
      "      sex    target\n",
      "1    Male  0.313837\n",
      "0  Female  0.113678\n",
      "                native_country    target\n",
      "35                      Taiwan  0.452381\n",
      "9                       France  0.444444\n",
      "19                        Iran  0.428571\n",
      "18                       India  0.400000\n",
      "23                       Japan  0.389831\n",
      "0                     Cambodia  0.388889\n",
      "40                  Yugoslavia  0.375000\n",
      "21                       Italy  0.352941\n",
      "8                      England  0.348837\n",
      "10                     Germany  0.343750\n",
      "1                       Canada  0.336449\n",
      "29                 Philippines  0.319149\n",
      "16                        Hong  0.315789\n",
      "2                        China  0.294118\n",
      "11                      Greece  0.275862\n",
      "4                         Cuba  0.271739\n",
      "38               United-States  0.254327\n",
      "17                     Hungary  0.230769\n",
      "20                     Ireland  0.208333\n",
      "34                       South  0.197183\n",
      "30                      Poland  0.196429\n",
      "33                    Scotland  0.181818\n",
      "36                    Thailand  0.176471\n",
      "6                      Ecuador  0.148148\n",
      "22                     Jamaica  0.125000\n",
      "31                    Portugal  0.117647\n",
      "24                        Laos  0.117647\n",
      "37             Trinadad&Tobago  0.111111\n",
      "32                 Puerto-Rico  0.110092\n",
      "13                       Haiti  0.095238\n",
      "7                  El-Salvador  0.090000\n",
      "15                    Honduras  0.083333\n",
      "39                     Vietnam  0.078125\n",
      "28                        Peru  0.066667\n",
      "26                   Nicaragua  0.060606\n",
      "25                      Mexico  0.054098\n",
      "12                   Guatemala  0.047619\n",
      "3                     Columbia  0.035714\n",
      "5           Dominican-Republic  0.029851\n",
      "27  Outlying-US(Guam-USVI-etc)  0.000000\n",
      "14          Holand-Netherlands  0.000000\n",
      "   capital_gain_yn    target\n",
      "1                1  0.628448\n",
      "0                0  0.214053\n",
      "   capital_loss_yn    target\n",
      "1                1  0.516468\n",
      "0                0  0.235636\n"
     ]
    }
   ],
   "source": [
    "for _col in COL_CAT:\n",
    "    print(train_df.groupby(_col, as_index=False)[COL_Y].mean().sort_values(by=COL_Y, ascending=False))"
   ]
  },
  {
   "cell_type": "code",
   "execution_count": 238,
   "metadata": {},
   "outputs": [],
   "source": [
    "from sklearn.preprocessing import LabelEncoder\n",
    "X = pd.concat([X_train,X_test])\n",
    "\n",
    "for _col in COL_CAT:\n",
    "    le = LabelEncoder()\n",
    "    le.fit(X_train[_col])\n",
    "    X_train[_col] = le.transform(X_train[_col])\n",
    "    X_test[_col] = le.transform(X_test[_col])"
   ]
  },
  {
   "attachments": {},
   "cell_type": "markdown",
   "metadata": {},
   "source": [
    "## (4)데이터 모형구축"
   ]
  },
  {
   "cell_type": "code",
   "execution_count": 239,
   "metadata": {},
   "outputs": [],
   "source": [
    "from sklearn.model_selection import train_test_split\n",
    "X_tr, X_val, y_tr, y_val = train_test_split(X_train, y_train, test_size = 0.3, stratify=y_train)"
   ]
  },
  {
   "cell_type": "code",
   "execution_count": 240,
   "metadata": {},
   "outputs": [],
   "source": [
    "from sklearn.preprocessing import StandardScaler\n",
    "\n",
    "scaler = StandardScaler()\n",
    "X_tr[COL_NUM] = scaler.fit_transform(X_tr[COL_NUM])\n",
    "X_val[COL_NUM] = scaler.transform(X_val[COL_NUM])\n",
    "X_test[COL_NUM] = scaler.transform(X_test[COL_NUM])\n"
   ]
  },
  {
   "cell_type": "code",
   "execution_count": 242,
   "metadata": {},
   "outputs": [
    {
     "data": {
      "text/html": [
       "<style>#sk-container-id-11 {color: black;background-color: white;}#sk-container-id-11 pre{padding: 0;}#sk-container-id-11 div.sk-toggleable {background-color: white;}#sk-container-id-11 label.sk-toggleable__label {cursor: pointer;display: block;width: 100%;margin-bottom: 0;padding: 0.3em;box-sizing: border-box;text-align: center;}#sk-container-id-11 label.sk-toggleable__label-arrow:before {content: \"▸\";float: left;margin-right: 0.25em;color: #696969;}#sk-container-id-11 label.sk-toggleable__label-arrow:hover:before {color: black;}#sk-container-id-11 div.sk-estimator:hover label.sk-toggleable__label-arrow:before {color: black;}#sk-container-id-11 div.sk-toggleable__content {max-height: 0;max-width: 0;overflow: hidden;text-align: left;background-color: #f0f8ff;}#sk-container-id-11 div.sk-toggleable__content pre {margin: 0.2em;color: black;border-radius: 0.25em;background-color: #f0f8ff;}#sk-container-id-11 input.sk-toggleable__control:checked~div.sk-toggleable__content {max-height: 200px;max-width: 100%;overflow: auto;}#sk-container-id-11 input.sk-toggleable__control:checked~label.sk-toggleable__label-arrow:before {content: \"▾\";}#sk-container-id-11 div.sk-estimator input.sk-toggleable__control:checked~label.sk-toggleable__label {background-color: #d4ebff;}#sk-container-id-11 div.sk-label input.sk-toggleable__control:checked~label.sk-toggleable__label {background-color: #d4ebff;}#sk-container-id-11 input.sk-hidden--visually {border: 0;clip: rect(1px 1px 1px 1px);clip: rect(1px, 1px, 1px, 1px);height: 1px;margin: -1px;overflow: hidden;padding: 0;position: absolute;width: 1px;}#sk-container-id-11 div.sk-estimator {font-family: monospace;background-color: #f0f8ff;border: 1px dotted black;border-radius: 0.25em;box-sizing: border-box;margin-bottom: 0.5em;}#sk-container-id-11 div.sk-estimator:hover {background-color: #d4ebff;}#sk-container-id-11 div.sk-parallel-item::after {content: \"\";width: 100%;border-bottom: 1px solid gray;flex-grow: 1;}#sk-container-id-11 div.sk-label:hover label.sk-toggleable__label {background-color: #d4ebff;}#sk-container-id-11 div.sk-serial::before {content: \"\";position: absolute;border-left: 1px solid gray;box-sizing: border-box;top: 0;bottom: 0;left: 50%;z-index: 0;}#sk-container-id-11 div.sk-serial {display: flex;flex-direction: column;align-items: center;background-color: white;padding-right: 0.2em;padding-left: 0.2em;position: relative;}#sk-container-id-11 div.sk-item {position: relative;z-index: 1;}#sk-container-id-11 div.sk-parallel {display: flex;align-items: stretch;justify-content: center;background-color: white;position: relative;}#sk-container-id-11 div.sk-item::before, #sk-container-id-11 div.sk-parallel-item::before {content: \"\";position: absolute;border-left: 1px solid gray;box-sizing: border-box;top: 0;bottom: 0;left: 50%;z-index: -1;}#sk-container-id-11 div.sk-parallel-item {display: flex;flex-direction: column;z-index: 1;position: relative;background-color: white;}#sk-container-id-11 div.sk-parallel-item:first-child::after {align-self: flex-end;width: 50%;}#sk-container-id-11 div.sk-parallel-item:last-child::after {align-self: flex-start;width: 50%;}#sk-container-id-11 div.sk-parallel-item:only-child::after {width: 0;}#sk-container-id-11 div.sk-dashed-wrapped {border: 1px dashed gray;margin: 0 0.4em 0.5em 0.4em;box-sizing: border-box;padding-bottom: 0.4em;background-color: white;}#sk-container-id-11 div.sk-label label {font-family: monospace;font-weight: bold;display: inline-block;line-height: 1.2em;}#sk-container-id-11 div.sk-label-container {text-align: center;}#sk-container-id-11 div.sk-container {/* jupyter's `normalize.less` sets `[hidden] { display: none; }` but bootstrap.min.css set `[hidden] { display: none !important; }` so we also need the `!important` here to be able to override the default hidden behavior on the sphinx rendered scikit-learn.org. See: https://github.com/scikit-learn/scikit-learn/issues/21755 */display: inline-block !important;position: relative;}#sk-container-id-11 div.sk-text-repr-fallback {display: none;}</style><div id=\"sk-container-id-11\" class=\"sk-top-container\"><div class=\"sk-text-repr-fallback\"><pre>RandomForestClassifier()</pre><b>In a Jupyter environment, please rerun this cell to show the HTML representation or trust the notebook. <br />On GitHub, the HTML representation is unable to render, please try loading this page with nbviewer.org.</b></div><div class=\"sk-container\" hidden><div class=\"sk-item\"><div class=\"sk-estimator sk-toggleable\"><input class=\"sk-toggleable__control sk-hidden--visually\" id=\"sk-estimator-id-11\" type=\"checkbox\" checked><label for=\"sk-estimator-id-11\" class=\"sk-toggleable__label sk-toggleable__label-arrow\">RandomForestClassifier</label><div class=\"sk-toggleable__content\"><pre>RandomForestClassifier()</pre></div></div></div></div></div>"
      ],
      "text/plain": [
       "RandomForestClassifier()"
      ]
     },
     "execution_count": 242,
     "metadata": {},
     "output_type": "execute_result"
    }
   ],
   "source": [
    "from sklearn.ensemble import RandomForestClassifier\n",
    "\n",
    "model_rf = RandomForestClassifier()\n",
    "model_rf.fit(X_tr, y_tr.values.ravel())"
   ]
  },
  {
   "cell_type": "code",
   "execution_count": 243,
   "metadata": {},
   "outputs": [
    {
     "name": "stdout",
     "output_type": "stream",
     "text": [
      "Collecting xgboost\n",
      "  Downloading xgboost-1.7.5-py3-none-macosx_10_15_x86_64.macosx_11_0_x86_64.macosx_12_0_x86_64.whl (1.8 MB)\n",
      "\u001b[2K     \u001b[90m━━━━━━━━━━━━━━━━━━━━━━━━━━━━━━━━━━━━━━━━\u001b[0m \u001b[32m1.8/1.8 MB\u001b[0m \u001b[31m15.1 MB/s\u001b[0m eta \u001b[36m0:00:00\u001b[0m00:01\u001b[0m00:01\u001b[0m\n",
      "\u001b[?25hRequirement already satisfied: numpy in /Users/keonhak/anaconda3/lib/python3.10/site-packages (from xgboost) (1.23.5)\n",
      "Requirement already satisfied: scipy in /Users/keonhak/anaconda3/lib/python3.10/site-packages (from xgboost) (1.10.0)\n",
      "Installing collected packages: xgboost\n",
      "Successfully installed xgboost-1.7.5\n",
      "Note: you may need to restart the kernel to use updated packages.\n"
     ]
    }
   ],
   "source": [
    "pip install xgboost"
   ]
  },
  {
   "cell_type": "code",
   "execution_count": 247,
   "metadata": {},
   "outputs": [
    {
     "data": {
      "text/html": [
       "<style>#sk-container-id-13 {color: black;background-color: white;}#sk-container-id-13 pre{padding: 0;}#sk-container-id-13 div.sk-toggleable {background-color: white;}#sk-container-id-13 label.sk-toggleable__label {cursor: pointer;display: block;width: 100%;margin-bottom: 0;padding: 0.3em;box-sizing: border-box;text-align: center;}#sk-container-id-13 label.sk-toggleable__label-arrow:before {content: \"▸\";float: left;margin-right: 0.25em;color: #696969;}#sk-container-id-13 label.sk-toggleable__label-arrow:hover:before {color: black;}#sk-container-id-13 div.sk-estimator:hover label.sk-toggleable__label-arrow:before {color: black;}#sk-container-id-13 div.sk-toggleable__content {max-height: 0;max-width: 0;overflow: hidden;text-align: left;background-color: #f0f8ff;}#sk-container-id-13 div.sk-toggleable__content pre {margin: 0.2em;color: black;border-radius: 0.25em;background-color: #f0f8ff;}#sk-container-id-13 input.sk-toggleable__control:checked~div.sk-toggleable__content {max-height: 200px;max-width: 100%;overflow: auto;}#sk-container-id-13 input.sk-toggleable__control:checked~label.sk-toggleable__label-arrow:before {content: \"▾\";}#sk-container-id-13 div.sk-estimator input.sk-toggleable__control:checked~label.sk-toggleable__label {background-color: #d4ebff;}#sk-container-id-13 div.sk-label input.sk-toggleable__control:checked~label.sk-toggleable__label {background-color: #d4ebff;}#sk-container-id-13 input.sk-hidden--visually {border: 0;clip: rect(1px 1px 1px 1px);clip: rect(1px, 1px, 1px, 1px);height: 1px;margin: -1px;overflow: hidden;padding: 0;position: absolute;width: 1px;}#sk-container-id-13 div.sk-estimator {font-family: monospace;background-color: #f0f8ff;border: 1px dotted black;border-radius: 0.25em;box-sizing: border-box;margin-bottom: 0.5em;}#sk-container-id-13 div.sk-estimator:hover {background-color: #d4ebff;}#sk-container-id-13 div.sk-parallel-item::after {content: \"\";width: 100%;border-bottom: 1px solid gray;flex-grow: 1;}#sk-container-id-13 div.sk-label:hover label.sk-toggleable__label {background-color: #d4ebff;}#sk-container-id-13 div.sk-serial::before {content: \"\";position: absolute;border-left: 1px solid gray;box-sizing: border-box;top: 0;bottom: 0;left: 50%;z-index: 0;}#sk-container-id-13 div.sk-serial {display: flex;flex-direction: column;align-items: center;background-color: white;padding-right: 0.2em;padding-left: 0.2em;position: relative;}#sk-container-id-13 div.sk-item {position: relative;z-index: 1;}#sk-container-id-13 div.sk-parallel {display: flex;align-items: stretch;justify-content: center;background-color: white;position: relative;}#sk-container-id-13 div.sk-item::before, #sk-container-id-13 div.sk-parallel-item::before {content: \"\";position: absolute;border-left: 1px solid gray;box-sizing: border-box;top: 0;bottom: 0;left: 50%;z-index: -1;}#sk-container-id-13 div.sk-parallel-item {display: flex;flex-direction: column;z-index: 1;position: relative;background-color: white;}#sk-container-id-13 div.sk-parallel-item:first-child::after {align-self: flex-end;width: 50%;}#sk-container-id-13 div.sk-parallel-item:last-child::after {align-self: flex-start;width: 50%;}#sk-container-id-13 div.sk-parallel-item:only-child::after {width: 0;}#sk-container-id-13 div.sk-dashed-wrapped {border: 1px dashed gray;margin: 0 0.4em 0.5em 0.4em;box-sizing: border-box;padding-bottom: 0.4em;background-color: white;}#sk-container-id-13 div.sk-label label {font-family: monospace;font-weight: bold;display: inline-block;line-height: 1.2em;}#sk-container-id-13 div.sk-label-container {text-align: center;}#sk-container-id-13 div.sk-container {/* jupyter's `normalize.less` sets `[hidden] { display: none; }` but bootstrap.min.css set `[hidden] { display: none !important; }` so we also need the `!important` here to be able to override the default hidden behavior on the sphinx rendered scikit-learn.org. See: https://github.com/scikit-learn/scikit-learn/issues/21755 */display: inline-block !important;position: relative;}#sk-container-id-13 div.sk-text-repr-fallback {display: none;}</style><div id=\"sk-container-id-13\" class=\"sk-top-container\"><div class=\"sk-text-repr-fallback\"><pre>XGBClassifier(base_score=None, booster=None, callbacks=None,\n",
       "              colsample_bylevel=None, colsample_bynode=None,\n",
       "              colsample_bytree=None, early_stopping_rounds=None,\n",
       "              enable_categorical=False, eval_metric=None, feature_types=None,\n",
       "              gamma=None, gpu_id=None, grow_policy=None, importance_type=None,\n",
       "              interaction_constraints=None, learning_rate=None, max_bin=None,\n",
       "              max_cat_threshold=None, max_cat_to_onehot=None,\n",
       "              max_delta_step=None, max_depth=None, max_leaves=None,\n",
       "              min_child_weight=None, missing=nan, monotone_constraints=None,\n",
       "              n_estimators=100, n_jobs=None, num_parallel_tree=None,\n",
       "              predictor=None, random_state=None, ...)</pre><b>In a Jupyter environment, please rerun this cell to show the HTML representation or trust the notebook. <br />On GitHub, the HTML representation is unable to render, please try loading this page with nbviewer.org.</b></div><div class=\"sk-container\" hidden><div class=\"sk-item\"><div class=\"sk-estimator sk-toggleable\"><input class=\"sk-toggleable__control sk-hidden--visually\" id=\"sk-estimator-id-13\" type=\"checkbox\" checked><label for=\"sk-estimator-id-13\" class=\"sk-toggleable__label sk-toggleable__label-arrow\">XGBClassifier</label><div class=\"sk-toggleable__content\"><pre>XGBClassifier(base_score=None, booster=None, callbacks=None,\n",
       "              colsample_bylevel=None, colsample_bynode=None,\n",
       "              colsample_bytree=None, early_stopping_rounds=None,\n",
       "              enable_categorical=False, eval_metric=None, feature_types=None,\n",
       "              gamma=None, gpu_id=None, grow_policy=None, importance_type=None,\n",
       "              interaction_constraints=None, learning_rate=None, max_bin=None,\n",
       "              max_cat_threshold=None, max_cat_to_onehot=None,\n",
       "              max_delta_step=None, max_depth=None, max_leaves=None,\n",
       "              min_child_weight=None, missing=nan, monotone_constraints=None,\n",
       "              n_estimators=100, n_jobs=None, num_parallel_tree=None,\n",
       "              predictor=None, random_state=None, ...)</pre></div></div></div></div></div>"
      ],
      "text/plain": [
       "XGBClassifier(base_score=None, booster=None, callbacks=None,\n",
       "              colsample_bylevel=None, colsample_bynode=None,\n",
       "              colsample_bytree=None, early_stopping_rounds=None,\n",
       "              enable_categorical=False, eval_metric=None, feature_types=None,\n",
       "              gamma=None, gpu_id=None, grow_policy=None, importance_type=None,\n",
       "              interaction_constraints=None, learning_rate=None, max_bin=None,\n",
       "              max_cat_threshold=None, max_cat_to_onehot=None,\n",
       "              max_delta_step=None, max_depth=None, max_leaves=None,\n",
       "              min_child_weight=None, missing=nan, monotone_constraints=None,\n",
       "              n_estimators=100, n_jobs=None, num_parallel_tree=None,\n",
       "              predictor=None, random_state=None, ...)"
      ]
     },
     "execution_count": 247,
     "metadata": {},
     "output_type": "execute_result"
    }
   ],
   "source": [
    "from xgboost import XGBClassifier\n",
    "\n",
    "model_xgb1 = XGBClassifier()\n",
    "model_xgb1.fit(X_tr, y_tr.values.ravel())"
   ]
  },
  {
   "cell_type": "code",
   "execution_count": 248,
   "metadata": {},
   "outputs": [
    {
     "name": "stdout",
     "output_type": "stream",
     "text": [
      "[21:08:29] WARNING: /Users/runner/work/xgboost/xgboost/python-package/build/temp.macosx-10.9-x86_64-cpython-38/xgboost/src/learner.cc:767: \n",
      "Parameters: { \"learning_tate\" } are not used.\n",
      "\n",
      "[0]\tvalidation_0-auc:0.90732\n",
      "[10]\tvalidation_0-auc:0.92240\n",
      "[20]\tvalidation_0-auc:0.92626\n",
      "[30]\tvalidation_0-auc:0.92583\n",
      "[40]\tvalidation_0-auc:0.92570\n",
      "[50]\tvalidation_0-auc:0.92552\n",
      "[60]\tvalidation_0-auc:0.92462\n",
      "[70]\tvalidation_0-auc:0.92377\n",
      "[72]\tvalidation_0-auc:0.92371\n"
     ]
    },
    {
     "data": {
      "text/html": [
       "<style>#sk-container-id-14 {color: black;background-color: white;}#sk-container-id-14 pre{padding: 0;}#sk-container-id-14 div.sk-toggleable {background-color: white;}#sk-container-id-14 label.sk-toggleable__label {cursor: pointer;display: block;width: 100%;margin-bottom: 0;padding: 0.3em;box-sizing: border-box;text-align: center;}#sk-container-id-14 label.sk-toggleable__label-arrow:before {content: \"▸\";float: left;margin-right: 0.25em;color: #696969;}#sk-container-id-14 label.sk-toggleable__label-arrow:hover:before {color: black;}#sk-container-id-14 div.sk-estimator:hover label.sk-toggleable__label-arrow:before {color: black;}#sk-container-id-14 div.sk-toggleable__content {max-height: 0;max-width: 0;overflow: hidden;text-align: left;background-color: #f0f8ff;}#sk-container-id-14 div.sk-toggleable__content pre {margin: 0.2em;color: black;border-radius: 0.25em;background-color: #f0f8ff;}#sk-container-id-14 input.sk-toggleable__control:checked~div.sk-toggleable__content {max-height: 200px;max-width: 100%;overflow: auto;}#sk-container-id-14 input.sk-toggleable__control:checked~label.sk-toggleable__label-arrow:before {content: \"▾\";}#sk-container-id-14 div.sk-estimator input.sk-toggleable__control:checked~label.sk-toggleable__label {background-color: #d4ebff;}#sk-container-id-14 div.sk-label input.sk-toggleable__control:checked~label.sk-toggleable__label {background-color: #d4ebff;}#sk-container-id-14 input.sk-hidden--visually {border: 0;clip: rect(1px 1px 1px 1px);clip: rect(1px, 1px, 1px, 1px);height: 1px;margin: -1px;overflow: hidden;padding: 0;position: absolute;width: 1px;}#sk-container-id-14 div.sk-estimator {font-family: monospace;background-color: #f0f8ff;border: 1px dotted black;border-radius: 0.25em;box-sizing: border-box;margin-bottom: 0.5em;}#sk-container-id-14 div.sk-estimator:hover {background-color: #d4ebff;}#sk-container-id-14 div.sk-parallel-item::after {content: \"\";width: 100%;border-bottom: 1px solid gray;flex-grow: 1;}#sk-container-id-14 div.sk-label:hover label.sk-toggleable__label {background-color: #d4ebff;}#sk-container-id-14 div.sk-serial::before {content: \"\";position: absolute;border-left: 1px solid gray;box-sizing: border-box;top: 0;bottom: 0;left: 50%;z-index: 0;}#sk-container-id-14 div.sk-serial {display: flex;flex-direction: column;align-items: center;background-color: white;padding-right: 0.2em;padding-left: 0.2em;position: relative;}#sk-container-id-14 div.sk-item {position: relative;z-index: 1;}#sk-container-id-14 div.sk-parallel {display: flex;align-items: stretch;justify-content: center;background-color: white;position: relative;}#sk-container-id-14 div.sk-item::before, #sk-container-id-14 div.sk-parallel-item::before {content: \"\";position: absolute;border-left: 1px solid gray;box-sizing: border-box;top: 0;bottom: 0;left: 50%;z-index: -1;}#sk-container-id-14 div.sk-parallel-item {display: flex;flex-direction: column;z-index: 1;position: relative;background-color: white;}#sk-container-id-14 div.sk-parallel-item:first-child::after {align-self: flex-end;width: 50%;}#sk-container-id-14 div.sk-parallel-item:last-child::after {align-self: flex-start;width: 50%;}#sk-container-id-14 div.sk-parallel-item:only-child::after {width: 0;}#sk-container-id-14 div.sk-dashed-wrapped {border: 1px dashed gray;margin: 0 0.4em 0.5em 0.4em;box-sizing: border-box;padding-bottom: 0.4em;background-color: white;}#sk-container-id-14 div.sk-label label {font-family: monospace;font-weight: bold;display: inline-block;line-height: 1.2em;}#sk-container-id-14 div.sk-label-container {text-align: center;}#sk-container-id-14 div.sk-container {/* jupyter's `normalize.less` sets `[hidden] { display: none; }` but bootstrap.min.css set `[hidden] { display: none !important; }` so we also need the `!important` here to be able to override the default hidden behavior on the sphinx rendered scikit-learn.org. See: https://github.com/scikit-learn/scikit-learn/issues/21755 */display: inline-block !important;position: relative;}#sk-container-id-14 div.sk-text-repr-fallback {display: none;}</style><div id=\"sk-container-id-14\" class=\"sk-top-container\"><div class=\"sk-text-repr-fallback\"><pre>XGBClassifier(base_score=None, booster=None, callbacks=None,\n",
       "              colsample_bylevel=None, colsample_bynode=None,\n",
       "              colsample_bytree=None, early_stopping_rounds=None,\n",
       "              enable_categorical=False, eval_metric=None, feature_types=None,\n",
       "              gamma=None, gpu_id=None, grow_policy=None, importance_type=None,\n",
       "              interaction_constraints=None, learning_rate=None,\n",
       "              learning_tate=0.1, max_bin=None, max_cat_threshold=None,\n",
       "              max_cat_to_onehot=None, max_delta_step=None, max_depth=10,\n",
       "              max_leaves=None, min_child_weight=None, missing=nan,\n",
       "              monotone_constraints=None, n_estimators=1000, n_jobs=None,\n",
       "              num_parallel_tree=None, predictor=None, ...)</pre><b>In a Jupyter environment, please rerun this cell to show the HTML representation or trust the notebook. <br />On GitHub, the HTML representation is unable to render, please try loading this page with nbviewer.org.</b></div><div class=\"sk-container\" hidden><div class=\"sk-item\"><div class=\"sk-estimator sk-toggleable\"><input class=\"sk-toggleable__control sk-hidden--visually\" id=\"sk-estimator-id-14\" type=\"checkbox\" checked><label for=\"sk-estimator-id-14\" class=\"sk-toggleable__label sk-toggleable__label-arrow\">XGBClassifier</label><div class=\"sk-toggleable__content\"><pre>XGBClassifier(base_score=None, booster=None, callbacks=None,\n",
       "              colsample_bylevel=None, colsample_bynode=None,\n",
       "              colsample_bytree=None, early_stopping_rounds=None,\n",
       "              enable_categorical=False, eval_metric=None, feature_types=None,\n",
       "              gamma=None, gpu_id=None, grow_policy=None, importance_type=None,\n",
       "              interaction_constraints=None, learning_rate=None,\n",
       "              learning_tate=0.1, max_bin=None, max_cat_threshold=None,\n",
       "              max_cat_to_onehot=None, max_delta_step=None, max_depth=10,\n",
       "              max_leaves=None, min_child_weight=None, missing=nan,\n",
       "              monotone_constraints=None, n_estimators=1000, n_jobs=None,\n",
       "              num_parallel_tree=None, predictor=None, ...)</pre></div></div></div></div></div>"
      ],
      "text/plain": [
       "XGBClassifier(base_score=None, booster=None, callbacks=None,\n",
       "              colsample_bylevel=None, colsample_bynode=None,\n",
       "              colsample_bytree=None, early_stopping_rounds=None,\n",
       "              enable_categorical=False, eval_metric=None, feature_types=None,\n",
       "              gamma=None, gpu_id=None, grow_policy=None, importance_type=None,\n",
       "              interaction_constraints=None, learning_rate=None,\n",
       "              learning_tate=0.1, max_bin=None, max_cat_threshold=None,\n",
       "              max_cat_to_onehot=None, max_delta_step=None, max_depth=10,\n",
       "              max_leaves=None, min_child_weight=None, missing=nan,\n",
       "              monotone_constraints=None, n_estimators=1000, n_jobs=None,\n",
       "              num_parallel_tree=None, predictor=None, ...)"
      ]
     },
     "execution_count": 248,
     "metadata": {},
     "output_type": "execute_result"
    }
   ],
   "source": [
    "model_xgb2 = XGBClassifier(n_estimators =1000, learning_tate = 0.1, max_depth = 10)\n",
    "model_xgb2.fit(X_tr, y_tr.values.ravel(),early_stopping_rounds=50, eval_metric='auc',eval_set=[(X_val,y_val)],verbose=10)"
   ]
  },
  {
   "cell_type": "code",
   "execution_count": 249,
   "metadata": {},
   "outputs": [
    {
     "name": "stdout",
     "output_type": "stream",
     "text": [
      "0.8979889649362076\n",
      "0.9279339686221405\n"
     ]
    }
   ],
   "source": [
    "from sklearn.metrics import roc_auc_score\n",
    "\n",
    "y_pred_rf = model_rf.predict_proba(X_val)\n",
    "y_pred_xgb1 = model_xgb1.predict_proba(X_val)\n",
    "\n",
    "score_rf = roc_auc_score(y_val, y_pred_rf[:, 1])\n",
    "score_xgb1 = roc_auc_score(y_val, y_pred_xgb1[:, 1]) \n",
    "\n",
    "print(score_rf)\n",
    "print(score_xgb1)"
   ]
  },
  {
   "cell_type": "code",
   "execution_count": 250,
   "metadata": {},
   "outputs": [
    {
     "name": "stdout",
     "output_type": "stream",
     "text": [
      "            feature     fi_rf    fi_xgb\n",
      "0               age  0.217558  0.030960\n",
      "1         workclass  0.049475  0.022999\n",
      "2     education_num  0.134536  0.110080\n",
      "3    marital_status  0.081760  0.151110\n",
      "4        occupation  0.086608  0.034346\n",
      "5      relationship  0.105723  0.312760\n",
      "6              race  0.017591  0.016761\n",
      "7               sex  0.013098  0.031606\n",
      "8      capital_gain  0.106621  0.181132\n",
      "9      capital_loss  0.033769  0.065458\n",
      "10   hours_per_week  0.106666  0.028116\n",
      "11   native_country  0.018735  0.014672\n",
      "12  capital_gain_yn  0.020839  0.000000\n",
      "13  capital_loss_yn  0.007022  0.000000\n"
     ]
    }
   ],
   "source": [
    "print(pd.DataFrame({'feature': X_tr.columns, 'fi_rf': model_rf.feature_importances_, 'fi_xgb': model_xgb1.feature_importances_}))"
   ]
  },
  {
   "cell_type": "code",
   "execution_count": 251,
   "metadata": {},
   "outputs": [],
   "source": [
    "COL_DEL = ['capital_gain_yn', 'capital_loss_yn']\n",
    "\n",
    "X_tr = X_tr.drop(COL_DEL, axis=1)\n",
    "X_val = X_val.drop(COL_DEL, axis=1)\n",
    "X_test = X_test.drop(COL_DEL, axis=1)"
   ]
  },
  {
   "cell_type": "code",
   "execution_count": 252,
   "metadata": {},
   "outputs": [
    {
     "data": {
      "text/html": [
       "<style>#sk-container-id-15 {color: black;background-color: white;}#sk-container-id-15 pre{padding: 0;}#sk-container-id-15 div.sk-toggleable {background-color: white;}#sk-container-id-15 label.sk-toggleable__label {cursor: pointer;display: block;width: 100%;margin-bottom: 0;padding: 0.3em;box-sizing: border-box;text-align: center;}#sk-container-id-15 label.sk-toggleable__label-arrow:before {content: \"▸\";float: left;margin-right: 0.25em;color: #696969;}#sk-container-id-15 label.sk-toggleable__label-arrow:hover:before {color: black;}#sk-container-id-15 div.sk-estimator:hover label.sk-toggleable__label-arrow:before {color: black;}#sk-container-id-15 div.sk-toggleable__content {max-height: 0;max-width: 0;overflow: hidden;text-align: left;background-color: #f0f8ff;}#sk-container-id-15 div.sk-toggleable__content pre {margin: 0.2em;color: black;border-radius: 0.25em;background-color: #f0f8ff;}#sk-container-id-15 input.sk-toggleable__control:checked~div.sk-toggleable__content {max-height: 200px;max-width: 100%;overflow: auto;}#sk-container-id-15 input.sk-toggleable__control:checked~label.sk-toggleable__label-arrow:before {content: \"▾\";}#sk-container-id-15 div.sk-estimator input.sk-toggleable__control:checked~label.sk-toggleable__label {background-color: #d4ebff;}#sk-container-id-15 div.sk-label input.sk-toggleable__control:checked~label.sk-toggleable__label {background-color: #d4ebff;}#sk-container-id-15 input.sk-hidden--visually {border: 0;clip: rect(1px 1px 1px 1px);clip: rect(1px, 1px, 1px, 1px);height: 1px;margin: -1px;overflow: hidden;padding: 0;position: absolute;width: 1px;}#sk-container-id-15 div.sk-estimator {font-family: monospace;background-color: #f0f8ff;border: 1px dotted black;border-radius: 0.25em;box-sizing: border-box;margin-bottom: 0.5em;}#sk-container-id-15 div.sk-estimator:hover {background-color: #d4ebff;}#sk-container-id-15 div.sk-parallel-item::after {content: \"\";width: 100%;border-bottom: 1px solid gray;flex-grow: 1;}#sk-container-id-15 div.sk-label:hover label.sk-toggleable__label {background-color: #d4ebff;}#sk-container-id-15 div.sk-serial::before {content: \"\";position: absolute;border-left: 1px solid gray;box-sizing: border-box;top: 0;bottom: 0;left: 50%;z-index: 0;}#sk-container-id-15 div.sk-serial {display: flex;flex-direction: column;align-items: center;background-color: white;padding-right: 0.2em;padding-left: 0.2em;position: relative;}#sk-container-id-15 div.sk-item {position: relative;z-index: 1;}#sk-container-id-15 div.sk-parallel {display: flex;align-items: stretch;justify-content: center;background-color: white;position: relative;}#sk-container-id-15 div.sk-item::before, #sk-container-id-15 div.sk-parallel-item::before {content: \"\";position: absolute;border-left: 1px solid gray;box-sizing: border-box;top: 0;bottom: 0;left: 50%;z-index: -1;}#sk-container-id-15 div.sk-parallel-item {display: flex;flex-direction: column;z-index: 1;position: relative;background-color: white;}#sk-container-id-15 div.sk-parallel-item:first-child::after {align-self: flex-end;width: 50%;}#sk-container-id-15 div.sk-parallel-item:last-child::after {align-self: flex-start;width: 50%;}#sk-container-id-15 div.sk-parallel-item:only-child::after {width: 0;}#sk-container-id-15 div.sk-dashed-wrapped {border: 1px dashed gray;margin: 0 0.4em 0.5em 0.4em;box-sizing: border-box;padding-bottom: 0.4em;background-color: white;}#sk-container-id-15 div.sk-label label {font-family: monospace;font-weight: bold;display: inline-block;line-height: 1.2em;}#sk-container-id-15 div.sk-label-container {text-align: center;}#sk-container-id-15 div.sk-container {/* jupyter's `normalize.less` sets `[hidden] { display: none; }` but bootstrap.min.css set `[hidden] { display: none !important; }` so we also need the `!important` here to be able to override the default hidden behavior on the sphinx rendered scikit-learn.org. See: https://github.com/scikit-learn/scikit-learn/issues/21755 */display: inline-block !important;position: relative;}#sk-container-id-15 div.sk-text-repr-fallback {display: none;}</style><div id=\"sk-container-id-15\" class=\"sk-top-container\"><div class=\"sk-text-repr-fallback\"><pre>GridSearchCV(cv=5, estimator=RandomForestClassifier(),\n",
       "             param_grid={&#x27;max_depth&#x27;: [5, 10, 15],\n",
       "                         &#x27;min_samples_leaf&#x27;: [1, 2, 4],\n",
       "                         &#x27;min_samples_split&#x27;: [2, 5, 10],\n",
       "                         &#x27;n_estimators&#x27;: [50, 100, 200]})</pre><b>In a Jupyter environment, please rerun this cell to show the HTML representation or trust the notebook. <br />On GitHub, the HTML representation is unable to render, please try loading this page with nbviewer.org.</b></div><div class=\"sk-container\" hidden><div class=\"sk-item sk-dashed-wrapped\"><div class=\"sk-label-container\"><div class=\"sk-label sk-toggleable\"><input class=\"sk-toggleable__control sk-hidden--visually\" id=\"sk-estimator-id-15\" type=\"checkbox\" ><label for=\"sk-estimator-id-15\" class=\"sk-toggleable__label sk-toggleable__label-arrow\">GridSearchCV</label><div class=\"sk-toggleable__content\"><pre>GridSearchCV(cv=5, estimator=RandomForestClassifier(),\n",
       "             param_grid={&#x27;max_depth&#x27;: [5, 10, 15],\n",
       "                         &#x27;min_samples_leaf&#x27;: [1, 2, 4],\n",
       "                         &#x27;min_samples_split&#x27;: [2, 5, 10],\n",
       "                         &#x27;n_estimators&#x27;: [50, 100, 200]})</pre></div></div></div><div class=\"sk-parallel\"><div class=\"sk-parallel-item\"><div class=\"sk-item\"><div class=\"sk-label-container\"><div class=\"sk-label sk-toggleable\"><input class=\"sk-toggleable__control sk-hidden--visually\" id=\"sk-estimator-id-16\" type=\"checkbox\" ><label for=\"sk-estimator-id-16\" class=\"sk-toggleable__label sk-toggleable__label-arrow\">estimator: RandomForestClassifier</label><div class=\"sk-toggleable__content\"><pre>RandomForestClassifier()</pre></div></div></div><div class=\"sk-serial\"><div class=\"sk-item\"><div class=\"sk-estimator sk-toggleable\"><input class=\"sk-toggleable__control sk-hidden--visually\" id=\"sk-estimator-id-17\" type=\"checkbox\" ><label for=\"sk-estimator-id-17\" class=\"sk-toggleable__label sk-toggleable__label-arrow\">RandomForestClassifier</label><div class=\"sk-toggleable__content\"><pre>RandomForestClassifier()</pre></div></div></div></div></div></div></div></div></div></div>"
      ],
      "text/plain": [
       "GridSearchCV(cv=5, estimator=RandomForestClassifier(),\n",
       "             param_grid={'max_depth': [5, 10, 15],\n",
       "                         'min_samples_leaf': [1, 2, 4],\n",
       "                         'min_samples_split': [2, 5, 10],\n",
       "                         'n_estimators': [50, 100, 200]})"
      ]
     },
     "execution_count": 252,
     "metadata": {},
     "output_type": "execute_result"
    }
   ],
   "source": [
    "from sklearn.model_selection import GridSearchCV\n",
    "\n",
    "grid_params = { \n",
    "    'n_estimators': [50, 100, 200],\n",
    "    'max_depth': [5, 10, 15],\n",
    "    'min_samples_split': [2, 5, 10],\n",
    "    'min_samples_leaf': [1, 2, 4]\n",
    "}\n",
    "\n",
    "rf_cv = GridSearchCV(estimator=model_rf, param_grid=grid_params, cv=5)\n",
    "rf_cv.fit(X_train, y_train.values.ravel()) "
   ]
  },
  {
   "attachments": {},
   "cell_type": "markdown",
   "metadata": {},
   "source": [
    "# Pr4. 마무리 문제"
   ]
  },
  {
   "attachments": {},
   "cell_type": "markdown",
   "metadata": {},
   "source": [
    "## Pr4.1 Iris데이터 세트에서 species 변수 값별로 petal_width 상위 25% 값을 구한 후, 가장 큰 값과 가장 작은 값사이의 차이를 계산하시오 "
   ]
  },
  {
   "cell_type": "code",
   "execution_count": 253,
   "metadata": {},
   "outputs": [],
   "source": [
    "import pandas as pd\n",
    "data = pd.read_csv(\"./yemoonsaBigdata/datasets/Part2/iris.csv\")"
   ]
  },
  {
   "cell_type": "code",
   "execution_count": 274,
   "metadata": {},
   "outputs": [
    {
     "name": "stdout",
     "output_type": "stream",
     "text": [
      "species         \n",
      "setosa      0.75    0.3\n",
      "versicolor  0.75    1.5\n",
      "virginica   0.75    2.3\n",
      "Name: petal_width, dtype: float64\n"
     ]
    }
   ],
   "source": [
    "#풀이\n",
    "print(data.groupby('species').quantile([.75]).petal_width)"
   ]
  },
  {
   "cell_type": "code",
   "execution_count": 273,
   "metadata": {},
   "outputs": [
    {
     "name": "stdout",
     "output_type": "stream",
     "text": [
      "species         \n",
      "setosa      0.75    0.3\n",
      "versicolor  0.75    1.5\n",
      "virginica   0.75    2.3\n",
      "Name: petal_width, dtype: float64\n"
     ]
    }
   ],
   "source": [
    "#답\n",
    "print(data.groupby('species')['petal_width'].quantile([0.75]))"
   ]
  },
  {
   "attachments": {},
   "cell_type": "markdown",
   "metadata": {},
   "source": [
    "## Pr4.2 Iris데이터 세트에서 sepal_length 변수의 전체값들을 중복없이 리스트로 만든후, 오름차순으로 정렬했을 때 리스트의 10번째 오는 숫자를 계산하시오"
   ]
  },
  {
   "cell_type": "code",
   "execution_count": 291,
   "metadata": {},
   "outputs": [
    {
     "name": "stdout",
     "output_type": "stream",
     "text": [
      "5.2\n"
     ]
    }
   ],
   "source": [
    "#풀이\n",
    "print(list(data.sepal_length.drop_duplicates().sort_values(ascending=True))[9])"
   ]
  },
  {
   "cell_type": "code",
   "execution_count": 290,
   "metadata": {},
   "outputs": [
    {
     "name": "stdout",
     "output_type": "stream",
     "text": [
      "5.2\n"
     ]
    }
   ],
   "source": [
    "#답\n",
    "lst = data['sepal_length'].unique().tolist()\n",
    "lst.sort()\n",
    "print(lst[9])"
   ]
  },
  {
   "attachments": {},
   "cell_type": "markdown",
   "metadata": {},
   "source": [
    "## Pr4.3  아이리스데이터 세트에서 sepal_width 변수값으로 내림차순 한 후 위에서 부터 100개 행을 학습데이터로 분리하고, 학습데이터에서 sepal_width의 표준편차 값을 구한 후 50을 곱한 값을 계산하시오."
   ]
  },
  {
   "cell_type": "code",
   "execution_count": 304,
   "metadata": {},
   "outputs": [
    {
     "name": "stdout",
     "output_type": "stream",
     "text": [
      "16\n"
     ]
    }
   ],
   "source": [
    "#풀이\n",
    "print(int(data['sepal_width'].sort_values(ascending = False).iloc[:100].std()*50))"
   ]
  },
  {
   "cell_type": "code",
   "execution_count": 303,
   "metadata": {},
   "outputs": [
    {
     "name": "stdout",
     "output_type": "stream",
     "text": [
      "16\n"
     ]
    }
   ],
   "source": [
    "#답\n",
    "sorted_data = data.sort_values(by='sepal_width', ascending=False).reset_index(drop=True)\n",
    "sorted_data_split = sorted_data.loc[0:99] # 또는 sorted_data.head(100)\n",
    "print(int(sorted_data_split['sepal_width'].std()*50))"
   ]
  },
  {
   "attachments": {},
   "cell_type": "markdown",
   "metadata": {},
   "source": [
    "## Pr4.4 species 변수값별로 petal_length 상위 10개 행(큰값)의 평균을 구한후, 평균의 합을 계산하시오."
   ]
  },
  {
   "cell_type": "code",
   "execution_count": 354,
   "metadata": {},
   "outputs": [
    {
     "data": {
      "text/plain": [
       "13"
      ]
     },
     "execution_count": 354,
     "metadata": {},
     "output_type": "execute_result"
    }
   ],
   "source": [
    "#풀이\n",
    "grouped = data.groupby('species')\n",
    "func = lambda x : x.sort_values(by='petal_length', ascending = False)[:10]\n",
    "round(grouped.apply(func)['petal_length'].groupby('species').mean().sum())"
   ]
  },
  {
   "cell_type": "code",
   "execution_count": 343,
   "metadata": {},
   "outputs": [
    {
     "name": "stdout",
     "output_type": "stream",
     "text": [
      "13\n"
     ]
    }
   ],
   "source": [
    "#답\n",
    "data = data.sort_values(by=['species', 'petal_length'], ascending=[True, False])\n",
    "data_top10 = data.groupby('species').head(10)\n",
    "print(round(data_top10.groupby('species')['petal_length'].mean().sum()))"
   ]
  },
  {
   "attachments": {},
   "cell_type": "markdown",
   "metadata": {},
   "source": [
    "## Pr4.5 sepal_length 변수가 이상치를 가지는 데이터 행 수를 계산하시오(이상치는 평균+-2*표준편차)"
   ]
  },
  {
   "cell_type": "code",
   "execution_count": 419,
   "metadata": {},
   "outputs": [
    {
     "data": {
      "text/html": [
       "<div>\n",
       "<style scoped>\n",
       "    .dataframe tbody tr th:only-of-type {\n",
       "        vertical-align: middle;\n",
       "    }\n",
       "\n",
       "    .dataframe tbody tr th {\n",
       "        vertical-align: top;\n",
       "    }\n",
       "\n",
       "    .dataframe thead th {\n",
       "        text-align: right;\n",
       "    }\n",
       "</style>\n",
       "<table border=\"1\" class=\"dataframe\">\n",
       "  <thead>\n",
       "    <tr style=\"text-align: right;\">\n",
       "      <th></th>\n",
       "      <th>sepal_length</th>\n",
       "      <th>sepal_width</th>\n",
       "      <th>petal_length</th>\n",
       "      <th>petal_width</th>\n",
       "      <th>species</th>\n",
       "    </tr>\n",
       "  </thead>\n",
       "  <tbody>\n",
       "    <tr>\n",
       "      <th>118</th>\n",
       "      <td>7.7</td>\n",
       "      <td>2.6</td>\n",
       "      <td>6.9</td>\n",
       "      <td>2.3</td>\n",
       "      <td>virginica</td>\n",
       "    </tr>\n",
       "    <tr>\n",
       "      <th>117</th>\n",
       "      <td>7.7</td>\n",
       "      <td>3.8</td>\n",
       "      <td>6.7</td>\n",
       "      <td>2.2</td>\n",
       "      <td>virginica</td>\n",
       "    </tr>\n",
       "    <tr>\n",
       "      <th>122</th>\n",
       "      <td>7.7</td>\n",
       "      <td>2.8</td>\n",
       "      <td>6.7</td>\n",
       "      <td>2.0</td>\n",
       "      <td>virginica</td>\n",
       "    </tr>\n",
       "    <tr>\n",
       "      <th>105</th>\n",
       "      <td>7.6</td>\n",
       "      <td>3.0</td>\n",
       "      <td>6.6</td>\n",
       "      <td>2.1</td>\n",
       "      <td>virginica</td>\n",
       "    </tr>\n",
       "    <tr>\n",
       "      <th>131</th>\n",
       "      <td>7.9</td>\n",
       "      <td>3.8</td>\n",
       "      <td>6.4</td>\n",
       "      <td>2.0</td>\n",
       "      <td>virginica</td>\n",
       "    </tr>\n",
       "    <tr>\n",
       "      <th>135</th>\n",
       "      <td>7.7</td>\n",
       "      <td>3.0</td>\n",
       "      <td>6.1</td>\n",
       "      <td>2.3</td>\n",
       "      <td>virginica</td>\n",
       "    </tr>\n",
       "  </tbody>\n",
       "</table>\n",
       "</div>"
      ],
      "text/plain": [
       "     sepal_length  sepal_width  petal_length  petal_width    species\n",
       "118           7.7          2.6           6.9          2.3  virginica\n",
       "117           7.7          3.8           6.7          2.2  virginica\n",
       "122           7.7          2.8           6.7          2.0  virginica\n",
       "105           7.6          3.0           6.6          2.1  virginica\n",
       "131           7.9          3.8           6.4          2.0  virginica\n",
       "135           7.7          3.0           6.1          2.3  virginica"
      ]
     },
     "execution_count": 419,
     "metadata": {},
     "output_type": "execute_result"
    }
   ],
   "source": [
    "sepal_mean = data.sepal_length.mean()\n",
    "sepal_std = data.sepal_length.std()\n",
    "sepal_up = sepal_mean + 2*sepal_std\n",
    "sepal_down = sepal_mean - 2*sepal_std\n",
    "index = data.sepal_length.apply(lambda x : x if x >= sepal_up or x <= sepal_down else None).dropna().index\n",
    "data.loc[index]"
   ]
  },
  {
   "cell_type": "code",
   "execution_count": 388,
   "metadata": {},
   "outputs": [
    {
     "name": "stdout",
     "output_type": "stream",
     "text": [
      "     sepal_length  sepal_width  petal_length  petal_width    species\n",
      "118           7.7          2.6           6.9          2.3  virginica\n",
      "117           7.7          3.8           6.7          2.2  virginica\n",
      "122           7.7          2.8           6.7          2.0  virginica\n",
      "105           7.6          3.0           6.6          2.1  virginica\n",
      "131           7.9          3.8           6.4          2.0  virginica\n",
      "135           7.7          3.0           6.1          2.3  virginica\n"
     ]
    }
   ],
   "source": [
    "mean = data['sepal_length'].mean()\n",
    "std = data['sepal_length'].std()\n",
    "crit1 = mean+2*std\n",
    "crit2 = mean-2*std\n",
    "print(data[(data['sepal_length']>=crit1)|(data['sepal_length']<=crit2)])"
   ]
  }
 ],
 "metadata": {
  "kernelspec": {
   "display_name": "base",
   "language": "python",
   "name": "python3"
  },
  "language_info": {
   "codemirror_mode": {
    "name": "ipython",
    "version": 3
   },
   "file_extension": ".py",
   "mimetype": "text/x-python",
   "name": "python",
   "nbconvert_exporter": "python",
   "pygments_lexer": "ipython3",
   "version": "3.10.9"
  },
  "orig_nbformat": 4
 },
 "nbformat": 4,
 "nbformat_minor": 2
}
