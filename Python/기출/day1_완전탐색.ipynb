{
 "cells": [
  {
   "cell_type": "markdown",
   "metadata": {},
   "source": [
    "pr1. 모의고사채점"
   ]
  },
  {
   "cell_type": "code",
   "execution_count": 6,
   "metadata": {},
   "outputs": [],
   "source": [
    "a1 = [1,2,3,4,5]\n",
    "a2 = [2,1,2,3,2,4,2,5]\n",
    "a3 = [3,3,1,1,2,2,4,4,5,5]\n",
    "answers = [1,2,3,4,5,1,2,3,4,5,1]"
   ]
  },
  {
   "cell_type": "code",
   "execution_count": 59,
   "metadata": {},
   "outputs": [
    {
     "name": "stdout",
     "output_type": "stream",
     "text": [
      "[1, 2, 3, 4, 5, 1, 2, 3, 4, 5, 1]\n",
      "11\n",
      "[2, 1, 2, 3, 2, 4, 2, 5, 2, 1, 2]\n",
      "1\n",
      "[3, 3, 1, 1, 2, 2, 4, 4, 5, 5, 3]\n",
      "1\n"
     ]
    }
   ],
   "source": [
    "def zzikki(a,answers):\n",
    "    qnum = len(answers)\n",
    "    a_n = a*(qnum//len(a)) + a[:(qnum%len(a))]\n",
    "    print(a_n)\n",
    "    return a_n\n",
    "\n",
    "def chajum(a_n,answers):   \n",
    "    count = 0 \n",
    "    for i in range(len(answers)):\n",
    "        if a_n[i] - answers[i] == 0:\n",
    "            count+=1\n",
    "    print(count)\n",
    "    return count\n",
    "\n",
    "#찍기패턴\n",
    "a1 = [1,2,3,4,5]\n",
    "a2 = [2,1,2,3,2,4,2,5]\n",
    "a3 = [3,3,1,1,2,2,4,4,5,5]\n",
    "a_range = [a1,a2,a3]\n",
    "\n",
    "result = []\n",
    "for a in a_range:\n",
    "    #변수설정\n",
    "    a_n = zzikki(a,answers)\n",
    "    \n",
    "    count = chajum(a_n, answers)\n",
    "    result.append(count)\n"
   ]
  },
  {
   "cell_type": "code",
   "execution_count": 42,
   "metadata": {},
   "outputs": [],
   "source": [
    "def zzikki(a,answers):\n",
    "    qnum = len(answers)\n",
    "    a_n = a*(qnum//len(a)) + a[:(qnum%len(a))]\n",
    "    return a_n\n",
    "\n",
    "def chajum(a_n,answers):   \n",
    "    count = 0 \n",
    "    for i in range(len(answers)):\n",
    "        if a_n[i] - answers[i] == 0:\n",
    "            count+=1\n",
    "    return count\n",
    "\n",
    "def lookresult(a_range):\n",
    "    result = []\n",
    "    for a in a_range:\n",
    "        a_n = zzikki(a,answers)\n",
    "        count = chajum(a_n, answers)\n",
    "        result.append(count)\n",
    "    return result \n",
    "\n",
    "def findwinner(result):\n",
    "    maxi = max(result)\n",
    "    index = []\n",
    "    for i in range(len(result)):\n",
    "        if result[i] == maxi:\n",
    "            index.append(i+1)\n",
    "    return index\n",
    "\n",
    "def solution(answers):\n",
    "    #변수설정\n",
    "    a1 = [1,2,3,4,5]\n",
    "    a2 = [2,1,2,3,2,4,2,5]\n",
    "    a3 = [3,3,1,1,2,2,4,4,5,5]\n",
    "    a_range = [a1,a2,a3]\n",
    "    result = lookresult(a_range)\n",
    "    answer = findwinner(result)\n",
    "    return answer\n"
   ]
  },
  {
   "cell_type": "code",
   "execution_count": 43,
   "metadata": {},
   "outputs": [
    {
     "data": {
      "text/plain": [
       "[1]"
      ]
     },
     "execution_count": 43,
     "metadata": {},
     "output_type": "execute_result"
    }
   ],
   "source": [
    "answers = [1,2,3,4,5,1,2,3,4,5,1]\n",
    "solution(answers)"
   ]
  },
  {
   "cell_type": "code",
   "execution_count": 1,
   "metadata": {},
   "outputs": [],
   "source": [
    "answers = [3,2]\n",
    "student1 = [1,2,3,4,5]\n",
    "student2 = [2,1,2,3,2,4,2,5]\n",
    "student3 = [3,3,1,1,2,2,4,4,5,5]\n",
    "\n",
    "score = [0,0,0]"
   ]
  },
  {
   "cell_type": "code",
   "execution_count": 5,
   "metadata": {},
   "outputs": [
    {
     "ename": "ValueError",
     "evalue": "too many values to unpack (expected 2)",
     "output_type": "error",
     "traceback": [
      "\u001b[0;31m---------------------------------------------------------------------------\u001b[0m",
      "\u001b[0;31mValueError\u001b[0m                                Traceback (most recent call last)",
      "Cell \u001b[0;32mIn[5], line 8\u001b[0m\n\u001b[1;32m      5\u001b[0m result \u001b[38;5;241m=\u001b[39m [\u001b[38;5;241m0\u001b[39m \u001b[38;5;28;01mfor\u001b[39;00m _ \u001b[38;5;129;01min\u001b[39;00m \u001b[38;5;28mrange\u001b[39m(\u001b[38;5;241m3\u001b[39m)]\n\u001b[1;32m      7\u001b[0m \u001b[38;5;28;01mfor\u001b[39;00m idx,i \u001b[38;5;129;01min\u001b[39;00m \u001b[38;5;28menumerate\u001b[39m(answers):\n\u001b[0;32m----> 8\u001b[0m     \u001b[38;5;28;01mfor\u001b[39;00m s, student \u001b[38;5;129;01min\u001b[39;00m students:\n\u001b[1;32m      9\u001b[0m         \u001b[38;5;28;01mif\u001b[39;00m sutdent[idx\u001b[38;5;241m%\u001b[39m\u001b[38;5;28mlen\u001b[39m(studnet)] \u001b[38;5;241m==\u001b[39m i:\n\u001b[1;32m     10\u001b[0m             result[s] \u001b[38;5;241m+\u001b[39m\u001b[38;5;241m=\u001b[39m\u001b[38;5;241m1\u001b[39m\n",
      "\u001b[0;31mValueError\u001b[0m: too many values to unpack (expected 2)"
     ]
    }
   ],
   "source": [
    "student1 = [1,2,3,4,5]\n",
    "student2 = [2,1,2,3,2,4,2,5]\n",
    "student3 = [3,3,1,1,2,2,4,4,5,5]\n",
    "students = [student1,student2,student3]\n",
    "result = [0 for _ in range(3)]\n",
    "\n",
    "for idx,i in enumerate(answers):\n",
    "    for s, student in students:\n",
    "        if sutdent[idx%len(studnet)] == i:\n",
    "            result[s] +=1\n",
    "\n",
    "answer = [i+1 for i in range(len(result)) if result[i] == max(result)]"
   ]
  },
  {
   "cell_type": "code",
   "execution_count": 3,
   "metadata": {},
   "outputs": [
    {
     "data": {
      "text/plain": [
       "[1, 0, 1]"
      ]
     },
     "execution_count": 3,
     "metadata": {},
     "output_type": "execute_result"
    }
   ],
   "source": [
    "result"
   ]
  },
  {
   "cell_type": "code",
   "execution_count": 55,
   "metadata": {},
   "outputs": [
    {
     "name": "stdout",
     "output_type": "stream",
     "text": [
      "0 3\n",
      "0 [1, 2, 3, 4, 5]\n",
      "1\n",
      "0 [2, 1, 2, 3, 2, 4, 2, 5]\n",
      "2\n",
      "0 [3, 3, 1, 1, 2, 2, 4, 4, 5, 5]\n",
      "3\n",
      "1 2\n",
      "1 [1, 2, 3, 4, 5]\n",
      "2\n",
      "1 [2, 1, 2, 3, 2, 4, 2, 5]\n",
      "1\n",
      "1 [3, 3, 1, 1, 2, 2, 4, 4, 5, 5]\n",
      "3\n"
     ]
    },
    {
     "data": {
      "text/plain": [
       "[3]"
      ]
     },
     "execution_count": 55,
     "metadata": {},
     "output_type": "execute_result"
    }
   ],
   "source": [
    "students = [student1, student2, student3]\n",
    "for idx, answer in enumerate(answers):\n",
    "    print(idx, answer)\n",
    "    for s, student in enumerate(students):\n",
    "        print(idx, student)\n",
    "        print(student[idx%len(student)])\n",
    "        if student[idx%len(student)] == answer: \n",
    "            score[s] += 1\n",
    "        \n",
    "[i+1 for i in range(len(score)) if score[i] == max(score)]"
   ]
  },
  {
   "cell_type": "markdown",
   "metadata": {},
   "source": [
    "pr2. 타일 색칠하기"
   ]
  },
  {
   "cell_type": "code",
   "execution_count": 77,
   "metadata": {},
   "outputs": [],
   "source": [
    "yellow = 1\n",
    "brown = 8"
   ]
  },
  {
   "cell_type": "code",
   "execution_count": 80,
   "metadata": {},
   "outputs": [
    {
     "name": "stdout",
     "output_type": "stream",
     "text": [
      "1\n",
      "[3, 3]\n"
     ]
    }
   ],
   "source": [
    "for y in range(1,yellow+1):\n",
    "    if yellow % y == 0:\n",
    "        y_w = yellow//y\n",
    "        h = y + 2\n",
    "        w = y_w + 2\n",
    "        if w*h == brown + yellow and w>=h:\n",
    "            size = [w,h]\n",
    "print(size)\n",
    "        "
   ]
  },
  {
   "cell_type": "markdown",
   "metadata": {},
   "source": [
    "pr3. 소수찾기"
   ]
  },
  {
   "cell_type": "code",
   "execution_count": 346,
   "metadata": {},
   "outputs": [],
   "source": [
    "#소수확인\n",
    "def checkPrime(num):\n",
    "    if num < 2 : return False\n",
    "    for i in range(2,int(num**0.5)+1):\n",
    "        if num%i ==0:\n",
    "            return False\n",
    "    return True"
   ]
  },
  {
   "cell_type": "code",
   "execution_count": 370,
   "metadata": {},
   "outputs": [
    {
     "data": {
      "text/plain": [
       "[7, 71, 107, 17, 701]"
      ]
     },
     "execution_count": 370,
     "metadata": {},
     "output_type": "execute_result"
    }
   ],
   "source": [
    "#순열구하기\n",
    "from itertools import permutations\n",
    "numbers = '107'\n",
    "nums = list(numbers)\n",
    "num = []\n",
    "\n",
    "for i in range(1,len(nums)+1):\n",
    "    num.append(list(permutations(nums,i)))\n",
    "\n",
    "num = {int(''.join(y)) for x in num for y in x} \n",
    "\n",
    "[n for n in num if checkPrime(n)]"
   ]
  },
  {
   "cell_type": "code",
   "execution_count": 9,
   "metadata": {},
   "outputs": [
    {
     "name": "stdout",
     "output_type": "stream",
     "text": [
      "11\n",
      "('0', '1', '1')\n",
      "('0', '1', '1')\n",
      "('1', '0', '1')\n",
      "('1', '1', '0')\n",
      "('1', '0', '1')\n",
      "('1', '1', '0')\n"
     ]
    }
   ],
   "source": [
    "\n",
    "\n"
   ]
  },
  {
   "cell_type": "code",
   "execution_count": 342,
   "metadata": {},
   "outputs": [
    {
     "data": {
      "text/plain": [
       "5"
      ]
     },
     "execution_count": 342,
     "metadata": {},
     "output_type": "execute_result"
    }
   ],
   "source": [
    "#숫자추출\n",
    "value = \"107\"\n",
    "su = []\n",
    "for i in range(0,len(value)):\n",
    "    su.append(value[i])\n",
    "\n",
    "#숫자조합\n",
    "def perm(arry,n):\n",
    "    result = []\n",
    "    if n > len(arry):\n",
    "        return result\n",
    "    if n == 1:\n",
    "        for i in arry:\n",
    "            result.append(i)\n",
    "    elif n > 1:\n",
    "        for i in range(len(arry)):\n",
    "            ans = [j for j in arry]\n",
    "            ans.remove(arry[i])\n",
    "            for p in perm(ans,n-1):\n",
    "                result.append(arry[i]+p)\n",
    "    return result\n",
    "\n",
    "arrynum=[]\n",
    "for k in range(1,len(su)+1):\n",
    "    temp = perm(su, k)\n",
    "    arrynum = arrynum+temp\n",
    "\n",
    "answer_int = []\n",
    "for s in arrynum:\n",
    "    answer_int.append(int(s))\n",
    "answer_int = list(set(answer_int))\n",
    "\n",
    "# 소수검증\n",
    "def determin(value):\n",
    "    c = int(value ** 0.5)\n",
    "    det = 1\n",
    "    if value <=1:\n",
    "        det = 0\n",
    "    else:\n",
    "        for i in range(2,c+1):\n",
    "            if value % i == 0 :\n",
    "                det = 0\n",
    "    return det\n",
    "\n",
    "answer = 0 \n",
    "for i in answer_int:\n",
    "    det = determin(i)\n",
    "    answer = answer + det\n",
    "\n",
    "answer\n"
   ]
  },
  {
   "cell_type": "code",
   "execution_count": 344,
   "metadata": {},
   "outputs": [
    {
     "data": {
      "text/plain": [
       "['1', '2', '3']"
      ]
     },
     "execution_count": 344,
     "metadata": {},
     "output_type": "execute_result"
    }
   ],
   "source": [
    "from itertools import permutations\n",
    "\n",
    "def CheckPrime(num): # 소수 판별 함수\n",
    "    if num < 2 : return False\n",
    "    for i in range(2, int(num**0.5)+1):\n",
    "        if num%i == 0 : return False\n",
    "    return True\n",
    "\n",
    "def solution(numbers):\n",
    "    nums = list(numbers) # 몬자열 쪼개기\n",
    "    num = []\n",
    "    \n",
    "    for i in range(1, len(nums)+1): # 순열 구하기\n",
    "        num.append(list(permutations(nums, i)))\n",
    "    \n",
    "    num = {int(''.join(y)) for x in num for y in x} # {1, 71, 17, 7}\n",
    "    \n",
    "    ans = [n for n in num if CheckPrime(n)]\n",
    "            \n",
    "    return len(ans)\n"
   ]
  }
 ],
 "metadata": {
  "kernelspec": {
   "display_name": "base",
   "language": "python",
   "name": "python3"
  },
  "language_info": {
   "codemirror_mode": {
    "name": "ipython",
    "version": 3
   },
   "file_extension": ".py",
   "mimetype": "text/x-python",
   "name": "python",
   "nbconvert_exporter": "python",
   "pygments_lexer": "ipython3",
   "version": "3.10.9"
  }
 },
 "nbformat": 4,
 "nbformat_minor": 2
}
