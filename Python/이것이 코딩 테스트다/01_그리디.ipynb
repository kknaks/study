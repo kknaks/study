{
 "cells": [
  {
   "cell_type": "code",
   "execution_count": null,
   "metadata": {},
   "outputs": [],
   "source": []
  },
  {
   "cell_type": "markdown",
   "metadata": {},
   "source": [
    "# 실전문제\n",
    "## 큰수의 법칙\n",
    "- 풀이시간 30분\n",
    "- 소요시간 00분"
   ]
  },
  {
   "cell_type": "code",
   "execution_count": 25,
   "metadata": {},
   "outputs": [
    {
     "data": {
      "text/plain": [
       "41"
      ]
     },
     "execution_count": 25,
     "metadata": {},
     "output_type": "execute_result"
    }
   ],
   "source": [
    "N,M,K = 5,7,3\n",
    "numbers = [2,4,5,4,6]\n",
    "\n",
    "numbers.sort(reverse = True)\n",
    "n = numbers[0:2]\n",
    "answer = 0\n",
    "\n",
    "if n[0] == n[1]:\n",
    "    answer = n[0]*K\n",
    "else:\n",
    "    num = [n[0]]*K+[n[1]]\n",
    "    length = len(num)\n",
    "\n",
    "    for i in range(M):\n",
    "        answer += num[i%length]\n",
    "\n",
    "answer "
   ]
  },
  {
   "cell_type": "code",
   "execution_count": 28,
   "metadata": {},
   "outputs": [
    {
     "name": "stdout",
     "output_type": "stream",
     "text": [
      "46\n"
     ]
    }
   ],
   "source": [
    "n,m,k = map(int,input().split())\n",
    "data = list(map(int,input().split()))\n",
    "\n",
    "data.sort()\n",
    "\n",
    "first = data.pop()\n",
    "second = data.pop()\n",
    "result = 0 \n",
    "\n",
    "while True:\n",
    "    for i in range(k):\n",
    "        if m == 0:\n",
    "            break\n",
    "        result += first\n",
    "        m -= 1\n",
    "    if m == 0:\n",
    "        break\n",
    "    result += second\n",
    "    m -= 1\n",
    "print(result)\n"
   ]
  },
  {
   "cell_type": "markdown",
   "metadata": {},
   "source": [
    "## 숫자카드게임\n",
    "- 제한시간 00분\n",
    "- 소요시간 00분"
   ]
  },
  {
   "cell_type": "code",
   "execution_count": 31,
   "metadata": {},
   "outputs": [
    {
     "data": {
      "text/plain": [
       "array([[0, 6, 1, 0, 5],\n",
       "       [5, 2, 0, 6, 1],\n",
       "       [5, 7, 0, 6, 7],\n",
       "       [4, 6, 3, 1, 1],\n",
       "       [5, 2, 6, 3, 8]])"
      ]
     },
     "execution_count": 31,
     "metadata": {},
     "output_type": "execute_result"
    }
   ],
   "source": [
    "from numpy import random\n",
    "random.randint(9,size= (5,5))"
   ]
  },
  {
   "cell_type": "code",
   "execution_count": 39,
   "metadata": {},
   "outputs": [
    {
     "name": "stdout",
     "output_type": "stream",
     "text": [
      "[[0 6 7 1]\n",
      " [0 1 1 7]]\n"
     ]
    },
    {
     "data": {
      "text/plain": [
       "0"
      ]
     },
     "execution_count": 39,
     "metadata": {},
     "output_type": "execute_result"
    }
   ],
   "source": [
    "n = 2\n",
    "m = 4 \n",
    "\n",
    "arr = random.randint(9,size= (n,m))\n",
    "print(arr)\n",
    "\n",
    "num = []\n",
    "for i in range(len(arr)):\n",
    "    minnum = min(arr[i])\n",
    "    num.append(minnum)\n",
    "max(num)"
   ]
  },
  {
   "cell_type": "markdown",
   "metadata": {},
   "source": [
    "## 1이 될때까지\n",
    "- 제한시간 00분\n",
    "- 소요시간 00분"
   ]
  },
  {
   "cell_type": "code",
   "execution_count": 44,
   "metadata": {},
   "outputs": [
    {
     "name": "stdout",
     "output_type": "stream",
     "text": [
      "6\n"
     ]
    }
   ],
   "source": [
    "n = 25 \n",
    "k = 3\n",
    "\n",
    "count = 0\n",
    "\n",
    "\n",
    "while n != 1:\n",
    "    if n%k == 0:\n",
    "        n = n//k\n",
    "        count += 1\n",
    "    else : \n",
    "        n -=1 \n",
    "        count += 1\n",
    "print(count)"
   ]
  },
  {
   "cell_type": "markdown",
   "metadata": {},
   "source": [
    "# 기출문제\n",
    "## 모험가길드\n",
    "- 풀이시간 30분\n",
    "- 소요시간 00분"
   ]
  },
  {
   "cell_type": "code",
   "execution_count": 70,
   "metadata": {},
   "outputs": [
    {
     "data": {
      "text/plain": [
       "2"
      ]
     },
     "execution_count": 70,
     "metadata": {},
     "output_type": "execute_result"
    }
   ],
   "source": [
    "n = 5\n",
    "members = [4,4,1,4,4]\n",
    "members.sort()\n",
    "\n",
    "count = 0\n",
    "group = 0 \n",
    "for i in members:\n",
    "    count +=1 \n",
    "    if count >= i:\n",
    "        group +=1\n",
    "        count = 0 \n",
    "\n",
    "group"
   ]
  },
  {
   "cell_type": "markdown",
   "metadata": {},
   "source": [
    "### 코멘트"
   ]
  },
  {
   "cell_type": "markdown",
   "metadata": {},
   "source": [
    "## 곱하기 혹은 더하기\n",
    "- 풀이시간 30분\n",
    "- 소요시간 00분"
   ]
  },
  {
   "cell_type": "code",
   "execution_count": 107,
   "metadata": {},
   "outputs": [
    {
     "name": "stdout",
     "output_type": "stream",
     "text": [
      "0 else\n"
     ]
    },
    {
     "data": {
      "text/plain": [
       "387420489"
      ]
     },
     "execution_count": 107,
     "metadata": {},
     "output_type": "execute_result"
    }
   ],
   "source": [
    "import random\n",
    "# n = random.randint(1,21)\n",
    "# numbers = random.choices(range(0,10),k=n)\n",
    "numbers = '9990999999'\n",
    "numbers = [int(k) for k in numbers]\n",
    "numbers.sort(reverse =True)\n",
    "\n",
    "max_int = 2000000000\n",
    "result = 1 \n",
    "\n",
    "for i in numbers:\n",
    "    if i !=0 :\n",
    "        result *= i\n",
    "        if result > max_int:\n",
    "            result //= i \n",
    "            result += i \n",
    "    else :\n",
    "        print(i,'else')\n",
    "        result += i\n",
    "result"
   ]
  },
  {
   "cell_type": "code",
   "execution_count": 111,
   "metadata": {},
   "outputs": [
    {
     "data": {
      "text/plain": [
       "387420489"
      ]
     },
     "execution_count": 111,
     "metadata": {},
     "output_type": "execute_result"
    }
   ],
   "source": [
    "numbers = '9990999999'\n",
    "numbers = [int(k) for k in numbers]\n",
    "\n",
    "result = numbers[0]\n",
    "for i in range(1,len(numbers)):\n",
    "    num = numbers[i]\n",
    "    if num<=1 or result<=1:\n",
    "        result += num\n",
    "    else:\n",
    "        result *=num\n",
    "result"
   ]
  },
  {
   "cell_type": "markdown",
   "metadata": {},
   "source": [
    "## 문자열 뒤집기\n",
    "- 풀이시간 30분\n",
    "- 소요시간 00분"
   ]
  },
  {
   "cell_type": "code",
   "execution_count": 148,
   "metadata": {},
   "outputs": [
    {
     "name": "stdout",
     "output_type": "stream",
     "text": [
      "3 3\n"
     ]
    }
   ],
   "source": [
    "string = '000110001101'\n",
    "\n",
    "count0 = 0\n",
    "count1 = 0\n",
    "\n",
    "if string[0] == '1':\n",
    "    count1 +=1\n",
    "else:\n",
    "    count0 +=1\n",
    "\n",
    "for i in range(len(string)-1):\n",
    "    if string[i] != string[i+1]:\n",
    "        if string[i+1] == '1':\n",
    "            count1 +=1\n",
    "        else:\n",
    "            count0 +=1\n",
    "print(count0,count1)"
   ]
  },
  {
   "cell_type": "markdown",
   "metadata": {},
   "source": [
    "## 만들수 없는 금액\n",
    "- 풀이시간 30분\n",
    "- 소요시간 00분"
   ]
  },
  {
   "cell_type": "code",
   "execution_count": 153,
   "metadata": {},
   "outputs": [
    {
     "data": {
      "text/plain": [
       "8"
      ]
     },
     "execution_count": 153,
     "metadata": {},
     "output_type": "execute_result"
    }
   ],
   "source": [
    "coins = [3,2,1,1,9]\n",
    "coins.sort()\n",
    "\n",
    "target = 1 \n",
    "for i in coins:\n",
    "    if target < i:\n",
    "        break\n",
    "    target += i \n",
    "target"
   ]
  },
  {
   "cell_type": "markdown",
   "metadata": {},
   "source": [
    "## 볼링공 고르기\n",
    "- 풀이시간 30분\n",
    "- 소요시간 00분"
   ]
  },
  {
   "cell_type": "code",
   "execution_count": 159,
   "metadata": {},
   "outputs": [
    {
     "data": {
      "text/plain": [
       "25"
      ]
     },
     "execution_count": 159,
     "metadata": {},
     "output_type": "execute_result"
    }
   ],
   "source": [
    "from itertools import combinations\n",
    "\n",
    "balls = [1,5,4,3,2,4,5,2]\n",
    "\n",
    "combi = []\n",
    "for i in combinations(balls,2):\n",
    "    if i[0] != i[1]:\n",
    "        combi.append(i)\n",
    "len(combi)"
   ]
  },
  {
   "cell_type": "code",
   "execution_count": 190,
   "metadata": {},
   "outputs": [
    {
     "name": "stdout",
     "output_type": "stream",
     "text": [
      "25\n"
     ]
    }
   ],
   "source": [
    "balls = [1,5,4,3,2,4,5,2]\n",
    "balls.sort()\n",
    "st ={}\n",
    "for i in balls:\n",
    "    st[i] = st.get(i,0) + 1\n",
    "\n",
    "answer =0 \n",
    "for j in range(1,len(st)+1):\n",
    "    case = st[j] * sum(list(st.values())[j:])\n",
    "    answer += case\n",
    "print(answer)\n"
   ]
  },
  {
   "cell_type": "code",
   "execution_count": 195,
   "metadata": {},
   "outputs": [
    {
     "name": "stdout",
     "output_type": "stream",
     "text": [
      "25\n"
     ]
    }
   ],
   "source": [
    "n = 8\n",
    "m = 5 \n",
    "balls = [1,5,4,3,2,4,5,2]\n",
    "\n",
    "arr = [0] * (m +1)\n",
    "for x in balls:\n",
    "    arr[x] +=1 \n",
    "result = 0\n",
    "\n",
    "for i in range(1,m+1):\n",
    "    n -=arr[i]\n",
    "    result += arr[i]*n\n",
    "print(result)"
   ]
  }
 ],
 "metadata": {
  "kernelspec": {
   "display_name": "base",
   "language": "python",
   "name": "python3"
  },
  "language_info": {
   "codemirror_mode": {
    "name": "ipython",
    "version": 3
   },
   "file_extension": ".py",
   "mimetype": "text/x-python",
   "name": "python",
   "nbconvert_exporter": "python",
   "pygments_lexer": "ipython3",
   "version": "3.10.9"
  }
 },
 "nbformat": 4,
 "nbformat_minor": 2
}
