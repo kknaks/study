{
 "cells": [
  {
   "cell_type": "markdown",
   "metadata": {},
   "source": [
    "# 예제\n",
    "## DFS"
   ]
  },
  {
   "cell_type": "code",
   "execution_count": 4,
   "metadata": {},
   "outputs": [
    {
     "name": "stdout",
     "output_type": "stream",
     "text": [
      "1\n",
      "2\n",
      "7\n",
      "6\n",
      "8\n",
      "3\n",
      "4\n",
      "5\n"
     ]
    }
   ],
   "source": [
    "graph = [\n",
    "    [],\n",
    "    [2,3,8],\n",
    "    [1,7],\n",
    "    [1,4,5],\n",
    "    [3,5],\n",
    "    [3,4],\n",
    "    [7],\n",
    "    [2,6,8],\n",
    "    [1,7,]\n",
    "]\n",
    "\n",
    "visited =[False] *9\n",
    "\n",
    "def dfs(visited,n,graph):\n",
    "    visited[n] =True\n",
    "    print(n)\n",
    "    for j in graph[n]:\n",
    "        if not visited[j]:\n",
    "            dfs(visited,j,graph)\n",
    "\n",
    "dfs(visited,1,graph)"
   ]
  },
  {
   "cell_type": "markdown",
   "metadata": {},
   "source": [
    "## BFS"
   ]
  },
  {
   "cell_type": "code",
   "execution_count": 8,
   "metadata": {},
   "outputs": [
    {
     "name": "stdout",
     "output_type": "stream",
     "text": [
      "1\n",
      "2\n",
      "3\n",
      "8\n",
      "7\n",
      "4\n",
      "5\n",
      "6\n"
     ]
    }
   ],
   "source": [
    "from collections import deque\n",
    "\n",
    "graph = [\n",
    "    [],\n",
    "    [2,3,8],\n",
    "    [1,7],\n",
    "    [1,4,5],\n",
    "    [3,5],\n",
    "    [3,4],\n",
    "    [7],\n",
    "    [2,6,8],\n",
    "    [1,7,]\n",
    "]\n",
    "\n",
    "visited =[False] *9\n",
    "\n",
    "def bfs(visited, start, graph):\n",
    "    queue = deque([start])\n",
    "    visited[start] = True\n",
    "    while queue:\n",
    "        v = queue.popleft()\n",
    "        print(v)\n",
    "        for i in graph[v]:\n",
    "            if not visited[i]:\n",
    "                queue.append(i)\n",
    "                visited[i] = True\n",
    "\n",
    "bfs(visited, 1, graph)\n",
    "    \n"
   ]
  },
  {
   "cell_type": "markdown",
   "metadata": {},
   "source": [
    "# 실전문제\n",
    "## 음료수 얼려먹기\n",
    "- 풀이시간 30분\n",
    "- 소요시간 00분"
   ]
  },
  {
   "cell_type": "code",
   "execution_count": 71,
   "metadata": {},
   "outputs": [
    {
     "name": "stdout",
     "output_type": "stream",
     "text": [
      "3\n"
     ]
    }
   ],
   "source": [
    "n = 4 \n",
    "m = 5\n",
    "\n",
    "arr = [\n",
    "    [0,0,1,1,0],\n",
    "    [0,0,0,1,1],\n",
    "    [1,1,1,1,1],\n",
    "    [0,0,0,0,0]]\n",
    " \n",
    "\n",
    "def dfs(x,y):\n",
    "    if x<0 or x>=n or y<0 or y>=m:\n",
    "        return False\n",
    "    if arr[x][y] == 0 :\n",
    "        arr[x][y] = 1\n",
    "\n",
    "        dfs(x+1,y)\n",
    "        dfs(x-1,y)\n",
    "        dfs(x,y+1)\n",
    "        dfs(x-1,y)\n",
    "        return True\n",
    "    return False \n",
    "\n",
    "answer = 0 \n",
    "for i in range(n):\n",
    "    for j in range(m):\n",
    "        result = dfs(i,j)\n",
    "        if result:\n",
    "            answer += 1\n",
    "\n",
    "print(answer)"
   ]
  },
  {
   "cell_type": "markdown",
   "metadata": {},
   "source": [
    "## 미로탈출\n",
    "- 풀이시간 30분\n",
    "- 소요시간 00분"
   ]
  },
  {
   "cell_type": "code",
   "execution_count": 133,
   "metadata": {},
   "outputs": [
    {
     "name": "stdout",
     "output_type": "stream",
     "text": [
      "10\n"
     ]
    }
   ],
   "source": [
    "n,m = 5,6\n",
    "maps = [\n",
    "    [1,0,1,0,1,0],\n",
    "    [1,1,1,1,1,1],\n",
    "    [0,0,0,0,0,1],\n",
    "    [1,1,1,1,1,1],\n",
    "    [1,1,1,1,1,1]\n",
    "]\n",
    "\n",
    "from collections import deque\n",
    "\n",
    "moving = [[1,0],[-1,0],[0,1],[0,-1]]\n",
    "queue = deque()\n",
    "queue.append([0,0])\n",
    "maps[0][0] = 0 \n",
    "\n",
    "while queue:\n",
    "    x,y = queue.popleft()\n",
    "    if x ==n-1 and y == m-1:\n",
    "        maps[x][y]+=1\n",
    "        break \n",
    "\n",
    "    for dx,dy in moving:\n",
    "        if x+dx <0 or x+dx>=n or y+dy<0 or y+dy>=m:\n",
    "            continue\n",
    "\n",
    "        elif maps[x+dx][y+dy] == 1:\n",
    "            maps[x+dx][y+dy] = maps[x][y] + 1\n",
    "            queue.append([x+dx,y+dy])\n",
    "    \n",
    "print(maps[n-1][m-1])\n"
   ]
  },
  {
   "cell_type": "markdown",
   "metadata": {},
   "source": [
    "# 기출문제\n",
    "## 특정거리의 도시찾기\n",
    "- 풀이시간 30분\n",
    "- 소요시간 00분"
   ]
  },
  {
   "cell_type": "code",
   "execution_count": 1,
   "metadata": {},
   "outputs": [
    {
     "data": {
      "text/plain": [
       "[4]"
      ]
     },
     "execution_count": 1,
     "metadata": {},
     "output_type": "execute_result"
    }
   ],
   "source": [
    "#도시갯수,도로수,설정값,시작도시\n",
    "n,m,k,x = 4,4,2,1\n",
    "road = [\n",
    "    [1,2],\n",
    "    [1,3],\n",
    "    [2,3],\n",
    "    [2,4]\n",
    "]\n",
    "\n",
    "from collections import deque\n",
    "l = [-1] *(n+1)\n",
    "\n",
    "start = [s[0] for s in road]\n",
    "end = [e[1] for e in road]\n",
    "\n",
    "queue = deque()\n",
    "queue.append(x)\n",
    "l[x] = 0\n",
    "\n",
    "while queue:\n",
    "    s = queue.popleft()\n",
    "    for i in range(len(start)):\n",
    "        if start[i] == s:\n",
    "            queue.append(end[i])\n",
    "            if l[end[i]] == -1:  #강평1. 참고\n",
    "                l[end[i]] = l[s]+1\n",
    "            else:\n",
    "                l[end[i]] = min(l[end[i]],l[s]+1)\n",
    "\n",
    "answer =[]\n",
    "for idx,i in enumerate(l):\n",
    "    if i == k:\n",
    "       answer.append(idx)\n",
    "if not answer:\n",
    "    answer = -1\n",
    "answer\n"
   ]
  },
  {
   "cell_type": "code",
   "execution_count": 2,
   "metadata": {},
   "outputs": [
    {
     "name": "stdout",
     "output_type": "stream",
     "text": [
      "4\n"
     ]
    }
   ],
   "source": [
    "n,m,k,x = 4,4,2,1\n",
    "road = [\n",
    "    [1,2],\n",
    "    [1,3],\n",
    "    [2,3],\n",
    "    [2,4]\n",
    "]\n",
    "\n",
    "d={}\n",
    "for i in road:\n",
    "    d[i[0]] = d.get(i[0],[])+[i[1]]\n",
    "\n",
    "length = [-1]*(n+1)\n",
    "length[x] = 0\n",
    "\n",
    "q = deque([x])\n",
    "while q:\n",
    "    now = q.popleft()\n",
    "    for next in d.get(now,[]):\n",
    "        if length[next] == -1:\n",
    "            length[next] = length[now]+1\n",
    "            q.append(next)\n",
    "\n",
    "check = False\n",
    "for i in range(1,1+n):\n",
    "    if length[i] == k:\n",
    "        print(i)\n",
    "        check =True\n",
    "\n",
    "if not check:\n",
    "    print(-1)"
   ]
  },
  {
   "cell_type": "markdown",
   "metadata": {},
   "source": [
    "### 강평\n",
    "- 1번 bfs로 먼저 방문한 노드에 대해서는 최단거리 고려를 하지 않아도 된다."
   ]
  },
  {
   "cell_type": "markdown",
   "metadata": {},
   "source": [
    "## 연구소\n",
    "- 풀이시간 30분\n",
    "- 소요시간 00분"
   ]
  },
  {
   "cell_type": "code",
   "execution_count": 267,
   "metadata": {},
   "outputs": [
    {
     "data": {
      "text/plain": [
       "27"
      ]
     },
     "execution_count": 267,
     "metadata": {},
     "output_type": "execute_result"
    }
   ],
   "source": [
    "from itertools import combinations\n",
    "n,m = 7,7\n",
    "maps = [\n",
    "    [2,0,0,0,1,1,0],\n",
    "    [0,0,1,0,1,2,0],\n",
    "    [0,1,1,0,1,0,0],\n",
    "    [0,1,0,0,0,0,0],\n",
    "    [0,0,0,0,0,1,1],\n",
    "    [0,1,0,0,0,0,0],\n",
    "    [0,1,0,0,0,0,0]\n",
    "]\n",
    "\n",
    "\n",
    "#바이러스 퍼트리기\n",
    "def dfs(x,y):\n",
    "    if x<0 or x>=n or y<0 or y>=m:\n",
    "        return False\n",
    "    \n",
    "    if maps[x][y] == 2 or maps[x][y] == 0:\n",
    "        maps[x][y] = 3\n",
    "        dfs(x-1,y)\n",
    "        dfs(x+1,y)\n",
    "        dfs(x,y+1)\n",
    "        dfs(x,y-1)\n",
    "        return True\n",
    "    return False\n",
    "\n",
    "#안전영역 계산하기 \n",
    "def safe(maps):\n",
    "    zone = 0 \n",
    "    for i in range(len(maps)):\n",
    "        zone += maps[i].count(0)\n",
    "    return zone\n",
    "\n",
    "virus = []\n",
    "space = [] \n",
    "for i in range(n):\n",
    "    for j in range(m):\n",
    "        if maps[i][j] == 0:\n",
    "            space.append([i,j])\n",
    "        elif maps[i][j] == 2:\n",
    "            virus.append([i,j])\n",
    "\n",
    "answer = -1\n",
    "for k in combinations(space,3):\n",
    "    for wx,wy in k:\n",
    "        maps[wx][wy] =1\n",
    "    for vx,vy in virus:\n",
    "        dfs(vx,vy)\n",
    "    answer = max(answer,safe(maps))\n",
    "    \n",
    "    for rx in range(n):\n",
    "        for ry in range(m):\n",
    "            if [rx,ry] in space:\n",
    "                maps[rx][ry] = 0\n",
    "            elif [rx,ry] in virus:\n",
    "                maps[rx][ry] = 2\n",
    "            else:\n",
    "                maps[rx][ry] = 1 \n",
    "answer "
   ]
  },
  {
   "cell_type": "markdown",
   "metadata": {},
   "source": [
    "## 경쟁적 전염\n",
    "- 풀이시간 50분\n",
    "- 소요시간 00분"
   ]
  },
  {
   "cell_type": "code",
   "execution_count": 4,
   "metadata": {},
   "outputs": [
    {
     "data": {
      "text/plain": [
       "3"
      ]
     },
     "execution_count": 4,
     "metadata": {},
     "output_type": "execute_result"
    }
   ],
   "source": [
    "n,k = 3,3\n",
    "jar = [\n",
    "    [1,0,2],\n",
    "    [0,0,0],\n",
    "    [3,0,0]\n",
    "]\n",
    "s,fx,fy = 2,3,2\n",
    "\n",
    "dx = [1,-1,0,0]\n",
    "dy = [0,0,1,-1]\n",
    "\n",
    "\n",
    "def dfs(x,y,idx):\n",
    "    if jar[x][y] != 0 and [x,y] not in temp:\n",
    "        nx = x + dx[idx%4]\n",
    "        ny = y + dy[idx%4]\n",
    "        if (nx >= 0 and nx<n) and (ny >= 0 and ny<n):\n",
    "            if jar[nx][ny] == 0 :\n",
    "                temp.append([nx,ny])\n",
    "                jar[nx][ny] = jar[x][y]\n",
    "        if idx != 4:\n",
    "            idx +=1\n",
    "            dfs(x,y,idx)\n",
    "        else:\n",
    "            idx = 0 \n",
    "            return\n",
    "    return\n",
    "\n",
    "\n",
    "t = 0\n",
    "while t !=s :\n",
    "    temp = []\n",
    "    for x in range(n):\n",
    "        for y in range(n):\n",
    "            idx = 0\n",
    "            dfs(x,y,idx)\n",
    "    t +=1\n",
    "\n",
    "jar[fx-1][fy-1]"
   ]
  },
  {
   "cell_type": "code",
   "execution_count": 18,
   "metadata": {},
   "outputs": [
    {
     "data": {
      "text/plain": [
       "3"
      ]
     },
     "execution_count": 18,
     "metadata": {},
     "output_type": "execute_result"
    }
   ],
   "source": [
    "from collections import deque\n",
    "n,k = map(int,input().split())\n",
    "\n",
    "graph = []\n",
    "data = []\n",
    "\n",
    "for i in range(n):\n",
    "    graph.append(list(map(int,input().split())))\n",
    "    for j in range(n):\n",
    "        if graph[i][j] != 0:\n",
    "            data.append((graph[i][j],0,i,j))\n",
    "\n",
    "data.sort()\n",
    "q = deque(data)\n",
    "\n",
    "t,fx,fy = map(int,input().split())\n",
    "\n",
    "dx = [-1,0,1,0]\n",
    "dy = [0,-1,0,1]\n",
    "\n",
    "while q:\n",
    "    virus,s,x,y = q.popleft()\n",
    "    if s == t:\n",
    "        break\n",
    "    for i in range(4):\n",
    "        nx = x + dx[i]\n",
    "        ny = y + dy[i]\n",
    "\n",
    "        if 0<=nx and nx<n and 0<=ny and ny<n:\n",
    "            if graph[nx][ny] == 0:\n",
    "                graph[nx][ny] = virus\n",
    "                q.append((virus, s+1 , nx, ny))\n",
    "                \n",
    "graph[fx-1][fy-1]\n",
    "\n",
    "\n"
   ]
  },
  {
   "cell_type": "markdown",
   "metadata": {},
   "source": [
    "### 강평\n",
    "- 나는 dfs로 접근, 풀이는 bfs로 접근\n",
    "- bfs가 시간복잡도가 낮다 "
   ]
  },
  {
   "cell_type": "markdown",
   "metadata": {},
   "source": [
    "## 괄호변환\n",
    "- 풀이시간 20분\n",
    "- 소요시간 00분"
   ]
  },
  {
   "cell_type": "code",
   "execution_count": 160,
   "metadata": {},
   "outputs": [
    {
     "name": "stdout",
     "output_type": "stream",
     "text": [
      "))(( ()\n"
     ]
    },
    {
     "data": {
      "text/plain": [
       "'()(())()'"
      ]
     },
     "execution_count": 160,
     "metadata": {},
     "output_type": "execute_result"
    }
   ],
   "source": [
    "from collections import deque\n",
    "P = \"()))((()\"\n",
    "\n",
    "def solution(P):\n",
    "    det = 0\n",
    "    answer = ''\n",
    "    u = \"\"\n",
    "    if P ==\"\":\n",
    "        return  answer\n",
    "    #2단계\n",
    "    for idx,i in enumerate(P):\n",
    "        if i =='(':\n",
    "            u += i\n",
    "            det +=1\n",
    "        else :\n",
    "            u += i\n",
    "            det -=1\n",
    "        if det == 0:\n",
    "            break\n",
    "    v = P[idx+1:]\n",
    "    # 3단계\n",
    "    for i in u:\n",
    "        if i =='(':\n",
    "            det +=1\n",
    "        else :\n",
    "            det -=1\n",
    "        if det < 0:\n",
    "            #4단계\n",
    "            answer ='('+solution(v)+')'\n",
    "            u = list(u[1:-1])\n",
    "            for i in range(len(u)):\n",
    "                if u[i] == ')':\n",
    "                    u[i] = '('\n",
    "                else:\n",
    "                    u[i] = ')'\n",
    "            answer += ''.join(u)\n",
    "            return answer \n",
    "        #3-1단계 시행\n",
    "    answer = u + solution(v)\n",
    "    return answer\n",
    "\n",
    "dfs(P)\n"
   ]
  },
  {
   "cell_type": "code",
   "execution_count": 166,
   "metadata": {},
   "outputs": [
    {
     "data": {
      "text/plain": [
       "'()(())()'"
      ]
     },
     "execution_count": 166,
     "metadata": {},
     "output_type": "execute_result"
    }
   ],
   "source": [
    "\n",
    "def solution(p):\n",
    "    if p =='':\n",
    "        return p\n",
    "    r = True\n",
    "    det = 0 \n",
    "    for i in range(len(p)):\n",
    "        if p[i] == '(':\n",
    "            det +=1\n",
    "        else:\n",
    "            det -=1\n",
    "        if det<0: \n",
    "            r = False\n",
    "        if det == 0:\n",
    "            if r:\n",
    "                return p[:i+1] + solution(p[i+1:])\n",
    "            else:\n",
    "                return '('+solution(p[i+1:])+')'+ ''.join(map(lambda x : '(' if x ==')' else ')',p[1:i]))\n",
    "solution(P)"
   ]
  },
  {
   "cell_type": "markdown",
   "metadata": {},
   "source": [
    "## 연산자 끼워넣기\n",
    "- 풀이시간 30분\n",
    "- 소요시간 00분"
   ]
  },
  {
   "cell_type": "code",
   "execution_count": null,
   "metadata": {},
   "outputs": [],
   "source": []
  },
  {
   "cell_type": "code",
   "execution_count": 252,
   "metadata": {},
   "outputs": [
    {
     "name": "stdout",
     "output_type": "stream",
     "text": [
      "54 -24\n"
     ]
    }
   ],
   "source": [
    "from itertools import permutations\n",
    "from itertools import product\n",
    "from collections import deque\n",
    "\n",
    "n = 6\n",
    "arr = [1,2,3,4,5,6]\n",
    "d = ['+','-','*','/']\n",
    "dn = [2,1,1,1]\n",
    "cal = ''\n",
    "for i in range(4):\n",
    "    cal += d[i]*dn[i]\n",
    "\n",
    "ans_max = -9999999\n",
    "ans_min = 9999999\n",
    "\n",
    "for i in permutations(cal,n-1):\n",
    "    answer = arr[0]\n",
    "    count = 0 \n",
    "    queue = deque(arr[1:])\n",
    "    while queue:\n",
    "        det = queue.popleft()\n",
    "        if i[count] == '+':\n",
    "            answer += det\n",
    "        elif i[count] == '-':\n",
    "            answer -= det\n",
    "        elif i[count] == '*':\n",
    "            answer *= det\n",
    "        else:\n",
    "            answer = int(answer/det)\n",
    "        count+=1\n",
    "    ans_max = max(ans_max, answer)\n",
    "    ans_min = min(ans_min, answer)\n",
    "\n",
    "print(ans_max,ans_min)\n"
   ]
  },
  {
   "cell_type": "code",
   "execution_count": 258,
   "metadata": {},
   "outputs": [
    {
     "name": "stdout",
     "output_type": "stream",
     "text": [
      "54 -24\n"
     ]
    }
   ],
   "source": [
    "# 조합 안쓰고 재귀함수로 실행하는 코드\n",
    "\n",
    "n = 6 \n",
    "arr = [1,2,3,4,5,6]\n",
    "add, sub, mul, div = 2,1,1,1\n",
    "answer_max = - 999999\n",
    "answer_min = 9999999\n",
    "\n",
    "def dfs(i,now):\n",
    "    global add, sub, mul, div,answer_max,answer_min\n",
    "    if i == n:\n",
    "        answer_max = max(answer_max,now)\n",
    "        answer_min = min(answer_min,now)\n",
    "    else :\n",
    "        if add > 0 :\n",
    "            add -=1 \n",
    "            dfs(i+1,now+arr[i])\n",
    "            add +=1\n",
    "        if sub >0 :\n",
    "            sub -=1\n",
    "            dfs(i+1,now-arr[i])\n",
    "            sub +=1\n",
    "        if mul >0 :\n",
    "            mul -=1\n",
    "            dfs(i+1,now*arr[i])\n",
    "            mul +=1\n",
    "        if div >0 :\n",
    "            div -=1\n",
    "            dfs(i+1,int(now/arr[i]))\n",
    "            div +=1\n",
    "dfs(1,arr[0])\n",
    "print(answer_max,answer_min)\n"
   ]
  },
  {
   "cell_type": "markdown",
   "metadata": {},
   "source": [
    "## 감시 피하기\n",
    "- 풀이시간 60분\n",
    "- 소요시간 00분"
   ]
  },
  {
   "cell_type": "code",
   "execution_count": 46,
   "metadata": {},
   "outputs": [
    {
     "name": "stdout",
     "output_type": "stream",
     "text": [
      "yes\n"
     ]
    }
   ],
   "source": [
    "from itertools import combinations\n",
    "from collections import deque\n",
    "\n",
    "n =5 \n",
    "arr =[\n",
    "    ['x','s','w','x','t'],\n",
    "    ['t','w','s','x','x'],\n",
    "    ['x','x','w','x','x'],\n",
    "    ['x','t','x','x','x'],\n",
    "    ['x','x','t','x','x']\n",
    "]\n",
    "\n",
    "dx = [1,-1,0,0]\n",
    "dy = [0,0,1,-1]\n",
    "\n",
    "student = []\n",
    "teachers = []\n",
    "space = [] \n",
    "for i in range(n):\n",
    "    for j in range(n):\n",
    "        if arr[i][j] == 's':\n",
    "            student.append([i,j])\n",
    "        elif arr[i][j] == 't':\n",
    "            teachers.append([i,j])\n",
    "        else:\n",
    "            space.append([i,j])\n",
    "\n",
    "\n",
    "count = 0 \n",
    "for w in combinations(space,3):\n",
    "    walls = w \n",
    "    count+=1\n",
    "    r = True\n",
    "    # walls=[[0,2],[1,1],[2,2]]    \n",
    "    for teacher in teachers:\n",
    "        for idx in range(4):\n",
    "            queue =deque([teacher])\n",
    "            while queue:\n",
    "                x,y = queue.popleft()\n",
    "                nx = x +dx[idx]\n",
    "                ny = y +dy[idx]\n",
    "\n",
    "                if nx >= 5 or nx <0 or ny>=5 or ny<0:\n",
    "                    break\n",
    "\n",
    "                if [nx,ny] in space:\n",
    "                    if [nx,ny] in walls:\n",
    "                        break\n",
    "                    else:\n",
    "                        queue.append([nx,ny])\n",
    "\n",
    "                if [nx,ny] in student:\n",
    "                    r = False\n",
    "                    break\n",
    "    if r:\n",
    "        print('yes')\n",
    "        break\n",
    "else:\n",
    "    print('no')"
   ]
  },
  {
   "cell_type": "markdown",
   "metadata": {},
   "source": [
    "## 인구 이동\n",
    "- 풀이시간 40분\n",
    "- 소요시간 00분"
   ]
  },
  {
   "cell_type": "code",
   "execution_count": 5,
   "metadata": {},
   "outputs": [
    {
     "name": "stdout",
     "output_type": "stream",
     "text": [
      "2\n",
      "2\n"
     ]
    }
   ],
   "source": [
    "n,r,k = 3,5,10\n",
    "nations = [\n",
    "    [10,15,20],\n",
    "    [20,30,25],\n",
    "    [40,22,10]\n",
    "]\n",
    "\n",
    "from collections import deque\n",
    "\n",
    "dx = [1,-1,0,0]\n",
    "dy = [0,0,1,-1]\n",
    "moving = 0 \n",
    "\n",
    "def dfs(x,y,pop,det):\n",
    "    while queue:\n",
    "        x,y = queue.popleft()\n",
    "        for i in range(4):\n",
    "            nx = x+dx[i]\n",
    "            ny = y+dy[i]\n",
    "            if nx >=n or nx<0 or ny>=n or ny<0:\n",
    "                continue\n",
    "            sub = abs(nations[x][y] - nations[nx][ny])\n",
    "            if sub>=r and sub<=k and [nx,ny] not in union:\n",
    "                pop += nations[nx][ny]\n",
    "                union.append([nx,ny])\n",
    "                queue.append([nx,ny])\n",
    "                det = True\n",
    "    if det : \n",
    "        return True\n",
    "    else:\n",
    "        return False\n",
    "    \n",
    "while True:\n",
    "    for x in range(n):\n",
    "        for y in range(n):\n",
    "            det = False\n",
    "            pop = nations[x][y]\n",
    "            union = [[x,y]]\n",
    "            queue = deque(union)\n",
    "            det = dfs(x,y,pop,det)\n",
    "\n",
    "            if det:\n",
    "                pop //= len(union)\n",
    "                for px,py in union:\n",
    "                    nations[px][py] = pop \n",
    "                moving +=1\n",
    "            union = []\n",
    "            \n",
    "    print(moving)\n",
    "    if not det:\n",
    "        print(moving)\n",
    "        break"
   ]
  },
  {
   "cell_type": "markdown",
   "metadata": {},
   "source": [
    "## 블록 이동\n",
    "- 풀이시간 40분\n",
    "- 소요시간 00분"
   ]
  },
  {
   "cell_type": "code",
   "execution_count": 123,
   "metadata": {},
   "outputs": [
    {
     "name": "stdout",
     "output_type": "stream",
     "text": [
      "[1, 1] [1, 0]\n",
      "------무빙\n",
      "[1, 2] [1, 1]\n",
      "------무빙\n",
      "[1, 2] [0, 2]\n",
      "------회전\n",
      "[2, 2] [1, 2]\n",
      "------무빙\n",
      "[3, 2] [2, 2]\n",
      "------무빙\n",
      "[4, 2] [3, 2]\n",
      "------무빙\n",
      "[4, 3] [3, 3]\n",
      "------무빙\n",
      "[4, 3] [4, 2]\n",
      "------회전\n",
      "[4, 4] [4, 3]\n",
      "------무빙\n",
      "finish\n"
     ]
    }
   ],
   "source": [
    "\n",
    "board = [\n",
    "    [0, 0, 0, 1, 1],\n",
    "    [0, 0, 0, 1, 0],\n",
    "    [0, 1, 0, 1, 1],\n",
    "    [1, 1, 0, 0, 1],\n",
    "    [0, 0, 0, 0, 0]\n",
    "]\n",
    "\n",
    "tail = [0,0]\n",
    "head = [0,1]\n",
    "n = len(board)\n",
    "route = [head]\n",
    "dx = [1,0,-1,0]\n",
    "dy = [0,1,0,-1]\n",
    "\n",
    "def bfs(head,tail):\n",
    "    global n\n",
    "    hx,hy = head\n",
    "    tx,ty = tail\n",
    "    if hx == n-1 and hy == n-1:\n",
    "        print('finish')\n",
    "        return \n",
    "\n",
    "    for i in range(4):\n",
    "        nhx = hx + dx[i]\n",
    "        nhy = hy + dy[i]\n",
    "        ntx = tx + dx[i]\n",
    "        nty = ty + dy[i]\n",
    "\n",
    "        if nhx<0 or nhx>=n or nhy<0 or nhy>=n:\n",
    "            continue\n",
    "        \n",
    "        if board[nhx][nhy] == 0 and [nhx,nhy] not in route:\n",
    "            if board[ntx][nty] == 0:\n",
    "                head, tail = [nhx,nhy], [ntx,nty]\n",
    "                print(head, tail)\n",
    "                # print('------무빙')\n",
    "                route.append([nhx,nhy])\n",
    "            else:\n",
    "                head, tail = rotate(head,tail)\n",
    "                print(head, tail)\n",
    "                # print('------회전')\n",
    "\n",
    "            return bfs(head,tail)\n",
    "\n",
    "bfs(head,tail)"
   ]
  },
  {
   "cell_type": "code",
   "execution_count": 122,
   "metadata": {},
   "outputs": [
    {
     "data": {
      "text/plain": [
       "([1, 2], [0, 2])"
      ]
     },
     "execution_count": 122,
     "metadata": {},
     "output_type": "execute_result"
    }
   ],
   "source": [
    "\n",
    "board = [\n",
    "    [0, 0, 0, 1, 1],\n",
    "    [0, 0, 0, 1, 0],\n",
    "    [0, 1, 0, 1, 1],\n",
    "    [1, 1, 0, 0, 1],\n",
    "    [0, 0, 0, 0, 0]\n",
    "]\n",
    "\n",
    "head = [1,2]\n",
    "tail = [1,1]\n",
    "dx = [1,0,-1,0]\n",
    "dy = [0,1,0,-1]\n",
    "\n",
    "def rotate(head,tail):\n",
    "    hx,hy = head\n",
    "    tx,ty = tail\n",
    "    for i in range(4):\n",
    "        nhx = hx + dx[i]\n",
    "        nhy = hy + dy[i]\n",
    "        ntx = tx + dx[i]\n",
    "        nty = ty + dy[i]\n",
    "\n",
    "        if nhx<0 or nhx>=n or nhy<0 or nhy>=n:\n",
    "            continue\n",
    "\n",
    "        if board[nhx][nhy] == 0 and board[ntx][nty] ==0:\n",
    "            tail = [nhx,nhy]\n",
    "            break\n",
    "\n",
    "    if tail>head:\n",
    "        head,tail = tail,head\n",
    "    return head,tail\n",
    "\n",
    "rotate(head,tail)"
   ]
  },
  {
   "cell_type": "code",
   "execution_count": 129,
   "metadata": {},
   "outputs": [
    {
     "name": "stdout",
     "output_type": "stream",
     "text": [
      "0\n",
      "1\n"
     ]
    },
    {
     "data": {
      "text/plain": [
       "0"
      ]
     },
     "execution_count": 129,
     "metadata": {},
     "output_type": "execute_result"
    }
   ],
   "source": [
    "def rotate(head,tail):\n",
    "    hx,hy = head\n",
    "    tx,ty = tail\n",
    "    for i in range(4):\n",
    "        nhx = hx + dx[i]\n",
    "        nhy = hy + dy[i]\n",
    "        ntx = tx + dx[i]\n",
    "        nty = ty + dy[i]\n",
    "\n",
    "        if nhx<0 or nhx>=n or nhy<0 or nhy>=n:\n",
    "            continue\n",
    "\n",
    "        if board[nhx][nhy] == 0 and board[ntx][nty] ==0:\n",
    "            tail = [nhx,nhy]\n",
    "            break\n",
    "\n",
    "    if tail>head:\n",
    "        head,tail = tail,head\n",
    "    return head,tail\n",
    "\n",
    "def bfs(head,tail,t):\n",
    "    print(t)\n",
    "    global n\n",
    "    hx,hy = head\n",
    "    tx,ty = tail\n",
    "    if hx == n-1 and hy == n-1:\n",
    "        #print('finish')\n",
    "        return t\n",
    "\n",
    "    for i in range(4):\n",
    "        nhx = hx + dx[i]\n",
    "        nhy = hy + dy[i]\n",
    "        ntx = tx + dx[i]\n",
    "        nty = ty + dy[i]\n",
    "\n",
    "        if nhx<0 or nhx>=n or nhy<0 or nhy>=n:\n",
    "            continue\n",
    "        \n",
    "        if board[nhx][nhy] == 0 and [nhx,nhy] not in route:\n",
    "            if board[ntx][nty] == 0:\n",
    "                head, tail = [nhx,nhy], [ntx,nty]\n",
    "                t +=1\n",
    "                #print(head, tail)\n",
    "                # print('------무빙')\n",
    "                route.append([nhx,nhy])\n",
    "            else:\n",
    "                head, tail = rotate(head,tail)\n",
    "                t +=1\n",
    "                #print(head, tail,t)\n",
    "                # print('------회전')\n",
    "\n",
    "            return bfs(head,tail,t)\n",
    "        \n",
    "def solution(board):\n",
    "    tail = [0,0]\n",
    "    head = [0,1]\n",
    "    n = len(board)\n",
    "    route = [head]\n",
    "    dx = [1,0,-1,0]\n",
    "    dy = [0,1,0,-1]\n",
    "    t = 0 \n",
    "    bfs(head,tail,t)\n",
    "    answer = t\n",
    "    return answer\n",
    "\n",
    "\n",
    "\n",
    "board = [\n",
    "    [0, 0, 0, 1, 1],\n",
    "    [0, 0, 0, 1, 0],\n",
    "    [0, 1, 0, 1, 1],\n",
    "    [1, 1, 0, 0, 1],\n",
    "    [0, 0, 0, 0, 0]\n",
    "]\n",
    "solution(board)"
   ]
  },
  {
   "cell_type": "code",
   "execution_count": null,
   "metadata": {},
   "outputs": [],
   "source": [
    "from collections import deque\n",
    "\n",
    "def get_next_pos(pos,board):\n",
    "    next_pos =[]\n",
    "    pos = list(pos)\n",
    "    pos1_x, pos1_y, pos2_x, pos2_y = pos[0][0],pos[0][1],pos[1][0],pos[1][1]\n",
    "\n",
    "    dx = [-1,1,0,0]\n",
    "    dy = [0,0,-1,1]\n",
    "\n",
    "    for i in range(4):\n",
    "        pos1_next_x, pos1_next_y, pos2_next_x, pos2_next_y = pos1_x+dx[i], pos1_y+dy[i], pos2_x+dx[i], pos2_y+dy[i]\n",
    "        if board[pos1_next_x][pos1_next_y] == 0 and board[pos2_next_x][pos2_next_y] ==0:\n",
    "            next_pos.append()"
   ]
  }
 ],
 "metadata": {
  "kernelspec": {
   "display_name": "base",
   "language": "python",
   "name": "python3"
  },
  "language_info": {
   "codemirror_mode": {
    "name": "ipython",
    "version": 3
   },
   "file_extension": ".py",
   "mimetype": "text/x-python",
   "name": "python",
   "nbconvert_exporter": "python",
   "pygments_lexer": "ipython3",
   "version": "3.10.9"
  }
 },
 "nbformat": 4,
 "nbformat_minor": 2
}
