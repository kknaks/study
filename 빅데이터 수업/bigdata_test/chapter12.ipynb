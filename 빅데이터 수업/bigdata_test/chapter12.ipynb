{
 "cells": [
  {
   "cell_type": "code",
   "execution_count": 2,
   "metadata": {},
   "outputs": [],
   "source": [
    "import pandas as pd \n",
    "import scipy.stats as stats"
   ]
  },
  {
   "cell_type": "code",
   "execution_count": 3,
   "metadata": {},
   "outputs": [],
   "source": [
    "a = pd.read_csv(\"./yemoonsaBigdata/datasets/supplement/airquality.csv\")"
   ]
  },
  {
   "cell_type": "code",
   "execution_count": 8,
   "metadata": {},
   "outputs": [
    {
     "name": "stdout",
     "output_type": "stream",
     "text": [
      "9.96\n"
     ]
    }
   ],
   "source": [
    "print(round(a['Wind'].mean(),2))"
   ]
  },
  {
   "cell_type": "code",
   "execution_count": 15,
   "metadata": {},
   "outputs": [
    {
     "name": "stdout",
     "output_type": "stream",
     "text": [
      "-0.15\n"
     ]
    }
   ],
   "source": [
    "t_score, p_valus = stats.ttest_1samp(a['Wind'],10)\n",
    "print(round(t_score,2))"
   ]
  },
  {
   "cell_type": "code",
   "execution_count": 16,
   "metadata": {},
   "outputs": [
    {
     "name": "stdout",
     "output_type": "stream",
     "text": [
      "채택\n"
     ]
    }
   ],
   "source": [
    "if p_valus > 0.05:\n",
    "    print('채택')\n",
    "else :\n",
    "    print('기각')"
   ]
  },
  {
   "cell_type": "code",
   "execution_count": 17,
   "metadata": {},
   "outputs": [],
   "source": [
    "import pandas as pd \n",
    "import scipy.stats as stats "
   ]
  },
  {
   "cell_type": "code",
   "execution_count": 18,
   "metadata": {},
   "outputs": [],
   "source": [
    "a = pd.read_csv(\"./yemoonsaBigdata/datasets/supplement/chickweight.csv\")"
   ]
  },
  {
   "cell_type": "code",
   "execution_count": 30,
   "metadata": {},
   "outputs": [
    {
     "name": "stdout",
     "output_type": "stream",
     "text": [
      "102.65\n",
      "135.26\n"
     ]
    }
   ],
   "source": [
    "x1 = a.loc[a['Diet']==1]['weight']\n",
    "x4 = a.loc[a['Diet']==4]['weight']\n",
    "print(round(x1.mean(),2))\n",
    "print(round(x4.mean(),2))"
   ]
  },
  {
   "cell_type": "code",
   "execution_count": 34,
   "metadata": {},
   "outputs": [
    {
     "name": "stdout",
     "output_type": "stream",
     "text": [
      "-4.67\n"
     ]
    }
   ],
   "source": [
    "t_score, p_valus = stats.ttest_ind(x1,x4)\n",
    "print(round(t_score,2))"
   ]
  },
  {
   "cell_type": "code",
   "execution_count": 35,
   "metadata": {},
   "outputs": [
    {
     "name": "stdout",
     "output_type": "stream",
     "text": [
      "0.0\n",
      "기각\n"
     ]
    }
   ],
   "source": [
    "print(round(p_valus,4))\n",
    "if p_valus > 0.05:\n",
    "    print('채택')\n",
    "else :\n",
    "    print('기각')"
   ]
  },
  {
   "cell_type": "code",
   "execution_count": 37,
   "metadata": {},
   "outputs": [],
   "source": [
    "import pandas as pd\n",
    "import scipy.stats as stats \n",
    "\n",
    "a = pd.read_csv(\"./yemoonsaBigdata/datasets/supplement/StudentsPerformance1.csv\", encoding='cp949')"
   ]
  },
  {
   "cell_type": "code",
   "execution_count": 64,
   "metadata": {},
   "outputs": [
    {
     "name": "stdout",
     "output_type": "stream",
     "text": [
      "61.63\n",
      "63.45\n",
      "64.46\n",
      "67.36\n"
     ]
    }
   ],
   "source": [
    "x = a.groupby('인종').mean().iloc[:4,1:2]\n",
    "index = x.index\n",
    "for i in index:\n",
    "    print(round(x.loc[i,:].values[0],2))"
   ]
  },
  {
   "cell_type": "code",
   "execution_count": 74,
   "metadata": {},
   "outputs": [
    {
     "data": {
      "text/plain": [
       "Index(['A그룹', 'B그룹', 'C그룹', 'D그룹'], dtype='object', name='인종')"
      ]
     },
     "execution_count": 74,
     "metadata": {},
     "output_type": "execute_result"
    }
   ],
   "source": [
    "index"
   ]
  },
  {
   "cell_type": "code",
   "execution_count": 79,
   "metadata": {},
   "outputs": [],
   "source": [
    "x1 = a.loc[a['인종']=='A그룹']['수학 점수']\n",
    "x2 = a.loc[a['인종']=='B그룹']['수학 점수']\n",
    "x3 = a.loc[a['인종']=='C그룹']['수학 점수']\n",
    "x4 = a.loc[a['인종']=='D그룹']['수학 점수']"
   ]
  },
  {
   "cell_type": "code",
   "execution_count": 83,
   "metadata": {},
   "outputs": [
    {
     "name": "stdout",
     "output_type": "stream",
     "text": [
      "4.66\n",
      "0.0031\n",
      "기각\n"
     ]
    }
   ],
   "source": [
    "t_score, p_valus = stats.f_oneway(x1,x2,x3,x4)\n",
    "print(round(t_score,2))\n",
    "print(round(p_valus,4))\n",
    "if p_valus > 0.05:\n",
    "    print('채택')\n",
    "else :\n",
    "    print('기각')"
   ]
  },
  {
   "cell_type": "code",
   "execution_count": 84,
   "metadata": {},
   "outputs": [],
   "source": [
    "a = pd.read_csv(\"./yemoonsaBigdata/datasets/supplement/StudentsPerformance2.csv\", encoding='cp949')"
   ]
  },
  {
   "cell_type": "code",
   "execution_count": 99,
   "metadata": {},
   "outputs": [
    {
     "name": "stdout",
     "output_type": "stream",
     "text": [
      "38\n"
     ]
    }
   ],
   "source": [
    "x = a.loc[a['학업 성적'] == '우수']\n",
    "print(abs(x.groupby('성별').count()['ID']['남성']-x.groupby('성별').count()['ID']['여성']))"
   ]
  },
  {
   "cell_type": "code",
   "execution_count": 112,
   "metadata": {},
   "outputs": [],
   "source": [
    "table = pd.crosstab(a['성별'],a['학업 성적'])\n",
    "x1 = table.loc['남성',:]\n",
    "x2 = table.loc['여성',:]\n"
   ]
  },
  {
   "cell_type": "code",
   "execution_count": 124,
   "metadata": {},
   "outputs": [
    {
     "name": "stdout",
     "output_type": "stream",
     "text": [
      "12.41\n",
      "0.002\n",
      "기각\n"
     ]
    }
   ],
   "source": [
    "t_score = stats.chi2_contingency([x1,x2]).statistic\n",
    "p_valus = stats.chi2_contingency([x1,x2]).pvalue\n",
    "print(round(t_score,2))\n",
    "print(round(p_valus,4))\n",
    "if p_valus > 0.05:\n",
    "    print('채택')\n",
    "else :\n",
    "    print('기각')"
   ]
  }
 ],
 "metadata": {
  "kernelspec": {
   "display_name": "base",
   "language": "python",
   "name": "python3"
  },
  "language_info": {
   "codemirror_mode": {
    "name": "ipython",
    "version": 3
   },
   "file_extension": ".py",
   "mimetype": "text/x-python",
   "name": "python",
   "nbconvert_exporter": "python",
   "pygments_lexer": "ipython3",
   "version": "3.10.9"
  },
  "orig_nbformat": 4
 },
 "nbformat": 4,
 "nbformat_minor": 2
}
