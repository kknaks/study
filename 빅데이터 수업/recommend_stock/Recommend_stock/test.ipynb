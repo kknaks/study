{
 "cells": [
  {
   "cell_type": "code",
   "execution_count": 2,
   "metadata": {},
   "outputs": [],
   "source": [
    "import pandas as pd"
   ]
  },
  {
   "cell_type": "code",
   "execution_count": 25,
   "metadata": {},
   "outputs": [
    {
     "data": {
      "text/plain": [
       "[20.0, 50.0]"
      ]
     },
     "execution_count": 25,
     "metadata": {},
     "output_type": "execute_result"
    }
   ],
   "source": [
    "score = ['0.00','100.00','20.00','50.00']\n",
    "total_sensu = len(score)\n",
    "f_score = list(map(float,score))\n",
    "\n",
    "f_score.sort()\n",
    "f_score\n",
    "len(f_score)\n",
    "del f_score[len(f_score) - 1]\n",
    "del f_score[0]\n",
    "f_score"
   ]
  },
  {
   "cell_type": "code",
   "execution_count": 32,
   "metadata": {},
   "outputs": [
    {
     "data": {
      "text/plain": [
       "[20.0, 50.0]"
      ]
     },
     "execution_count": 32,
     "metadata": {},
     "output_type": "execute_result"
    }
   ],
   "source": [
    "score = ['0.00','100.00','20.00','50.00']\n",
    "total_sensu = len(score)\n",
    "f_score = list(map(float,score))\n",
    "\n",
    "f_score.remove(min(f_score))\n",
    "f_score.remove(max(f_score))\n",
    "f_score\n"
   ]
  },
  {
   "cell_type": "code",
   "execution_count": 36,
   "metadata": {},
   "outputs": [
    {
     "data": {
      "text/plain": [
       "100.0"
      ]
     },
     "execution_count": 36,
     "metadata": {},
     "output_type": "execute_result"
    }
   ],
   "source": [
    "max(f_score)"
   ]
  },
  {
   "cell_type": "code",
   "execution_count": 40,
   "metadata": {},
   "outputs": [
    {
     "data": {
      "text/plain": [
       "100.0"
      ]
     },
     "execution_count": 40,
     "metadata": {},
     "output_type": "execute_result"
    }
   ],
   "source": [
    "score = ['0.00','100.00','20.00','50.00']\n",
    "#2. 선수 평균갑 산출\n",
    "## sort 하여 최대 최소 제거\n",
    "f_score = list(map(float,i))\n",
    "count_score = len(f_score)\n",
    "max_score = max(f_score)\n",
    "max_score"
   ]
  },
  {
   "cell_type": "code",
   "execution_count": 48,
   "metadata": {},
   "outputs": [],
   "source": [
    "\n",
    "#1. 선수정보 입력\n",
    "score = [['0.00','100.00','20.00','50.00'],['0.00','90.00','20.00','20.00']]\n",
    "#2. 선수 평균갑 산출\n",
    "ave_score = []\n",
    "for i in score:\n",
    "    ## sort 하여 최대 최소 제거\n",
    "    f_score = list(map(float,i))\n",
    "    count_score = len(f_score)\n",
    "    max_score = max(f_score)\n",
    "    count_max = f_score.count(max_score)\n",
    "    min_score = min(f_score)\n",
    "    count_min = f_score.count(min_score)\n",
    "    total_remove = count_max + count_min\n",
    "\n",
    "    f_score.remove(max_score)\n",
    "    f_score.remove(min_score)\n",
    "    \n",
    "    ## 산술평균 구하기 \n",
    "    temp = sum(f_score)/ (count_score - total_remove)\n",
    "    ave_score.append(temp)\n",
    "\n",
    "    #3. 선수의 조 나누기\n",
    "\n",
    "    #4. 조의 평균 구하기 \n"
   ]
  },
  {
   "cell_type": "code",
   "execution_count": 67,
   "metadata": {},
   "outputs": [
    {
     "name": "stdout",
     "output_type": "stream",
     "text": [
      "[[50, 40], [30, 20], [10]]\n"
     ]
    }
   ],
   "source": [
    "ave_score = [10,20,30,40,50]\n",
    "ave_score.sort(reverse=True)\n",
    "n=2\n",
    "sort_score = []\n",
    "for i in range(0,len(ave_score),n):\n",
    "    temp = ave_score[i:i+n]\n",
    "    sort_score.append(temp)\n",
    "print(sort_score)\n"
   ]
  },
  {
   "cell_type": "code",
   "execution_count": 64,
   "metadata": {},
   "outputs": [
    {
     "name": "stdout",
     "output_type": "stream",
     "text": [
      "45.0\n",
      "35.0\n",
      "25.0\n",
      "15.0\n"
     ]
    }
   ],
   "source": [
    "for i in sort_score:\n",
    "    final_ave = sum(i)/len(i)\n",
    "    print(final_ave)"
   ]
  },
  {
   "cell_type": "code",
   "execution_count": 68,
   "metadata": {},
   "outputs": [],
   "source": [
    "#1. 선수정보 입력\n",
    "score = [['0.00','100.00','20.00','50.00'],['0.00','90.00','20.00','20.00']]\n",
    "n = 1\n",
    "m = 1\n",
    "#2. 선수 평균갑 산출\n",
    "ave_score = []\n",
    "for i in score:\n",
    "    ## sort 하여 최대 최소 제거\n",
    "    f_score = list(map(float,i))\n",
    "    count_score = len(f_score)\n",
    "    max_score = max(f_score)\n",
    "    count_max = f_score.count(max_score)\n",
    "    min_score = min(f_score)\n",
    "    count_min = f_score.count(min_score)\n",
    "    total_remove = count_max + count_min\n",
    "\n",
    "    f_score.remove(max_score)\n",
    "    f_score.remove(min_score)\n",
    "    \n",
    "    ## 산술평균 구하기 \n",
    "    temp = sum(f_score)/ (count_score - total_remove)\n",
    "    ave_score.append(temp)\n",
    "\n",
    "#3. 선수의 조 나누기\n",
    "ave_score.sort(reverse=True)\n",
    "sort_score = []\n",
    "for i in range(0,len(ave_score),n):\n",
    "    temp = ave_score[i:i+n]\n",
    "    sort_score.append(temp)\n",
    "\n",
    "#4. 조의 평균 구하기 \n",
    "final_ave =[]\n",
    "for i in sort_score:\n",
    "    temp = sum(i)/len(i)\n",
    "    final_ave.append(temp)\n",
    "\n",
    "answer = final_ave[m-1]"
   ]
  },
  {
   "cell_type": "code",
   "execution_count": 98,
   "metadata": {},
   "outputs": [
    {
     "name": "stdout",
     "output_type": "stream",
     "text": [
      "75.12955488454449\n"
     ]
    },
    {
     "data": {
      "text/plain": [
       "'75.1295'"
      ]
     },
     "execution_count": 98,
     "metadata": {},
     "output_type": "execute_result"
    }
   ],
   "source": [
    "a = 50.123454884545\n",
    "b = 50.012199999999\n",
    "\n",
    "c= a+b/2\n",
    "print(c)\n",
    "d = round(c,5)\n",
    "format(d,'.4f')"
   ]
  }
 ],
 "metadata": {
  "kernelspec": {
   "display_name": "Python 3",
   "language": "python",
   "name": "python3"
  },
  "language_info": {
   "codemirror_mode": {
    "name": "ipython",
    "version": 3
   },
   "file_extension": ".py",
   "mimetype": "text/x-python",
   "name": "python",
   "nbconvert_exporter": "python",
   "pygments_lexer": "ipython3",
   "version": "3.10.9"
  },
  "orig_nbformat": 4
 },
 "nbformat": 4,
 "nbformat_minor": 2
}
