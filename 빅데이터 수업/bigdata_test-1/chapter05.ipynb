{
 "cells": [
  {
   "attachments": {},
   "cell_type": "markdown",
   "metadata": {},
   "source": [
    "## Pr1.1 Iris데이터 세트에서 species 변수 값별로 petal_width 상위 25% 값을 구한 후, 가장 큰 값과 가장 작은 값사이의 차이를 계산하시오 "
   ]
  },
  {
   "cell_type": "code",
   "execution_count": 253,
   "metadata": {},
   "outputs": [],
   "source": [
    "import pandas as pd\n",
    "data = pd.read_csv(\"./yemoonsaBigdata/datasets/Part2/iris.csv\")"
   ]
  },
  {
   "cell_type": "code",
   "execution_count": 274,
   "metadata": {},
   "outputs": [
    {
     "name": "stdout",
     "output_type": "stream",
     "text": [
      "species         \n",
      "setosa      0.75    0.3\n",
      "versicolor  0.75    1.5\n",
      "virginica   0.75    2.3\n",
      "Name: petal_width, dtype: float64\n"
     ]
    }
   ],
   "source": [
    "#풀이\n",
    "print(data.groupby('species').quantile([.75]).petal_width)"
   ]
  },
  {
   "cell_type": "code",
   "execution_count": 273,
   "metadata": {},
   "outputs": [
    {
     "name": "stdout",
     "output_type": "stream",
     "text": [
      "species         \n",
      "setosa      0.75    0.3\n",
      "versicolor  0.75    1.5\n",
      "virginica   0.75    2.3\n",
      "Name: petal_width, dtype: float64\n"
     ]
    }
   ],
   "source": [
    "#답\n",
    "print(data.groupby('species')['petal_width'].quantile([0.75]))"
   ]
  },
  {
   "attachments": {},
   "cell_type": "markdown",
   "metadata": {},
   "source": [
    "## Pr2.2 Iris데이터 세트에서 sepal_length 변수의 전체값들을 중복없이 리스트로 만든후, 오름차순으로 정렬했을 때 리스트의 10번째 오는 숫자를 계산하시오"
   ]
  },
  {
   "cell_type": "code",
   "execution_count": 291,
   "metadata": {},
   "outputs": [
    {
     "name": "stdout",
     "output_type": "stream",
     "text": [
      "5.2\n"
     ]
    }
   ],
   "source": [
    "#풀이\n",
    "print(list(data.sepal_length.drop_duplicates().sort_values(ascending=True))[9])"
   ]
  },
  {
   "cell_type": "code",
   "execution_count": 290,
   "metadata": {},
   "outputs": [
    {
     "name": "stdout",
     "output_type": "stream",
     "text": [
      "5.2\n"
     ]
    }
   ],
   "source": [
    "#답\n",
    "lst = data['sepal_length'].unique().tolist()\n",
    "lst.sort()\n",
    "print(lst[9])"
   ]
  },
  {
   "attachments": {},
   "cell_type": "markdown",
   "metadata": {},
   "source": [
    "## Pr2.3  아이리스데이터 세트에서 sepal_width 변수값으로 내림차순 한 후 위에서 부터 100개 행을 학습데이터로 분리하고, 학습데이터에서 sepal_width의 표준편차 값을 구한 후 50을 곱한 값을 계산하시오."
   ]
  },
  {
   "cell_type": "code",
   "execution_count": 304,
   "metadata": {},
   "outputs": [
    {
     "name": "stdout",
     "output_type": "stream",
     "text": [
      "16\n"
     ]
    }
   ],
   "source": [
    "#풀이\n",
    "print(int(data['sepal_width'].sort_values(ascending = False).iloc[:100].std()*50))"
   ]
  },
  {
   "cell_type": "code",
   "execution_count": 303,
   "metadata": {},
   "outputs": [
    {
     "name": "stdout",
     "output_type": "stream",
     "text": [
      "16\n"
     ]
    }
   ],
   "source": [
    "#답\n",
    "sorted_data = data.sort_values(by='sepal_width', ascending=False).reset_index(drop=True)\n",
    "sorted_data_split = sorted_data.loc[0:99] # 또는 sorted_data.head(100)\n",
    "print(int(sorted_data_split['sepal_width'].std()*50))"
   ]
  },
  {
   "attachments": {},
   "cell_type": "markdown",
   "metadata": {},
   "source": [
    "## Pr2.4 species 변수값별로 petal_length 상위 10개 행(큰값)의 평균을 구한후, 평균의 합을 계산하시오."
   ]
  },
  {
   "cell_type": "code",
   "execution_count": 354,
   "metadata": {},
   "outputs": [
    {
     "data": {
      "text/plain": [
       "13"
      ]
     },
     "execution_count": 354,
     "metadata": {},
     "output_type": "execute_result"
    }
   ],
   "source": [
    "#풀이\n",
    "grouped = data.groupby('species')\n",
    "func = lambda x : x.sort_values(by='petal_length', ascending = False)[:10]\n",
    "round(grouped.apply(func)['petal_length'].groupby('species').mean().sum())"
   ]
  },
  {
   "cell_type": "code",
   "execution_count": 343,
   "metadata": {},
   "outputs": [
    {
     "name": "stdout",
     "output_type": "stream",
     "text": [
      "13\n"
     ]
    }
   ],
   "source": [
    "#답\n",
    "data = data.sort_values(by=['species', 'petal_length'], ascending=[True, False])\n",
    "data_top10 = data.groupby('species').head(10)\n",
    "print(round(data_top10.groupby('species')['petal_length'].mean().sum()))"
   ]
  },
  {
   "attachments": {},
   "cell_type": "markdown",
   "metadata": {},
   "source": [
    "## Pr2.5 sepal_length 변수가 이상치를 가지는 데이터 행 수를 계산하시오(이상치는 평균+-2*표준편차)"
   ]
  },
  {
   "cell_type": "code",
   "execution_count": 419,
   "metadata": {},
   "outputs": [
    {
     "data": {
      "text/html": [
       "<div>\n",
       "<style scoped>\n",
       "    .dataframe tbody tr th:only-of-type {\n",
       "        vertical-align: middle;\n",
       "    }\n",
       "\n",
       "    .dataframe tbody tr th {\n",
       "        vertical-align: top;\n",
       "    }\n",
       "\n",
       "    .dataframe thead th {\n",
       "        text-align: right;\n",
       "    }\n",
       "</style>\n",
       "<table border=\"1\" class=\"dataframe\">\n",
       "  <thead>\n",
       "    <tr style=\"text-align: right;\">\n",
       "      <th></th>\n",
       "      <th>sepal_length</th>\n",
       "      <th>sepal_width</th>\n",
       "      <th>petal_length</th>\n",
       "      <th>petal_width</th>\n",
       "      <th>species</th>\n",
       "    </tr>\n",
       "  </thead>\n",
       "  <tbody>\n",
       "    <tr>\n",
       "      <th>118</th>\n",
       "      <td>7.7</td>\n",
       "      <td>2.6</td>\n",
       "      <td>6.9</td>\n",
       "      <td>2.3</td>\n",
       "      <td>virginica</td>\n",
       "    </tr>\n",
       "    <tr>\n",
       "      <th>117</th>\n",
       "      <td>7.7</td>\n",
       "      <td>3.8</td>\n",
       "      <td>6.7</td>\n",
       "      <td>2.2</td>\n",
       "      <td>virginica</td>\n",
       "    </tr>\n",
       "    <tr>\n",
       "      <th>122</th>\n",
       "      <td>7.7</td>\n",
       "      <td>2.8</td>\n",
       "      <td>6.7</td>\n",
       "      <td>2.0</td>\n",
       "      <td>virginica</td>\n",
       "    </tr>\n",
       "    <tr>\n",
       "      <th>105</th>\n",
       "      <td>7.6</td>\n",
       "      <td>3.0</td>\n",
       "      <td>6.6</td>\n",
       "      <td>2.1</td>\n",
       "      <td>virginica</td>\n",
       "    </tr>\n",
       "    <tr>\n",
       "      <th>131</th>\n",
       "      <td>7.9</td>\n",
       "      <td>3.8</td>\n",
       "      <td>6.4</td>\n",
       "      <td>2.0</td>\n",
       "      <td>virginica</td>\n",
       "    </tr>\n",
       "    <tr>\n",
       "      <th>135</th>\n",
       "      <td>7.7</td>\n",
       "      <td>3.0</td>\n",
       "      <td>6.1</td>\n",
       "      <td>2.3</td>\n",
       "      <td>virginica</td>\n",
       "    </tr>\n",
       "  </tbody>\n",
       "</table>\n",
       "</div>"
      ],
      "text/plain": [
       "     sepal_length  sepal_width  petal_length  petal_width    species\n",
       "118           7.7          2.6           6.9          2.3  virginica\n",
       "117           7.7          3.8           6.7          2.2  virginica\n",
       "122           7.7          2.8           6.7          2.0  virginica\n",
       "105           7.6          3.0           6.6          2.1  virginica\n",
       "131           7.9          3.8           6.4          2.0  virginica\n",
       "135           7.7          3.0           6.1          2.3  virginica"
      ]
     },
     "execution_count": 419,
     "metadata": {},
     "output_type": "execute_result"
    }
   ],
   "source": [
    "sepal_mean = data.sepal_length.mean()\n",
    "sepal_std = data.sepal_length.std()\n",
    "sepal_up = sepal_mean + 2*sepal_std\n",
    "sepal_down = sepal_mean - 2*sepal_std\n",
    "index = data.sepal_length.apply(lambda x : x if x >= sepal_up or x <= sepal_down else None).dropna().index\n",
    "data.loc[index]"
   ]
  },
  {
   "cell_type": "code",
   "execution_count": 388,
   "metadata": {},
   "outputs": [
    {
     "name": "stdout",
     "output_type": "stream",
     "text": [
      "     sepal_length  sepal_width  petal_length  petal_width    species\n",
      "118           7.7          2.6           6.9          2.3  virginica\n",
      "117           7.7          3.8           6.7          2.2  virginica\n",
      "122           7.7          2.8           6.7          2.0  virginica\n",
      "105           7.6          3.0           6.6          2.1  virginica\n",
      "131           7.9          3.8           6.4          2.0  virginica\n",
      "135           7.7          3.0           6.1          2.3  virginica\n"
     ]
    }
   ],
   "source": [
    "mean = data['sepal_length'].mean()\n",
    "std = data['sepal_length'].std()\n",
    "crit1 = mean+2*std\n",
    "crit2 = mean-2*std\n",
    "print(data[(data['sepal_length']>=crit1)|(data['sepal_length']<=crit2)])"
   ]
  }
 ],
 "metadata": {
  "kernelspec": {
   "display_name": "base",
   "language": "python",
   "name": "python3"
  },
  "language_info": {
   "codemirror_mode": {
    "name": "ipython",
    "version": 3
   },
   "file_extension": ".py",
   "mimetype": "text/x-python",
   "name": "python",
   "nbconvert_exporter": "python",
   "pygments_lexer": "ipython3",
   "version": "3.10.9"
  },
  "orig_nbformat": 4
 },
 "nbformat": 4,
 "nbformat_minor": 2
}
