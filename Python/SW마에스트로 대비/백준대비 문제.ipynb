{
 "cells": [
  {
   "cell_type": "code",
   "execution_count": 13,
   "metadata": {},
   "outputs": [
    {
     "name": "stdout",
     "output_type": "stream",
     "text": [
      "No\n"
     ]
    }
   ],
   "source": [
    "from collections import deque\n",
    "a,b = map(str,input().split())\n",
    "\n",
    "def solution(a,b):\n",
    "    q = deque(a)\n",
    "    start = 0 \n",
    "    count = 0\n",
    "    while q:\n",
    "        w = q.popleft()\n",
    "        for i in range(start+1,len(b)):\n",
    "            if w == b[i] :\n",
    "                count +=1\n",
    "                start = i\n",
    "                break\n",
    "    if count == len(a):\n",
    "        return 'Yes'\n",
    "    else :\n",
    "        return 'No'"
   ]
  },
  {
   "cell_type": "code",
   "execution_count": 14,
   "metadata": {},
   "outputs": [
    {
     "name": "stdout",
     "output_type": "stream",
     "text": [
      "No\n",
      "Yes\n",
      "No\n"
     ]
    }
   ],
   "source": [
    "from collections import deque\n",
    "\n",
    "def solution(a,b):\n",
    "    q = deque(a)\n",
    "    start = 0 \n",
    "    count = 0\n",
    "    while q:\n",
    "        w = q.popleft()\n",
    "        for i in range(start+1,len(b)):\n",
    "            if w == b[i] :\n",
    "                count +=1\n",
    "                start = i\n",
    "                break\n",
    "    if count == len(a):\n",
    "        return 'Yes'\n",
    "    else :\n",
    "        return 'No'\n",
    "\n",
    "# 예외처리\n",
    "while True:\n",
    "    try:\n",
    "        s, t = input().split()\n",
    "        answer = solution(s, t)\n",
    "        print(answer)\n",
    "    except:\n",
    "        break"
   ]
  },
  {
   "cell_type": "code",
   "execution_count": 15,
   "metadata": {},
   "outputs": [
    {
     "ename": "KeyboardInterrupt",
     "evalue": "",
     "output_type": "error",
     "traceback": [
      "\u001b[0;31m---------------------------------------------------------------------------\u001b[0m",
      "\u001b[0;31mKeyboardInterrupt\u001b[0m                         Traceback (most recent call last)",
      "Cell \u001b[0;32mIn[15], line 6\u001b[0m\n\u001b[1;32m      3\u001b[0m \u001b[38;5;28minput\u001b[39m \u001b[38;5;241m=\u001b[39m sys\u001b[38;5;241m.\u001b[39mstdin\u001b[38;5;241m.\u001b[39mreadline\n\u001b[1;32m      5\u001b[0m \u001b[38;5;28;01mwhile\u001b[39;00m \u001b[38;5;28;01mTrue\u001b[39;00m:\n\u001b[0;32m----> 6\u001b[0m     ss \u001b[38;5;241m=\u001b[39m \u001b[38;5;28;43minput\u001b[39;49m\u001b[43m(\u001b[49m\u001b[43m)\u001b[49m\u001b[38;5;241m.\u001b[39mrstrip()\n\u001b[1;32m      7\u001b[0m     \u001b[38;5;28;01mif\u001b[39;00m \u001b[38;5;129;01mnot\u001b[39;00m ss:\n\u001b[1;32m      8\u001b[0m         \u001b[38;5;28;01mbreak\u001b[39;00m\n",
      "\u001b[0;31mKeyboardInterrupt\u001b[0m: "
     ]
    }
   ],
   "source": [
    "import sys\n",
    "from collections import deque\n",
    "input = sys.stdin.readline\n",
    "\n",
    "while True:\n",
    "    ss = input().rstrip()\n",
    "    if not ss:\n",
    "        break\n",
    "    s, t = ss.split()\n",
    "    q = deque(s)\n",
    "    start = 0 \n",
    "    count = 0\n",
    "    while q:\n",
    "        w = q.popleft()\n",
    "        for i in range(start+1,len(b)):\n",
    "            if w == t[i] :\n",
    "                count +=1\n",
    "                start = i\n",
    "                break\n",
    "    \n",
    "    if count == len(a):\n",
    "        print('Yes')\n",
    "    else:\n",
    "        print('No')"
   ]
  }
 ],
 "metadata": {
  "kernelspec": {
   "display_name": "base",
   "language": "python",
   "name": "python3"
  },
  "language_info": {
   "codemirror_mode": {
    "name": "ipython",
    "version": 3
   },
   "file_extension": ".py",
   "mimetype": "text/x-python",
   "name": "python",
   "nbconvert_exporter": "python",
   "pygments_lexer": "ipython3",
   "version": "3.10.9"
  }
 },
 "nbformat": 4,
 "nbformat_minor": 2
}
