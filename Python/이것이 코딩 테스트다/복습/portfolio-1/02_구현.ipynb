{
 "cells": [
  {
   "cell_type": "code",
   "execution_count": null,
   "metadata": {},
   "outputs": [],
   "source": []
  },
  {
   "cell_type": "markdown",
   "metadata": {},
   "source": [
    "# 구현(완전탐색)"
   ]
  },
  {
   "cell_type": "markdown",
   "metadata": {},
   "source": [
    "## 상하좌우"
   ]
  },
  {
   "cell_type": "code",
   "execution_count": 113,
   "metadata": {},
   "outputs": [
    {
     "name": "stdout",
     "output_type": "stream",
     "text": [
      "3 4\n"
     ]
    }
   ],
   "source": [
    "n = 5\n",
    "command = ['R','R','R','U','D','D']\n",
    "\n",
    "moving = {'R' : (0,1), 'L':(0,-1),'U':(-1,0),'D':(1,0)}\n",
    "start = [0,0]\n",
    "for i in command:\n",
    "    a,b = moving.get(i)\n",
    "    nx = start[0]+a\n",
    "    ny = start[1]+b\n",
    "    if nx <0 or nx>=n or ny<0 or ny>=n:\n",
    "        pass\n",
    "    else:\n",
    "        start = [nx,ny]\n",
    "print(start[0]+1,start[1]+1)"
   ]
  },
  {
   "cell_type": "markdown",
   "metadata": {},
   "source": [
    "## 시각\n"
   ]
  },
  {
   "cell_type": "code",
   "execution_count": 115,
   "metadata": {},
   "outputs": [
    {
     "name": "stdout",
     "output_type": "stream",
     "text": [
      "11475\n"
     ]
    }
   ],
   "source": [
    "n = 5\n",
    "count =0 \n",
    "for h in range(n+1):\n",
    "    for m in range(60):\n",
    "        for s in range(60):\n",
    "            if '3' in str(h)+str(m)+str(s):\n",
    "                count+=1\n",
    "print(count)"
   ]
  },
  {
   "cell_type": "markdown",
   "metadata": {},
   "source": [
    "## 왕실의 나이트"
   ]
  },
  {
   "cell_type": "code",
   "execution_count": 127,
   "metadata": {},
   "outputs": [
    {
     "data": {
      "text/plain": [
       "2"
      ]
     },
     "execution_count": 127,
     "metadata": {},
     "output_type": "execute_result"
    }
   ],
   "source": [
    "n = 'a1'\n",
    "moving = [[-2,-1],[-1,-2],[1,-2],[2,-1],[2,1],[1,2],[-1,2],[-2,1]]\n",
    "now = [ord(n[0])-97,ord(n[1])-49]\n",
    "count = 0\n",
    "for dx,dy in moving:\n",
    "    nx = now[0] + dx\n",
    "    ny = now[0] + dy\n",
    "    if nx >=0 and nx<=7 and ny>=0 and ny<=7 :\n",
    "        count+=1\n",
    "print(count)"
   ]
  },
  {
   "cell_type": "markdown",
   "metadata": {},
   "source": [
    "## 게임개발\n"
   ]
  },
  {
   "cell_type": "code",
   "execution_count": 158,
   "metadata": {},
   "outputs": [
    {
     "name": "stdout",
     "output_type": "stream",
     "text": [
      "[1, 1, 0]\n",
      "[1, 1, 0]\n",
      "[1, 2, 1]\n",
      "[1, 2, 1]\n",
      "[1, 2, 1]\n",
      "[1, 2, 1]\n",
      "[2, 2, 2]\n",
      "[2, 2, 2]\n",
      "[2, 2, 2]\n",
      "[2, 2, 2]\n"
     ]
    }
   ],
   "source": [
    "n,m = 4,4\n",
    "now = [1,1,0]\n",
    "maps = [\n",
    "    [1,1,1,1],\n",
    "    [1,0,0,1],\n",
    "    [1,1,0,1],\n",
    "    [1,1,1,1]]\n",
    "\n",
    "direction = [0,3,2,1]\n",
    "dx = [0,1,0,-1]\n",
    "dy = [-1,0,1,0]\n",
    "\n",
    "maps[now[0]][now[1]] = 1 \n",
    "start = direction.index(now[2])\n",
    "for i in range(10):\n",
    "    start %= 4 \n",
    "    nx = now[0] + dx[start]\n",
    "    ny = now[1] + dy[start]\n",
    "    if maps[nx][ny] == 0 :\n",
    "        maps[nx][ny] = 1 \n",
    "        now =[nx,ny,direction[start+1]]\n",
    "    else:\n",
    "        start +=1\n",
    "    print(now)\n"
   ]
  },
  {
   "cell_type": "code",
   "execution_count": 39,
   "metadata": {},
   "outputs": [
    {
     "name": "stdout",
     "output_type": "stream",
     "text": [
      "1\n",
      "2\n",
      "3\n"
     ]
    },
    {
     "data": {
      "text/plain": [
       "3"
      ]
     },
     "execution_count": 39,
     "metadata": {},
     "output_type": "execute_result"
    }
   ],
   "source": [
    "from itertools import permutations\n",
    "\n",
    "dungeons = [[80, 20], [30, 10], [50, 40]]\n",
    "answer = -1\n",
    "k = 80\n",
    "for tour in permutations(dungeons,len(dungeons)):\n",
    "    visit = 0 \n",
    "    for way in tour:\n",
    "        if way[0]<= k:\n",
    "            k -= way[1]\n",
    "            visit +=1\n",
    "            answer = max(answer,visit)\n",
    "            print(answer)\n",
    "answer "
   ]
  },
  {
   "cell_type": "code",
   "execution_count": 95,
   "metadata": {},
   "outputs": [
    {
     "name": "stdout",
     "output_type": "stream",
     "text": [
      "3\n"
     ]
    }
   ],
   "source": [
    "from collections import deque\n",
    "\n",
    "n = 9 \n",
    "wires = [[1,3],[2,3],[3,4],[4,5],[4,6],[4,7],[7,8],[7,9]]\n",
    "from collections import deque\n",
    "def solution(n, wires):\n",
    "    answer = 1e9\n",
    "    for i in range(1,n-1):\n",
    "        arr = wires[:i]+wires[i+1:]\n",
    "        ga = [[] for _ in range(n+1)]\n",
    "        visit = []\n",
    "\n",
    "        for a,b in arr:\n",
    "            ga[a].append(b)\n",
    "            ga[b].append(a)\n",
    "        q = deque()\n",
    "        a = arr[0][0]\n",
    "        q.append(a)\n",
    "        visit.append(a)\n",
    "\n",
    "        while q:\n",
    "            new = q.popleft()\n",
    "            for i in ga[new]:\n",
    "                if i not in visit:\n",
    "                    q.append(i)\n",
    "                    visit.append(i)\n",
    "        result = abs(n-len(visit)-len(visit))\n",
    "        answer = min(answer,result)\n",
    "    return answer"
   ]
  },
  {
   "cell_type": "code",
   "execution_count": 64,
   "metadata": {},
   "outputs": [
    {
     "name": "stdout",
     "output_type": "stream",
     "text": [
      "[[], [], [3], [], [], [], [], [], [], []] [0, 0, 1, 0, 0, 0, 0, 0, 0]\n",
      "[[], [], [3], [4], [], [], [], [], [], []] [0, 0, 1, 1, 0, 0, 0, 0, 0]\n",
      "[[], [], [3], [4], [5], [], [], [], [], []] [0, 0, 1, 1, 1, 0, 0, 0, 0]\n",
      "[[], [], [3], [4], [5, 6], [], [], [], [], []] [0, 0, 1, 1, 1, 1, 0, 0, 0]\n",
      "[[], [], [3], [4], [5, 6, 7], [], [], [], [], []] [0, 0, 1, 1, 1, 1, 1, 0, 0]\n",
      "[[], [], [3], [4], [5, 6, 7], [], [], [8], [], []] [0, 0, 1, 1, 1, 1, 1, 1, 0]\n",
      "[[], [], [3], [4], [5, 6, 7], [], [], [8, 9], [], []] [0, 0, 1, 1, 1, 1, 1, 1, 1]\n"
     ]
    }
   ],
   "source": [
    "def find_parent(parent,x):\n",
    "    if parent[x] != x:\n",
    "        parent[x]= find_parent(parent,parent[x])\n",
    "    return parent[x]\n",
    "\n",
    "def union(parent,a,b):\n",
    "    a = find_parent(parent,a)\n",
    "    b = find_parent(parent,b)\n",
    "    if a < b:\n",
    "        parent[b] = a \n",
    "    else: \n",
    "        parent[a] = b \n",
    "\n",
    "def solution(n, wires):\n",
    "    answer = int(1e9)\n",
    "    for i in wires:\n",
    "        parent = [k for k in range(n+1)]\n",
    "        for a,b in wires:\n",
    "            if a == i[0] and b == i[1]:\n",
    "                pass\n",
    "            else :\n",
    "                union(parent,a,b)\n",
    "        parent_sort = set(parent[1:])\n",
    "        result = [] \n",
    "\n",
    "        for c in parent_sort:\n",
    "            a = parent.count(c)\n",
    "            result.append(a)\n",
    "        answer = min(abs(result[0]-result[1]),answer)\n",
    "    return answer"
   ]
  },
  {
   "cell_type": "code",
   "execution_count": 26,
   "metadata": {},
   "outputs": [],
   "source": [
    "from itertools import permutations\n",
    "import math \n",
    "def is_prime(x):\n",
    "    for i in range(2,int(math.sqrt(x))+1):\n",
    "        if x % i == 0:\n",
    "            return False\n",
    "    return True\n",
    "        \n",
    "def solution(numbers):\n",
    "    visited = [] \n",
    "    answer = 0\n",
    "\n",
    "    for i in range(1,len(numbers)+1):\n",
    "        for j in permutations(numbers,i):\n",
    "            num = int(''.join(j))\n",
    "            result = False\n",
    "            if num not in visited and num > 1:\n",
    "                visited.append(num)\n",
    "                result = is_prime(num)\n",
    "            if result:\n",
    "                answer +=1\n",
    "    \n",
    "    return answer"
   ]
  },
  {
   "cell_type": "markdown",
   "metadata": {},
   "source": [
    "## 럭키 스트레이트\n",
    "- 어떤 게임의 아웃복서 캐릭터에게는 럭키 스트레이트라는 기술이 존재한다. 이 기술은 매우 강력한 대신에 항상 사용할 수는 없으며, 현재 게임 내에서 점수가 특정 조건을 만족할 때만 사용할 수 있다.\n",
    "\n",
    "- 특정 조건이란 현재 캐릭터의 점수를 N이라고 할 때 점수 N을 자릿수를 기준으로 반으로 나누어 왼쪽 부분의 각 자릿수의 합과 오른쪽 부분의 각 자릿수의 합을 더한 값이 동일한 상황을 의미한다. 예를 들어 현재 점수가 123,402라면 왼쪽 부분의 각 자릿수의 합은 1+2+3, 오른쪽 부분의 각 자릿수의 합은 4+0+2이므로 두 합이 6으로 동일하여 럭키 스트레이트를 사용할 수 있다.\n",
    "\n",
    "- 현재 점수 N이 주어졌을 때, 럭키 스트레이트를 사용할 수 있는 상태인지 아닌지를 알려주는 프로그램을 작성하시오. 럭키 스트레이트를 사용할 수 있다면 \"LUCKY\"를, 사용할 수 없다면 \"READY\"라는 단어를 출력한다. 또한 점수 N의 자릿수는 항상 짝수 형태로만 주어진다. 예를 들어 자릿수가 5인 12,345와 같은 수는 입력으로 들어오지 않는다."
   ]
  },
  {
   "cell_type": "code",
   "execution_count": 184,
   "metadata": {},
   "outputs": [
    {
     "name": "stdout",
     "output_type": "stream",
     "text": [
      "LUCKY\n"
     ]
    }
   ],
   "source": [
    "n = int(input())\n",
    "n = list(str(n))\n",
    "sum_r = sum([int(k) for k in n[:len(n)//2]])\n",
    "sum_t = sum([int(t) for t in n])\n",
    "if sum_r*2 == sum_t:\n",
    "    print(\"LUCKY\")\n",
    "else:\n",
    "    print(\"READY\")\n"
   ]
  },
  {
   "cell_type": "markdown",
   "metadata": {},
   "source": [
    "## 문자열 재정렬"
   ]
  },
  {
   "cell_type": "code",
   "execution_count": 192,
   "metadata": {},
   "outputs": [
    {
     "name": "stdout",
     "output_type": "stream",
     "text": [
      "ABCKK13\n"
     ]
    }
   ],
   "source": [
    "s ='K1KA5CB7'\n",
    "st = sorted(s)\n",
    "value = 0\n",
    "sort_s = []\n",
    "#48 57\n",
    "for i in st:\n",
    "    if i.isalpha():\n",
    "        sort_s.append(i)\n",
    "    else: \n",
    "        a = int(i)\n",
    "        value += a \n",
    "sort_s.append(str(value))\n",
    "result = ''.join(sort_s)\n",
    "print(result)\n"
   ]
  },
  {
   "cell_type": "markdown",
   "metadata": {},
   "source": [
    "## 문자열 압축(LV.2)\n",
    "- 데이터 처리 전문가가 되고 싶은 \"어피치\"는 문자열을 압축하는 방법에 대해 공부를 하고 있습니다. 최근에 대량의 데이터 처리를 위한 간단한 비손실 압축 방법에 대해 공부를 하고 있는데, 문자열에서 같은 값이 연속해서 나타나는 것을 그 문자의 개수와 반복되는 값으로 표현하여 더 짧은 문자열로 줄여서 표현하는 알고리즘을 공부하고 있습니다.\n",
    "간단한 예로 \"aabbaccc\"의 경우 \"2a2ba3c\"(문자가 반복되지 않아 한번만 나타난 경우 1은 생략함)와 같이 표현할 수 있는데, 이러한 방식은 반복되는 문자가 적은 경우 압축률이 낮다는 단점이 있습니다. 예를 들면, \"abcabcdede\"와 같은 문자열은 전혀 압축되지 않습니다. \"어피치\"는 이러한 단점을 해결하기 위해 문자열을 1개 이상의 단위로 잘라서 압축하여 더 짧은 문자열로 표현할 수 있는지 방법을 찾아보려고 합니다.\n",
    "\n",
    "- 예를 들어, \"ababcdcdababcdcd\"의 경우 문자를 1개 단위로 자르면 전혀 압축되지 않지만, 2개 단위로 잘라서 압축한다면 \"2ab2cd2ab2cd\"로 표현할 수 있습니다. 다른 방법으로 8개 단위로 잘라서 압축한다면 \"2ababcdcd\"로 표현할 수 있으며, 이때가 가장 짧게 압축하여 표현할 수 있는 방법입니다.\n",
    "\n",
    "- 다른 예로, \"abcabcdede\"와 같은 경우, 문자를 2개 단위로 잘라서 압축하면 \"abcabc2de\"가 되지만, 3개 단위로 자른다면 \"2abcdede\"가 되어 3개 단위가 가장 짧은 압축 방법이 됩니다. 이때 3개 단위로 자르고 마지막에 남는 문자열은 그대로 붙여주면 됩니다.\n",
    "\n",
    "- 압축할 문자열 s가 매개변수로 주어질 때, 위에 설명한 방법으로 1개 이상 단위로 문자열을 잘라 압축하여 표현한 문자열 중 가장 짧은 것의 길이를 return 하도록 solution 함수를 완성해주세요."
   ]
  },
  {
   "cell_type": "markdown",
   "metadata": {},
   "source": [
    "### 다시풀기"
   ]
  },
  {
   "cell_type": "code",
   "execution_count": 234,
   "metadata": {},
   "outputs": [
    {
     "name": "stdout",
     "output_type": "stream",
     "text": [
      "9\n"
     ]
    }
   ],
   "source": [
    "s = 'ababcdcdababcdcd'\n",
    "def solution(s):\n",
    "    answer = len(s)\n",
    "    for step in range(1,len(s)//2+1):\n",
    "        compressed = ''\n",
    "        prev = s[0:step]\n",
    "        count = 1 \n",
    "        for j in range(step,len(s),step):\n",
    "            if prev == s[j:j+step]:\n",
    "                count += 1\n",
    "            else :\n",
    "                compressed += str(count) + prev if count >=2 else prev\n",
    "                prev = s[j:j+step]\n",
    "                count = 1\n",
    "        compressed += str(count) + prev if count >=2 else prev\n",
    "        answer = min(answer,len(compressed))\n",
    "    return answer"
   ]
  },
  {
   "cell_type": "markdown",
   "metadata": {},
   "source": [
    "## 자물쇠와 열쇠 (LV.3)\n",
    "- 고고학자인 \"튜브\"는 고대 유적지에서 보물과 유적이 가득할 것으로 추정되는 비밀의 문을 발견하였습니다. 그런데 문을 열려고 살펴보니 특이한 형태의 자물쇠로 잠겨 있었고 문 앞에는 특이한 형태의 열쇠와 함께 자물쇠를 푸는 방법에 대해 다음과 같이 설명해 주는 종이가 발견되었습니다.\n",
    "\n",
    "- 잠겨있는 자물쇠는 격자 한 칸의 크기가 1 x 1인 N x N 크기의 정사각 격자 형태이고 특이한 모양의 열쇠는 M x M 크기인 정사각 격자 형태로 되어 있습니다.\n",
    "\n",
    "- 자물쇠에는 홈이 파여 있고 열쇠 또한 홈과 돌기 부분이 있습니다. 열쇠는 회전과 이동이 가능하며 열쇠의 돌기 부분을 자물쇠의 홈 부분에 딱 맞게 채우면 자물쇠가 열리게 되는 구조입니다. 자물쇠 영역을 벗어난 부분에 있는 열쇠의 홈과 돌기는 자물쇠를 여는 데 영향을 주지 않지만, 자물쇠 영역 내에서는 열쇠의 돌기 부분과 자물쇠의 홈 부분이 정확히 일치해야 하며 열쇠의 돌기와 자물쇠의 돌기가 만나서는 안됩니다. 또한 자물쇠의 모든 홈을 채워 비어있는 곳이 없어야 자물쇠를 열 수 있습니다.\n",
    "\n",
    "- 열쇠를 나타내는 2차원 배열 key와 자물쇠를 나타내는 2차원 배열 lock이 매개변수로 주어질 때, 열쇠로 자물쇠를 열수 있으면 true를, 열 수 없으면 false를 return 하도록 solution 함수를 완성해주세요."
   ]
  },
  {
   "cell_type": "markdown",
   "metadata": {},
   "source": [
    "### 다시 풀기"
   ]
  },
  {
   "cell_type": "code",
   "execution_count": 254,
   "metadata": {},
   "outputs": [],
   "source": [
    "key = [\n",
    "    [0, 0, 0],\n",
    "    [1, 0, 0],\n",
    "    [0, 1, 1]]\n",
    "lock = [\n",
    "    [1, 1, 1], \n",
    "    [1, 1, 0], \n",
    "    [1, 0, 1]]"
   ]
  },
  {
   "cell_type": "code",
   "execution_count": 255,
   "metadata": {},
   "outputs": [
    {
     "data": {
      "text/plain": [
       "True"
      ]
     },
     "execution_count": 255,
     "metadata": {},
     "output_type": "execute_result"
    }
   ],
   "source": [
    "def turn_right(key):\n",
    "    n = len(key)\n",
    "    m = len(key[0])\n",
    "    new_key = [[0]*n for _ in range(m)]\n",
    "    for i in range(n):\n",
    "        for j in range(m):\n",
    "            new_key[j][n-i-1] = key[i][j]\n",
    "    return new_key\n",
    "\n",
    "def check(new_lock):\n",
    "    lock_len = len(new_lock)//3\n",
    "    for i in range(lock_len,lock_len*2):\n",
    "        for j in range(lock_len,lock_len*2):\n",
    "            if new_lock[i][j] != 1:\n",
    "                return False\n",
    "    return True\n",
    "\n",
    "def solution(key,lock):\n",
    "    n = len(lock)\n",
    "    m  = len(key)\n",
    "    new_lock = [[0]*(n*3) for _ in range(n*3)]\n",
    "    for i in range(n):\n",
    "        for j in range(n):\n",
    "            new_lock[i+n][j+n] = lock[i][j]\n",
    "\n",
    "    for rotate in range(4):\n",
    "        key = turn_right(key)\n",
    "        for x in range(n*2):\n",
    "            for y in range(n*2):\n",
    "                for i in range(m):\n",
    "                    for j in range(m):\n",
    "                        new_lock[x+i][y+j] += key[i][j]\n",
    "                \n",
    "                if check(new_lock):\n",
    "                    return True\n",
    "                for i in range(m):\n",
    "                    for j in range(m):\n",
    "                        new_lock[x+i][y+j] -= key[i][j]\n",
    "    return False\n",
    "\n",
    "solution(key,lock)"
   ]
  },
  {
   "cell_type": "markdown",
   "metadata": {},
   "source": [
    "## 뱀\n",
    "- 'Dummy' 라는 도스게임이 있다. 이 게임에는 뱀이 나와서 기어다니는데, 사과를 먹으면 뱀 길이가 늘어난다. 뱀이 이리저리 기어다니다가 벽 또는 자기자신의 몸과 부딪히면 게임이 끝난다.\n",
    "   게임은 NxN 정사각 보드위에서 진행되고, 몇몇 칸에는 사과가 놓여져 있다. 보드의 상하좌우 끝에 벽이 있다. 게임이 시작할때 뱀은 맨위 맨좌측에 위치하고 뱀의 길이는 1 이다. 뱀은 처음에 오른쪽을 향한다.\n",
    "\n",
    "- 뱀은 매 초마다 이동을 하는데 다음과 같은 규칙을 따른다.\n",
    "  -  먼저 뱀은 몸길이를 늘려 머리를 다음칸에 위치시킨다.\n",
    "  - 만약 벽이나 자기자신의 몸과 부딪히면 게임이 끝난다.\n",
    "  - 만약 이동한 칸에 사과가 있다면, 그 칸에 있던 사과가 없어지고 꼬리는 움직이지 않는다.\n",
    "  - 만약 이동한 칸에 사과가 없다면, 몸길이를 줄여서 꼬리가 위치한 칸을 비워준다. 즉, 몸길이는 변하지 않는다.\n",
    "  - 사과의 위치와 뱀의 이동경로가 주어질 때 이 게임이 몇 초에 끝나는지 계산하라.\n",
    "\n",
    "- 첫째 줄에 보드의 크기 N이 주어진다. (2 ≤ N ≤ 100) 다음 줄에 사과의 개수 K가 주어진다. (0 ≤ K ≤ 100)\n",
    "\n",
    "  다음 K개의 줄에는 사과의 위치가 주어지는데, 첫 번째 정수는 행, 두 번째 정수는 열 위치를 의미한다. 사과의 위치는 모두 다르며, 맨 위 맨 좌측 (1행 1열) 에는 사과가 없다.\n",
    "\n",
    "  다음 줄에는 뱀의 방향 변환 횟수 L 이 주어진다. (1 ≤ L ≤ 100)\n",
    "\n",
    "  다음 L개의 줄에는 뱀의 방향 변환 정보가 주어지는데, 정수 X와 문자 C로 이루어져 있으며. 게임 시작 시간으로부터 X초가 끝난 뒤에 왼쪽(C가 'L') 또는 오른쪽(C가 'D')로 90도 방향을 회전시킨다는 뜻이다. X는 10,000 이하의 양의 정수이며, 방향 전환 정보는 X가 증가하는 순으로 주어진다.\n",
    "\n",
    "- ex \n",
    "  - 6\n",
    "  - 3\n",
    "  - 3 4\n",
    "  - 2 5\n",
    "  - 5 3\n",
    "  - 3\n",
    "  - 3 D\n",
    "  - 15 L\n",
    "  - 17 D"
   ]
  },
  {
   "cell_type": "code",
   "execution_count": 275,
   "metadata": {},
   "outputs": [],
   "source": [
    "n = 6\n",
    "a = 3\n",
    "apple = [\n",
    "    [3,4],\n",
    "    [2,5],\n",
    "    [5,3]]\n",
    "m = 3\n",
    "turn = [\n",
    "    [3,'D'],\n",
    "    [15,'L'],\n",
    "    [17,'D']]\n"
   ]
  },
  {
   "cell_type": "code",
   "execution_count": 273,
   "metadata": {},
   "outputs": [],
   "source": [
    "n = 10\n",
    "a = 4\n",
    "apple = [\n",
    "    [1, 2],\n",
    "    [1, 3],\n",
    "    [1, 4],\n",
    "    [1, 5]]\n",
    "m = 4\n",
    "turn = [\n",
    "    [8 ,'D'],\n",
    "    [10 ,'D'],\n",
    "    [11 ,'D'],\n",
    "    [13 ,'L']]"
   ]
  },
  {
   "cell_type": "code",
   "execution_count": 278,
   "metadata": {},
   "outputs": [],
   "source": [
    "n = 10\n",
    "a = 5\n",
    "apple = [\n",
    "    [1, 5],\n",
    "    [1, 3],\n",
    "    [1, 2],\n",
    "    [1, 6],\n",
    "    [1,7]]\n",
    "m = 4\n",
    "turn = [\n",
    "    [8 ,'D'],\n",
    "    [10 ,'D'],\n",
    "    [11 ,'D'],\n",
    "    [13 ,'L']]"
   ]
  },
  {
   "cell_type": "code",
   "execution_count": 288,
   "metadata": {},
   "outputs": [
    {
     "name": "stdout",
     "output_type": "stream",
     "text": [
      "deque([[1, 1]])\n",
      "deque([[1, 1], [1, 2]])\n",
      "deque([[1, 1], [1, 2], [1, 3]])\n",
      "deque([[1, 1], [1, 2], [1, 3], [1, 4]])\n",
      "deque([[1, 1], [1, 2], [1, 3], [1, 4], [1, 5]])\n",
      "deque([[1, 2], [1, 3], [1, 4], [1, 5], [1, 6]])\n",
      "deque([[1, 3], [1, 4], [1, 5], [1, 6], [1, 7]])\n",
      "deque([[1, 4], [1, 5], [1, 6], [1, 7], [1, 8]])\n",
      "deque([[1, 5], [1, 6], [1, 7], [1, 8], [1, 9]])\n",
      "deque([[1, 6], [1, 7], [1, 8], [1, 9], [2, 9]])\n",
      "deque([[1, 7], [1, 8], [1, 9], [2, 9], [3, 9]])\n",
      "deque([[1, 8], [1, 9], [2, 9], [3, 9], [3, 8]])\n",
      "deque([[1, 9], [2, 9], [3, 9], [3, 8], [2, 8]])\n",
      "deque([[2, 9], [3, 9], [3, 8], [2, 8], [1, 8]])\n",
      "deque([[3, 9], [3, 8], [2, 8], [1, 8], [1, 7]])\n",
      "deque([[3, 8], [2, 8], [1, 8], [1, 7], [1, 6]])\n",
      "deque([[3, 8], [2, 8], [1, 8], [1, 7], [1, 6], [1, 5]])\n",
      "deque([[3, 8], [2, 8], [1, 8], [1, 7], [1, 6], [1, 5], [1, 4]])\n",
      "deque([[3, 8], [2, 8], [1, 8], [1, 7], [1, 6], [1, 5], [1, 4], [1, 3]])\n",
      "deque([[3, 8], [2, 8], [1, 8], [1, 7], [1, 6], [1, 5], [1, 4], [1, 3], [1, 2]])\n",
      "deque([[2, 8], [1, 8], [1, 7], [1, 6], [1, 5], [1, 4], [1, 3], [1, 2], [1, 1]])\n",
      "21\n"
     ]
    }
   ],
   "source": [
    "from collections import deque\n",
    "\n",
    "n = int(input())\n",
    "a = int(input())\n",
    "apple =[]\n",
    "for i in range(a):\n",
    "    x,y = map(int,input().split())\n",
    "    apple.append([x,y])\n",
    "m = int(input())\n",
    "turn = []\n",
    "for i in range(m):\n",
    "    t,d = input().split()\n",
    "    turn.append([int(t),d])\n",
    "\n",
    "dx = [0,1,0,-1]\n",
    "dy = [1,0,-1,0]\n",
    "snake = [[1,1]]\n",
    "direction = 0 \n",
    "t = 0\n",
    "snake = deque(snake)\n",
    "while True:\n",
    "    print(snake)\n",
    "    nx = snake[-1][0] + dx[direction%4]\n",
    "    ny = snake[-1][1] + dy[direction%4]\n",
    "    if nx<1 or nx>n or ny<1 or ny>n or [nx,ny] in snake:\n",
    "        print(t+1)\n",
    "        break\n",
    "\n",
    "    if [nx,ny] in apple:\n",
    "        snake.append([nx,ny])\n",
    "        t += 1\n",
    "    else:\n",
    "        snake.append([nx,ny])\n",
    "        snake.popleft()\n",
    "        t += 1\n",
    "    \n",
    "    for s in turn:\n",
    "        if s[0] == t and s[1] == 'D':\n",
    "            direction += 1\n",
    "        elif s[0] == t and s[1] == 'L':\n",
    "            direction -= 1"
   ]
  },
  {
   "cell_type": "markdown",
   "metadata": {},
   "source": [
    "## 기둥과 보 설치\n",
    "<div class=\"main-section tab-content\">\n",
    "  <div class=\"guide-section\">\n",
    "    <div class=\"tab-pane fade active show\" id=\"tour2\">\n",
    "      <div class=\"guide-section-description\">\n",
    "        <h6 class=\"guide-section-title\">문제 설명</h6>\n",
    "        <div class=\"markdown solarized-dark\"><p>빙하가 깨지면서 스노우타운에 떠내려 온 <strong>\"죠르디\"</strong>는 인생 2막을 위해 주택 건축사업에 뛰어들기로 결심하였습니다. \"죠르디\"는 <strong>기둥과 보</strong>를 이용하여 벽면 구조물을 자동으로 세우는 로봇을 개발할 계획인데, 그에 앞서 로봇의 동작을 시뮬레이션 할 수 있는 프로그램을 만들고 있습니다.<br>\n",
    "프로그램은 <strong>2차원 가상 벽면</strong>에 기둥과 보를 이용한 구조물을 설치할 수 있는데, 기둥과 보는 <strong>길이가 1인 선분</strong>으로 표현되며 다음과 같은 규칙을 가지고 있습니다.</p>\n",
    "\n",
    "<ul>\n",
    "<li>기둥은 바닥 위에 있거나 보의 한쪽 끝 부분 위에 있거나, 또는 다른 기둥 위에 있어야 합니다.</li>\n",
    "<li>보는 한쪽 끝 부분이 기둥 위에 있거나, 또는 양쪽 끝 부분이 다른 보와 동시에 연결되어 있어야 합니다.</li>\n",
    "</ul>\n",
    "\n",
    "<p>단, 바닥은 벽면의 맨 아래 지면을 말합니다.</p>\n",
    "\n",
    "<p>2차원 벽면은 <strong><code>n x n</code></strong> 크기 정사각 격자 형태이며, 각 격자는 <strong><code>1 x 1</code></strong> 크기입니다. 맨 처음 벽면은 비어있는 상태입니다. 기둥과 보는 격자선의 교차점에 걸치지 않고, 격자 칸의 각 변에 정확히 일치하도록 설치할 수 있습니다. 다음은 기둥과 보를 설치해 구조물을 만든 예시입니다.</p>\n",
    "\n",
    "<p><img src=\"https://grepp-programmers.s3.amazonaws.com/files/production/c453630fa0/834b86e5-6fd0-4d3c-8023-7f853ea4301f.jpg\" title=\"\" alt=\"기둥과보-1.jpg\"></p>\n",
    "\n",
    "<p>예를 들어, 위 그림은 다음 순서에 따라 구조물을 만들었습니다.</p>\n",
    "\n",
    "<ol>\n",
    "<li>(1, 0)에서 위쪽으로 기둥을 하나 설치 후, (1, 1)에서 오른쪽으로 보를 하나 만듭니다.</li>\n",
    "<li>(2, 1)에서 위쪽으로 기둥을 하나 설치 후, (2, 2)에서 오른쪽으로 보를 하나 만듭니다.</li>\n",
    "<li>(5, 0)에서 위쪽으로 기둥을 하나 설치 후, (5, 1)에서 위쪽으로 기둥을 하나 더 설치합니다.</li>\n",
    "<li>(4, 2)에서 오른쪽으로 보를 설치 후, (3, 2)에서 오른쪽으로 보를 설치합니다.</li>\n",
    "</ol>\n",
    "\n",
    "<p>만약 (4, 2)에서 오른쪽으로 보를 먼저 설치하지 않고, (3, 2)에서 오른쪽으로 보를 설치하려 한다면 2번 규칙에 맞지 않으므로 설치가 되지 않습니다. 기둥과 보를 삭제하는 기능도 있는데 기둥과 보를 삭제한 후에 남은 기둥과 보들 또한 위 규칙을 만족해야 합니다. 만약, 작업을 수행한 결과가 조건을 만족하지 않는다면 해당 작업은 무시됩니다.</p>\n",
    "\n",
    "<p>벽면의 크기 n, 기둥과 보를 설치하거나 삭제하는 작업이 순서대로 담긴 2차원 배열 build_frame이 매개변수로 주어질 때, 모든 명령어를 수행한 후 구조물의 상태를 return 하도록 solution 함수를 완성해주세요.</p>\n",
    "\n",
    "<h3>제한사항</h3>\n",
    "\n",
    "<ul>\n",
    "<li>n은 5 이상 100 이하인 자연수입니다.</li>\n",
    "<li>build_frame의 세로(행) 길이는 1 이상 1,000 이하입니다.</li>\n",
    "<li>build_frame의 가로(열) 길이는 4입니다.</li>\n",
    "<li>build_frame의 원소는 [x, y, a, b]형태입니다.\n",
    "\n",
    "<ul>\n",
    "<li>x, y는 기둥, 보를 설치 또는 삭제할 교차점의 좌표이며, [가로 좌표, 세로 좌표] 형태입니다.</li>\n",
    "<li>a는 설치 또는 삭제할 구조물의 종류를 나타내며, 0은 기둥, 1은 보를 나타냅니다.</li>\n",
    "<li>b는 구조물을 설치할 지, 혹은 삭제할 지를 나타내며 0은 삭제, 1은 설치를 나타냅니다.</li>\n",
    "<li>벽면을 벗어나게 기둥, 보를 설치하는 경우는 없습니다.</li>\n",
    "<li>바닥에 보를 설치 하는 경우는 없습니다.</li>\n",
    "</ul></li>\n",
    "<li>구조물은 교차점 좌표를 기준으로 보는 오른쪽, 기둥은 위쪽 방향으로 설치 또는 삭제합니다.</li>\n",
    "<li>구조물이 겹치도록 설치하는 경우와, 없는 구조물을 삭제하는 경우는 입력으로 주어지지 않습니다.</li>\n",
    "<li>최종 구조물의 상태는 아래 규칙에 맞춰 return 해주세요.\n",
    "\n",
    "<ul>\n",
    "<li>return 하는 배열은 가로(열) 길이가 3인 2차원 배열로, 각 구조물의 좌표를 담고있어야 합니다.</li>\n",
    "<li>return 하는 배열의 원소는 [x, y, a] 형식입니다.</li>\n",
    "<li>x, y는 기둥, 보의 교차점 좌표이며, [가로 좌표, 세로 좌표] 형태입니다.</li>\n",
    "<li>기둥, 보는 교차점 좌표를 기준으로 오른쪽, 또는 위쪽 방향으로 설치되어 있음을 나타냅니다.</li>\n",
    "<li>a는 구조물의 종류를 나타내며, 0은 기둥, 1은 보를 나타냅니다.</li>\n",
    "<li>return 하는 배열은 x좌표 기준으로 오름차순 정렬하며, x좌표가 같을 경우 y좌표 기준으로 오름차순 정렬해주세요.</li>\n",
    "<li>x, y좌표가 모두 같은 경우 기둥이 보보다 앞에 오면 됩니다.</li>\n",
    "</ul></li>\n",
    "</ul>\n",
    "\n",
    "<h3>입출력 예</h3>\n",
    "<table class=\"table\">\n",
    "        <thead><tr>\n",
    "<th>n</th>\n",
    "<th>build_frame</th>\n",
    "<th>result</th>\n",
    "</tr>\n",
    "</thead>\n",
    "        <tbody><tr>\n",
    "<td>5</td>\n",
    "<td>[[1,0,0,1],[1,1,1,1],[2,1,0,1],[2,2,1,1],[5,0,0,1],[5,1,0,1],[4,2,1,1],[3,2,1,1]]</td>\n",
    "<td>[[1,0,0],[1,1,1],[2,1,0],[2,2,1],[3,2,1],[4,2,1],[5,0,0],[5,1,0]]</td>\n",
    "</tr>\n",
    "<tr>\n",
    "<td>5</td>\n",
    "<td>[[0,0,0,1],[2,0,0,1],[4,0,0,1],[0,1,1,1],[1,1,1,1],[2,1,1,1],[3,1,1,1],[2,0,0,0],[1,1,1,0],[2,2,0,1]]</td>\n",
    "<td>[[0,0,0],[0,1,1],[1,1,1],[2,1,1],[3,1,1],[4,0,0]]</td>\n",
    "</tr>\n",
    "</tbody>\n",
    "      </table>\n",
    "<h3>입출력 예에 대한 설명</h3>\n",
    "\n",
    "<p><strong>입출력 예 #1</strong></p>\n",
    "\n",
    "<p>문제의 예시와 같습니다.</p>\n",
    "\n",
    "<p><strong>입출력 예 #2</strong></p>\n",
    "\n",
    "<p>여덟 번째 작업을 수행 후 아래와 같은 구조물 만들어집니다.</p>\n",
    "\n",
    "<p><img src=\"https://grepp-programmers.s3.amazonaws.com/files/production/e62b852aba/ff82828f-5d2c-43af-b734-2752a776a234.jpg\" title=\"\" alt=\"기둥과보-2.jpg\"></p>\n",
    "\n",
    "<p>아홉 번째 작업의 경우, (1, 1)에서 오른쪽에 있는 보를 삭제하면 (2, 1)에서 오른쪽에 있는 보는 조건을 만족하지 않으므로 무시됩니다.</p>\n",
    "\n",
    "<p>열 번째 작업의 경우, (2, 2)에서 위쪽 방향으로 기둥을 세울 경우 조건을 만족하지 않으므로 무시됩니다.</p>\n",
    "</div>\n",
    "      </div>\n",
    "    </div>"
   ]
  },
  {
   "cell_type": "code",
   "execution_count": null,
   "metadata": {},
   "outputs": [],
   "source": [
    "def possible(answer):\n",
    "    for x,y,s, in answer:\n",
    "        #기둥\n",
    "        if s == 0:\n",
    "            if y == 0 or [x-1,y,1] in answer or [x,y,1] in answer or [x,y-1,0] in answer:\n",
    "                continue\n",
    "            return False\n",
    "        #보\n",
    "        else:\n",
    "            if [x, y - 1, 0] in answer or [x + 1, y-1, 0] in answer or ([x+1,y,1] in answer and [x-1,y,1] in answer):\n",
    "                continue\n",
    "            return False\n",
    "    return True\n",
    "\n",
    "def solution(n, build_frame):\n",
    "    answer = []\n",
    "\n",
    "    for x,y,s,a in build_frame:\n",
    "        #설치 인경우 \n",
    "        if a ==1:\n",
    "            answer.append([x,y,s])\n",
    "            if not possible(answer):\n",
    "                answer.remove([x,y,s])\n",
    "        #제거인경우\n",
    "        else:\n",
    "            answer.remove([x,y,s])\n",
    "            if not possible(answer):\n",
    "                answer.append([x,y,s])\n",
    "\n",
    "    answer.sort()\n",
    "    return answer "
   ]
  },
  {
   "cell_type": "markdown",
   "metadata": {},
   "source": [
    "## 치킨배달\n",
    "- 크기가 N×N인 도시가 있다. 도시는 1×1크기의 칸으로 나누어져 있다. 도시의 각 칸은 빈 칸, 치킨집, 집 중 하나이다. 도시의 칸은 (r, c)와 같은 형태로 나타내고, r행 c열 또는 위에서부터 r번째 칸, 왼쪽에서부터 c번째 칸을 의미한다. r과 c는 1부터 시작한다.\n",
    "\n",
    "- 이 도시에 사는 사람들은 치킨을 매우 좋아한다. 따라서, 사람들은 \"치킨 거리\"라는 말을 주로 사용한다. 치킨 거리는 집과 가장 가까운 치킨집 사이의 거리이다. 즉, 치킨 거리는 집을 기준으로 정해지며, 각각의 집은 치킨 거리를 가지고 있다. 도시의 치킨 거리는 모든 집의 치킨 거리의 합이다.\n",
    "\n",
    "- 임의의 두 칸 (r1, c1)과 (r2, c2) 사이의 거리는 |r1-r2| + |c1-c2|로 구한다.\n",
    "\n",
    "- 예를 들어, 아래와 같은 지도를 갖는 도시를 살펴보자.\n",
    "\n",
    "   0 2 0 1 0   \n",
    "   1 0 1 0 0   \n",
    "   0 0 0 0 0  \n",
    "   0 0 0 1 1  \n",
    "   0 0 0 1 2\n",
    "\n",
    "  - 0은 빈 칸, 1은 집, 2는 치킨집이다.\n",
    "\n",
    "  - (2, 1)에 있는 집과 (1, 2)에 있는 치킨집과의 거리는 |2-1| + |1-2| = 2, (5, 5)에 있는 치킨집과의 거리는 |2-5| + |1-5| = 7이다. 따라서, (2, 1)에 있는 집의 치킨 거리는 2이다.\n",
    "\n",
    "  - (5, 4)에 있는 집과 (1, 2)에 있는 치킨집과의 거리는 |5-1| + |4-2| = 6, (5, 5)에 있는 치킨집과의 거리는 |5-5| + |4-5| = 1이다. 따라서, (5, 4)에 있는 집의 치킨 거리는 1이다.\n",
    "- 이 도시에 있는 치킨집은 모두 같은 프랜차이즈이다. 프렌차이즈 본사에서는 수익을 증가시키기 위해 일부 치킨집을 폐업시키려고 한다. 오랜 연구 끝에 이 도시에서 가장 수익을 많이 낼 수 있는  치킨집의 개수는 최대 M개라는 사실을 알아내었다.\n",
    "- 도시에 있는 치킨집 중에서 최대 M개를 고르고, 나머지 치킨집은 모두 폐업시켜야 한다. 어떻게 고르면, 도시의 치킨 거리가 가장 작게 될지 구하는 프로그램을 작성하시오."
   ]
  },
  {
   "cell_type": "code",
   "execution_count": 304,
   "metadata": {},
   "outputs": [],
   "source": [
    "n,m = 5,3\n",
    "maps = [\n",
    "    [0, 0, 1, 0, 0],\n",
    "    [0, 0, 2, 0, 1],\n",
    "    [0, 1, 2, 0, 0],\n",
    "    [0, 0, 1, 0, 0],\n",
    "    [0, 0, 0, 0, 2]]\n",
    "\n"
   ]
  },
  {
   "cell_type": "code",
   "execution_count": 317,
   "metadata": {},
   "outputs": [
    {
     "name": "stdout",
     "output_type": "stream",
     "text": [
      "5\n"
     ]
    }
   ],
   "source": [
    "from itertools import combinations \n",
    "\n",
    "n,m = map(int,input().split())\n",
    "home = []\n",
    "store = []\n",
    "for r in range(n):\n",
    "    data = list(map(int, input().split()))\n",
    "    for c in range(n):\n",
    "        if data[c] == 1:\n",
    "            home.append((r, c)) # 일반 집\n",
    "        elif data[c] == 2:\n",
    "            store.append((r, c)) # 치킨집\n",
    "\n",
    "result = [] \n",
    "for k in combinations(store,m):\n",
    "    distance = [9999]*len(home)\n",
    "    for chi in k:\n",
    "        for idx,h in enumerate(home):\n",
    "            dist = abs(h[0]-chi[0])+abs(h[1]-chi[1])\n",
    "            distance[idx] = min(distance[idx],dist)\n",
    "        result.append(sum(distance))\n",
    "print(min(result))"
   ]
  },
  {
   "cell_type": "code",
   "execution_count": 314,
   "metadata": {},
   "outputs": [
    {
     "data": {
      "text/plain": [
       "[7, 5, 5]"
      ]
     },
     "execution_count": 314,
     "metadata": {},
     "output_type": "execute_result"
    }
   ],
   "source": [
    "from itertools import combinations\n",
    "\n",
    "n, m = map(int, input().split())\n",
    "chicken, house = [], []\n",
    "\n",
    "for r in range(n):\n",
    "    data = list(map(int, input().split()))\n",
    "    for c in range(n):\n",
    "        if data[c] == 1:\n",
    "            house.append((r, c)) # 일반 집\n",
    "        elif data[c] == 2:\n",
    "            chicken.append((r, c)) # 치킨집\n",
    "\n",
    "# 모든 치킨 집 중에서 m개의 치킨 집을 뽑는 조합 계산\n",
    "candidates = list(combinations(chicken, m))\n",
    "\n",
    "# 치킨 거리의 합을 계산하는 함수\n",
    "def get_sum(candidate):\n",
    "    result = 0\n",
    "    # 모든 집에 대하여\n",
    "    for hx, hy in house:\n",
    "        # 가장 가까운 치킨 집을 찾기\n",
    "        temp = 1e9\n",
    "        for cx, cy in candidate:\n",
    "            temp = min(temp, abs(hx - cx) + abs(hy - cy))\n",
    "        # 가장 가까운 치킨 집까지의 거리를 더하기\n",
    "        result += temp\n",
    "    # 치킨 거리의 합 반환\n",
    "    return result\n",
    "\n",
    "# 치킨 거리의 합의 최소를 찾아 출력\n",
    "result = 1e9\n",
    "for candidate in candidates:\n",
    "    result = min(result, get_sum(candidate))\n",
    "\n",
    "print(result)"
   ]
  },
  {
   "cell_type": "markdown",
   "metadata": {},
   "source": [
    "## 외벽 점검\n",
    "<div class=\"main-section tab-content\">\n",
    "  <div class=\"guide-section\">\n",
    "    <div class=\"tab-pane fade active show\" id=\"tour2\">\n",
    "      <div class=\"guide-section-description\">\n",
    "        <h6 class=\"guide-section-title\">문제 설명</h6>\n",
    "        <div class=\"markdown solarized-dark\"><p>레스토랑을 운영하고 있는 <strong>\"스카피\"</strong>는 레스토랑 내부가 너무 낡아 친구들과 함께 직접 리모델링 하기로 했습니다. 레스토랑이 있는 곳은 스노우타운으로 매우 추운 지역이어서 내부 공사를 하는 도중에 주기적으로 외벽의 상태를 점검해야 할 필요가 있습니다.</p>\n",
    "\n",
    "<p>레스토랑의 구조는 <strong>완전히 동그란 모양</strong>이고 <strong>외벽의 총 둘레는 n미터</strong>이며, 외벽의 몇몇 지점은 추위가 심할 경우 손상될  수도 있는 <strong>취약한 지점들</strong>이 있습니다. 따라서 내부 공사 도중에도 외벽의 취약 지점들이 손상되지 않았는 지, 주기적으로 친구들을 보내서 점검을 하기로 했습니다. 다만, 빠른 공사 진행을 위해 점검 시간을 1시간으로 제한했습니다. 친구들이 1시간 동안 이동할 수 있는 거리는 제각각이기 때문에, 최소한의 친구들을 투입해 취약 지점을 점검하고 나머지 친구들은 내부 공사를 돕도록 하려고 합니다. 편의 상 레스토랑의 정북 방향 지점을 0으로 나타내며, 취약 지점의 위치는 정북 방향 지점으로부터 시계 방향으로 떨어진 거리로 나타냅니다. 또, 친구들은 출발 지점부터 시계, 혹은 반시계 방향으로 외벽을 따라서만 이동합니다.</p>\n",
    "\n",
    "<p>외벽의 길이 n, 취약 지점의 위치가 담긴 배열 weak, 각 친구가 1시간 동안 이동할 수 있는 거리가 담긴 배열 dist가 매개변수로 주어질 때, 취약 지점을 점검하기 위해 보내야 하는 친구 수의 최소값을 return 하도록 solution 함수를 완성해주세요.</p>\n",
    "\n",
    "<h3>제한사항</h3>\n",
    "\n",
    "<ul>\n",
    "<li>n은 1 이상 200 이하인 자연수입니다.</li>\n",
    "<li>weak의 길이는 1 이상 15 이하입니다.\n",
    "\n",
    "<ul>\n",
    "<li>서로 다른 두 취약점의 위치가 같은 경우는 주어지지 않습니다.</li>\n",
    "<li>취약 지점의 위치는 오름차순으로 정렬되어 주어집니다.</li>\n",
    "<li>weak의 원소는 0 이상 n - 1 이하인 정수입니다.</li>\n",
    "</ul></li>\n",
    "<li>dist의 길이는 1 이상 8 이하입니다.\n",
    "\n",
    "<ul>\n",
    "<li>dist의 원소는 1 이상 100 이하인 자연수입니다.</li>\n",
    "</ul></li>\n",
    "<li>친구들을 모두 투입해도 취약 지점을 전부 점검할 수 없는 경우에는 -1을 return 해주세요.</li>\n",
    "</ul>\n",
    "\n",
    "<hr>\n",
    "\n",
    "<h3>입출력 예</h3>\n",
    "<table class=\"table\">\n",
    "        <thead><tr>\n",
    "<th>n</th>\n",
    "<th>weak</th>\n",
    "<th>dist</th>\n",
    "<th>result</th>\n",
    "</tr>\n",
    "</thead>\n",
    "        <tbody><tr>\n",
    "<td>12</td>\n",
    "<td>[1, 5, 6, 10]</td>\n",
    "<td>[1, 2, 3, 4]</td>\n",
    "<td>2</td>\n",
    "</tr>\n",
    "<tr>\n",
    "<td>12</td>\n",
    "<td>[1, 3, 4, 9, 10]</td>\n",
    "<td>[3, 5, 7]</td>\n",
    "<td>1</td>\n",
    "</tr>\n",
    "</tbody>\n",
    "      </table>\n",
    "<h3>입출력 예에 대한 설명</h3>\n",
    "\n",
    "<p><strong>입출력 예 #1</strong></p>\n",
    "\n",
    "<p>원형 레스토랑에서 외벽의 취약 지점의 위치는 다음과 같습니다.</p>\n",
    "\n",
    "<p><img src=\"https://grepp-programmers.s3.amazonaws.com/files/production/61de504978/1c8394ec-05e0-4b7b-a0ff-3ff9ae0cec28.jpg\" title=\"\" alt=\"외벽점검-1.jpg\" width=\"800\" height=\"800\"/></p>\n",
    "\n",
    "<p>친구들을 투입하는 예시 중 하나는 다음과 같습니다.</p>\n",
    "\n",
    "<ul>\n",
    "<li>4m를 이동할 수 있는 친구는 10m 지점에서 출발해 시계방향으로 돌아 1m 위치에 있는 취약 지점에서 외벽 점검을 마칩니다.</li>\n",
    "<li>2m를 이동할 수 있는 친구는 4.5m 지점에서 출발해 6.5m 지점에서 외벽 점검을 마칩니다.</li>\n",
    "</ul>\n",
    "\n",
    "<p>그 외에 여러 방법들이 있지만, 두 명보다 적은  친구를 투입하는 방법은 없습니다. 따라서 친구를 최소 두 명 투입해야 합니다.</p>\n",
    "\n",
    "<p><strong>입출력 예 #2</strong></p>\n",
    "\n",
    "<p>원형 레스토랑에서 외벽의 취약 지점의 위치는 다음과 같습니다.</p>\n",
    "\n",
    "<p><img src=\"https://grepp-programmers.s3.amazonaws.com/files/production/3669c9b3d6/00e8eeb4-f3ec-4c18-96fb-a3b17aaf1812.jpg\" title=\"\" alt=\"외벽점검-2.jpg\"width=\"800\" height=\"800\"/></p>\n",
    "\n",
    "<p>7m를 이동할 수 있는 친구가 4m 지점에서 출발해 반시계 방향으로 점검을 돌면 모든 취약 지점을 점검할 수 있습니다. 따라서 친구를 최소 한 명 투입하면 됩니다.</p>\n",
    "</div>\n",
    "      </div>\n",
    "    </div>"
   ]
  },
  {
   "cell_type": "code",
   "execution_count": 335,
   "metadata": {},
   "outputs": [
    {
     "name": "stdout",
     "output_type": "stream",
     "text": [
      "5 0\n",
      "9 ---\n",
      "12 ---\n",
      "end 3\n",
      "9 1\n",
      "13 ---\n",
      "end 2\n",
      "10 2\n",
      "16 ---\n",
      "19 ---\n",
      "end 3\n",
      "14 3\n",
      "20 ---\n",
      "end 2\n"
     ]
    },
    {
     "data": {
      "text/plain": [
       "2"
      ]
     },
     "execution_count": 335,
     "metadata": {},
     "output_type": "execute_result"
    }
   ],
   "source": [
    "n = 12 \n",
    "weak = [1,5,6,10]\n",
    "dist = [1,2,3,4]\n",
    "\n",
    "dist.sort(reverse = True)\n",
    "l = len(weak)\n",
    "for i in range(l):\n",
    "    weak.append(weak[i]+n)\n",
    "answer = len(dist) + 1\n",
    "for start in range(l):\n",
    "    count = 1\n",
    "    position = weak[start] + dist[count-1]\n",
    "    print(position, start)\n",
    "    for index in range(start,start+l): # 3,7\n",
    "        if position < weak[index]:\n",
    "            count +=1\n",
    "            if count > len(dist):\n",
    "                break\n",
    "            position = weak[index] + dist[count-1]\n",
    "    answer = min(answer,count)\n",
    "if answer > len(dist):\n",
    "    answer = -1  \n",
    "answer"
   ]
  },
  {
   "cell_type": "code",
   "execution_count": 329,
   "metadata": {},
   "outputs": [
    {
     "data": {
      "text/plain": [
       "[1, 5, 6, 10, 13, 17, 18, 22]"
      ]
     },
     "execution_count": 329,
     "metadata": {},
     "output_type": "execute_result"
    }
   ],
   "source": [
    "def solution(n, weak, dist):\n",
    "    dist.sort(reverse = True)\n",
    "    answer = len(dist)+1\n",
    "    length = len(weak)\n",
    "    \n",
    "    for i in range(length):\n",
    "        weak.append(weak[i]+n)\n",
    "        \n",
    "    for start in range(length):\n",
    "        count = 1\n",
    "        position = weak[start] + dist[count-1]\n",
    "        for idx in range(start,start+length):\n",
    "            if position < weak[idx]:\n",
    "                count+=1\n",
    "                if count>len(dist):\n",
    "                    break\n",
    "                position = weak[idx]+dist[count-1]\n",
    "        answer = min(answer,count)\n",
    "    if answer > len(dist):\n",
    "        return -1\n",
    "    return answer \n"
   ]
  },
  {
   "cell_type": "code",
   "execution_count": null,
   "metadata": {},
   "outputs": [],
   "source": [
    "from itertools import permutations\n",
    "\n",
    "def solution(n, weak, dist):\n",
    "    dist.sort(reverse =True)\n",
    "    length = len(weak)\n",
    "    for i in range(length):\n",
    "        weak.append(weak[i] + n)\n",
    "    answer = len(dist) + 1 \n",
    "    for start in range(length):\n",
    "        count = 1 \n",
    "        position = weak[start] + dist[count - 1]\n",
    "        for index in range(start, start + length):\n",
    "            if position < weak[index]:\n",
    "                count += 1 \n",
    "                if count > len(dist):\n",
    "                    break\n",
    "                position = weak[index] + dist[count - 1]\n",
    "                answer = min(answer, count)\n",
    "    if answer > len(dist):\n",
    "        return -1\n",
    "    return answer"
   ]
  }
 ],
 "metadata": {
  "kernelspec": {
   "display_name": "base",
   "language": "python",
   "name": "python3"
  },
  "language_info": {
   "codemirror_mode": {
    "name": "ipython",
    "version": 3
   },
   "file_extension": ".py",
   "mimetype": "text/x-python",
   "name": "python",
   "nbconvert_exporter": "python",
   "pygments_lexer": "ipython3",
   "version": "3.10.9"
  }
 },
 "nbformat": 4,
 "nbformat_minor": 2
}
