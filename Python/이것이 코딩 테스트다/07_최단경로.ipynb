{
 "cells": [
  {
   "cell_type": "markdown",
   "metadata": {},
   "source": [
    "# 최단경로\n",
    "## 연습문제\n",
    "### 다익스트라 알고리즘"
   ]
  },
  {
   "cell_type": "code",
   "execution_count": 1,
   "metadata": {},
   "outputs": [
    {
     "ename": "TypeError",
     "evalue": "list.append() takes exactly one argument (2 given)",
     "output_type": "error",
     "traceback": [
      "\u001b[0;31m---------------------------------------------------------------------------\u001b[0m",
      "\u001b[0;31mTypeError\u001b[0m                                 Traceback (most recent call last)",
      "Cell \u001b[0;32mIn[1], line 11\u001b[0m\n\u001b[1;32m      9\u001b[0m \u001b[38;5;28;01mfor\u001b[39;00m _ \u001b[38;5;129;01min\u001b[39;00m \u001b[38;5;28mrange\u001b[39m(m):\n\u001b[1;32m     10\u001b[0m     a, b, c \u001b[38;5;241m=\u001b[39m \u001b[38;5;28mmap\u001b[39m(\u001b[38;5;28mint\u001b[39m, \u001b[38;5;28minput\u001b[39m()\u001b[38;5;241m.\u001b[39msplit())\n\u001b[0;32m---> 11\u001b[0m     \u001b[43mgraph\u001b[49m\u001b[43m[\u001b[49m\u001b[43ma\u001b[49m\u001b[43m]\u001b[49m\u001b[38;5;241;43m.\u001b[39;49m\u001b[43mappend\u001b[49m\u001b[43m(\u001b[49m\u001b[43mb\u001b[49m\u001b[43m,\u001b[49m\u001b[43mc\u001b[49m\u001b[43m)\u001b[49m\n\u001b[1;32m     13\u001b[0m \u001b[38;5;28;01mdef\u001b[39;00m \u001b[38;5;21mget_smallest_node\u001b[39m():\n\u001b[1;32m     14\u001b[0m     min_value \u001b[38;5;241m=\u001b[39m inf\n",
      "\u001b[0;31mTypeError\u001b[0m: list.append() takes exactly one argument (2 given)"
     ]
    }
   ],
   "source": [
    "\n",
    "inf = int(1e9)\n",
    "\n",
    "n,m = map(int,input().split())\n",
    "start = int(input())\n",
    "graph = [[] for i in range(n+1)]\n",
    "visited = [False] * (n+1)   \n",
    "distance = [inf] * (n+1)\n",
    "\n",
    "for _ in range(m):\n",
    "    a, b, c = map(int, input().split())\n",
    "    graph[a].append((b,c))\n",
    "\n",
    "def get_smallest_node():\n",
    "    min_value = inf\n",
    "    index = 0 \n",
    "    for i in range(1, n+1):\n",
    "        if distance[i] < min_value and not visited[i]:\n",
    "            min_value = distance[i]\n",
    "            index = i \n",
    "    return index\n",
    "\n",
    "def dijkstra(start):\n",
    "    distance[start] = 0\n",
    "    visited[start] = True\n",
    "    for j in graph[start]:\n",
    "        distance[j[0]] = j[1]\n",
    "    for i in range(n-1):\n",
    "        now = get_smallest_node\n",
    "        visited[now] = True\n",
    "        for j in graph[now]:\n",
    "            cost = distance[now] + j[1]\n",
    "            if cost < distance[j[0]]:\n",
    "                distance[j[0]] = cost\n",
    "\n",
    "dijkstra(start)\n",
    "\n",
    "for i in range(1,n+1):\n",
    "    if distance[i] == inf:\n",
    "        print('inf')\n",
    "    else :\n",
    "        print(distance[i])"
   ]
  },
  {
   "cell_type": "code",
   "execution_count": 22,
   "metadata": {},
   "outputs": [
    {
     "data": {
      "text/plain": [
       "[0, 2, 3, 1, 2, 4]"
      ]
     },
     "execution_count": 22,
     "metadata": {},
     "output_type": "execute_result"
    }
   ],
   "source": [
    "import heapq as hq\n",
    "\n",
    "n, m = 6, 11\n",
    "start = 1\n",
    "route =[[1,2,2],[1,3,5],[1,4,1],[2,3,3],[2,4,2],[3,2,3],[3,6,5],[4,3,3],[4,5,1],[5,3,1],[5,6,2]]\n",
    "\n",
    "inf = int(1e9)\n",
    "graph = [[] for _ in range(n+1)]\n",
    "distance = [inf]*(n+1)\n",
    "\n",
    "for i in route:\n",
    "    graph[i[0]].append((i[1],i[2]))\n",
    "\n",
    "q = []\n",
    "hq.heappush(q,(0,start))\n",
    "distance[start] = 0 \n",
    "graph\n",
    "while q:\n",
    "    dist, now = hq.heappop(q)\n",
    "    if distance[now] < dist:\n",
    "        continue\n",
    "    for i in graph[now]:\n",
    "        cost = dist + i[1]\n",
    "        if cost < distance[i[0]]:\n",
    "            distance[i[0]] = cost\n",
    "            hq.heappush(q, (cost,i[0]))\n",
    "\n",
    "distance[1:]"
   ]
  },
  {
   "cell_type": "markdown",
   "metadata": {},
   "source": [
    "### 플로이드 워셜 알고리즘"
   ]
  },
  {
   "cell_type": "code",
   "execution_count": 29,
   "metadata": {},
   "outputs": [
    {
     "data": {
      "text/plain": [
       "[[1000000000, 0, 4, 8, 6],\n",
       " [1000000000, 3, 0, 7, 9],\n",
       " [1000000000, 5, 9, 0, 4],\n",
       " [1000000000, 7, 11, 2, 0]]"
      ]
     },
     "execution_count": 29,
     "metadata": {},
     "output_type": "execute_result"
    }
   ],
   "source": [
    "n = 4\n",
    "m = 7\n",
    "route = [[1,2,4],[1,4,6],[2,1,3],[2,3,7],[3,1,5],[3,4,4],[4,3,2]]\n",
    "\n",
    "inf = int(1e9)\n",
    "\n",
    "graph = [[inf]*(n+1)for _ in range(n+1)]\n",
    "\n",
    "for a in range(1,n+1):\n",
    "    for b in range(1,n+1):\n",
    "        if a == b :\n",
    "            graph[a][b] = 0 \n",
    "\n",
    "for a,b,c in route:\n",
    "    graph[a][b] = c\n",
    "\n",
    "for k in range(1,n+1):\n",
    "    for a in range(1,n+1):\n",
    "        for b in range(1,n+1):\n",
    "            graph[a][b] = min(graph[a][b],graph[a][k]+graph[k][b])\n",
    "\n",
    "graph[1:]"
   ]
  },
  {
   "cell_type": "markdown",
   "metadata": {},
   "source": [
    "## 실전문제\n",
    "### 미래도시\n",
    "- 풀이시간 40분\n",
    "- 소요시간 00분"
   ]
  },
  {
   "cell_type": "code",
   "execution_count": 38,
   "metadata": {},
   "outputs": [
    {
     "data": {
      "text/plain": [
       "3"
      ]
     },
     "execution_count": 38,
     "metadata": {},
     "output_type": "execute_result"
    }
   ],
   "source": [
    "n = 5\n",
    "m = 7\n",
    "start = 1\n",
    "co, so = 4,5\n",
    "route = [[1,2],[1,3],[1,4],[2,4],[3,4],[3,5],[4,5]]\n",
    "\n",
    "inf = int(1e9)\n",
    "distance = [[inf]*(n+1) for _ in range(n+1)]\n",
    "\n",
    "for x in range(n+1):\n",
    "    for y in range(n+1):\n",
    "        if x == y :\n",
    "            graph[x][y] = 0 \n",
    "\n",
    "for a,b in route:\n",
    "    graph[a][b] = 1 \n",
    "    graph[b][a] = 1 \n",
    "\n",
    "for k in range(1,n+1):\n",
    "    for a in range(1,n+1):\n",
    "        for b in range(1,n+1):\n",
    "            graph[a][b] = min(graph[a][b],graph[a][k]+graph[k][b])\n",
    "\n",
    "distance = graph[start][so]+graph[so][co]\n",
    "\n",
    "if distance >= inf:\n",
    "    distance = -1 \n",
    "\n",
    "distance"
   ]
  },
  {
   "cell_type": "markdown",
   "metadata": {},
   "source": [
    "### 전보\n",
    "- 풀이시간 60분\n",
    "- 소요시간 00분"
   ]
  },
  {
   "cell_type": "code",
   "execution_count": null,
   "metadata": {},
   "outputs": [],
   "source": [
    "import heapq as hq\n",
    "\n",
    "n, m = 6, 11\n",
    "start = 1\n",
    "route =[[1,2,2],[1,3,5],[1,4,1],[2,3,3],[2,4,2],[3,2,3],[3,6,5],[4,3,3],[4,5,1],[5,3,1],[5,6,2]]\n",
    "\n",
    "inf = int(1e9)\n",
    "graph = [[] for _ in range(n+1)]\n",
    "distance = [inf]*(n+1)\n",
    "\n",
    "for i in route:\n",
    "    graph[i[0]].append((i[1],i[2]))\n",
    "\n",
    "q = []\n",
    "hq.heappush(q,(0,start))\n",
    "distance[start] = 0 \n",
    "graph\n",
    "while q:\n",
    "    dist, now = hq.heappop(q)\n",
    "    if distance[now] < dist:\n",
    "        continue\n",
    "    for i in graph[now]:\n",
    "        cost = dist + i[1]\n",
    "        if cost < distance[i[0]]:\n",
    "            distance[i[0]] = cost\n",
    "            hq.heappush(q, (cost,i[0]))\n",
    "\n",
    "distance[1:]"
   ]
  },
  {
   "cell_type": "code",
   "execution_count": 48,
   "metadata": {},
   "outputs": [
    {
     "name": "stdout",
     "output_type": "stream",
     "text": [
      "[(0, 1)]\n",
      "0 1 ----\n",
      "2 3 ----\n",
      "4 2 ----\n"
     ]
    },
    {
     "data": {
      "text/plain": [
       "(2, 4)"
      ]
     },
     "execution_count": 48,
     "metadata": {},
     "output_type": "execute_result"
    }
   ],
   "source": [
    "n,m,c = 3,2,1\n",
    "route = [[1,2,4],[1,3,2]]\n",
    "\n",
    "import heapq as hq\n",
    "inf = int(1e9)\n",
    "distance = [inf] * (n+1)\n",
    "graph = [[] for _ in range(n+1)]\n",
    "\n",
    "for i,j,d in route:\n",
    "    graph[i].append((j,d))\n",
    "\n",
    "q = []\n",
    "hq.heappush(q,(0,c))\n",
    "distance[c] = 0 \n",
    "while q:\n",
    "    dist, now = hq.heappop(q)\n",
    "    if distance[now] < dist:\n",
    "        continue\n",
    "    for i in graph[now]:\n",
    "        cost = dist + i[1]\n",
    "        if cost < distance[i[0]]:\n",
    "            distance[i[0]] = cost\n",
    "            hq.heappush(q,(cost,i[0]))\n",
    "\n",
    "city = [k for k in distance if k>0 and k<9999]\n",
    "len(city),max(city)"
   ]
  },
  {
   "cell_type": "markdown",
   "metadata": {},
   "source": [
    "## 기출문제\n",
    "### 플로이드 \n",
    "- 풀이시간 40분\n",
    "- 소요시간 00분\n",
    "- https://www.acmicpc.net/problem/11404"
   ]
  },
  {
   "cell_type": "code",
   "execution_count": 50,
   "metadata": {},
   "outputs": [],
   "source": [
    "n = 5\n",
    "m = 14\n",
    "route = [\n",
    "    [1, 2, 2],\n",
    "    [1, 3, 3],\n",
    "    [1, 4, 1],\n",
    "    [1, 5, 10],\n",
    "    [2, 4, 2],\n",
    "    [3, 4, 1],\n",
    "    [3, 5, 1],\n",
    "    [4, 5, 3],\n",
    "    [3, 5, 10],\n",
    "    [3, 1, 8],\n",
    "    [1, 4, 2],\n",
    "    [5, 1, 7],\n",
    "    [3, 4, 2],\n",
    "    [5, 2, 4]]"
   ]
  },
  {
   "cell_type": "code",
   "execution_count": 73,
   "metadata": {},
   "outputs": [
    {
     "name": "stdout",
     "output_type": "stream",
     "text": [
      "[0, 2, 3, 1, 4]\n",
      "[12, 0, 15, 2, 5]\n",
      "[8, 5, 0, 1, 1]\n",
      "[10, 7, 13, 0, 3]\n",
      "[7, 4, 10, 6, 0]\n"
     ]
    }
   ],
   "source": [
    "#플로이드\n",
    "graph =[[inf]*(n+1) for _ in range(n+1)]\n",
    "\n",
    "for i in range(n+1):\n",
    "    graph[i][i] = 0 \n",
    "\n",
    "for x,y,c in route:\n",
    "    graph[x][y] = min(graph[x][y],c) \n",
    "\n",
    "for k in range(n+1):\n",
    "    for a in range(n+1):\n",
    "        for b in range(n+1):\n",
    "            graph[a][b] = min(graph[a][b],graph[a][k]+graph[k][b])\n",
    "for i in range(1,n+1):\n",
    "    print(graph[i][1:])"
   ]
  },
  {
   "cell_type": "markdown",
   "metadata": {},
   "source": [
    "### 정확한순위\n",
    "- 풀이시간 40분\n",
    "- 소요시간 00분"
   ]
  },
  {
   "cell_type": "code",
   "execution_count": 74,
   "metadata": {},
   "outputs": [],
   "source": [
    "n,m = 6,6\n",
    "route = [\n",
    "    [1,5],\n",
    "    [3,4],\n",
    "    [4,2],\n",
    "    [4,6],\n",
    "    [5,2],\n",
    "    [5,4]\n",
    "]"
   ]
  },
  {
   "cell_type": "code",
   "execution_count": 99,
   "metadata": {},
   "outputs": [
    {
     "data": {
      "text/plain": [
       "1"
      ]
     },
     "execution_count": 99,
     "metadata": {},
     "output_type": "execute_result"
    }
   ],
   "source": [
    "##플로이드\n",
    "inf = int(1e9)\n",
    "graph = [[inf]*n for _ in range(n)]\n",
    "for i in range(n):\n",
    "    graph[i][i] = 0 \n",
    "for i,j in route:\n",
    "    graph[i-1][j-1] = 1\n",
    "\n",
    "for k in range(n):\n",
    "    for a in range(n):\n",
    "        for b in range(n):\n",
    "            graph[a][b] = min(graph[a][b], graph[a][k]+graph[k][b])\n",
    "answer = 0 \n",
    "for i in range(n):\n",
    "    count =0 \n",
    "    for j in range(n):\n",
    "        if graph[i][j] != inf or graph[j][i] != inf:\n",
    "            count +=1 \n",
    "    if count == n:\n",
    "        answer +=1\n",
    "answer"
   ]
  },
  {
   "cell_type": "markdown",
   "metadata": {},
   "source": [
    "### 화성탐사\n",
    "- 풀이시간 40분\n",
    "- 소요시간 00분"
   ]
  },
  {
   "cell_type": "code",
   "execution_count": 121,
   "metadata": {},
   "outputs": [
    {
     "data": {
      "text/plain": [
       "[[5, 10, 14], [8, 17, 15], [11, 13, 20]]"
      ]
     },
     "execution_count": 121,
     "metadata": {},
     "output_type": "execute_result"
    }
   ],
   "source": [
    "n=3 \n",
    "maps = [\n",
    "    [5,5,4],\n",
    "    [3,9,1],\n",
    "    [3,2,7]\n",
    "]\n",
    "\n",
    "from collections import deque\n",
    "graph = [[inf]*n for _ in range(n)]\n",
    "dx = [1,0,-1,0]\n",
    "dy = [0,-1,0,1]\n",
    "\n",
    "queue = deque()\n",
    "queue.append([0,0])\n",
    "graph[0][0] = maps[0][0]\n",
    "\n",
    "while queue:\n",
    "    x,y = queue.popleft()\n",
    "\n",
    "    if x == n-1 and y == n-1:\n",
    "        break\n",
    "\n",
    "    for i in range(4):\n",
    "        nx = x + dx[i]\n",
    "        ny = y + dy[i]\n",
    "\n",
    "        if nx >=n or nx< 0 or ny>=n or ny<0:\n",
    "            continue\n",
    "\n",
    "        else:\n",
    "            graph[nx][ny] = min(graph[nx][ny],graph[x][y] + maps[nx][ny])\n",
    "            queue.append([nx,ny])\n",
    "graph"
   ]
  },
  {
   "cell_type": "markdown",
   "metadata": {},
   "source": [
    "### 숨바꼭질\n",
    "- 풀이시간 40분\n",
    "- 소요시간 00분"
   ]
  },
  {
   "cell_type": "code",
   "execution_count": 146,
   "metadata": {},
   "outputs": [
    {
     "name": "stdout",
     "output_type": "stream",
     "text": [
      "4 2 3\n"
     ]
    }
   ],
   "source": [
    "n,m = 6,7\n",
    "route = [\n",
    "    [3,6],\n",
    "    [4,3],\n",
    "    [3,2],\n",
    "    [1,3],\n",
    "    [1,2],\n",
    "    [2,4],\n",
    "    [5,2]\n",
    "]\n",
    "\n",
    "import heapq as hq\n",
    "inf = int(1e9)\n",
    "distance = [inf]*(n+1)\n",
    "graph = [[] for _ in range(n+1)]\n",
    "\n",
    "for i,j in route:\n",
    "    graph[i].append((j,1))\n",
    "    graph[j].append((i,1))\n",
    "\n",
    "q = []\n",
    "start = 1 \n",
    "distance[start] = 0 \n",
    "hq.heappush(q,(0,start))\n",
    "\n",
    "while q:\n",
    "    dist, now = hq.heappop(q)\n",
    "    if dist > distance[now]:\n",
    "        continue\n",
    "    \n",
    "    for i in graph[now]:\n",
    "        cost = dist + i[1]\n",
    "        if cost < distance[i[0]]:\n",
    "            distance[i[0]] = cost \n",
    "            hq.heappush(q,(cost,i[0]))\n",
    "distance = distance[1:]\n",
    "\n",
    "\n",
    "length = max(distance)\n",
    "idx = distance.index(length)+1\n",
    "count =distance.count(length)\n",
    "\n",
    "print(idx,length,count)"
   ]
  },
  {
   "cell_type": "code",
   "execution_count": 134,
   "metadata": {},
   "outputs": [
    {
     "data": {
      "text/plain": [
       "[[], [(3, 1), (2, 1)], [(4, 1)], [(6, 1), (2, 1)], [(3, 1)], [(2, 1)], []]"
      ]
     },
     "execution_count": 134,
     "metadata": {},
     "output_type": "execute_result"
    }
   ],
   "source": [
    "graph"
   ]
  },
  {
   "cell_type": "code",
   "execution_count": null,
   "metadata": {},
   "outputs": [],
   "source": [
    "q = []\n",
    "hq.heappush(q,(0,c))\n",
    "distance[c] = 0 \n",
    "while q:\n",
    "    dist, now = hq.heappop(q)\n",
    "    if distance[now] < dist:\n",
    "        continue\n",
    "    for i in graph[now]:\n",
    "        cost = dist + i[1]\n",
    "        if cost < distance[i[0]]:\n",
    "            distance[i[0]] = cost\n",
    "            hq.heappush(q,(cost,i[0]))"
   ]
  }
 ],
 "metadata": {
  "kernelspec": {
   "display_name": "base",
   "language": "python",
   "name": "python3"
  },
  "language_info": {
   "codemirror_mode": {
    "name": "ipython",
    "version": 3
   },
   "file_extension": ".py",
   "mimetype": "text/x-python",
   "name": "python",
   "nbconvert_exporter": "python",
   "pygments_lexer": "ipython3",
   "version": "3.1.0"
  }
 },
 "nbformat": 4,
 "nbformat_minor": 2
}
