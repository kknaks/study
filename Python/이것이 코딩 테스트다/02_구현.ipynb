{
 "cells": [
  {
   "cell_type": "code",
   "execution_count": 61,
   "metadata": {},
   "outputs": [],
   "source": [
    "import time\n"
   ]
  },
  {
   "cell_type": "markdown",
   "metadata": {},
   "source": [
    "# chapter4. 구현 \n",
    "- 알고리즘 설계를 직접 코드로 구현은 피지컬 싸움\n",
    "- 구현은 완전탐색이나 시뮬레이션 문제\n",
    "- 제한사항이 많을 수록 까다로움"
   ]
  },
  {
   "cell_type": "markdown",
   "metadata": {},
   "source": [
    "# 예제문제\n",
    "## 예제 4-1\n",
    "- 제한시간 15분 / 걸린시간 20분"
   ]
  },
  {
   "cell_type": "code",
   "execution_count": 63,
   "metadata": {},
   "outputs": [],
   "source": [
    "N = 5 \n",
    "route = ['R','R','R','U','D','D']\n",
    "\n",
    "def solution(N,route):\n",
    "    mp = {'R':[1,0],'L':[-1,0],'U':[0,-1],'D':[0,1]}\n",
    "    np = [0,0]\n",
    "    for i in route:\n",
    "        nx = np[0] + mp[i][0]\n",
    "        ny = np[1] + mp[i][1]\n",
    "        if nx >= 0 and nx <= N-1 and ny >=0 and ny <=N -1:\n",
    "            np[0] = nx\n",
    "            np[1] = ny\n",
    "        else :\n",
    "            pass\n",
    "    return print(np[1]+1 , np[0]+1)"
   ]
  },
  {
   "cell_type": "code",
   "execution_count": 68,
   "metadata": {},
   "outputs": [
    {
     "name": "stdout",
     "output_type": "stream",
     "text": [
      "3 4\n",
      "time : 7.081031799316406e-05\n"
     ]
    }
   ],
   "source": [
    "st = time.time()\n",
    "a = solution(N,route)\n",
    "et = time.time()\n",
    "a\n",
    "print(f\"time : {et-st}\")"
   ]
  },
  {
   "cell_type": "markdown",
   "metadata": {},
   "source": [
    "## 예제 4-2\n",
    "- 제한시간 15분/ 걸린시간 9분 30초\n"
   ]
  },
  {
   "cell_type": "code",
   "execution_count": 93,
   "metadata": {},
   "outputs": [],
   "source": [
    "N = 5 \n",
    "\n",
    "\n",
    "def solution(N):\n",
    "    count =0 \n",
    "    for h in range(0,N+1):\n",
    "        for m in range(0,60):\n",
    "            for s in range(0,60):\n",
    "                a = str(h)+str(m)+str(s)\n",
    "                if '3' in a:\n",
    "                    count+=1\n",
    "    return count "
   ]
  },
  {
   "cell_type": "code",
   "execution_count": 94,
   "metadata": {},
   "outputs": [
    {
     "name": "stdout",
     "output_type": "stream",
     "text": [
      "11475\n",
      "time : 0.011201143264770508\n"
     ]
    }
   ],
   "source": [
    "st = time.time()\n",
    "a = solution(5)\n",
    "et = time.time()\n",
    "print(a)\n",
    "print(f\"time : {et-st}\")"
   ]
  },
  {
   "cell_type": "markdown",
   "metadata": {},
   "source": [
    "# 실전문제\n",
    "## 왕실의 나이트\n",
    "- 제한시간 20분/ 시간제한 1초/ 메모리 128MB\n",
    "- 소요시간 27분"
   ]
  },
  {
   "cell_type": "code",
   "execution_count": 126,
   "metadata": {},
   "outputs": [],
   "source": [
    "P = 'a1'\n",
    "def solution(P):\n",
    "    x = [chr(k) for k in range(ord('a'),ord('i'))]\n",
    "    # x = ['a','b','c','d','e','f','g','h']\n",
    "    y = [str(j) for j in range(1,9)]\n",
    "    # y = ['1','2','3','4','5','6','7','8']\n",
    "\n",
    "    nx = x.index(P[0])\n",
    "    ny = y.index(P[1])\n",
    "    \n",
    "    total = []\n",
    "    moving = [[2,1],[2,-1],[-2,1],[-2,-1],[1,2],[1,-2],[-1,2],[-1,2]]\n",
    "    count =0\n",
    "    while count != 8:\n",
    "        dx = nx + moving[count][0]\n",
    "        dy = ny + moving[count][1]\n",
    "        count+=1\n",
    "\n",
    "        if dx>=0 and dx<=7 and dy>=0 and dy<=7: \n",
    "            total.append([dx,dy])\n",
    "    answer = len(total)\n",
    "    return answer"
   ]
  },
  {
   "cell_type": "code",
   "execution_count": 121,
   "metadata": {},
   "outputs": [],
   "source": [
    "#파이썬 ord & cha\n",
    "a = ord('a')\n",
    "## 97 반환\n",
    "b = chr(97)\n",
    "## a 반환\n",
    "\n",
    "a_to_z = [chr(k) for k in range(ord('a'),ord('{'))]\n"
   ]
  },
  {
   "cell_type": "code",
   "execution_count": 127,
   "metadata": {},
   "outputs": [
    {
     "name": "stdout",
     "output_type": "stream",
     "text": [
      "2\n",
      "time : 6.604194641113281e-05\n"
     ]
    }
   ],
   "source": [
    "st = time.time()\n",
    "a = solution(P)\n",
    "et = time.time()\n",
    "print(a)\n",
    "print(f\"time : {et-st}\")"
   ]
  },
  {
   "cell_type": "markdown",
   "metadata": {},
   "source": [
    "## 게임개발\n",
    "- 풀이시간 40분/ 시가제한 1초/ 메모리제한 128MB\n",
    "- 소요시간 00분(시간초과)\n",
    "- 재도전 필요"
   ]
  },
  {
   "cell_type": "code",
   "execution_count": 128,
   "metadata": {},
   "outputs": [
    {
     "data": {
      "text/plain": [
       "[[1, 1, 1, 1], [1, 0, 0, 1], [1, 1, 0, 1], [1, 1, 1, 1]]"
      ]
     },
     "execution_count": 128,
     "metadata": {},
     "output_type": "execute_result"
    }
   ],
   "source": [
    "[[1,1,1,1]\n",
    ",[1,0,0,1]\n",
    ",[1,1,0,1]\n",
    ",[1,1,1,1]]"
   ]
  },
  {
   "cell_type": "code",
   "execution_count": 14,
   "metadata": {},
   "outputs": [],
   "source": [
    "size =[4,4]\n",
    "character =[1,1,0]\n",
    "array = [[1,1,1,1],[1,0,0,1],[1,1,0,1],[1,1,1,1]]\n",
    "\n",
    "n, m = size\n",
    "d=[[0]*m for _ in range(n)]\n",
    "x,y,direction = character\n",
    "d[x][y] = 1 \n",
    "\n",
    "#북동남서 방향정의\n",
    "dx = [-1,0,1,0]\n",
    "dy = [0,1,0,-1]\n",
    "\n",
    "#왼쪽으로 회전\n",
    "def turn_left():\n",
    "    global direction\n",
    "    direction -=1\n",
    "    if direction == -1:\n",
    "        direction =3\n",
    "\n",
    "count = 1 \n",
    "turn_time =0\n",
    "while True:\n",
    "\n",
    "    turn_left()\n",
    "    nx = x + dx[direction]\n",
    "    ny = y + dy[direction]\n",
    "\n",
    "    if d[nx][ny] == 0 and array[nx][ny] == 0:\n",
    "        d[nx][ny] = 1\n",
    "        x = nx\n",
    "        y = ny\n",
    "        count +=1\n",
    "        turn_time = 0\n",
    "        continue\n",
    "\n",
    "    else:\n",
    "        turn_time +=1\n",
    "\n",
    "    if turn_time == 4:\n",
    "        nx = x - dx[direction]\n",
    "        ny = y - dx[direction]\n",
    "\n",
    "        if array[nx][ny]==0:\n",
    "            x = nx\n",
    "            y = ny\n",
    "\n",
    "        else:\n",
    "            break\n",
    "        turn_time = 0"
   ]
  },
  {
   "cell_type": "markdown",
   "metadata": {},
   "source": [
    "# 기출문제\n",
    "## 럭키 스트레이트\n",
    "- 제한시간 20분/시간제한 1분/ 메모리제한 256MB\n",
    "- 소요시간 10분"
   ]
  },
  {
   "cell_type": "code",
   "execution_count": 36,
   "metadata": {},
   "outputs": [
    {
     "data": {
      "text/plain": [
       "'LUCKY'"
      ]
     },
     "execution_count": 36,
     "metadata": {},
     "output_type": "execute_result"
    }
   ],
   "source": [
    "score = 123402\n",
    "\n",
    "def solution(score):\n",
    "    score_list = [int(k) for k in list(str(score))]\n",
    "    mid = len(score_list)//2\n",
    "    if sum(score_list[:mid]) == sum(score_list[mid:]):\n",
    "        answer = 'LUCKY'\n",
    "    else:\n",
    "        answer = 'READY'\n",
    "    return answer \n",
    "\n",
    "solution(score)\n"
   ]
  },
  {
   "cell_type": "markdown",
   "metadata": {},
   "source": [
    "### 다른풀이 (내생각)"
   ]
  },
  {
   "cell_type": "code",
   "execution_count": 80,
   "metadata": {},
   "outputs": [
    {
     "data": {
      "text/plain": [
       "'LUCKY'"
      ]
     },
     "execution_count": 80,
     "metadata": {},
     "output_type": "execute_result"
    }
   ],
   "source": [
    "score = 123402\n",
    "b = score\n",
    "n = 1\n",
    "num = []\n",
    "while b >=10**n:\n",
    "    a = score % 10\n",
    "    num.append(a)\n",
    "    score = (score - a) // 10\n",
    "    n += 1\n",
    "num.append(score)\n",
    "mid = len(num)//2\n",
    "if sum(num[:mid]) == sum(num[mid:]):\n",
    "    answer = 'LUCKY'\n",
    "else:\n",
    "    answer = 'READY'\n",
    "answer "
   ]
  },
  {
   "cell_type": "markdown",
   "metadata": {},
   "source": [
    "## 문자열 재정렬\n",
    "- 제한시간 20분/시간제한 1분/ 메모리제한 128MB\n",
    "- 소요시간 9분"
   ]
  },
  {
   "cell_type": "code",
   "execution_count": 104,
   "metadata": {},
   "outputs": [
    {
     "data": {
      "text/plain": [
       "'ABCKK13'"
      ]
     },
     "execution_count": 104,
     "metadata": {},
     "output_type": "execute_result"
    }
   ],
   "source": [
    "num_str = 'K1KA5CB7'\n",
    "\n",
    "def solution(num_str):\n",
    "    sl = []\n",
    "    nl = [] \n",
    "    for i in num_str:\n",
    "        dete = ord(i)\n",
    "        if dete >=65 and dete <= 90:\n",
    "            sl.append(i)\n",
    "        else:\n",
    "            nl.append(i)\n",
    "\n",
    "    sl.sort()\n",
    "    sl = ''.join(sl)\n",
    "\n",
    "    nl = str(sum([int(k) for k in nl]))\n",
    "    answer = sl + nl\n",
    "    return answer \n",
    "solution(num_str)"
   ]
  },
  {
   "cell_type": "markdown",
   "metadata": {},
   "source": [
    "### 다른풀이(해설)\n",
    "- for 문에서 숫자는 다 더하고 \n",
    "- 숫자가 없는 경우도 고려필요 \n",
    "- 마지막에 다같이 ''.join(리스트) --> '구분자'.join(리스트) : 리스트[0]구분자리스트[1]\n",
    "- 문자여부 확인 : isalpha(i)/ 숫자여부 확인 : isdigit(i)"
   ]
  },
  {
   "cell_type": "code",
   "execution_count": 105,
   "metadata": {},
   "outputs": [
    {
     "data": {
      "text/plain": [
       "'ABCKK13'"
      ]
     },
     "execution_count": 105,
     "metadata": {},
     "output_type": "execute_result"
    }
   ],
   "source": [
    "num_str = 'K1KA5CB7'\n",
    "\n",
    "def solution(num_str):\n",
    "    sl = []\n",
    "    value = 0 \n",
    "\n",
    "    for i in num_str:\n",
    "        if i.isalpha():\n",
    "            sl.append(i)\n",
    "        else:\n",
    "            value +=int(i)\n",
    "    \n",
    "    sl.sort()\n",
    "    \n",
    "    if value !=0:\n",
    "        sl.append(str(value))\n",
    "    \n",
    "    answer = ''.join(sl)\n",
    "    return answer \n",
    "solution(num_str)"
   ]
  },
  {
   "cell_type": "markdown",
   "metadata": {},
   "source": [
    "## 문자열 압축\n",
    "- 제한시간 30분/시간제한 1초/ 메모리제한 128MB\n",
    "- 소요시간 00분"
   ]
  },
  {
   "cell_type": "code",
   "execution_count": null,
   "metadata": {},
   "outputs": [],
   "source": [
    "s =\"aabbaccc\"\n",
    "def solution(s):\n",
    "    answer = 0\n",
    "    return answer"
   ]
  },
  {
   "cell_type": "code",
   "execution_count": 146,
   "metadata": {},
   "outputs": [
    {
     "data": {
      "text/plain": [
       "'c'"
      ]
     },
     "execution_count": 146,
     "metadata": {},
     "output_type": "execute_result"
    }
   ],
   "source": [
    "s = 'abc'\n",
    "s[2:3]"
   ]
  },
  {
   "cell_type": "markdown",
   "metadata": {},
   "source": [
    "## 자물쇠와 열쇠\n",
    "- 제한시간 40분/시간제한 1초/ 메모리제한 128MB\n",
    "- 소요시간 00분"
   ]
  },
  {
   "cell_type": "code",
   "execution_count": 314,
   "metadata": {},
   "outputs": [],
   "source": [
    "lock = [[1, 1, 1], [1, 1, 0], [1, 0, 1]]\n",
    "key = [[0, 0, 0], [1, 0, 0], [0, 1, 1]]"
   ]
  },
  {
   "cell_type": "code",
   "execution_count": 319,
   "metadata": {},
   "outputs": [
    {
     "name": "stdout",
     "output_type": "stream",
     "text": [
      "[1, 1, 1] 0 0\n",
      "[1, 1] 0 1\n",
      "[1] 0 2\n",
      "[1, 0] 1 1\n",
      "[0] 1 2\n",
      "[1] 2 2\n"
     ]
    }
   ],
   "source": [
    "for i in range(len(lock)):\n",
    "    for j in range(i,len(lock)):\n",
    "        print(lock[i][j:],i,j)"
   ]
  },
  {
   "cell_type": "markdown",
   "metadata": {},
   "source": [
    "## 뱀\n",
    "- 제한시간 40분/시간제한 1초/ 메모리제한 128MB\n",
    "- 소요시간 00분 17분"
   ]
  },
  {
   "cell_type": "code",
   "execution_count": 359,
   "metadata": {},
   "outputs": [
    {
     "name": "stdout",
     "output_type": "stream",
     "text": [
      "21\n"
     ]
    }
   ],
   "source": [
    "N = 10\n",
    "K = 4\n",
    "apple = [[1,2],[1,3],[1,4],[1,5]]\n",
    "L = 4\n",
    "turn = [[8,'D'],[10,'D'],[11,'D'],[13,'L']]\n",
    "\n",
    "\n",
    "head = [0,0]\n",
    "tail = [0,0]\n",
    "route = [head]\n",
    "t = 0 \n",
    "tt = [k[0] for k in turn]\n",
    "dx = [1,0,-1,0]\n",
    "dy = [0,1,0,-1]\n",
    "di = 0\n",
    "while True:\n",
    "    t +=1\n",
    "    head = [head[0]+dx[di%4],head[1]+dy[di%4]]\n",
    "    route.append(head)\n",
    "    if head in apple:\n",
    "        tail = route[0]\n",
    "    else:\n",
    "        route.pop(0)\n",
    "        tail = route[0]\n",
    "\n",
    "    # t초후 방향전환\n",
    "    if t in tt:\n",
    "       ch = turn.pop(0)\n",
    "       if ch[1] == \"D\":\n",
    "           di += 1\n",
    "       elif ch[1] == \"L\":\n",
    "           di += 3\n",
    "    #종료조건\n",
    "    if head[0]> N or head[0] < 0 or head[1]> N or head[0] <0 or head in route[:-1]:\n",
    "        break\n",
    "\n",
    "print(t)\n"
   ]
  },
  {
   "cell_type": "markdown",
   "metadata": {},
   "source": [
    "### 정답"
   ]
  },
  {
   "cell_type": "code",
   "execution_count": 5,
   "metadata": {},
   "outputs": [],
   "source": [
    "N = 10\n",
    "K = 4\n",
    "apple = [[1,2],[1,3],[1,4],[1,5]]\n",
    "L = 4\n",
    "turn = [[8,'D'],[10,'D'],[11,'D'],[13,'L']]"
   ]
  },
  {
   "cell_type": "code",
   "execution_count": 6,
   "metadata": {},
   "outputs": [
    {
     "name": "stdout",
     "output_type": "stream",
     "text": [
      "18\n"
     ]
    }
   ],
   "source": [
    "n = N\n",
    "k = K\n",
    "data = [[0] *(n+1) for _ in range(n+1)]\n",
    "info = []\n",
    "\n",
    "for i in apple:\n",
    "    a,b = map(int, i)\n",
    "    data[a][b]=1\n",
    "\n",
    "l = turn\n",
    "for j in turn:\n",
    "    x,c = j\n",
    "    info.append((x,c))\n",
    "\n",
    "dx = [0,1,0,-1]\n",
    "dy = [1,0,-1,0]\n",
    "\n",
    "def turn(direction,c):\n",
    "    if c == 'L':\n",
    "        direction = (direction-1)%4\n",
    "    else:\n",
    "        direction = (direction+1)%4\n",
    "    return direction\n",
    "\n",
    "def simulate():\n",
    "    x,y = 1,1\n",
    "    data[x][y] = 2\n",
    "    direction = 0\n",
    "    time = 0\n",
    "    index = 0\n",
    "    q = [(x,y)]\n",
    "    \n",
    "    while True:\n",
    "        nx = x + dx[direction]\n",
    "        ny = y + dy[direction]\n",
    "\n",
    "        if 1<=nx and nx<=n and 1<=ny and ny<=n and data[nx][ny] !=2:\n",
    "            if data[nx][ny] == 0:\n",
    "                data[nx][ny] = 2 \n",
    "                q.append((nx,ny))\n",
    "                px,py = q.pop(0)\n",
    "                data[px][py] = 0\n",
    "\n",
    "            if data[nx][ny] == 1:\n",
    "                data[nx][ny] = 2\n",
    "                q.append((nx,ny))\n",
    "        else:\n",
    "            time +=1\n",
    "            break\n",
    "\n",
    "        x,y, = nx,ny\n",
    "        time +=1\n",
    "        if index <1 and time ==info[index][0]:\n",
    "            direction = turn(direction, info[index][1])\n",
    "            index +=1\n",
    "    return time\n",
    "print(simulate())"
   ]
  },
  {
   "cell_type": "markdown",
   "metadata": {},
   "source": [
    "## 기둥과 보 설치\n",
    "- 제한시간 50분/시간제한 5초/ 메모리제한 128MB\n",
    "- 소요시간 00분"
   ]
  },
  {
   "cell_type": "code",
   "execution_count": 157,
   "metadata": {},
   "outputs": [
    {
     "name": "stdout",
     "output_type": "stream",
     "text": [
      "0 0 0 1\n",
      "2 0 0 1\n",
      "4 0 0 1\n",
      "0 1 1 1\n",
      "1 1 1 1\n",
      "2 1 1 1\n",
      "3 1 1 1\n",
      "2 0 0 0\n",
      "1 1 1 0\n",
      "2 2 0 1\n"
     ]
    },
    {
     "data": {
      "text/plain": [
       "[[0, 0, 0], [0, 1, 1], [1, 1, 1], [2, 1, 1], [3, 1, 1], [4, 0, 0]]"
      ]
     },
     "execution_count": 157,
     "metadata": {},
     "output_type": "execute_result"
    }
   ],
   "source": [
    "n = 5 \n",
    "build_frame = [[0,0,0,1],[2,0,0,1],[4,0,0,1],[0,1,1,1],[1,1,1,1],[2,1,1,1],[3,1,1,1],[2,0,0,0],[1,1,1,0],[2,2,0,1]]\n",
    "\n",
    "\n",
    "def possible(answer):\n",
    "    for x,y,s, in answer:\n",
    "        #기둥\n",
    "        if s == 0:\n",
    "            if y == 0 or [x-1,y,1] in answer or [x,y,1] in answer or [x,y-1,0] in answer:\n",
    "                continue\n",
    "            return False\n",
    "        #보\n",
    "        else:\n",
    "            if [x, y - 1, 0] in answer or [x + 1, y-1, 0] in answer or ([x+1,y,1] in answer and [x-1,y,1] in answer):\n",
    "                continue\n",
    "            return False\n",
    "    return True\n",
    "\n",
    "def solution(n, build_frame):\n",
    "    answer = []\n",
    "\n",
    "    for x,y,s,a in build_frame:\n",
    "        print(x,y,s,a)\n",
    "        # print(x,y,s,a)\n",
    "        #설치 인경우 \n",
    "        if a ==1:\n",
    "            answer.append([x,y,s])\n",
    "            if not possible(answer):\n",
    "                answer.remove([x,y,s])\n",
    "        #제거인경우\n",
    "        else:\n",
    "            answer.remove([x,y,s])\n",
    "            if not possible(answer):\n",
    "                answer.append([x,y,s])\n",
    "\n",
    "    answer.sort()\n",
    "    return answer \n",
    "solution(n, build_frame)"
   ]
  },
  {
   "cell_type": "markdown",
   "metadata": {},
   "source": [
    "## 치킨배달\n",
    "- 제한시간 40분/시간제한 1초/ 메모리제한 512MB\n",
    "- 소요시간 30분"
   ]
  },
  {
   "cell_type": "code",
   "execution_count": 217,
   "metadata": {},
   "outputs": [
    {
     "data": {
      "text/plain": [
       "10"
      ]
     },
     "execution_count": 217,
     "metadata": {},
     "output_type": "execute_result"
    }
   ],
   "source": [
    "from itertools import combinations\n",
    "\n",
    "N = 5\n",
    "M = 2\n",
    "home = [[0,3],[1,0],[1,2],[3,3],[3,4],[4,3]]\n",
    "chi = [[0,1],[3,0],[4,0],[4,1],[4,4]]\n",
    "\n",
    "total_di = []\n",
    "for c in combinations(chi,M):\n",
    "    total =[]\n",
    "    sum = 0\n",
    "    for hx,hy in home:\n",
    "        d =[]\n",
    "        for cx,cy in c: \n",
    "            di = abs(hx-cx) + abs(hy-cy)\n",
    "            d.append(di)\n",
    "        total.append(d)\n",
    "    for i in total:\n",
    "        sum += min(i)\n",
    "    total_di.append(sum)\n",
    "min(total_di)"
   ]
  },
  {
   "cell_type": "code",
   "execution_count": 218,
   "metadata": {},
   "outputs": [
    {
     "data": {
      "text/plain": [
       "5"
      ]
     },
     "execution_count": 218,
     "metadata": {},
     "output_type": "execute_result"
    }
   ],
   "source": [
    "N = 5\n",
    "M = 3\n",
    "home = [[0,2],[1,4],[2,1],[3,2]]\n",
    "chi = [[1,2],[2,2],[4,4]]\n",
    "\n",
    "\n",
    "from itertools import combinations\n",
    "total_di = []\n",
    "for c in combinations(chi,M):\n",
    "    total =[]\n",
    "    sum = 0\n",
    "    for hx,hy in home:\n",
    "        d =[]\n",
    "        for cx,cy in c: \n",
    "            di = abs(hx-cx) + abs(hy-cy)\n",
    "            d.append(di)\n",
    "        total.append(d)\n",
    "    for i in total:\n",
    "        sum += min(i)\n",
    "    total_di.append(sum)\n",
    "min(total_di)"
   ]
  },
  {
   "cell_type": "markdown",
   "metadata": {},
   "source": [
    "## 외벽점검\n",
    "- 제한시간 50분/시간제한 1초/ 메모리제한 512MB\n",
    "- 소요시간 30분"
   ]
  },
  {
   "cell_type": "code",
   "execution_count": 224,
   "metadata": {},
   "outputs": [],
   "source": [
    "n = 12\n",
    "week = [1, 3, 4, 9, 10]\n",
    "dist = [3, 5, 7]\n",
    "\n",
    "def solution(n, weak, dist):\n",
    "    answer = 0\n",
    "    return answer"
   ]
  },
  {
   "cell_type": "code",
   "execution_count": 232,
   "metadata": {},
   "outputs": [
    {
     "data": {
      "text/plain": [
       "[12, 11]"
      ]
     },
     "execution_count": 232,
     "metadata": {},
     "output_type": "execute_result"
    }
   ],
   "source": [
    "[k for k in range(13)][-1:-3:-1]"
   ]
  },
  {
   "cell_type": "code",
   "execution_count": 8,
   "metadata": {},
   "outputs": [
    {
     "data": {
      "text/plain": [
       "2"
      ]
     },
     "execution_count": 8,
     "metadata": {},
     "output_type": "execute_result"
    }
   ],
   "source": [
    "n = 12\n",
    "weak = [1, 5, 6, 10]\n",
    "dist = [1,2,3,4]\n",
    "\n",
    "\n",
    "def solution(n, weak, dist):\n",
    "    length = len(weak)\n",
    "    for i in range(len(weak)):\n",
    "        weak.append(weak[i]+n)\n",
    "    \n",
    "    answer = len(dist)+1\n",
    "    dist = dist[-1::-1]\n",
    "    for start in range(length):\n",
    "        count = 1 \n",
    "        position = weak[start] + dist[count-1]\n",
    "        for index in range(start,start+length):\n",
    "            if position < weak[index]:\n",
    "                count+=1\n",
    "                if len(dist) < count:\n",
    "                    break\n",
    "                position = weak[index]+dist[count-1]\n",
    "        answer = min(answer,count)\n",
    "    if answer > len(dist):\n",
    "        return -1\n",
    "    return answer\n",
    "\n",
    "solution(n, weak, dist)"
   ]
  },
  {
   "cell_type": "code",
   "execution_count": 14,
   "metadata": {},
   "outputs": [
    {
     "name": "stdout",
     "output_type": "stream",
     "text": [
      "[[1, 0, 1, 1, 1], [1, 0, 1, 0, 1], [1, 0, 1, 1, 1], [1, 1, 1, 0, 1], [0, 0, 0, 0, 1]] [[0, 1, 1, 1, 1], [0, 1, 0, 0, 0], [0, 1, 1, 1, 1], [0, 0, 1, 0, 1], [1, 1, 1, 1, 1]]\n"
     ]
    }
   ],
   "source": [
    "a = [[1,0,1,1,1],[1,0,1,0,1],[1,0,1,1,1],[1,1,1,0,1],[0,0,0,0,1]]\n",
    "\n",
    "n = len(a)\n",
    "m = len(a[0])\n",
    "\n",
    "arr = [[0]*n for _ in range(m)]\n",
    "\n",
    "for i in range(n):\n",
    "    for j in range(m):\n",
    "        arr[j][n-i-1] = a[i][j]\n",
    "print(a,arr)\n"
   ]
  },
  {
   "cell_type": "code",
   "execution_count": 22,
   "metadata": {},
   "outputs": [
    {
     "data": {
      "text/plain": [
       "5"
      ]
     },
     "execution_count": 22,
     "metadata": {},
     "output_type": "execute_result"
    }
   ],
   "source": [
    "len(a)"
   ]
  },
  {
   "cell_type": "code",
   "execution_count": 20,
   "metadata": {},
   "outputs": [
    {
     "data": {
      "text/plain": [
       "[[1, 1, 1, 1, 1],\n",
       " [1, 0, 1, 0, 0],\n",
       " [1, 1, 1, 1, 0],\n",
       " [0, 0, 0, 1, 0],\n",
       " [1, 1, 1, 1, 0]]"
      ]
     },
     "execution_count": 20,
     "metadata": {},
     "output_type": "execute_result"
    }
   ],
   "source": [
    "for i in range(n):\n",
    "    for j in range(m):\n",
    "        arr[n-j-1][i] = a[i][j]\n",
    "arr"
   ]
  },
  {
   "cell_type": "code",
   "execution_count": 16,
   "metadata": {},
   "outputs": [
    {
     "data": {
      "text/plain": [
       "[[0, 1, 1, 1, 1],\n",
       " [0, 1, 0, 0, 0],\n",
       " [0, 1, 1, 1, 1],\n",
       " [0, 0, 1, 0, 1],\n",
       " [1, 1, 1, 1, 1]]"
      ]
     },
     "execution_count": 16,
     "metadata": {},
     "output_type": "execute_result"
    }
   ],
   "source": [
    "arr"
   ]
  }
 ],
 "metadata": {
  "kernelspec": {
   "display_name": "base",
   "language": "python",
   "name": "python3"
  },
  "language_info": {
   "codemirror_mode": {
    "name": "ipython",
    "version": 3
   },
   "file_extension": ".py",
   "mimetype": "text/x-python",
   "name": "python",
   "nbconvert_exporter": "python",
   "pygments_lexer": "ipython3",
   "version": "3.10.9"
  }
 },
 "nbformat": 4,
 "nbformat_minor": 2
}
