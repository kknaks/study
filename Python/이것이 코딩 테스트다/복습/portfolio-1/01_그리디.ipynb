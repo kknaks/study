{
 "cells": [
  {
   "cell_type": "markdown",
   "metadata": {},
   "source": [
    "# 기출문제\n",
    "## Pr.1  모험가 길드"
   ]
  },
  {
   "cell_type": "code",
   "execution_count": 7,
   "metadata": {},
   "outputs": [
    {
     "data": {
      "text/plain": [
       "2"
      ]
     },
     "execution_count": 7,
     "metadata": {},
     "output_type": "execute_result"
    }
   ],
   "source": [
    "n = 5 \n",
    "arr = [2,3,1,2,2]\n",
    "\n",
    "arr.sort()\n",
    "arr\n",
    "group = 0 \n",
    "count = 0 \n",
    "for i in arr:\n",
    "    count += 1\n",
    "    if count >= i:\n",
    "        group +=1\n",
    "        count = 0\n",
    "group"
   ]
  },
  {
   "cell_type": "markdown",
   "metadata": {},
   "source": [
    "## Pr.2 곱하기 혹은 더하기 "
   ]
  },
  {
   "cell_type": "code",
   "execution_count": 13,
   "metadata": {},
   "outputs": [
    {
     "data": {
      "text/plain": [
       "576"
      ]
     },
     "execution_count": 13,
     "metadata": {},
     "output_type": "execute_result"
    }
   ],
   "source": [
    "n = '02984'\n",
    "\n",
    "first = 1 \n",
    "for i in n:\n",
    "    if int(i) < 2:\n",
    "        first += int(i)\n",
    "    else:\n",
    "        first *= int(i)\n",
    "first"
   ]
  },
  {
   "cell_type": "markdown",
   "metadata": {},
   "source": [
    "## Pr.3 문자열 뒤집기"
   ]
  },
  {
   "cell_type": "code",
   "execution_count": 38,
   "metadata": {},
   "outputs": [
    {
     "data": {
      "text/plain": [
       "3"
      ]
     },
     "execution_count": 38,
     "metadata": {},
     "output_type": "execute_result"
    }
   ],
   "source": [
    "n = '00011001010'\n",
    "\n",
    "det = n[0]\n",
    "con = []\n",
    "for i in range(1,len(n)):\n",
    "    if det != n[i]:\n",
    "        det = n[i]\n",
    "        con.append([n[i],i])\n",
    "\n",
    "count = 0 \n",
    "for x,y in con:\n",
    "    if x == '1':\n",
    "        count += 1 \n",
    "count"
   ]
  },
  {
   "cell_type": "markdown",
   "metadata": {},
   "source": [
    "## Pr.4 만들 수 없는 금액"
   ]
  },
  {
   "cell_type": "code",
   "execution_count": 42,
   "metadata": {},
   "outputs": [
    {
     "data": {
      "text/plain": [
       "8"
      ]
     },
     "execution_count": 42,
     "metadata": {},
     "output_type": "execute_result"
    }
   ],
   "source": [
    "n = 5 \n",
    "coins = [3,2,1,1,9]\n",
    "coins.sort()\n",
    "\n",
    "target = 1 \n",
    "for i in coins:\n",
    "    if target < i:\n",
    "        break\n",
    "    target += i \n",
    "target"
   ]
  },
  {
   "cell_type": "markdown",
   "metadata": {},
   "source": [
    "## Pr.5 볼링공 고르기\n"
   ]
  },
  {
   "cell_type": "code",
   "execution_count": null,
   "metadata": {},
   "outputs": [],
   "source": [
    "n,m =5,3\n",
    "balls = [1,3,2,3,2]"
   ]
  },
  {
   "cell_type": "code",
   "execution_count": 46,
   "metadata": {},
   "outputs": [
    {
     "data": {
      "text/plain": [
       "25"
      ]
     },
     "execution_count": 46,
     "metadata": {},
     "output_type": "execute_result"
    }
   ],
   "source": [
    "n,m =8,5\n",
    "balls = [1,5,4,3,2,4,5,2]\n",
    "\n",
    "from itertools import combinations\n",
    "count =0 \n",
    "for i in combinations(balls,2):\n",
    "    if i[0] != i[1]:\n",
    "        count+=1\n",
    "count"
   ]
  },
  {
   "cell_type": "code",
   "execution_count": 50,
   "metadata": {},
   "outputs": [
    {
     "name": "stdout",
     "output_type": "stream",
     "text": [
      "[0, 1, 2, 1, 2, 2] 7\n",
      "[0, 1, 2, 1, 2, 2] 5\n",
      "[0, 1, 2, 1, 2, 2] 4\n",
      "[0, 1, 2, 1, 2, 2] 2\n",
      "[0, 1, 2, 1, 2, 2] 0\n",
      "25\n"
     ]
    }
   ],
   "source": [
    "n = 8\n",
    "m = 5 \n",
    "balls = [1,5,4,3,2,4,5,2]\n",
    "\n",
    "arr = [0] * (m +1)\n",
    "for x in balls:\n",
    "    arr[x] +=1 \n",
    "\n",
    "result = 0\n",
    "for i in range(1,m+1):\n",
    "    n -=arr[i]\n",
    "    print(arr,n)\n",
    "    result += arr[i]*n\n",
    "print(result)"
   ]
  },
  {
   "cell_type": "markdown",
   "metadata": {},
   "source": [
    "## 무지의 먹방 라이브"
   ]
  },
  {
   "cell_type": "code",
   "execution_count": 117,
   "metadata": {},
   "outputs": [],
   "source": [
    "food_times = [3,1,2]\n",
    "k = 5\n",
    "\n",
    "import heapq as hq\n",
    "\n",
    "def solution(food_times, k):\n",
    "    if sum(food_times) <= k:\n",
    "        return -1\n",
    "    \n",
    "    q = []\n",
    "    for idx,times in enumerate(food_times,start =1):\n",
    "        hq.heappush(q,(times,idx))\n",
    "\n",
    "    total_time = 0\n",
    "    previous = 0 \n",
    "    length = len(food_times)\n",
    "\n",
    "    while total_time + ((q[0][0] - previous)*length) <= k:\n",
    "        now = hq.heappop(q)[0]\n",
    "        total_time += (now - previous)*length\n",
    "        length -= 1\n",
    "        previous = now\n",
    "    q.sort(key = lambda x : x[1])\n",
    "    answer = q[(k-total_time)%length][1]\n",
    "    return answer "
   ]
  },
  {
   "cell_type": "markdown",
   "metadata": {},
   "source": [
    "# 프로그래머스 고득점 킷 \n",
    "## Pr1. 체육복"
   ]
  },
  {
   "cell_type": "markdown",
   "metadata": {},
   "source": [
    "- 문제\n",
    "- 점심시간에 도둑이 들어, 일부 학생이 체육복을 도난당했습니다. 다행히 여벌 체육복이 있는 학생이 이들에게 체육복을 빌려주려 합니다. 학생들의 번호는 체격 순으로 매겨져 있어, 바로 앞번호의 학생이나 바로 뒷번호의 학생에게만 체육복을 빌려줄 수 있습니다. 예를 들어, 4번 학생은 3번 학생이나 5번 학생에게만 체육복을 빌려줄 수 있습니다. 체육복이 없으면 수업을 들을 수 없기 때문에 체육복을 적절히 빌려 최대한 많은 학생이 체육수업을 들어야 합니다.\n",
    "전체 학생의 수 n, 체육복을 도난당한 학생들의 번호가 담긴 배열 lost, 여벌의 체육복을 가져온 학생들의 번호가 담긴 배열 reserve가 매개변수로 주어질 때, 체육수업을 들을 수 있는 학생의 최댓값을 return 하도록 solution 함수를 작성해주세요."
   ]
  },
  {
   "cell_type": "markdown",
   "metadata": {},
   "source": [
    "- 제한사항\n",
    "- 전체 학생의 수는 2명 이상 30명 이하입니다.\n",
    "- 체육복을 도난당한 학생의 수는 1명 이상 n명 이하이고 중복되는 번호는 없습니다.\n",
    "- 여벌의 체육복을 가져온 학생의 수는 1명 이상 n명 이하이고 중복되는 번호는 없습니다.\n",
    "- 여벌 체육복이 있는 학생만 다른 학생에게 체육복을 빌려줄 수 있습니다.\n",
    "- 여벌 체육복을 가져온 학생이 체육복을 도난당했을 수 있습니다. 이때 이 학생은 체육복을 하나만 도난당했다고 가정하며, 남은 체육복이 하나이기에 다른 학생에게는 체육복을 빌려줄 수 없습니다."
   ]
  },
  {
   "cell_type": "code",
   "execution_count": 130,
   "metadata": {},
   "outputs": [],
   "source": [
    "n, lost, reverse,result = 5,\t[2, 4],\t[1, 3, 5],\t5\n",
    "# n, lost, reverse,result = 5,\t[2, 4],\t[3],\t4\n",
    "# n, lost, reverse,result = 3,\t[3],\t[1],\t2"
   ]
  },
  {
   "cell_type": "code",
   "execution_count": 145,
   "metadata": {},
   "outputs": [
    {
     "name": "stdout",
     "output_type": "stream",
     "text": [
      "5\n"
     ]
    }
   ],
   "source": [
    "s = set(lost)&set(reverse)\n",
    "l = set(lost) - s\n",
    "r = set(reverse) - s \n",
    "\n",
    "for i in sorted(r):\n",
    "    if i-1 in l:\n",
    "        l.remove(i-1)\n",
    "    elif i + 1 in l:\n",
    "        l.remove(i+1)\n",
    "print(n - len(l))"
   ]
  },
  {
   "cell_type": "markdown",
   "metadata": {},
   "source": [
    "## 조이스틱"
   ]
  },
  {
   "cell_type": "markdown",
   "metadata": {},
   "source": [
    "- 문제 \n",
    "- 조이스틱으로 알파벳 이름을 완성하세요. 맨 처음엔 A로만 이루어져 있습니다. 만들고자 하는 이름 name이 매개변수로 주어질 때, 이름에 대해 조이스틱 조작 횟수의 최솟값을 return 하도록 solution 함수를 만드세요."
   ]
  },
  {
   "cell_type": "code",
   "execution_count": 172,
   "metadata": {},
   "outputs": [],
   "source": [
    "name,result = \"JEROEN\", 56"
   ]
  },
  {
   "cell_type": "code",
   "execution_count": 200,
   "metadata": {},
   "outputs": [
    {
     "data": {
      "text/plain": [
       "56"
      ]
     },
     "execution_count": 200,
     "metadata": {},
     "output_type": "execute_result"
    }
   ],
   "source": [
    "def solution(name):\n",
    "# 두번 꺽는 경우는 고려하지 않음\n",
    "\n",
    "    if set(name) == {'A'}:\n",
    "        return 0\n",
    "\n",
    "    a_pos = ord('A') # 'A' : 65, 'Z' : 90\n",
    "    z_pos = ord('Z')\n",
    "\n",
    "    answer = float('inf')\n",
    "\n",
    "    for i in range(len(name)//2 + 1):\n",
    "        l_r = name[-i:] + name[:-i] #왼쪽먼저 갔다가 + 오른쪽\n",
    "        r_l = name[i: :-1] + name[i+1:][::-1] # 기준점에서 빠꾸 + 좌측\n",
    "        for n in [l_r,r_l]:\n",
    "            # 끝에 A들은 셀 필요 없으므로 자르기\n",
    "            while n and n[-1] == 'A':\n",
    "                n = n[:-1]\n",
    "            cnt = [min(ord(c)-a_pos, (z_pos+1) - ord(c)) for c in n ]\n",
    "            answer = min(answer, i + (len(cnt)-1) + sum(cnt))\n",
    "\n",
    "    return answer"
   ]
  },
  {
   "cell_type": "markdown",
   "metadata": {},
   "source": [
    "## 큰수 만들기"
   ]
  },
  {
   "cell_type": "code",
   "execution_count": 219,
   "metadata": {},
   "outputs": [
    {
     "data": {
      "text/plain": [
       "[8, 7, 7, 5, 4, 4, 2, 2, 1, 1]"
      ]
     },
     "execution_count": 219,
     "metadata": {},
     "output_type": "execute_result"
    }
   ],
   "source": [
    "def solution(number, k):\n",
    "    collected = []\n",
    "    for i,n in enumerate(number):\n",
    "        while len(collected) > 0 and collected[-1] < n and k>0:\n",
    "            collected.pop()\n",
    "            k -=1\n",
    "        if k == 0:\n",
    "            collected +=list(number[i:])\n",
    "            break\n",
    "        collected.append(n)\n",
    "    collected = collected[:-k] if k>0 else collected\n",
    "    answer =''.join(collected)\n",
    "    return answer"
   ]
  },
  {
   "cell_type": "markdown",
   "metadata": {},
   "source": [
    "## 구명보트"
   ]
  },
  {
   "cell_type": "markdown",
   "metadata": {},
   "source": [
    "## 섬 연결하기"
   ]
  },
  {
   "cell_type": "code",
   "execution_count": null,
   "metadata": {},
   "outputs": [],
   "source": [
    "def solution(n, costs):\n",
    "    answer = 0\n",
    "    costs.sort(key=lambda x:x[2])\n",
    "    connect = set([costs[0][0]])\n",
    "\n",
    "    while len(connect) != n:\n",
    "        for i in costs:\n",
    "            if i[0] in connect and i[1] in connect:\n",
    "                pass\n",
    "            elif i[0] in connect or i[1] in connect:\n",
    "                connect.update([i[0],i[1]])\n",
    "                answer += i[2]\n",
    "                break\n",
    "\n",
    "    return answer "
   ]
  },
  {
   "cell_type": "markdown",
   "metadata": {},
   "source": [
    "### 단속카메라"
   ]
  },
  {
   "cell_type": "code",
   "execution_count": 270,
   "metadata": {},
   "outputs": [
    {
     "data": {
      "text/plain": [
       "1"
      ]
     },
     "execution_count": 270,
     "metadata": {},
     "output_type": "execute_result"
    }
   ],
   "source": [
    "def solution(routes):\n",
    "    routes.sort(key= lambda x : x[1])\n",
    "    cctv = [routes[0][1]]\n",
    "    for i in routes:\n",
    "        if i[0]<= cctv[-1] and i[1]>= cctv[-1]:\n",
    "            pass\n",
    "        else:\n",
    "            cctv.append(i[1])\n",
    "    return len(cctv)\n",
    "\n",
    "solution(routes)"
   ]
  },
  {
   "cell_type": "code",
   "execution_count": 274,
   "metadata": {},
   "outputs": [
    {
     "name": "stdout",
     "output_type": "stream",
     "text": [
      "deque([[-18, -13], [-14, -5], [-13, -3]])\n",
      "deque([[-14, -5], [-13, -3]])\n",
      "deque([[-13, -3]])\n"
     ]
    },
    {
     "data": {
      "text/plain": [
       "2"
      ]
     },
     "execution_count": 274,
     "metadata": {},
     "output_type": "execute_result"
    }
   ],
   "source": [
    "from collections import deque\n",
    "\n",
    "routes = [[-20,-15], [-14,-5], [-18,-13], [-13,-3]]\t\n",
    "routes.sort(key = lambda x:x[1])\n",
    "q = deque(routes)\n",
    "camera = q.popleft()[1]\n",
    "answer = 1\n",
    "while q:\n",
    "    print(q)\n",
    "    if q[0][0] <= camera and q[0][1]>=camera:\n",
    "        q.popleft()\n",
    "    else:\n",
    "        camera = q.popleft()[1]\n",
    "        answer +=1 \n",
    "answer"
   ]
  },
  {
   "cell_type": "code",
   "execution_count": 258,
   "metadata": {},
   "outputs": [
    {
     "ename": "IndexError",
     "evalue": "pop from an empty deque",
     "output_type": "error",
     "traceback": [
      "\u001b[0;31m---------------------------------------------------------------------------\u001b[0m",
      "\u001b[0;31mIndexError\u001b[0m                                Traceback (most recent call last)",
      "Cell \u001b[0;32mIn[258], line 1\u001b[0m\n\u001b[0;32m----> 1\u001b[0m \u001b[43mq\u001b[49m\u001b[38;5;241;43m.\u001b[39;49m\u001b[43mpopleft\u001b[49m\u001b[43m(\u001b[49m\u001b[43m)\u001b[49m\n",
      "\u001b[0;31mIndexError\u001b[0m: pop from an empty deque"
     ]
    }
   ],
   "source": [
    "def solution(number, k):\n",
    "    collected = []\n",
    "    for i,n in enumerate(number):\n",
    "        while len(collected) > 0 and collected[-1] < n and k>0:\n",
    "            collected.pop()\n",
    "            k -=1\n",
    "        if k == 0:\n",
    "            collected +=list(number[i:])\n",
    "            break\n",
    "        collected.append(n)\n",
    "    collected = collected[:-k] if k>0 else collected\n",
    "\n",
    "    answer =''.join(collected)\n",
    "    return answer"
   ]
  }
 ],
 "metadata": {
  "kernelspec": {
   "display_name": "base",
   "language": "python",
   "name": "python3"
  },
  "language_info": {
   "codemirror_mode": {
    "name": "ipython",
    "version": 3
   },
   "file_extension": ".py",
   "mimetype": "text/x-python",
   "name": "python",
   "nbconvert_exporter": "python",
   "pygments_lexer": "ipython3",
   "version": "3.10.9"
  }
 },
 "nbformat": 4,
 "nbformat_minor": 2
}
