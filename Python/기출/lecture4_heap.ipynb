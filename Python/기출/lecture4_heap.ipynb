{
 "cells": [
  {
   "cell_type": "markdown",
   "metadata": {},
   "source": [
    "# Pr1. "
   ]
  },
  {
   "cell_type": "code",
   "execution_count": null,
   "metadata": {},
   "outputs": [],
   "source": [
    "scoville = [1, 2, 3, 9, 10, 12]\t\n",
    "K = 7\n",
    "answer = 0\n",
    "while min(scoville) < K:\n",
    "    print(scoville,\"1\")\n",
    "    scoville.sort()\n",
    "    a = scoville.pop(0)\n",
    "    b = scoville.pop(0)\n",
    "    c = a + b*2\n",
    "    scoville.append(c)\n",
    "    answer +=1\n",
    "    print(scoville,\"2\")\n",
    "\n",
    "if sum(scoville) < len(scoville)*K:\n",
    "    answer = -1 \n",
    "answer\n",
    "\n"
   ]
  },
  {
   "cell_type": "code",
   "execution_count": null,
   "metadata": {},
   "outputs": [],
   "source": [
    "import heapq\n",
    "scoville = [3,0]\t\n",
    "K = 6\n",
    "import heapq\n",
    "def solution(scoville, K):\n",
    "    answer = 0\n",
    "    heapq.heapify(scoville)\n",
    "    while True:\n",
    "        m1 = heapq.heappop(scoville)\n",
    "        \n",
    "        if m1 >= K :\n",
    "            break\n",
    "        \n",
    "        elif len(scoville) == 0 :\n",
    "            answer =-1\n",
    "            break\n",
    "        \n",
    "        m2 = heapq.heappop(scoville)\n",
    "        new_scoville = m1 + m2*2\n",
    "        \n",
    "        heapq.heappush(scoville, new_scoville)\n",
    "        answer +=1\n",
    "        \n",
    "    return answer\n",
    "solution(scoville, K)"
   ]
  },
  {
   "cell_type": "markdown",
   "metadata": {},
   "source": [
    "# Pr2.\n"
   ]
  },
  {
   "cell_type": "code",
   "execution_count": 52,
   "metadata": {},
   "outputs": [],
   "source": [
    "jobs = [[0,4], [0,3], [1,9], [2,6],[4,6]]\n",
    "\n",
    "import heapq as hq\n",
    "\n",
    "# hq.heapify(jobs)\n",
    "# # min = hq.heappop(jobs)\n",
    "# # a = [i for i in jobs if i[0] < 3]\n",
    "# # for j in a:\n",
    "# #     j[0],j[1] = j[1],j[0]\n",
    "# # hq.heapify(a)\n",
    "# # hq.heappop(a)\n",
    "\n",
    "# num = [1,2,3,4,5,6,7,8,9]\n",
    "# heap = []\n",
    "# for i in jobs:\n",
    "#    hq.heappush(jobs,[i[1],i[0]])\n",
    "# jobs"
   ]
  },
  {
   "cell_type": "code",
   "execution_count": 114,
   "metadata": {},
   "outputs": [
    {
     "name": "stdout",
     "output_type": "stream",
     "text": [
      "[[0, 0, 3], [0, 1, 9], [0, 2, 6]] ----1-\n",
      "[[3, 0, 3], [10, 1, 9], [8, 2, 6]] ----2-\n",
      "3\n",
      "[[8, 2, 6], [10, 1, 9]] 3\n",
      "[[8, 2, 6], [10, 1, 9]] ----1-\n",
      "[[9, 2, 6], [12, 1, 9]] ----2-\n",
      "9\n",
      "[[12, 1, 9]] 12\n",
      "[[12, 1, 9]] ----1-\n",
      "[[18, 1, 9]] ----2-\n",
      "18\n",
      "[] 30\n"
     ]
    },
    {
     "data": {
      "text/plain": [
       "9"
      ]
     },
     "execution_count": 114,
     "metadata": {},
     "output_type": "execute_result"
    }
   ],
   "source": [
    "jobs = [[0, 3], [1, 9], [2, 6]]\n",
    "\n",
    "def solution(jobs):\n",
    "    total = 0\n",
    "    now_time = 0 \n",
    "    total_time =0 \n",
    "    exp_jobs = []\n",
    "\n",
    "    for i in jobs:\n",
    "        temp = [now_time,i[0],i[1]]\n",
    "        exp_jobs.append(temp)\n",
    "\n",
    "    while exp_jobs:\n",
    "        #print(exp_jobs,'----1-')\n",
    "        for j in exp_jobs:\n",
    "            if j[1] <= total:\n",
    "                j[0] = j[2] + now_time\n",
    "            else:\n",
    "                j[0] = j[2] +j[1]\n",
    "        #print(exp_jobs,'----2-')\n",
    "        hq.heapify(exp_jobs)\n",
    "        min = hq.heappop(exp_jobs)\n",
    "        # print(min[0])\n",
    "        total += min[0]\n",
    "        now_time = min[0]\n",
    "        total_time += now_time - min[1]\n",
    "        # print(exp_jobs,total) \n",
    "    return int(total_time/len(jobs))"
   ]
  },
  {
   "cell_type": "code",
   "execution_count": 117,
   "metadata": {},
   "outputs": [],
   "source": [
    "import heapq as hq\n",
    "\n",
    "\n",
    "def solution(jobs):\n",
    "    n = len(jobs)\n",
    "    hq.heapify(jobs)\n",
    "\n",
    "    st, dt = hq.heappop(jobs)\n",
    "    answer = dt\n",
    "    end_time = dt\n",
    "    deley_jobs = []\n",
    "\n",
    "    \n",
    "    while jobs or deley_jobs:\n",
    "        if jobs and jobs[0][0] <= end_time:          \n",
    "            st_d, dt_d = hq.heappop(jobs)\n",
    "            hq.heappush(deley_jobs,(dt_d,st_d))\n",
    "        elif deley_jobs:\n",
    "            dt_d, st_d = hq.heappop(deley_jobs) \n",
    "            answer += (end_time + dt_d - st_d) \n",
    "            end_time += dt_d                               \n",
    "        else:\n",
    "            st_d, dt_d = hq.heappop(jobs) \n",
    "            end_time = st_d + dt_d\n",
    "            answer += dt_d\n",
    "            \n",
    "    return answer//n"
   ]
  },
  {
   "cell_type": "code",
   "execution_count": 118,
   "metadata": {},
   "outputs": [
    {
     "data": {
      "text/plain": [
       "[[1, 3], [3, 5], [100, 10]]"
      ]
     },
     "execution_count": 118,
     "metadata": {},
     "output_type": "execute_result"
    }
   ],
   "source": [
    "import heapq as hq\n",
    "\n",
    "def solution(jobs):\n",
    "    # Best 전략 : 하드디스크가 작업이 끝나고, 시작될 수 있는 작업 중 지속시간이 제일 짧은걸 실행 시켜야 한다.\n",
    "    n, answer, end_time = len(jobs), 0, 0\n",
    "    hq.heapify(jobs)\n",
    "    # 초기 setting\n",
    "    j_st, j_dt = hq.heappop(jobs)\n",
    "    answer += j_st + j_dt\n",
    "    end_time += j_st + j_dt\n",
    "    delay_jobs = []\n",
    "    while jobs or delay_jobs:\n",
    "        if jobs and jobs[0][0] <= end_time: # end_time 전까지 돌릴 수 있는 작업을 delay_jobs 에 수집\n",
    "            j_st, j_dt = hq.heappop(jobs)\n",
    "            hq.heappush(delay_jobs, (j_dt, j_st))\n",
    "        elif delay_jobs: # jobs 에서 수집이 더 안되는데, delay_jobs 에 작업이 있는 경우\n",
    "            j_dt, j_st = hq.heappop(delay_jobs)\n",
    "            answer += j_dt + end_time - j_st\n",
    "            end_time += j_dt\n",
    "        else: # jobs 에서 수집이 안되는데, delay_jobs 에 저장된 것이 없음.\n",
    "            j_st, j_dt = hq.heappop(jobs)\n",
    "            answer += j_dt\n",
    "            end_time = j_st + j_dt\n",
    "\n",
    "    answer = answer // n\n",
    "\n",
    "    return answer"
   ]
  },
  {
   "cell_type": "markdown",
   "metadata": {},
   "source": [
    "# Pr3"
   ]
  },
  {
   "cell_type": "code",
   "execution_count": 166,
   "metadata": {},
   "outputs": [
    {
     "name": "stdout",
     "output_type": "stream",
     "text": [
      "[] I -45\n",
      "[-45] I 653\n",
      "[-45, 653] D 1\n",
      "------- [45]\n",
      "------- [-653, 45]\n",
      "[-45] I -642\n",
      "[-642, -45] I 45\n",
      "[-642, -45, 45] I 97\n",
      "[-642, -45, 45, 97] D 1\n",
      "------- [642]\n",
      "------- [45, 642]\n",
      "------- [-45, 642, 45]\n",
      "------- [-97, -45, 45, 642]\n",
      "[-642, 45, -45] D -1\n",
      "[-45, 45] I 333\n"
     ]
    },
    {
     "ename": "TypeError",
     "evalue": "'list' object is not callable",
     "output_type": "error",
     "traceback": [
      "\u001b[0;31m---------------------------------------------------------------------------\u001b[0m",
      "\u001b[0;31mTypeError\u001b[0m                                 Traceback (most recent call last)",
      "Cell \u001b[0;32mIn[166], line 30\u001b[0m\n\u001b[1;32m     28\u001b[0m         answer \u001b[38;5;241m=\u001b[39m[\u001b[38;5;241m0\u001b[39m,\u001b[38;5;241m0\u001b[39m]\n\u001b[1;32m     29\u001b[0m     \u001b[38;5;28;01mreturn\u001b[39;00m answer \n\u001b[0;32m---> 30\u001b[0m \u001b[43msolution\u001b[49m\u001b[43m(\u001b[49m\u001b[43moperations\u001b[49m\u001b[43m)\u001b[49m\n",
      "Cell \u001b[0;32mIn[166], line 26\u001b[0m, in \u001b[0;36msolution\u001b[0;34m(operations)\u001b[0m\n\u001b[1;32m     24\u001b[0m         back_answer \u001b[38;5;241m=\u001b[39m []\n\u001b[1;32m     25\u001b[0m \u001b[38;5;28;01mif\u001b[39;00m answer:\n\u001b[0;32m---> 26\u001b[0m     answer \u001b[38;5;241m=\u001b[39m [\u001b[38;5;28;43mmin\u001b[39;49m\u001b[43m(\u001b[49m\u001b[43manswer\u001b[49m\u001b[43m)\u001b[49m,\u001b[38;5;28mmax\u001b[39m(answer)]\n\u001b[1;32m     27\u001b[0m \u001b[38;5;28;01melse\u001b[39;00m : \n\u001b[1;32m     28\u001b[0m     answer \u001b[38;5;241m=\u001b[39m[\u001b[38;5;241m0\u001b[39m,\u001b[38;5;241m0\u001b[39m]\n",
      "\u001b[0;31mTypeError\u001b[0m: 'list' object is not callable"
     ]
    }
   ],
   "source": [
    "operations = [\"I -45\", \"I 653\", \"D 1\", \"I -642\", \"I 45\", \"I 97\", \"D 1\", \"D -1\", \"I 333\"]\n",
    "\n",
    "import heapq as hq\n",
    "def solution(operations):\n",
    "    answer = []\n",
    "    back_answer = []\n",
    "    hq.heapify(answer)\n",
    "    hq.heapify(back_answer)\n",
    "\n",
    "    for i in operations:\n",
    "        print(answer,i)\n",
    "        if i[0] == \"I\":\n",
    "            hq.heappush(answer,int(i[2:]))\n",
    "        elif i =='D -1' and answer:\n",
    "            hq.heappop(answer)            \n",
    "        elif i =='D 1' and answer:\n",
    "            while answer:\n",
    "                j = hq.heappop(answer)\n",
    "                hq.heappush(back_answer, -j)\n",
    "                print(\"-------\",back_answer)\n",
    "            hq.heappop(back_answer)\n",
    "            answer =[-k for k in back_answer]\n",
    "            hq.heapify(answer)\n",
    "            back_answer = []\n",
    "    if answer:\n",
    "        answer = [min(answer),max(answer)]\n",
    "    else : \n",
    "        answer =[0,0]\n",
    "    return answer \n",
    "solution(operations)"
   ]
  }
 ],
 "metadata": {
  "kernelspec": {
   "display_name": "base",
   "language": "python",
   "name": "python3"
  },
  "language_info": {
   "codemirror_mode": {
    "name": "ipython",
    "version": 3
   },
   "file_extension": ".py",
   "mimetype": "text/x-python",
   "name": "python",
   "nbconvert_exporter": "python",
   "pygments_lexer": "ipython3",
   "version": "3.1.0"
  }
 },
 "nbformat": 4,
 "nbformat_minor": 2
}
