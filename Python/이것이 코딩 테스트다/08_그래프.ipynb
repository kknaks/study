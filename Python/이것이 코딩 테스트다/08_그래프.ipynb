{
 "cells": [
  {
   "cell_type": "markdown",
   "metadata": {},
   "source": [
    "#  그래프 이론\n",
    "## 연습문제\n",
    "### 서로소 집합"
   ]
  },
  {
   "cell_type": "code",
   "execution_count": 12,
   "metadata": {},
   "outputs": [
    {
     "name": "stdout",
     "output_type": "stream",
     "text": [
      "1\n",
      "1\n",
      "1\n",
      "1\n",
      "5\n",
      "5\n"
     ]
    }
   ],
   "source": [
    "n,u = 6,4\n",
    "link = [\n",
    "    [1,4],\n",
    "    [2,3],\n",
    "    [2,4],\n",
    "    [5,6]\n",
    "]\n",
    "def find_parent(parent,x):\n",
    "    if parent[x] != x:\n",
    "        parent[x] = find_parent(parent,parent[x])\n",
    "    return parent[x]\n",
    "\n",
    "    \n",
    "def uninon(parent,a,b):\n",
    "    a = find_parent(parent,a)\n",
    "    b = find_parent(parent,b)\n",
    "    if a<b:\n",
    "        parent[b] = a\n",
    "    else:\n",
    "        parent[a] = b \n",
    "\n",
    "parent = [0]*(n+1)\n",
    "\n",
    "for i in range(1,n+1):\n",
    "    parent[i] = i\n",
    "\n",
    "for a,b in link:\n",
    "    uninon(parent,a,b)\n",
    "\n",
    "\n",
    "for i in parent[1:]:\n",
    "    det = find_parent(parent,i)\n",
    "    print(det)"
   ]
  },
  {
   "cell_type": "markdown",
   "metadata": {},
   "source": [
    "### 사이클 판별"
   ]
  },
  {
   "cell_type": "code",
   "execution_count": 14,
   "metadata": {},
   "outputs": [
    {
     "data": {
      "text/plain": [
       "[0, 0, 0]"
      ]
     },
     "execution_count": 14,
     "metadata": {},
     "output_type": "execute_result"
    }
   ],
   "source": [
    "n,u = 3,3\n",
    "link = [\n",
    "    [1,2],\n",
    "    [1,3],\n",
    "    [2,3]\n",
    "]\n",
    "\n",
    "def find_parent(parent, x):\n",
    "    if parent[x] != x:\n",
    "        parent[x] = find_parent(parent,parent[x])\n",
    "    return parent[x]\n",
    "\n",
    "def union(parent,a,b):\n",
    "    a = find_parent(parent, a)\n",
    "    b = find_parent(parent, b)\n",
    "\n",
    "    if a < b :\n",
    "        parent[b] = a\n",
    "    else:\n",
    "        parent[a] = b\n",
    "    \n",
    "parent = [0]*n\n",
    "\n",
    "for i in range(n):\n",
    "    parent[i] = i\n",
    "\n",
    "for a,b in link:\n",
    "    union(parent,a-1,b-1)\n",
    "\n",
    "parent\n"
   ]
  },
  {
   "cell_type": "markdown",
   "metadata": {},
   "source": [
    "### 크루스칼 알고리즘 "
   ]
  },
  {
   "cell_type": "code",
   "execution_count": 22,
   "metadata": {},
   "outputs": [
    {
     "data": {
      "text/plain": [
       "159"
      ]
     },
     "execution_count": 22,
     "metadata": {},
     "output_type": "execute_result"
    }
   ],
   "source": [
    "n,r = 7,9\n",
    "roads = [\n",
    "    [1,2,29],\n",
    "    [1,5,75],\n",
    "    [2,3,35],\n",
    "    [2,6,34],\n",
    "    [3,4,7],\n",
    "    [4,6,23],\n",
    "    [4,7,13],\n",
    "    [5,6,53],\n",
    "    [6,7,25]\n",
    "]\n",
    "\n",
    "def find_parent(parent,x):\n",
    "    if parent[x] != x:\n",
    "        parent[x] = find_parent(parent,parent[x])\n",
    "    return parent[x]\n",
    "\n",
    "def union(parent,a,b):\n",
    "    a = find_parent(parent,a)\n",
    "    b = find_parent(parent,b)\n",
    "    if a < b :\n",
    "        parent[b] = a\n",
    "    else: \n",
    "        parent[a] = b \n",
    "\n",
    "roads.sort(key= lambda x : x[2])\n",
    "parent =[0]*(n+1)\n",
    "for i in range(1,n+1):\n",
    "    parent[i] = i \n",
    "\n",
    "cost = 0 \n",
    "for a,b,c in roads:\n",
    "    if find_parent(parent,a) != find_parent(parent,b):\n",
    "        union(parent,a,b)\n",
    "        cost += c\n",
    "cost"
   ]
  },
  {
   "cell_type": "markdown",
   "metadata": {},
   "source": [
    "### 위상정렬"
   ]
  },
  {
   "cell_type": "code",
   "execution_count": 32,
   "metadata": {},
   "outputs": [
    {
     "data": {
      "text/plain": [
       "[1, 2, 5, 3, 6, 4, 7]"
      ]
     },
     "execution_count": 32,
     "metadata": {},
     "output_type": "execute_result"
    }
   ],
   "source": [
    "n,m = 7,8\n",
    "link = [\n",
    "    [1,2],\n",
    "    [1,5],\n",
    "    [2,3],\n",
    "    [2,6],\n",
    "    [3,4],\n",
    "    [4,7],\n",
    "    [5,6],\n",
    "    [6,4],\n",
    "]\n",
    "from collections import deque\n",
    "\n",
    "graph = [[] for _ in range(n+1)]\n",
    "node = [0]*(n+1)\n",
    "\n",
    "for a,b in link:\n",
    "    graph[a].append(b)\n",
    "    node[b] +=1\n",
    "\n",
    "q = deque()\n",
    "for i in range(1,n+1):\n",
    "    if node[i] == 0:\n",
    "        q.append(i)\n",
    "result = [] \n",
    "while q:\n",
    "    next_node = q.popleft()\n",
    "    result.append(next_node)\n",
    "\n",
    "    for i in graph[next_node]:\n",
    "        node[i] -=1\n",
    "        if node[i] == 0:\n",
    "            q.append(i)\n",
    "result"
   ]
  },
  {
   "cell_type": "markdown",
   "metadata": {},
   "source": [
    "## 실전문제\n",
    "### 팀결성\n",
    "- 풀이시간 20분 \n",
    "- 소요시간 00분 "
   ]
  },
  {
   "cell_type": "code",
   "execution_count": 34,
   "metadata": {},
   "outputs": [
    {
     "name": "stdout",
     "output_type": "stream",
     "text": [
      "No\n",
      "No\n",
      "YES\n"
     ]
    }
   ],
   "source": [
    "n,t = 7, 8\n",
    "command = [\n",
    "    [0,1,3],\n",
    "    [1,1,7],\n",
    "    [0,7,6],\n",
    "    [1,7,1],\n",
    "    [0,3,7],\n",
    "    [0,4,2],\n",
    "    [0,1,1],\n",
    "    [1,1,1]\n",
    "]\n",
    "\n",
    "def find_parent(parent,x):\n",
    "    if parent[x] != x :\n",
    "        parent[x] = find_parent(parent,parent[x])\n",
    "    return parent[x]\n",
    "\n",
    "def union(parent,a,b):\n",
    "    a = find_parent(parent,a)\n",
    "    b = find_parent(parent,b)\n",
    "    if a < b:\n",
    "        parent[b] = a\n",
    "    else:\n",
    "        parent[a] = b\n",
    "\n",
    "parent = [0]*(n+1)\n",
    "for i in range(1,n+1):\n",
    "    parent[i] = i \n",
    "\n",
    "for d, a, b in command:\n",
    "    if d == 0:\n",
    "        union(parent,a,b)\n",
    "    else:\n",
    "        if find_parent(parent,a) == find_parent(parent,b):\n",
    "            print(\"YES\")\n",
    "        else: \n",
    "            print(\"No\")"
   ]
  },
  {
   "cell_type": "markdown",
   "metadata": {},
   "source": [
    "### 도시분할 계획\n",
    "- 풀이시간 40분 \n",
    "- 소요시간 00분"
   ]
  },
  {
   "cell_type": "code",
   "execution_count": 44,
   "metadata": {},
   "outputs": [
    {
     "data": {
      "text/plain": [
       "8"
      ]
     },
     "execution_count": 44,
     "metadata": {},
     "output_type": "execute_result"
    }
   ],
   "source": [
    "n, m = 7, 12\n",
    "roads = [\n",
    "        [1, 2, 3],\n",
    "        [1, 3, 2],\n",
    "        [3, 2, 1],\n",
    "        [2, 5, 2],\n",
    "        [3, 4, 4],\n",
    "        [7, 3, 6],\n",
    "        [5, 1, 5],\n",
    "        [1, 6, 2],\n",
    "        [6, 4, 1],\n",
    "        [6, 5, 3],\n",
    "        [4, 5, 3],\n",
    "        [6, 7, 4]]\n",
    "\n",
    "def find_parent(parent,x):\n",
    "    if parent[x] !=x:\n",
    "        parent[x] = find_parent(parent,parent[x])\n",
    "    return parent[x]\n",
    "\n",
    "def union(parent,a,b):\n",
    "    a = find_parent(parent,a)\n",
    "    b = find_parent(parent,b)\n",
    "    if a< b:\n",
    "        parent[b] = a\n",
    "    else:\n",
    "        parent[a] = b \n",
    "\n",
    "parent = [0]*(n+1)\n",
    "for i in range(1,n+1):\n",
    "    parent[i] = i \n",
    "\n",
    "roads.sort(key = lambda x : x[2])\n",
    "total_cost = 0 \n",
    "for a,b,c in roads:\n",
    "    if find_parent(parent,a) != find_parent(parent,b):\n",
    "        union(parent,a,b)\n",
    "        total_cost += c\n",
    "        max_road = c\n",
    "\n",
    "total_cost - max_road"
   ]
  },
  {
   "cell_type": "markdown",
   "metadata": {},
   "source": [
    "### 커리큘럼"
   ]
  },
  {
   "cell_type": "code",
   "execution_count": 60,
   "metadata": {},
   "outputs": [
    {
     "data": {
      "text/plain": [
       "[10, 20, 14, 18, 17]"
      ]
     },
     "execution_count": 60,
     "metadata": {},
     "output_type": "execute_result"
    }
   ],
   "source": [
    "n = 5 \n",
    "lecture = [\n",
    "    [10,-1],\n",
    "    [10,1,-1],\n",
    "    [4,1,-1],\n",
    "    [4,3,1,-1],\n",
    "    [3,3,-1]\n",
    "]\n",
    "\n",
    "from collections import deque\n",
    "import copy \n",
    "\n",
    "graph = [[] for _ in range(n+1)]\n",
    "indegree = [0]*(n+1)\n",
    "t = [0] * (n+1)\n",
    "for idx,i in enumerate(lecture,start =1):\n",
    "    t[idx] += i[0]\n",
    "    for j in i[1:-1]:\n",
    "        graph[j].append(idx)\n",
    "        indegree[idx] +=1\n",
    "\n",
    "q =deque()\n",
    "result = copy.deepcopy(t)\n",
    "for i in range(1,n+1):\n",
    "    if indegree[i] == 0:\n",
    "        q.append(i)\n",
    "\n",
    "while q:\n",
    "    new = q.popleft()\n",
    "    for b in graph[new]:\n",
    "        result[b] = max(result[b],result[new]+t[b])\n",
    "        indegree[b] -=1\n",
    "        if indegree[b] == 0 :\n",
    "            q.append(b)\n",
    "            \n",
    "result[1:]"
   ]
  },
  {
   "cell_type": "markdown",
   "metadata": {},
   "source": [
    "## 기출문제\n",
    "### 여행계획\n",
    "- 풀이시간 40분\n",
    "- 소요시간 00분"
   ]
  },
  {
   "cell_type": "code",
   "execution_count": 74,
   "metadata": {},
   "outputs": [
    {
     "name": "stdout",
     "output_type": "stream",
     "text": [
      "yes\n"
     ]
    }
   ],
   "source": [
    "n,m = 5,4\n",
    "roads = [\n",
    "    [0,1,0,1,1],\n",
    "    [1,0,1,1,0],\n",
    "    [0,1,0,0,0],\n",
    "    [1,1,0,0,0],\n",
    "    [1,0,0,0,0],\n",
    "]\n",
    "route = [2,3,4,3]\n",
    "def find_parent(parent,x):\n",
    "    if parent[x] != x:\n",
    "        parent[x] = find_parent(parent,parent[x])\n",
    "    return parent[x]\n",
    "\n",
    "def union(parent,a,b):\n",
    "    a = find_parent(parent,a)\n",
    "    b = find_parent(parent,b)\n",
    "    if a < b :\n",
    "        parent[b] = a\n",
    "    else:\n",
    "        parent[a] = b\n",
    "\n",
    "parent = [0] * (n)\n",
    "for i in range(n):\n",
    "    parent[i] = i\n",
    "\n",
    "graph =[[]for _ in range(n)]\n",
    "for i in range(n):\n",
    "    for j in range(i,n):\n",
    "        if roads[i][j] == 1:\n",
    "            graph[i].append(j) \n",
    "\n",
    "for a,i in enumerate(graph):\n",
    "    for b in i:\n",
    "        union(parent,a,b)\n",
    "\n",
    "det = False\n",
    "for i in range(len(route)):\n",
    "    for j in range(i,len(route)):\n",
    "        if find_parent(parent,route[i]-1)!=find_parent(parent,route[j]-1):\n",
    "            det = False\n",
    "            break\n",
    "        else:\n",
    "            det = True\n",
    "if det:\n",
    "    print('yes')\n",
    "else :\n",
    "    print('no')"
   ]
  },
  {
   "cell_type": "markdown",
   "metadata": {},
   "source": [
    "### 탑승구\n",
    "- 풀이시간 50분\n",
    "- 소요시간 00분"
   ]
  },
  {
   "cell_type": "code",
   "execution_count": 82,
   "metadata": {},
   "outputs": [
    {
     "name": "stdout",
     "output_type": "stream",
     "text": [
      "2\n"
     ]
    }
   ],
   "source": [
    "g,p = 4,3\n",
    "ar = [4,1,1]\n",
    "\n",
    "def find_parent(parent,x):\n",
    "    if parent[x] != x :\n",
    "        parent[x] = find_parent(parent,parent[x])\n",
    "    return parent[x]\n",
    "\n",
    "def union(parent,a):\n",
    "    a = find_parent(parent,a)\n",
    "    b = find_parent(parent,a-1)\n",
    "    parent[a] = b\n",
    "\n",
    "parent = [0] * (g+1)\n",
    "for i in range(g+1):\n",
    "    parent[i] = i \n",
    "\n",
    "count = 0 \n",
    "for a in ar:\n",
    "    if find_parent(parent,a) == 0:\n",
    "        print(count)\n",
    "        break\n",
    "    union(parent,a)\n",
    "    count +=1\n",
    "\n"
   ]
  },
  {
   "cell_type": "markdown",
   "metadata": {},
   "source": [
    "### 어두운 길\n",
    "- 풀이시간 40분\n",
    "- 소요시간 00분"
   ]
  },
  {
   "cell_type": "code",
   "execution_count": 85,
   "metadata": {},
   "outputs": [
    {
     "data": {
      "text/plain": [
       "51"
      ]
     },
     "execution_count": 85,
     "metadata": {},
     "output_type": "execute_result"
    }
   ],
   "source": [
    "n,m = 7,11\n",
    "roads = [\n",
    "    [0,1,7],\n",
    "    [0,3,5],\n",
    "    [1,2,8],\n",
    "    [1,3,9],\n",
    "    [1,4,7],\n",
    "    [2,4,5],\n",
    "    [3,4,15],\n",
    "    [3,5,6],\n",
    "    [4,5,8],\n",
    "    [4,6,9],\n",
    "    [5,6,11]\n",
    "]\n",
    "\n",
    "def find_parent(parent,x):\n",
    "    if parent[x] != x:\n",
    "        parent[x] = find_parent(parent,parent[x])\n",
    "    return parent[x]\n",
    "\n",
    "def union(parent,a,b):\n",
    "    a = find_parent(parent,a)\n",
    "    b = find_parent(parent,b)\n",
    "    if a < b:\n",
    "        parent[b] = a\n",
    "    else :\n",
    "        parent[a] = b \n",
    "\n",
    "parent = [k for k in range(n)]\n",
    "roads.sort(key = lambda x : x[2])\n",
    "cost = 0\n",
    "total = 0 \n",
    "for a,b,c in roads:\n",
    "    total += c\n",
    "    if find_parent(parent,a) != find_parent(parent,b):\n",
    "        union(parent,a,b)\n",
    "        cost += c\n",
    "\n",
    "total - cost"
   ]
  },
  {
   "cell_type": "markdown",
   "metadata": {},
   "source": [
    "### 행성터널\n",
    "- 풀이시간 40분\n",
    "- 소요시간 00분"
   ]
  },
  {
   "cell_type": "code",
   "execution_count": 93,
   "metadata": {},
   "outputs": [
    {
     "data": {
      "text/plain": [
       "4"
      ]
     },
     "execution_count": 93,
     "metadata": {},
     "output_type": "execute_result"
    }
   ],
   "source": [
    "n = 5\n",
    "maps =[\n",
    "    [11,-15,-15],\n",
    "    [14,-5,-15],\n",
    "    [-1,-1,-5],\n",
    "    [10,-4,-1],\n",
    "    [19,-4,19]\n",
    "]\n",
    "\n",
    "def find_parent(parent,x):\n",
    "    if parent[x] != x:\n",
    "        parent[x] = find_parent(parent,parent[x])\n",
    "    return parent[x]\n",
    "\n",
    "def union(parent,a,b):\n",
    "    a = find_parent(parent,a)\n",
    "    b = find_parent(parent,b)\n",
    "    if a<b:\n",
    "        parent[b] = a\n",
    "    else:\n",
    "        parent[a] = b\n",
    "\n",
    "parent = [k for k in range(n)]\n",
    "\n",
    "roads = []\n",
    "for i in range(n):\n",
    "    for j in range(i+1,n):\n",
    "        cost = min(abs(maps[i][0]-maps[j][0]),abs(maps[i][1]-maps[j][1]),abs(maps[i][2]-maps[j][2]))\n",
    "        roads.append([cost,i,j])\n",
    "roads.sort()\n",
    "\n",
    "cost = 0 \n",
    "for c,a,b in roads:\n",
    "    if find_parent(parent,a) != find_parent(parent,b):\n",
    "        union(parent,a,b)\n",
    "        cost += c\n",
    "cost"
   ]
  },
  {
   "cell_type": "markdown",
   "metadata": {},
   "source": [
    "### 최종순위\n",
    "- 풀이시간 60분\n",
    "- 소요시간 00분"
   ]
  },
  {
   "cell_type": "code",
   "execution_count": 135,
   "metadata": {},
   "outputs": [
    {
     "name": "stdout",
     "output_type": "stream",
     "text": [
      "2 1\n",
      "4 3\n",
      "3 2\n",
      "impossible\n"
     ]
    }
   ],
   "source": [
    "n = 4\n",
    "last_rank = [1,2,3,4]\n",
    "m = 2\n",
    "change = [[2,1],[4,3],[3,2]]\n",
    "\n",
    "from collections import deque\n",
    "\n",
    "graph = [[] for _ in range(n+1)]\n",
    "for i in range(1,n+1):\n",
    "    rank = last_rank.index(i)\n",
    "    graph[i] = last_rank[rank+1:]\n",
    "\n",
    "for i,j in change:\n",
    "    print(i,j)\n",
    "    graph[i].append(j)\n",
    "    graph[j].remove(i)\n",
    "\n",
    "indegree = [0] * (n+1)\n",
    "for i in graph[1:]:\n",
    "    for j in i:\n",
    "        indegree[j] += 1\n",
    "\n",
    "q = deque()\n",
    "for i in range(1,n+1):\n",
    "    if indegree[i] == 0 :\n",
    "        q.append(i)\n",
    "\n",
    "result = []\n",
    "count = 0 \n",
    "\n",
    "while q:\n",
    "    if len(q) > 1:\n",
    "        answer = '?'\n",
    "        break\n",
    "    now = q.popleft()\n",
    "    result.append(now)\n",
    "    for i in graph[now]:\n",
    "        indegree[i] -= 1\n",
    "        if indegree[i] == 0:\n",
    "            q.append(i)\n",
    "            count += 1\n",
    "\n",
    "if count != n-1:\n",
    "    answer = 'impossible'\n",
    "else:\n",
    "    answer = result\n",
    "\n",
    "print(answer)"
   ]
  },
  {
   "cell_type": "code",
   "execution_count": 132,
   "metadata": {},
   "outputs": [
    {
     "data": {
      "text/plain": [
       "[[], [2, 3, 4, 2], [3, 4], [4], []]"
      ]
     },
     "execution_count": 132,
     "metadata": {},
     "output_type": "execute_result"
    }
   ],
   "source": [
    "graph"
   ]
  },
  {
   "cell_type": "code",
   "execution_count": 123,
   "metadata": {},
   "outputs": [
    {
     "data": {
      "text/plain": [
       "[5, 3, 2, 4, 1]"
      ]
     },
     "execution_count": 123,
     "metadata": {},
     "output_type": "execute_result"
    }
   ],
   "source": [
    "result"
   ]
  }
 ],
 "metadata": {
  "kernelspec": {
   "display_name": "base",
   "language": "python",
   "name": "python3"
  },
  "language_info": {
   "codemirror_mode": {
    "name": "ipython",
    "version": 3
   },
   "file_extension": ".py",
   "mimetype": "text/x-python",
   "name": "python",
   "nbconvert_exporter": "python",
   "pygments_lexer": "ipython3",
   "version": "3.1.0"
  }
 },
 "nbformat": 4,
 "nbformat_minor": 2
}
