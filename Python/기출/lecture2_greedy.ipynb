{
 "cells": [
  {
   "cell_type": "markdown",
   "metadata": {},
   "source": [
    "# Pr1. 체육복"
   ]
  },
  {
   "cell_type": "markdown",
   "metadata": {},
   "source": [
    "## 1) 나의풀이"
   ]
  },
  {
   "cell_type": "code",
   "execution_count": 27,
   "metadata": {},
   "outputs": [
    {
     "data": {
      "text/plain": [
       "[1, 1, 1, 1, 2]"
      ]
     },
     "execution_count": 27,
     "metadata": {},
     "output_type": "execute_result"
    }
   ],
   "source": [
    "n = 5 \n",
    "lost = [2,4]\n",
    "reserve = [1,3,5]\n",
    "\n",
    "def solution(n, lost, reserve):\n",
    "    s = [1]*(n+2)\n",
    "    for i in reserve:\n",
    "        s[i] += 1\n",
    "    for i in lost:\n",
    "        s[i] -= 1\n",
    "    for i in range(1,n+1):\n",
    "        if s[i] ==0 and s[i-1] ==2:\n",
    "            s[i-1:i+1] = [1,1]\n",
    "        elif s[i+1] ==2 and s[i] ==0:\n",
    "            s[i:i+2] = [1,1]\n",
    "    return len([n for n in s[1:-1] if n >0])"
   ]
  },
  {
   "cell_type": "markdown",
   "metadata": {},
   "source": [
    "## 2) 강의 풀이"
   ]
  },
  {
   "cell_type": "code",
   "execution_count": 28,
   "metadata": {},
   "outputs": [],
   "source": [
    "def solution(n, lost, reserve):\n",
    "    s = set(lost) & set(reserve)\n",
    "    l = set(lost) - s\n",
    "    r = set(reserve) -s \n",
    "    \n",
    "    for i in sorted(r):\n",
    "        if i-1 in l:\n",
    "            l.remove(i-1)\n",
    "        elif i+1 in l:\n",
    "            l.remove(i+1)\n",
    "    return n-len(l)\n"
   ]
  },
  {
   "cell_type": "markdown",
   "metadata": {},
   "source": [
    "# Pr2. 조이스틱"
   ]
  },
  {
   "cell_type": "code",
   "execution_count": 161,
   "metadata": {},
   "outputs": [
    {
     "data": {
      "text/plain": [
       "['B', 'B', 'B', 'B', 'A', 'A', 'A', 'A', 'B', 'A']"
      ]
     },
     "execution_count": 161,
     "metadata": {},
     "output_type": "execute_result"
    }
   ],
   "source": [
    "name = \"BBBBAAAABA\"\n",
    "list(name)"
   ]
  },
  {
   "cell_type": "code",
   "execution_count": 222,
   "metadata": {},
   "outputs": [
    {
     "data": {
      "text/plain": [
       "1"
      ]
     },
     "execution_count": 222,
     "metadata": {},
     "output_type": "execute_result"
    }
   ],
   "source": [
    "a= [1,1,1,1,0,0,1,0]\n",
    "a[6]"
   ]
  },
  {
   "cell_type": "code",
   "execution_count": 83,
   "metadata": {},
   "outputs": [],
   "source": [
    "def solution(name):        \n",
    "    cha_list = [chr(x) for x in range(65,91)]\n",
    "    c = list(name)\n",
    "    count = len(c) -1\n",
    "    for i in c:\n",
    "        num = cha_list.index(i)\n",
    "        up_down = min(num,26-num)\n",
    "        count += up_down \n",
    "\n",
    "    for i in c[1:]:\n",
    "        if i == 'A':\n",
    "            count -= 1\n",
    "        elif i != 'A': \n",
    "            break\n",
    "    return count"
   ]
  },
  {
   "cell_type": "markdown",
   "metadata": {},
   "source": [
    "# Pr3. 큰수만들기"
   ]
  },
  {
   "cell_type": "markdown",
   "metadata": {},
   "source": [
    "## 1) 나의 풀이"
   ]
  },
  {
   "cell_type": "code",
   "execution_count": 325,
   "metadata": {},
   "outputs": [],
   "source": [
    "number = '4177252841'\n",
    "k = 4 "
   ]
  },
  {
   "cell_type": "code",
   "execution_count": 329,
   "metadata": {},
   "outputs": [
    {
     "data": {
      "text/plain": [
       "['8', '4', '1']"
      ]
     },
     "execution_count": 329,
     "metadata": {},
     "output_type": "execute_result"
    }
   ],
   "source": [
    "list(number[7:])"
   ]
  },
  {
   "cell_type": "code",
   "execution_count": 333,
   "metadata": {},
   "outputs": [
    {
     "data": {
      "text/plain": [
       "'9876'"
      ]
     },
     "execution_count": 333,
     "metadata": {},
     "output_type": "execute_result"
    }
   ],
   "source": [
    "number = '98765432'\n",
    "k = 4 \n",
    "def sollution(number, k):\n",
    "    collected = [] \n",
    "    for i, n in enumerate(number):\n",
    "        while len(collected) > 0 and collected[-1] < n and k > 0:\n",
    "            collected.pop()\n",
    "            k-=1\n",
    "        if k == 0:\n",
    "            collected += list(number[i:])\n",
    "            break\n",
    "        collected.append(n)\n",
    "\n",
    "    collected = collected[:-k] if k>0 else collected\n",
    "    answer = ''.join(collected)\n",
    "    return answer"
   ]
  },
  {
   "cell_type": "markdown",
   "metadata": {},
   "source": [
    "# Pr 4. 구명보트"
   ]
  },
  {
   "cell_type": "markdown",
   "metadata": {},
   "source": [
    "## 1) 나의 풀이"
   ]
  },
  {
   "cell_type": "code",
   "execution_count": 146,
   "metadata": {},
   "outputs": [
    {
     "name": "stdout",
     "output_type": "stream",
     "text": [
      "[50, 70, 80] ----\n",
      "80 100\n",
      "[50, 70]\n",
      "[50, 70] ----\n",
      "70 100\n",
      "[50]\n"
     ]
    },
    {
     "data": {
      "text/plain": [
       "3"
      ]
     },
     "execution_count": 146,
     "metadata": {},
     "output_type": "execute_result"
    }
   ],
   "source": [
    "people = [50,70,80]\n",
    "limit = 100\n",
    "\n",
    "def solution(people, limit):\n",
    "    people.sort()\n",
    "    w=limit\n",
    "    c = 0 \n",
    "    while len(people) > 1:\n",
    "        print(people,\"----\")\n",
    "        b = people[-1]\n",
    "        print(b,w)\n",
    "        if w - b >= people[0]:\n",
    "            people.pop()\n",
    "            people = people[1:] \n",
    "        else:\n",
    "            people.pop()\n",
    "        b = 0\n",
    "        c +=1\n",
    "        w = limit\n",
    "        print(people)\n",
    "    c = c+1 if len(people) == 1 else c \n",
    "    return c\n",
    "solution(people, limit)"
   ]
  },
  {
   "cell_type": "code",
   "execution_count": 166,
   "metadata": {},
   "outputs": [
    {
     "name": "stdout",
     "output_type": "stream",
     "text": [
      "[50, 70, 80] ----\n",
      "130 100\n",
      "[50, 70]\n",
      "0\n",
      "[50, 70] ----\n",
      "120 100\n",
      "[50]\n",
      "0\n"
     ]
    },
    {
     "data": {
      "text/plain": [
       "3"
      ]
     },
     "execution_count": 166,
     "metadata": {},
     "output_type": "execute_result"
    }
   ],
   "source": [
    "people = [50,70,80]\n",
    "limit = 100\n",
    "\n",
    "def solution(people, limit):\n",
    "    people.sort()\n",
    "    front =0 \n",
    "    end = len(people) - 1\n",
    "    while front != end:\n",
    "        if \n",
    "\n",
    "\n",
    "    w=limit\n",
    "    c = 0 \n",
    "    front = 0 \n",
    "    while len(people) > 1:\n",
    "        print(people,\"----\")\n",
    "        b = people[-1] + people[front]\n",
    "        print(b,w)\n",
    "        if w - b >= 0:\n",
    "            people.pop()\n",
    "            front +=1\n",
    "        else:\n",
    "            people.pop()\n",
    "        c +=1\n",
    "        w = limit\n",
    "        print(people)\n",
    "        print(front)\n",
    "    return c+1 if front%2 ==0 else c\n",
    "solution(people, limit)"
   ]
  },
  {
   "cell_type": "code",
   "execution_count": 262,
   "metadata": {},
   "outputs": [
    {
     "data": {
      "text/plain": [
       "[[2, 3, 8], [1, 2, 5], [0, 2, 2], [0, 1, 1], [1, 3, 1]]"
      ]
     },
     "execution_count": 262,
     "metadata": {},
     "output_type": "execute_result"
    }
   ],
   "source": [
    "import numpy as np \n",
    "n = 4\n",
    "array = np.zeros([n,n])\n",
    "costs = [[0,1,1],[0,2,2],[1,2,5],[1,3,1],[2,3,8]]\n",
    "\n",
    "for i,j,k in costs:\n",
    "    array[i,j],array[j,i]=k,k\n",
    "\n",
    "#간선정렬\n",
    "costs.sort(key = lambda x : x[2],reverse=True)\n",
    "costs"
   ]
  },
  {
   "cell_type": "code",
   "execution_count": 265,
   "metadata": {},
   "outputs": [
    {
     "data": {
      "text/plain": [
       "array([[0., 1., 2., 0.],\n",
       "       [1., 0., 5., 1.],\n",
       "       [2., 5., 0., 8.],\n",
       "       [0., 1., 8., 0.]])"
      ]
     },
     "execution_count": 265,
     "metadata": {},
     "output_type": "execute_result"
    }
   ],
   "source": [
    "array"
   ]
  },
  {
   "cell_type": "code",
   "execution_count": 317,
   "metadata": {},
   "outputs": [],
   "source": [
    "def checklink(n,array,node):\n",
    "        # 연결성 검증 \n",
    "    stack = []\n",
    "    visited = [] \n",
    "\n",
    "    current = 0 \n",
    "    stack.append(current)\n",
    "    visited.append(current)\n",
    "\n",
    "    while len(visited) != n:\n",
    "        next=None\n",
    "        for i in range(n):\n",
    "            if  array[current][i] !=0:\n",
    "                \n",
    "                if i in visited:\n",
    "                    pass\n",
    "                else:\n",
    "                    next = i\n",
    "                    break\n",
    "        if next != None:\n",
    "            current = next\n",
    "            stack.append(current)\n",
    "            visited.append(current)\n",
    "        else:\n",
    "            current = stack.pop()\n",
    "\n",
    "    if node in visited:\n",
    "        return True\n",
    "    else:\n",
    "        return False"
   ]
  },
  {
   "cell_type": "code",
   "execution_count": 333,
   "metadata": {},
   "outputs": [],
   "source": [
    "import numpy as np \n",
    "def checklink(n,array,node):\n",
    "        # 연결성 검증 \n",
    "    stack = []\n",
    "    visited = [] \n",
    "\n",
    "    current = 0 \n",
    "    stack.append(current)\n",
    "    visited.append(current)\n",
    "\n",
    "    while len(visited) != n:\n",
    "        next=None\n",
    "        for i in range(n):\n",
    "            if  array[current][i] !=0:\n",
    "                \n",
    "                if i in visited:\n",
    "                    pass\n",
    "                else:\n",
    "                    next = i\n",
    "                    break\n",
    "        if next != None:\n",
    "            current = next\n",
    "            stack.append(current)\n",
    "            visited.append(current)\n",
    "        else:\n",
    "            current = stack.pop()\n",
    "\n",
    "    if node in visited:\n",
    "        return True\n",
    "    else:\n",
    "        return False\n",
    "\n",
    "def solution(n, costs):\n",
    "    array = np.zeros([n,n])\n",
    "    costs = [[0,1,1],[0,2,2],[1,2,5],[1,3,1],[2,3,8]]\n",
    "\n",
    "    for i,j,k in costs:\n",
    "        array[i,j],array[j,i]=k,k\n",
    "\n",
    "    #간선정렬\n",
    "    costs.sort(key = lambda x : x[2],reverse=True)\n",
    "\n",
    "    index = 0 \n",
    "    while len(costs) > n-1:\n",
    "        start = costs[index][0]\n",
    "        end = costs[index][1]\n",
    "        saves = costs[index][2]\n",
    "\n",
    "        array[start][end] = 0\n",
    "        array[end][start] = 0\n",
    "\n",
    "        startYN = checklink(n,array,start)\n",
    "        endYN = checklink(n,array,end)\n",
    "\n",
    "        if startYN and endYN:\n",
    "            del(costs[index])\n",
    "        \n",
    "        else:\n",
    "            array[start][end] = saves\n",
    "            array[end][start] = saves\n",
    "            index +=1\n",
    "\n",
    "    total_cost = 0\n",
    "    for i in costs:\n",
    "        total_cost += i[2]\n",
    "\n",
    "    return total_cost \n",
    "    "
   ]
  },
  {
   "cell_type": "code",
   "execution_count": 351,
   "metadata": {},
   "outputs": [
    {
     "data": {
      "text/plain": [
       "{0, 1}"
      ]
     },
     "execution_count": 351,
     "metadata": {},
     "output_type": "execute_result"
    }
   ],
   "source": [
    "connect.update([costs[0][0],costs[0][1]])\n",
    "connect"
   ]
  },
  {
   "cell_type": "code",
   "execution_count": 356,
   "metadata": {},
   "outputs": [
    {
     "data": {
      "text/plain": [
       "4"
      ]
     },
     "execution_count": 356,
     "metadata": {},
     "output_type": "execute_result"
    }
   ],
   "source": [
    "costs = [[0,1,1],[0,2,2],[1,2,5],[1,3,1],[2,3,8]]\n",
    "n = 4\n",
    "\n",
    "answer = 0 \n",
    "\n",
    "def solution(n, costs):\n",
    "    costs.sort(key=lambda x:x[2])\n",
    "    connect = set([costs[0][0]])\n",
    "\n",
    "    while len(connect) != n:\n",
    "        for i in costs:\n",
    "            if i[0] in connect and i[1] in connect:\n",
    "                pass\n",
    "            elif i[0] in connect or i[1] in connect:\n",
    "                connect.update([i[0],i[1]])\n",
    "                answer += i[2]\n",
    "\n",
    "    return answer "
   ]
  },
  {
   "cell_type": "code",
   "execution_count": 363,
   "metadata": {},
   "outputs": [
    {
     "data": {
      "text/plain": [
       "[[-20, -15], [-17, -14], [-18, -13], [-14, -5], [-5, -3]]"
      ]
     },
     "execution_count": 363,
     "metadata": {},
     "output_type": "execute_result"
    }
   ],
   "source": [
    "routes = [[-20,-15], [-17,-14] ,[-14,-5], [-18,-13], [-5,-3]]\n",
    "routes.sort(key= lambda x : x[1])\n",
    "routes"
   ]
  },
  {
   "cell_type": "code",
   "execution_count": 366,
   "metadata": {},
   "outputs": [
    {
     "data": {
      "text/plain": [
       "[-15, -5]"
      ]
     },
     "execution_count": 366,
     "metadata": {},
     "output_type": "execute_result"
    }
   ],
   "source": [
    "def solution(routes):\n",
    "    routes.sort(key= lambda x : x[1])\n",
    "    cctv = [routes[0][1]]\n",
    "    for i in routes:\n",
    "        if i[0]<= cctv[-1] and i[1]>= cctv[-1]:\n",
    "            pass\n",
    "        else:\n",
    "            cctv.append(i[1])\n",
    "    return len(cctv)\n"
   ]
  },
  {
   "cell_type": "code",
   "execution_count": 395,
   "metadata": {},
   "outputs": [
    {
     "data": {
      "text/plain": [
       "['3', '30', '34', '5', '9']"
      ]
     },
     "execution_count": 395,
     "metadata": {},
     "output_type": "execute_result"
    }
   ],
   "source": [
    "a = list(map(str,numbers))\n",
    "a"
   ]
  },
  {
   "cell_type": "code",
   "execution_count": 413,
   "metadata": {},
   "outputs": [
    {
     "data": {
      "text/plain": [
       "'9534303'"
      ]
     },
     "execution_count": 413,
     "metadata": {},
     "output_type": "execute_result"
    }
   ],
   "source": [
    "def solution(numbers):\n",
    "    numbers = list(map(str,numbers))\n",
    "    numbers.sort(reverse=True)\n",
    "\n",
    "    answer =\"\"\n",
    "    for i in numbers:\n",
    "        answer += i\n",
    "    return answer\n",
    "solution([3, 30, 34, 5, 9])"
   ]
  },
  {
   "cell_type": "code",
   "execution_count": 425,
   "metadata": {},
   "outputs": [
    {
     "data": {
      "text/plain": [
       "'3'"
      ]
     },
     "execution_count": 425,
     "metadata": {},
     "output_type": "execute_result"
    }
   ],
   "source": [
    "a = \"30\"\n",
    "a[0]\n"
   ]
  },
  {
   "cell_type": "code",
   "execution_count": 428,
   "metadata": {},
   "outputs": [
    {
     "data": {
      "text/plain": [
       "['9', '5', '34', '3', '30']"
      ]
     },
     "execution_count": 428,
     "metadata": {},
     "output_type": "execute_result"
    }
   ],
   "source": [
    "numbers = [3, 30, 34, 5, 9]\n",
    "numbers = [str(k) for k in numbers]\n",
    "numbers.sort(key= lambda x : (x*4)[:4],reverse = True)\n",
    "numbers\n",
    "\n",
    "    "
   ]
  },
  {
   "cell_type": "code",
   "execution_count": 440,
   "metadata": {},
   "outputs": [
    {
     "data": {
      "text/plain": [
       "''"
      ]
     },
     "execution_count": 440,
     "metadata": {},
     "output_type": "execute_result"
    }
   ],
   "source": [
    "numbers = [0,0,0]\n",
    "\n",
    "\n",
    "answer = ''\n",
    "numbers = [str(k) for k in numbers]\n",
    "# numbers.sort(key=lambda x : (x*4)[:4],reverse = True)\n",
    "# if numbers == '0':\n",
    "#     answer ='0'\n",
    "# else:\n",
    "#     answer = ''.join(numbers)\n",
    "\n",
    "answer"
   ]
  },
  {
   "cell_type": "code",
   "execution_count": 476,
   "metadata": {},
   "outputs": [
    {
     "data": {
      "text/plain": [
       "2"
      ]
     },
     "execution_count": 476,
     "metadata": {},
     "output_type": "execute_result"
    }
   ],
   "source": [
    "def solution(citations):\n",
    "\n",
    "    citations.sort(reverse = True)\n",
    "    for idx, i in enumerate(citations):\n",
    "        if idx+1 >= i:\n",
    "            answer = max(i,idx) \n",
    "            break\n",
    "             \n",
    "    return answer\n",
    "solution( [0, 1, 2, 2, 2])"
   ]
  },
  {
   "cell_type": "code",
   "execution_count": 474,
   "metadata": {},
   "outputs": [
    {
     "data": {
      "text/plain": [
       "0"
      ]
     },
     "execution_count": 474,
     "metadata": {},
     "output_type": "execute_result"
    }
   ],
   "source": [
    "def solution(citations):\n",
    "    citations.sort(reverse=True)\n",
    "    for i in range(len(citations)):\n",
    "        if citations[i] <= i+1:\n",
    "            return max(citations[i], i)\n",
    "    else:\n",
    "        return len(citations) \n",
    "solution([0,0,0])"
   ]
  },
  {
   "cell_type": "code",
   "execution_count": 16,
   "metadata": {},
   "outputs": [
    {
     "name": "stdout",
     "output_type": "stream",
     "text": [
      "[1, 2, 3, 9, 10, 12] 1\n",
      "[3, 9, 10, 12, 5] 2\n",
      "[3, 9, 10, 12, 5] 1\n",
      "[9, 10, 12, 13] 2\n"
     ]
    },
    {
     "data": {
      "text/plain": [
       "2"
      ]
     },
     "execution_count": 16,
     "metadata": {},
     "output_type": "execute_result"
    }
   ],
   "source": []
  },
  {
   "cell_type": "code",
   "execution_count": 37,
   "metadata": {},
   "outputs": [
    {
     "data": {
      "text/plain": [
       "1"
      ]
     },
     "execution_count": 37,
     "metadata": {},
     "output_type": "execute_result"
    }
   ],
   "source": []
  }
 ],
 "metadata": {
  "kernelspec": {
   "display_name": "base",
   "language": "python",
   "name": "python3"
  },
  "language_info": {
   "codemirror_mode": {
    "name": "ipython",
    "version": 3
   },
   "file_extension": ".py",
   "mimetype": "text/x-python",
   "name": "python",
   "nbconvert_exporter": "python",
   "pygments_lexer": "ipython3",
   "version": "3.10.9"
  }
 },
 "nbformat": 4,
 "nbformat_minor": 2
}
