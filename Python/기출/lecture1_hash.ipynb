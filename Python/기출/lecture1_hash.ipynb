{
 "cells": [
  {
   "cell_type": "markdown",
   "metadata": {},
   "source": [
    "# Pr1. 완주하지 못한 선수"
   ]
  },
  {
   "cell_type": "markdown",
   "metadata": {},
   "source": [
    "## 1) 나의 풀이"
   ]
  },
  {
   "cell_type": "code",
   "execution_count": 41,
   "metadata": {},
   "outputs": [
    {
     "data": {
      "text/plain": [
       "['mislav', 'ana']"
      ]
     },
     "execution_count": 41,
     "metadata": {},
     "output_type": "execute_result"
    }
   ],
   "source": [
    "participant = [\"mislav\", \"stanko\", \"mislav\", \"ana\"]\n",
    "completion = [\"mislav\", \"stanko\"]\n",
    " \n",
    "for i in completion:\n",
    "    if i in participant:\n",
    "        participant.remove(i)\n",
    "answer = participant\n",
    "\n",
    "answer"
   ]
  },
  {
   "cell_type": "code",
   "execution_count": 21,
   "metadata": {},
   "outputs": [],
   "source": [
    "if list(set(participant)-set(completion)):\n",
    "    answer = list(set(participant)-set(completion))[0]\n",
    "\n",
    "else : \n",
    "    for i in completion:\n",
    "        if i in participant:\n",
    "            participant.remove(i)\n",
    "    answer = participant[0]\n"
   ]
  },
  {
   "cell_type": "markdown",
   "metadata": {},
   "source": [
    "## 2) 인강 풀이"
   ]
  },
  {
   "cell_type": "code",
   "execution_count": 73,
   "metadata": {},
   "outputs": [],
   "source": [
    "participant = [\"mislav\", \"stanko\", \"mislav\", \"ana\"]\n",
    "completion = [\"mislav\", \"stanko\",\"ana\"]\n",
    "\n",
    "d={}\n",
    "for x in participant:\n",
    "    d[x] = d.get(x,0)+1\n",
    "for x in completion:\n",
    "    d[x] -=1\n",
    "dnf = [k for k, v in d.items() if v > 0]\n",
    "answer = dnf[0]\n"
   ]
  },
  {
   "cell_type": "markdown",
   "metadata": {},
   "source": [
    "## 3) 다른 풀이"
   ]
  },
  {
   "cell_type": "code",
   "execution_count": 83,
   "metadata": {},
   "outputs": [
    {
     "data": {
      "text/plain": [
       "'mislav'"
      ]
     },
     "execution_count": 83,
     "metadata": {},
     "output_type": "execute_result"
    }
   ],
   "source": [
    "\n",
    "import collections\n",
    "participant = [\"mislav\", \"stanko\", \"mislav\", \"ana\"]\n",
    "completion = [\"mislav\", \"stanko\",\"ana\"]\n",
    "\n",
    "answer = collections.Counter(participant) - collections.Counter(completion)\n",
    "list(answer.keys())[0]\n"
   ]
  },
  {
   "cell_type": "markdown",
   "metadata": {},
   "source": [
    "# Pr2. 포켓몬"
   ]
  },
  {
   "cell_type": "markdown",
   "metadata": {},
   "source": [
    "## 1) 나의 풀이"
   ]
  },
  {
   "cell_type": "code",
   "execution_count": 88,
   "metadata": {},
   "outputs": [],
   "source": [
    "num1 = [3,3,3,2,2,2]\n",
    "num = [3,3,3,2,2,4]"
   ]
  },
  {
   "cell_type": "code",
   "execution_count": 98,
   "metadata": {},
   "outputs": [
    {
     "data": {
      "text/plain": [
       "2"
      ]
     },
     "execution_count": 98,
     "metadata": {},
     "output_type": "execute_result"
    }
   ],
   "source": [
    "d ={}\n",
    "for x in num1:\n",
    "    d[x] = d.get(x,0)+1\n",
    "\n",
    "numpoket = len(d.keys())\n",
    "mypoket = len(num)//2\n",
    "\n",
    "if mypoket > numpoket:\n",
    "    answer = numpoket\n",
    "else :\n",
    "    answer = mypoket\n",
    "\n",
    "answer\n"
   ]
  },
  {
   "cell_type": "markdown",
   "metadata": {},
   "source": [
    "## 2) 다른 풀이"
   ]
  },
  {
   "cell_type": "code",
   "execution_count": null,
   "metadata": {},
   "outputs": [],
   "source": [
    "def solution(ls):\n",
    "    return min(len(ls)/2, len(set(ls)))\n"
   ]
  },
  {
   "cell_type": "markdown",
   "metadata": {},
   "source": [
    "# Pr3. 전화번호부"
   ]
  },
  {
   "cell_type": "markdown",
   "metadata": {},
   "source": [
    "## 1) 나의 풀이"
   ]
  },
  {
   "cell_type": "code",
   "execution_count": 384,
   "metadata": {},
   "outputs": [
    {
     "data": {
      "text/plain": [
       "False"
      ]
     },
     "execution_count": 384,
     "metadata": {},
     "output_type": "execute_result"
    }
   ],
   "source": [
    "num =  [\"123\", \"2345\", \"23467\"]\n",
    "\n",
    "def solution(phone_book):\n",
    "    minnum = min([len(i) for i in phone_book])\n",
    "    maxnum = max([len(i) for i in phone_book])\n",
    "    answer = True\n",
    "    for n in range(minnum, maxnum+1):\n",
    "        a =[x[0:n] for x in phone_book]\n",
    "        d = {}\n",
    "\n",
    "        for x in a:\n",
    "            d[x] = d.get(x,0)+1\n",
    "\n",
    "        if [k for k,v in d.items() if v>1] != []:\n",
    "            answer = False\n",
    "        break\n",
    "    return answer \n",
    "    \n",
    "solution(num)"
   ]
  },
  {
   "cell_type": "code",
   "execution_count": 439,
   "metadata": {},
   "outputs": [
    {
     "data": {
      "text/plain": [
       "True"
      ]
     },
     "execution_count": 439,
     "metadata": {},
     "output_type": "execute_result"
    }
   ],
   "source": [
    "num =  [\"123\", \"2345\", \"23467\"]\n",
    "\n",
    "def solution(phone_book):\n",
    "    answer = True\n",
    "    num = sorted(phone_book,key=len)\n",
    "    for i in range(len(num)-1):     \n",
    "        a = [x[0:len(num[i])] for x in num][i:]\n",
    "        d = {}\n",
    "        for x in a:\n",
    "            d[x] = d.get(x,0)+1\n",
    "        \n",
    "        if d[num[i]] > 1:\n",
    "            answer = False\n",
    "            break\n",
    "\n",
    "    return answer \n",
    "    \n",
    "solution(num)"
   ]
  },
  {
   "cell_type": "code",
   "execution_count": 467,
   "metadata": {},
   "outputs": [
    {
     "data": {
      "text/plain": [
       "False"
      ]
     },
     "execution_count": 467,
     "metadata": {},
     "output_type": "execute_result"
    }
   ],
   "source": [
    "num =  [\"123\", \"2345\", \"23467\"]\n",
    "\n",
    "import collections\n",
    "\n",
    "def solution(phone_book):\n",
    "    phone_book = sorted(phone_book,key=len)\n",
    "    answer = True \n",
    "\n",
    "    for idx,i in enumerate(phone_book):     \n",
    "        a = [x[0:len(i)] for x in phone_book][idx:]\n",
    "        count = list(collections.Counter(a).values())\n",
    "        answers = [x for x in count if x>1]\n",
    "        \n",
    "        if answers != []:\n",
    "            answer = False\n",
    "\n",
    "    return answer \n",
    "    \n",
    "solution(num)"
   ]
  },
  {
   "cell_type": "code",
   "execution_count": 515,
   "metadata": {},
   "outputs": [
    {
     "data": {
      "text/plain": [
       "False"
      ]
     },
     "execution_count": 515,
     "metadata": {},
     "output_type": "execute_result"
    }
   ],
   "source": [
    "phone_book =  [\"123\", \"12345\", \"23467\"]\n",
    "def solution(phone_book):\n",
    "    phone_book = sorted(phone_book,key=len)\n",
    "    answer = True\n",
    "    for idx,i in enumerate(phone_book):     \n",
    "        a = [x[0:len(i)] for x in phone_book][idx:]\n",
    "        d = {}\n",
    "        for i in a[1:]:\n",
    "            d[i]=d.get(i,0)+1\n",
    "        d[a[0]] = d.get(a[0],0)+1\n",
    "        if d[a[0]] >1 :\n",
    "            answer = False\n",
    "    return answer \n",
    "\n",
    "solution(phone_book)\n",
    "        # count = list(collections.Counter(a).values())\n",
    "        # answer = [x for x in count if x>1]\n",
    "        # print(answer)\n",
    "        # print(\"------\")\n"
   ]
  },
  {
   "cell_type": "code",
   "execution_count": 517,
   "metadata": {},
   "outputs": [
    {
     "data": {
      "text/plain": [
       "False"
      ]
     },
     "execution_count": 517,
     "metadata": {},
     "output_type": "execute_result"
    }
   ],
   "source": [
    "def solution(phoneBook):\n",
    "    phoneBook = sorted(phoneBook)\n",
    "\n",
    "    for p1, p2 in zip(phoneBook, phoneBook[1:]):\n",
    "        if p2.startswith(p1):\n",
    "            return False\n",
    "    return True\n"
   ]
  },
  {
   "cell_type": "code",
   "execution_count": 531,
   "metadata": {},
   "outputs": [],
   "source": [
    "phone_book = ['123','12453','123', '1245', '23467']"
   ]
  },
  {
   "cell_type": "code",
   "execution_count": 532,
   "metadata": {},
   "outputs": [
    {
     "name": "stdout",
     "output_type": "stream",
     "text": [
      "123 12453\n",
      "False\n",
      "12453 123\n",
      "False\n",
      "123 1245\n",
      "False\n",
      "1245 23467\n",
      "False\n"
     ]
    }
   ],
   "source": [
    "for p1, p2 in zip(phone_book, phone_book[1:]):\n",
    "    print(p1,p2)\n",
    "    print(p2.startswith(p1))\n"
   ]
  },
  {
   "cell_type": "code",
   "execution_count": null,
   "metadata": {},
   "outputs": [],
   "source": [
    "def solution(phone_book):\n",
    "    phone_book.sort()"
   ]
  },
  {
   "cell_type": "code",
   "execution_count": 499,
   "metadata": {},
   "outputs": [
    {
     "data": {
      "text/plain": [
       "{'123': 3}"
      ]
     },
     "execution_count": 499,
     "metadata": {},
     "output_type": "execute_result"
    }
   ],
   "source": [
    "def solution(phone_book):\n",
    "    phone_book.sort()\n",
    "    for i in range(len(phone_book)-1):\n",
    "        if phone_book[i]==phone_book[i+1][:len(phone_book[i])]:\n",
    "            return False\n",
    "    return True"
   ]
  },
  {
   "cell_type": "markdown",
   "metadata": {},
   "source": [
    "# Pr 4. 옷고르기"
   ]
  },
  {
   "cell_type": "markdown",
   "metadata": {},
   "source": [
    "## 1) 나의 풀이"
   ]
  },
  {
   "cell_type": "code",
   "execution_count": 534,
   "metadata": {},
   "outputs": [],
   "source": [
    "clothes = [[\"yellow_hat\", \"headgear\"], [\"blue_sunglasses\", \"eyewear\"], [\"green_turban\", \"headgear\"]]"
   ]
  },
  {
   "cell_type": "code",
   "execution_count": 533,
   "metadata": {},
   "outputs": [],
   "source": [
    "def solution(clothes):\n",
    "    d= {}\n",
    "    for i in clothes:\n",
    "        d[i[1]] = d.get(i[1],0)+1\n",
    "    num = [y+1 for y in d.values()]\n",
    "    x = 1 \n",
    "    for y in num:\n",
    "        x = x*y\n",
    "    answer = x-1\n",
    "    return answer"
   ]
  },
  {
   "cell_type": "code",
   "execution_count": null,
   "metadata": {},
   "outputs": [],
   "source": [
    "def solution(clothes):\n",
    "    from collections import Counter\n",
    "    from functools import reduce\n",
    "    cnt = Counter([kind for name, kind in clothes])\n",
    "    answer = reduce(lambda x, y: x*(y+1), cnt.values(), 1) - 1\n",
    "    return answer"
   ]
  },
  {
   "cell_type": "markdown",
   "metadata": {},
   "source": [
    "# Pr 4. 음반수록"
   ]
  },
  {
   "cell_type": "markdown",
   "metadata": {},
   "source": [
    "# 1) 나의 풀이"
   ]
  },
  {
   "cell_type": "code",
   "execution_count": 917,
   "metadata": {},
   "outputs": [],
   "source": [
    "genres =  [\"classic\", \"classic\", \"classic\", \"classic\", \"pop\"]\n",
    "plays = [500, 500, 500, 500, 500]\n",
    "num = [0,1,2,3,4]"
   ]
  },
  {
   "cell_type": "code",
   "execution_count": 989,
   "metadata": {},
   "outputs": [],
   "source": [
    "genres =  [\"classic\", \"pop\", \"classic\", \"classic\",\"jazz\",\"pop\", \"Rock\", \"jazz\"]\n",
    "plays = [450, 600, 150, 450, 1, 250, 860, 1000]\n"
   ]
  },
  {
   "cell_type": "code",
   "execution_count": null,
   "metadata": {},
   "outputs": [],
   "source": [
    "def solution(genres, plays):\n",
    "    answer = []\n",
    "\n",
    "    # 장르 : [[인덱스, 재생횟수], [인덱스, 재생횟수]]\n",
    "    music_dic = {}\n",
    "    # 장르 : 총 재생횟수\n",
    "    total_dic = {}\n",
    "\n",
    "    # 딕셔너리 채우기\n",
    "    for index, (genre, play) in enumerate(zip(genres,plays)):\n",
    "        if genre in music_dic.keys():\n",
    "            music_dic[genre].append([index,play])\n",
    "            total_dic[genre]+=play\n",
    "        else:\n",
    "            music_dic[genre] = [[index,play]]\n",
    "            total_dic[genre] = play\n",
    "\n",
    "    # 가장 많이 재생된 장르 순서대로\n",
    "    sorted_genre = sorted(total_dic.items(), key=lambda x: x[1], reverse=True)\n",
    "\n",
    "    for genre in sorted_genre:\n",
    "        # genre : [\"장르\",총 재생횟수]\n",
    "        top_two_song = sorted(music_dic[genre[0]], key=lambda x: x[1], reverse=True)[:2]\n",
    "        for song in top_two_song:\n",
    "            # song : [\"index\",재생횟수]\n",
    "            answer.append(song[0])\n",
    "\n",
    "    return answer"
   ]
  },
  {
   "cell_type": "markdown",
   "metadata": {},
   "source": [
    "### 3 try ->> 장르 우선순위"
   ]
  },
  {
   "cell_type": "code",
   "execution_count": 1037,
   "metadata": {},
   "outputs": [],
   "source": [
    "genres = [\"classic\", \"pop\", \"classic\", \"classic\", \"pop\",\"pop\"]\n",
    "plays =[500, 600, 150, 800, 2500]"
   ]
  },
  {
   "cell_type": "code",
   "execution_count": 1048,
   "metadata": {},
   "outputs": [
    {
     "name": "stdout",
     "output_type": "stream",
     "text": [
      "{'pop': 3100, 'classic': 1450}\n",
      "{'pop': [[600, 1], [2500, 4]], 'classic': [[500, 0], [150, 2], [800, 3]]}\n"
     ]
    },
    {
     "data": {
      "text/plain": [
       "[4, 1, 3, 0]"
      ]
     },
     "execution_count": 1048,
     "metadata": {},
     "output_type": "execute_result"
    }
   ],
   "source": [
    "def solution(genres, plays):\n",
    "    genres_dic = {}\n",
    "    total_dic ={}\n",
    "\n",
    "    for g,n,p in zip(genres, range(len(plays)),plays):\n",
    "        total_dic[g] = total_dic.get(g,0)+p\n",
    "        genres_dic[g] = genres_dic.get(g,[])+[[p,n]]\n",
    "    total_dic = sorted(total_dic.items(), key=lambda x : x[1], reverse=True)\n",
    "    total_dic = dict(total_dic)\n",
    "    print(total_dic)\n",
    "    total_dic.update(genres_dic)\n",
    "    print(total_dic)\n",
    "\n",
    "    song_list = []\n",
    "    for i in total_dic.keys():\n",
    "        total_dic.get(i).sort(key = lambda x : x[0],reverse=True)\n",
    "        a = total_dic.get(i)[:2]\n",
    "        song_list.append(a)\n",
    "    answer = [num[1] for num in sum(song_list,[])]\n",
    "    return answer \n",
    "solution(genres, plays)"
   ]
  },
  {
   "cell_type": "code",
   "execution_count": 1050,
   "metadata": {},
   "outputs": [
    {
     "name": "stdout",
     "output_type": "stream",
     "text": [
      "{'pop': 3100, 'classic': 1450}\n",
      "{'pop': [[600, 1], [2500, 4]], 'classic': [[500, 0], [150, 2], [800, 3]]}\n",
      "[[[2500, 4], [600, 1]], [[800, 3], [500, 0]]]\n"
     ]
    },
    {
     "data": {
      "text/plain": [
       "[4, 1, 3, 0]"
      ]
     },
     "execution_count": 1050,
     "metadata": {},
     "output_type": "execute_result"
    }
   ],
   "source": [
    "def solution(genres, plays):\n",
    "    \n",
    "    genres_arry = {}\n",
    "    for g,p in zip(genres,plays):\n",
    "        genres_arry[g] = genres_arry.get(g,0)+p\n",
    "    genres_list = sorted(genres_arry.items(), key = lambda x : x[1],reverse= True)\n",
    "    genres_list = dict(genres_list)\n",
    "    \n",
    "    print(genres_list)\n",
    "    d= {}\n",
    "    for g,n,p in zip(genres, range(len(plays)),plays):\n",
    "        d[g] = d.get(g,[])+[[p,n]]\n",
    "\n",
    "    genres_list.update(d)\n",
    "    print(genres_list)\n",
    "\n",
    "    temp = []\n",
    "    for i in genres_list.keys():\n",
    "        a = d.get(i)\n",
    "        a.sort(key = lambda x : x[0], reverse = True)\n",
    "        a = a[:2]\n",
    "        temp.append(a)\n",
    "    print(temp)   \n",
    "    answer = [num[1] for num in sum(temp,[])]\n",
    "    return answer\n",
    "solution(genres, plays)"
   ]
  },
  {
   "cell_type": "markdown",
   "metadata": {},
   "source": [
    "### 2 try ->> 플레이 타임 중복 문제 "
   ]
  },
  {
   "cell_type": "code",
   "execution_count": 996,
   "metadata": {},
   "outputs": [
    {
     "data": {
      "text/plain": [
       "[4, 1, 3, 0]"
      ]
     },
     "execution_count": 996,
     "metadata": {},
     "output_type": "execute_result"
    }
   ],
   "source": [
    "def solution(genres, plays):\n",
    "    d= {}\n",
    "    for g,n,p in zip(genres, range(len(plays)),plays):\n",
    "        d[g] = d.get(g,[])+[[p,n]]\n",
    "\n",
    "    temp = []\n",
    "    for i in set(genres):\n",
    "        a = d.get(i)\n",
    "        a.sort(key = lambda x : x[0], reverse = True)\n",
    "        a = a[:2]\n",
    "        temp.append(a)\n",
    "\n",
    "    temp.sort(key = lambda x : x[0], reverse = True)\n",
    "    answer = [num[1] for num in sum(temp,[])]\n",
    "    \n",
    "    return answer\n",
    "solution(genres, plays)"
   ]
  },
  {
   "cell_type": "markdown",
   "metadata": {},
   "source": [
    "### 1 try"
   ]
  },
  {
   "cell_type": "code",
   "execution_count": 764,
   "metadata": {},
   "outputs": [
    {
     "data": {
      "text/plain": [
       "[5, 5, 3, 0, 1, 4]"
      ]
     },
     "execution_count": 764,
     "metadata": {},
     "output_type": "execute_result"
    }
   ],
   "source": [
    "def solution(genres, plays):\n",
    "    d= {}\n",
    "    for g,p in zip(genres, plays):\n",
    "        d[g] = d.get(g,[])+[p]\n",
    "\n",
    "    temp = []\n",
    "\n",
    "    for i in set(genres):\n",
    "        a = d.get(i)\n",
    "        a.sort(reverse = True)\n",
    "        a= a[:2]\n",
    "        temp.append(a)\n",
    "\n",
    "    temp.sort(reverse=True)\n",
    "    answer = [plays.index(k) for k in sum(temp,[])]\n",
    "\n",
    "    return answer\n",
    "solution(genres, plays)"
   ]
  },
  {
   "cell_type": "markdown",
   "metadata": {},
   "source": [
    "## 2) 다른 풀이"
   ]
  },
  {
   "cell_type": "code",
   "execution_count": null,
   "metadata": {},
   "outputs": [],
   "source": [
    "\n",
    "def solution(genres, plays):\n",
    "    answer = []\n",
    "    d = {e:[] for e in set(genres)}\n",
    "    for e in zip(genres, plays, range(len(plays))):\n",
    "        d[e[0]].append([e[1] , e[2]])\n",
    "    genreSort =sorted(list(d.keys()), key= lambda x: sum(map(lambda y: y[0],d[x])), reverse = True)\n",
    "    for g in genreSort:\n",
    "        temp = [e[1] for e in sorted(d[g],key= lambda x: (x[0], -x[1]), reverse = True)]\n",
    "        answer += temp[:min(len(temp),2)]\n",
    "    return answer"
   ]
  },
  {
   "cell_type": "code",
   "execution_count": 1053,
   "metadata": {},
   "outputs": [
    {
     "name": "stdout",
     "output_type": "stream",
     "text": [
      "{'pop': [], 'classic': [[500, 0]]}\n",
      "{'pop': [[600, 1]], 'classic': [[500, 0]]}\n",
      "{'pop': [[600, 1]], 'classic': [[500, 0], [150, 2]]}\n",
      "{'pop': [[600, 1]], 'classic': [[500, 0], [150, 2], [800, 3]]}\n",
      "{'pop': [[600, 1], [2500, 4]], 'classic': [[500, 0], [150, 2], [800, 3]]}\n"
     ]
    }
   ],
   "source": [
    "d = {e: [] for e in set(genres)}\n",
    "for e in zip(genres,plays,range(len(plays))):\n",
    "    d[e[0]].append([e[1],e[2]])\n",
    "    print(d)"
   ]
  }
 ],
 "metadata": {
  "kernelspec": {
   "display_name": "base",
   "language": "python",
   "name": "python3"
  },
  "language_info": {
   "codemirror_mode": {
    "name": "ipython",
    "version": 3
   },
   "file_extension": ".py",
   "mimetype": "text/x-python",
   "name": "python",
   "nbconvert_exporter": "python",
   "pygments_lexer": "ipython3",
   "version": "3.10.9"
  }
 },
 "nbformat": 4,
 "nbformat_minor": 2
}
