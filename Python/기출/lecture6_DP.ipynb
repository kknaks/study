{
 "cells": [
  {
   "cell_type": "code",
   "execution_count": 56,
   "metadata": {},
   "outputs": [],
   "source": [
    "N = 5\n",
    "number =12 \n",
    "\n",
    "s = [set() for x in range(8)]\n",
    "for i,x in enumerate(s, start = 1):\n",
    "    x.add(int(str(N)*i))\n",
    "for i in range(1,8):\n",
    "    for j in range(i):\n",
    "        for op1 in s[j]:\n",
    "            for op2 in s[i-j-1]:\n",
    "                s[i].add(op1 + op2)\n",
    "                s[i].add(op1 - op2)\n",
    "                s[i].add(op1 * op2)\n",
    "                if op2 != 0:\n",
    "                    s[i].add(op1 // op2)\n",
    "for i in range(len(s)):\n",
    "    if number in s[i]:\n",
    "        answer = i + 1\n",
    "        break         \n",
    "else:\n",
    "    answer = -1\n",
    "                    "
   ]
  },
  {
   "cell_type": "markdown",
   "metadata": {},
   "source": []
  },
  {
   "cell_type": "code",
   "execution_count": 72,
   "metadata": {},
   "outputs": [],
   "source": [
    "s = [[] for x in range(8)]\n"
   ]
  },
  {
   "cell_type": "code",
   "execution_count": 54,
   "metadata": {},
   "outputs": [
    {
     "data": {
      "text/plain": [
       "30"
      ]
     },
     "execution_count": 54,
     "metadata": {},
     "output_type": "execute_result"
    }
   ],
   "source": [
    "triangle = [[7], [3, 8], [8, 1, 0], [2, 7, 4, 4], [4, 5, 2, 6, 5]]\n",
    "def solution(triangle):\n",
    "    s = []\n",
    "    for i in range(1,len(triangle)+1):\n",
    "        s.append([0 for k in range(i)])\n",
    "    s[0][0] = triangle[0][0]\n",
    "\n",
    "    for i in range(len(triangle)-1):\n",
    "        for j in range(i+1):\n",
    "            x = i+1\n",
    "            for y in range(j,j+1):\n",
    "                tr_l = s[i][j] + triangle[x][y]\n",
    "                tr_r = s[i][j] + triangle[x][y+1]\n",
    "\n",
    "                if s[x][y] <= tr_l:\n",
    "                    s[x][y] = tr_l\n",
    "                if s[x][y+1] <= tr_r:\n",
    "                    s[x][y+1] = tr_r\n",
    "    answer = max(s[-1])\n",
    "    return answer \n"
   ]
  },
  {
   "cell_type": "code",
   "execution_count": 56,
   "metadata": {},
   "outputs": [
    {
     "data": {
      "text/plain": [
       "<function __main__.<lambda>(t, l=[])>"
      ]
     },
     "execution_count": 56,
     "metadata": {},
     "output_type": "execute_result"
    }
   ],
   "source": [
    "solution = lambda t, l = []: max(l) if not t else solution(t[1:], [max(x,y)+z for x,y,z in zip([0]+l, l+[0], t[0])])\n",
    "def solution(triangle):\n",
    "    return max((triangle[t][i] := triangle[t][i] + max(triangle[t - 1][max(0, i - 1):min(t, i + 1)])) for t in range(1, len(triangle)) for i in range(t + 1)) if triangle else 0"
   ]
  },
  {
   "cell_type": "code",
   "execution_count": 51,
   "metadata": {},
   "outputs": [
    {
     "data": {
      "text/plain": [
       "[[0], [0, 0], [0, 0, 0], [0, 0, 0, 0], [0, 0, 0, 0, 0]]"
      ]
     },
     "execution_count": 51,
     "metadata": {},
     "output_type": "execute_result"
    }
   ],
   "source": [
    "s = []\n",
    "for i in range(1,len(triangle)+1):\n",
    "    s.append([0 for k in range(i)])\n",
    "s"
   ]
  },
  {
   "cell_type": "code",
   "execution_count": 2,
   "metadata": {},
   "outputs": [
    {
     "name": "stdout",
     "output_type": "stream",
     "text": [
      "7 3\n",
      "7 8\n",
      "--------------------------\n",
      "10 8\n",
      "10 1\n",
      "--------------------------\n",
      "15 11\n",
      "15 0\n",
      "--------------------------\n",
      "[[7], [10, 15], [18, 26, 15], [2, 7, 4, 4], [4, 5, 2, 6, 5]]\n",
      "[[7], [10, 15], [18, 26, 15], [2, 7, 4, 4], [4, 5, 2, 6, 5]]\n"
     ]
    }
   ],
   "source": [
    "triangle = [[7], [3, 8], [8, 1, 0], [2, 7, 4, 4], [4, 5, 2, 6, 5]]\n",
    "s = triangle\n",
    "for i in range(2):\n",
    "    for j in range(i+1):\n",
    "        x = i+1\n",
    "        for y in range(j,j+1):\n",
    "            # print(i,j,x,y)\n",
    "            # print(i,j,x,y+1)\n",
    "            print(triangle[i][j],triangle[x][y])\n",
    "            print(triangle[i][j],triangle[x][y+1])\n",
    "            print(\"--------------------------\")\n",
    "            tr_l = triangle[i][j] + triangle[x][y]\n",
    "            tr_r = triangle[i][j] + triangle[x][y+1]\n",
    "\n",
    "            # # print(\"-----\",triangle[x][y],triangle[x][y+1])\n",
    "            # # print(tr_l,tr_r)\n",
    "            if s[x][y] <= tr_l:\n",
    "                s[x][y] = tr_l\n",
    "\n",
    "            if s[x][y+1] <= tr_r:\n",
    "                s[x][y+1] = tr_r\n",
    "            # print(\"-----\",triangle[x][y],triangle[x][y+1])\n",
    "            # print(tr_l,tr_r)    \n",
    "print(triangle)\n",
    "print(s)"
   ]
  },
  {
   "cell_type": "markdown",
   "metadata": {},
   "source": []
  },
  {
   "cell_type": "code",
   "execution_count": 130,
   "metadata": {},
   "outputs": [
    {
     "data": {
      "text/plain": [
       "10"
      ]
     },
     "execution_count": 130,
     "metadata": {},
     "output_type": "execute_result"
    }
   ],
   "source": [
    "m = 4\n",
    "n = 3\n",
    "puddles =[]\n",
    "def solution(m, n, puddles):\n",
    "\n",
    "    s = [[1 for i in range(m)] for j in range(n)]\n",
    "\n",
    "    for x in puddles:\n",
    "        s[x[0]-1][x[1]-1] = 0 \n",
    "\n",
    "    if 0 in s[0]:\n",
    "        for i in range(s[0].index(0),len(s[0])):\n",
    "            s[0][i] = 0 \n",
    "\n",
    "\n",
    "    for i in range(1,n):\n",
    "        for j in range(1,m):\n",
    "            c = s[i-1][j] + s[i][j-1]\n",
    "            if s[i][j] == 0:\n",
    "                pass\n",
    "            else :\n",
    "                s[i][j] = c\n",
    "\n",
    "    answer = s[-1][-1] % 1000000007\n",
    "    return answer \n",
    "\n",
    "solution(m, n, puddles)"
   ]
  },
  {
   "cell_type": "code",
   "execution_count": 142,
   "metadata": {},
   "outputs": [],
   "source": [
    "m = 4\n",
    "n = 3\n",
    "puddles =[]\n",
    "def solution(m, n, puddles):\n",
    "\n",
    "    s = [[0 for i in range(m+1)] for j in range(n+1)]\n",
    "    dmt = 1000000007\n",
    "\n",
    "    for j in range(m):\n",
    "        for i in range(n):\n",
    "            if i ==0 and j ==0:\n",
    "                s[i+1][j+1] = 1    \n",
    "            elif [i+1,j+1] in puddles:\n",
    "                pass\n",
    "            else :\n",
    "                s[i+1][j+1] = s[i][j+1]+s[i+1][j]\n",
    "\n",
    "    ways = s[-1][-1]\n",
    "    answer = ways % dmt\n",
    "    return answer "
   ]
  },
  {
   "cell_type": "markdown",
   "metadata": {},
   "source": [
    "[\"5\", \"-\", \"10\", \"+\", \"1\", \"+\", \"2\", \"-\", \"4\"], -4"
   ]
  },
  {
   "cell_type": "code",
   "execution_count": 286,
   "metadata": {},
   "outputs": [
    {
     "name": "stdout",
     "output_type": "stream",
     "text": [
      "['+', '-', '-', '-']\n",
      "[1, 2, 3]\n",
      "[5, 10, 1, 2, 4]\n"
     ]
    },
    {
     "data": {
      "text/plain": [
       "22"
      ]
     },
     "execution_count": 286,
     "metadata": {},
     "output_type": "execute_result"
    }
   ],
   "source": [
    "arr = [\"5\", \"+\", \"10\", \"-\", \"1\", \"-\", \"2\", \"-\", \"4\"]\n",
    "def solution(arr):\n",
    "    num = []\n",
    "    operator = []\n",
    "\n",
    "    for i in range(len(arr)):\n",
    "        if i % 2 == 0 :\n",
    "            num.append(int(arr[i]))\n",
    "        else :\n",
    "            operator.append(arr[i])\n",
    "    print(operator)\n",
    "    par_minus = [k for k in range(len(operator)) if operator[k] ==\"-\"]\n",
    "    print(par_minus)\n",
    "    par_minus.sort(reverse = True)\n",
    "\n",
    "    # for i in par_minus:\n",
    "    #     if num[i+1] <= sum(num[i+1:]):\n",
    "    #         num[i+1] = -num[i+1]\n",
    "    #     else :\n",
    "    #         for j in range(i+1,len(num)):\n",
    "    #             print(j)\n",
    "    #             num[j] = -num[j]\n",
    "    print(num)\n",
    "    return sum(num)\n",
    "solution(arr)"
   ]
  },
  {
   "cell_type": "code",
   "execution_count": 264,
   "metadata": {},
   "outputs": [
    {
     "name": "stdout",
     "output_type": "stream",
     "text": [
      "[5, 3, 1, 2, 4]\n",
      "[5, 3, 1, 2, -4]\n"
     ]
    },
    {
     "data": {
      "text/plain": [
       "[5, -3, -1, -2, 4]"
      ]
     },
     "execution_count": 264,
     "metadata": {},
     "output_type": "execute_result"
    }
   ],
   "source": [
    "for i in [3,0]:\n",
    "    if num[i+1] < sum(num[i+1:]):\n",
    "        num[i+1] = -num[i+1]\n",
    "    else :\n",
    "        for j in range(i+1,len(num)):\n",
    "            num[j] = -num[j]\n",
    "num"
   ]
  },
  {
   "cell_type": "code",
   "execution_count": 245,
   "metadata": {},
   "outputs": [
    {
     "data": {
      "text/plain": [
       "[5, 3, 1, 2, -2]"
      ]
     },
     "execution_count": 245,
     "metadata": {},
     "output_type": "execute_result"
    }
   ],
   "source": [
    "num"
   ]
  },
  {
   "cell_type": "code",
   "execution_count": 287,
   "metadata": {},
   "outputs": [],
   "source": [
    "NEG_INF = float('-inf')\n",
    "POS_INF = float('inf')\n",
    "\n",
    "\n",
    "def solution(arr):\n",
    "    nums, ops = [], []\n",
    "    for idx, element in enumerate(arr):\n",
    "        nums.append(element) if not idx % 2 else ops.append(element)\n",
    "\n",
    "    N = len(nums)\n",
    "    dp_max = [[NEG_INF] * N for _ in range(N)]\n",
    "    dp_min = [[POS_INF] * N for _ in range(N)]\n",
    "\n",
    "    for scope in range(N):\n",
    "        for start in range(N - scope):\n",
    "            end = start + scope\n",
    "            if start == end:\n",
    "                dp_max[start][start] = dp_min[start][start] = int(nums[start])\n",
    "                continue\n",
    "\n",
    "            for mid in range(start, end):\n",
    "                if ops[mid] == '+':\n",
    "                    dp_max[start][end] = max(dp_max[start][mid] + dp_max[mid + 1][end], dp_max[start][end])\n",
    "                    dp_min[start][end] = min(dp_min[start][mid] + dp_min[mid + 1][end], dp_min[start][end])\n",
    "                elif ops[mid] == '-':\n",
    "                    dp_max[start][end] = max(dp_max[start][mid] - dp_min[mid + 1][end], dp_max[start][end])\n",
    "                    dp_min[start][end] = min(dp_min[start][mid] - dp_max[mid + 1][end], dp_min[start][end])\n",
    "\n",
    "    return dp_max[0][-1]"
   ]
  },
  {
   "cell_type": "code",
   "execution_count": 333,
   "metadata": {},
   "outputs": [
    {
     "ename": "IndexError",
     "evalue": "list index out of range",
     "output_type": "error",
     "traceback": [
      "\u001b[0;31m---------------------------------------------------------------------------\u001b[0m",
      "\u001b[0;31mIndexError\u001b[0m                                Traceback (most recent call last)",
      "Cell \u001b[0;32mIn[333], line 15\u001b[0m\n\u001b[1;32m     13\u001b[0m \u001b[38;5;28;01melse\u001b[39;00m:\n\u001b[1;32m     14\u001b[0m     rm \u001b[38;5;241m=\u001b[39m rob[h][m] \u001b[38;5;241m+\u001b[39m rob[h][c]\n\u001b[0;32m---> 15\u001b[0m     \u001b[43mrob\u001b[49m\u001b[43m[\u001b[49m\u001b[43mh\u001b[49m\u001b[38;5;241;43m+\u001b[39;49m\u001b[38;5;241;43m1\u001b[39;49m\u001b[43m]\u001b[49m\u001b[38;5;241m.\u001b[39mappend(rm)\n",
      "\u001b[0;31mIndexError\u001b[0m: list index out of range"
     ]
    }
   ],
   "source": [
    "money = [\"0\", \"1\", \"2\", '3', '4', '5']\n",
    "max_home = len(money)//2\n",
    "rob = [[] for k in range(max_home)]\n",
    "\n",
    "for i in money:\n",
    "    rob[0].append(i)\n",
    "\n",
    "for h in range(0,len(rob)): \n",
    "    for m in range(max_home):\n",
    "        for c in range(m+2,len(money)):\n",
    "            if m == 0 and c == 5:\n",
    "                break\n",
    "            else:\n",
    "                rm = rob[h][m] + rob[h][c]\n",
    "                rob[h+1].append(rm)\n",
    "\n"
   ]
  },
  {
   "cell_type": "code",
   "execution_count": 336,
   "metadata": {},
   "outputs": [
    {
     "data": {
      "text/plain": [
       "[[1, '0'], [2, '1'], [3, '2'], [4, '3'], [5, '4'], [6, '5']]"
      ]
     },
     "execution_count": 336,
     "metadata": {},
     "output_type": "execute_result"
    }
   ],
   "source": [
    "money = [\"0\", \"1\", \"2\", '3', '4', '5']\n",
    "\n",
    "money = [[m,i] for m,i in enumerate(money, start = 1)]\n",
    "\n",
    "max_home = len(money)//2\n",
    "rob = [[] for k in range(max_home)]\n",
    "\n",
    "for h in range(len(max_home)):\n",
    "    for sm in range(h+2,max_home):\n"
   ]
  }
 ],
 "metadata": {
  "kernelspec": {
   "display_name": "base",
   "language": "python",
   "name": "python3"
  },
  "language_info": {
   "codemirror_mode": {
    "name": "ipython",
    "version": 3
   },
   "file_extension": ".py",
   "mimetype": "text/x-python",
   "name": "python",
   "nbconvert_exporter": "python",
   "pygments_lexer": "ipython3",
   "version": "3.10.9"
  }
 },
 "nbformat": 4,
 "nbformat_minor": 2
}
